{
 "cells": [
  {
   "cell_type": "code",
   "execution_count": 1,
   "id": "1c1f0b29",
   "metadata": {},
   "outputs": [
    {
     "name": "stderr",
     "output_type": "stream",
     "text": [
      "2024-05-02 21:09:37.772829: I tensorflow/core/platform/cpu_feature_guard.cc:193] This TensorFlow binary is optimized with oneAPI Deep Neural Network Library (oneDNN) to use the following CPU instructions in performance-critical operations:  SSE4.1 SSE4.2 AVX AVX2 FMA\n",
      "To enable them in other operations, rebuild TensorFlow with the appropriate compiler flags.\n"
     ]
    }
   ],
   "source": [
    "import os\n",
    "import json\n",
    "import glob\n",
    "import datetime\n",
    "import random\n",
    "import re\n",
    "import pprint\n",
    "import warnings\n",
    "import joblib\n",
    "\n",
    "import numpy as np\n",
    "import pandas as pd\n",
    "import seaborn as sns\n",
    "import matplotlib.pyplot as plt\n",
    "import statsmodels.api as sm\n",
    "import tensorflow as tf\n",
    "\n",
    "from matplotlib.patches import Patch\n",
    "from tensorflow.keras import layers, models, callbacks\n",
    "from tensorflow.keras.layers import Dense, Dropout, LSTM, BatchNormalization\n",
    "from tensorflow.keras.models import Sequential, load_model\n",
    "from tensorflow.keras.wrappers.scikit_learn import KerasClassifier\n",
    "from tensorflow.keras.callbacks import EarlyStopping, Callback\n",
    "from imblearn.over_sampling import SMOTE\n",
    "\n",
    "from sklearn import preprocessing, svm\n",
    "from sklearn.model_selection import train_test_split, cross_val_score, GridSearchCV, RandomizedSearchCV, ParameterSampler\n",
    "from sklearn.metrics import (classification_report, mean_squared_error, r2_score,\n",
    "                             accuracy_score, precision_score, recall_score, f1_score, make_scorer,\n",
    "                             confusion_matrix, roc_curve, auc)\n",
    "\n",
    "from sklearn.ensemble import RandomForestClassifier\n",
    "from sklearn.preprocessing import StandardScaler, label_binarize\n",
    "from sklearn.multiclass import OneVsRestClassifier\n",
    "from sklearn.impute import KNNImputer\n",
    "\n",
    "from imblearn.over_sampling import SMOTE\n",
    "from imblearn.under_sampling import RandomUnderSampler\n",
    "from imblearn.pipeline import Pipeline\n",
    "\n",
    "from collections import Counter\n",
    "from tqdm import tqdm\n",
    "\n",
    "warnings.filterwarnings('ignore')\n"
   ]
  },
  {
   "cell_type": "markdown",
   "id": "694ed44b",
   "metadata": {},
   "source": [
    "# Importing Data:"
   ]
  },
  {
   "cell_type": "code",
   "execution_count": null,
   "id": "0fba1d72",
   "metadata": {
    "scrolled": true
   },
   "outputs": [
    {
     "data": {
      "text/html": [
       "<div>\n",
       "<style scoped>\n",
       "    .dataframe tbody tr th:only-of-type {\n",
       "        vertical-align: middle;\n",
       "    }\n",
       "\n",
       "    .dataframe tbody tr th {\n",
       "        vertical-align: top;\n",
       "    }\n",
       "\n",
       "    .dataframe thead th {\n",
       "        text-align: right;\n",
       "    }\n",
       "</style>\n",
       "<table border=\"1\" class=\"dataframe\">\n",
       "  <thead>\n",
       "    <tr style=\"text-align: right;\">\n",
       "      <th></th>\n",
       "      <th>Unnamed: 0</th>\n",
       "      <th>PED_SAFETY</th>\n",
       "      <th>PED_SAFETY_IND</th>\n",
       "      <th>MAX_SEVERITY</th>\n",
       "      <th>MAX_SEVERITY_NM</th>\n",
       "      <th>SAFETYEQ</th>\n",
       "      <th>DISTRACTED</th>\n",
       "      <th>CROSSING</th>\n",
       "      <th>CASENUM</th>\n",
       "      <th>REGION</th>\n",
       "      <th>...</th>\n",
       "      <th>ALCOHOL</th>\n",
       "      <th>SPEEDING</th>\n",
       "      <th>TRAFFICWAY</th>\n",
       "      <th>TRAFFICWAY_NM</th>\n",
       "      <th>NUMBER_OF_LANES</th>\n",
       "      <th>SPEED_LIMIT</th>\n",
       "      <th>ROADWAY_ALIGNMENT</th>\n",
       "      <th>ROADWAY_ALIGNMENT_NM</th>\n",
       "      <th>TRAFFIC_CONTROL_DEVICE</th>\n",
       "      <th>TRAFFIC_CONTROL_DEVICE_NM</th>\n",
       "    </tr>\n",
       "  </thead>\n",
       "  <tbody>\n",
       "    <tr>\n",
       "      <th>0</th>\n",
       "      <td>0</td>\n",
       "      <td>0</td>\n",
       "      <td>MINOR_NO_INJURY</td>\n",
       "      <td>1</td>\n",
       "      <td>Possible Injury</td>\n",
       "      <td>0</td>\n",
       "      <td>0</td>\n",
       "      <td>1</td>\n",
       "      <td>202204040976</td>\n",
       "      <td>2</td>\n",
       "      <td>...</td>\n",
       "      <td>0</td>\n",
       "      <td>9</td>\n",
       "      <td>0</td>\n",
       "      <td>Non-Trafficway</td>\n",
       "      <td>0</td>\n",
       "      <td>0.0</td>\n",
       "      <td>0.0</td>\n",
       "      <td>Non-Trafficway</td>\n",
       "      <td>0.0</td>\n",
       "      <td>No signal</td>\n",
       "    </tr>\n",
       "    <tr>\n",
       "      <th>1</th>\n",
       "      <td>1</td>\n",
       "      <td>1</td>\n",
       "      <td>SERIOUS_INJURY</td>\n",
       "      <td>3</td>\n",
       "      <td>Suspected Serious Injury</td>\n",
       "      <td>0</td>\n",
       "      <td>1</td>\n",
       "      <td>0</td>\n",
       "      <td>202204257294</td>\n",
       "      <td>3</td>\n",
       "      <td>...</td>\n",
       "      <td>9</td>\n",
       "      <td>0</td>\n",
       "      <td>1</td>\n",
       "      <td>Two-Way Not Divided</td>\n",
       "      <td>2</td>\n",
       "      <td>45.0</td>\n",
       "      <td>1.0</td>\n",
       "      <td>Straight</td>\n",
       "      <td>0.0</td>\n",
       "      <td>No signal</td>\n",
       "    </tr>\n",
       "    <tr>\n",
       "      <th>2</th>\n",
       "      <td>2</td>\n",
       "      <td>0</td>\n",
       "      <td>MINOR_NO_INJURY</td>\n",
       "      <td>2</td>\n",
       "      <td>Suspected Minor Injury</td>\n",
       "      <td>0</td>\n",
       "      <td>1</td>\n",
       "      <td>1</td>\n",
       "      <td>202204033237</td>\n",
       "      <td>3</td>\n",
       "      <td>...</td>\n",
       "      <td>0</td>\n",
       "      <td>0</td>\n",
       "      <td>1</td>\n",
       "      <td>Two-Way Not Divided</td>\n",
       "      <td>3</td>\n",
       "      <td>45.0</td>\n",
       "      <td>1.0</td>\n",
       "      <td>Straight</td>\n",
       "      <td>0.0</td>\n",
       "      <td>No signal</td>\n",
       "    </tr>\n",
       "    <tr>\n",
       "      <th>3</th>\n",
       "      <td>3</td>\n",
       "      <td>0</td>\n",
       "      <td>MINOR_NO_INJURY</td>\n",
       "      <td>2</td>\n",
       "      <td>Suspected Minor Injury</td>\n",
       "      <td>0</td>\n",
       "      <td>0</td>\n",
       "      <td>1</td>\n",
       "      <td>202204518258</td>\n",
       "      <td>2</td>\n",
       "      <td>...</td>\n",
       "      <td>9</td>\n",
       "      <td>0</td>\n",
       "      <td>1</td>\n",
       "      <td>Two-Way Not Divided</td>\n",
       "      <td>2</td>\n",
       "      <td>35.0</td>\n",
       "      <td>1.0</td>\n",
       "      <td>Straight</td>\n",
       "      <td>1.0</td>\n",
       "      <td>Traffic Signal</td>\n",
       "    </tr>\n",
       "    <tr>\n",
       "      <th>4</th>\n",
       "      <td>4</td>\n",
       "      <td>0</td>\n",
       "      <td>MINOR_NO_INJURY</td>\n",
       "      <td>2</td>\n",
       "      <td>Suspected Minor Injury</td>\n",
       "      <td>0</td>\n",
       "      <td>0</td>\n",
       "      <td>1</td>\n",
       "      <td>202204322904</td>\n",
       "      <td>3</td>\n",
       "      <td>...</td>\n",
       "      <td>0</td>\n",
       "      <td>0</td>\n",
       "      <td>1</td>\n",
       "      <td>Two-Way Not Divided</td>\n",
       "      <td>2</td>\n",
       "      <td>25.0</td>\n",
       "      <td>1.0</td>\n",
       "      <td>Straight</td>\n",
       "      <td>0.0</td>\n",
       "      <td>No signal</td>\n",
       "    </tr>\n",
       "    <tr>\n",
       "      <th>5</th>\n",
       "      <td>5</td>\n",
       "      <td>2</td>\n",
       "      <td>FATAL</td>\n",
       "      <td>4</td>\n",
       "      <td>Fatal</td>\n",
       "      <td>0</td>\n",
       "      <td>1</td>\n",
       "      <td>0</td>\n",
       "      <td>202203815126</td>\n",
       "      <td>2</td>\n",
       "      <td>...</td>\n",
       "      <td>1</td>\n",
       "      <td>0</td>\n",
       "      <td>1</td>\n",
       "      <td>Two-Way Not Divided</td>\n",
       "      <td>2</td>\n",
       "      <td>40.0</td>\n",
       "      <td>1.0</td>\n",
       "      <td>Straight</td>\n",
       "      <td>0.0</td>\n",
       "      <td>No signal</td>\n",
       "    </tr>\n",
       "    <tr>\n",
       "      <th>6</th>\n",
       "      <td>6</td>\n",
       "      <td>0</td>\n",
       "      <td>MINOR_NO_INJURY</td>\n",
       "      <td>1</td>\n",
       "      <td>Possible Injury</td>\n",
       "      <td>0</td>\n",
       "      <td>1</td>\n",
       "      <td>1</td>\n",
       "      <td>202204509073</td>\n",
       "      <td>3</td>\n",
       "      <td>...</td>\n",
       "      <td>0</td>\n",
       "      <td>0</td>\n",
       "      <td>1</td>\n",
       "      <td>Two-Way Not Divided</td>\n",
       "      <td>9</td>\n",
       "      <td>40.0</td>\n",
       "      <td>1.0</td>\n",
       "      <td>Straight</td>\n",
       "      <td>0.0</td>\n",
       "      <td>No signal</td>\n",
       "    </tr>\n",
       "    <tr>\n",
       "      <th>7</th>\n",
       "      <td>7</td>\n",
       "      <td>0</td>\n",
       "      <td>MINOR_NO_INJURY</td>\n",
       "      <td>2</td>\n",
       "      <td>Suspected Minor Injury</td>\n",
       "      <td>0</td>\n",
       "      <td>1</td>\n",
       "      <td>1</td>\n",
       "      <td>202204167067</td>\n",
       "      <td>3</td>\n",
       "      <td>...</td>\n",
       "      <td>0</td>\n",
       "      <td>0</td>\n",
       "      <td>1</td>\n",
       "      <td>Two-Way Not Divided</td>\n",
       "      <td>2</td>\n",
       "      <td>20.0</td>\n",
       "      <td>1.0</td>\n",
       "      <td>Straight</td>\n",
       "      <td>0.0</td>\n",
       "      <td>No signal</td>\n",
       "    </tr>\n",
       "    <tr>\n",
       "      <th>8</th>\n",
       "      <td>8</td>\n",
       "      <td>0</td>\n",
       "      <td>MINOR_NO_INJURY</td>\n",
       "      <td>2</td>\n",
       "      <td>Suspected Minor Injury</td>\n",
       "      <td>0</td>\n",
       "      <td>0</td>\n",
       "      <td>1</td>\n",
       "      <td>202204297732</td>\n",
       "      <td>3</td>\n",
       "      <td>...</td>\n",
       "      <td>0</td>\n",
       "      <td>0</td>\n",
       "      <td>1</td>\n",
       "      <td>Two-Way Not Divided</td>\n",
       "      <td>9</td>\n",
       "      <td>10.0</td>\n",
       "      <td>1.0</td>\n",
       "      <td>Straight</td>\n",
       "      <td>2.0</td>\n",
       "      <td>Traffic Sign</td>\n",
       "    </tr>\n",
       "    <tr>\n",
       "      <th>9</th>\n",
       "      <td>9</td>\n",
       "      <td>0</td>\n",
       "      <td>MINOR_NO_INJURY</td>\n",
       "      <td>2</td>\n",
       "      <td>Suspected Minor Injury</td>\n",
       "      <td>1</td>\n",
       "      <td>0</td>\n",
       "      <td>0</td>\n",
       "      <td>202204213899</td>\n",
       "      <td>3</td>\n",
       "      <td>...</td>\n",
       "      <td>0</td>\n",
       "      <td>0</td>\n",
       "      <td>1</td>\n",
       "      <td>Two-Way Not Divided</td>\n",
       "      <td>2</td>\n",
       "      <td>45.0</td>\n",
       "      <td>1.0</td>\n",
       "      <td>Straight</td>\n",
       "      <td>3.0</td>\n",
       "      <td>Other Signs</td>\n",
       "    </tr>\n",
       "    <tr>\n",
       "      <th>10</th>\n",
       "      <td>10</td>\n",
       "      <td>1</td>\n",
       "      <td>SERIOUS_INJURY</td>\n",
       "      <td>3</td>\n",
       "      <td>Suspected Serious Injury</td>\n",
       "      <td>0</td>\n",
       "      <td>1</td>\n",
       "      <td>1</td>\n",
       "      <td>202204706667</td>\n",
       "      <td>4</td>\n",
       "      <td>...</td>\n",
       "      <td>1</td>\n",
       "      <td>0</td>\n",
       "      <td>1</td>\n",
       "      <td>Two-Way Not Divided</td>\n",
       "      <td>9</td>\n",
       "      <td>35.0</td>\n",
       "      <td>1.0</td>\n",
       "      <td>Straight</td>\n",
       "      <td>1.0</td>\n",
       "      <td>Traffic Signal</td>\n",
       "    </tr>\n",
       "    <tr>\n",
       "      <th>11</th>\n",
       "      <td>11</td>\n",
       "      <td>1</td>\n",
       "      <td>SERIOUS_INJURY</td>\n",
       "      <td>3</td>\n",
       "      <td>Suspected Serious Injury</td>\n",
       "      <td>0</td>\n",
       "      <td>1</td>\n",
       "      <td>1</td>\n",
       "      <td>202204517822</td>\n",
       "      <td>3</td>\n",
       "      <td>...</td>\n",
       "      <td>1</td>\n",
       "      <td>0</td>\n",
       "      <td>1</td>\n",
       "      <td>Two-Way Not Divided</td>\n",
       "      <td>9</td>\n",
       "      <td>30.0</td>\n",
       "      <td>1.0</td>\n",
       "      <td>Straight</td>\n",
       "      <td>0.0</td>\n",
       "      <td>No signal</td>\n",
       "    </tr>\n",
       "    <tr>\n",
       "      <th>12</th>\n",
       "      <td>12</td>\n",
       "      <td>0</td>\n",
       "      <td>MINOR_NO_INJURY</td>\n",
       "      <td>2</td>\n",
       "      <td>Suspected Minor Injury</td>\n",
       "      <td>0</td>\n",
       "      <td>1</td>\n",
       "      <td>1</td>\n",
       "      <td>202204016998</td>\n",
       "      <td>3</td>\n",
       "      <td>...</td>\n",
       "      <td>9</td>\n",
       "      <td>0</td>\n",
       "      <td>2</td>\n",
       "      <td>Two-Way Divided</td>\n",
       "      <td>3</td>\n",
       "      <td>45.0</td>\n",
       "      <td>1.0</td>\n",
       "      <td>Straight</td>\n",
       "      <td>0.0</td>\n",
       "      <td>No signal</td>\n",
       "    </tr>\n",
       "    <tr>\n",
       "      <th>13</th>\n",
       "      <td>13</td>\n",
       "      <td>1</td>\n",
       "      <td>SERIOUS_INJURY</td>\n",
       "      <td>3</td>\n",
       "      <td>Suspected Serious Injury</td>\n",
       "      <td>0</td>\n",
       "      <td>1</td>\n",
       "      <td>0</td>\n",
       "      <td>202204350996</td>\n",
       "      <td>1</td>\n",
       "      <td>...</td>\n",
       "      <td>9</td>\n",
       "      <td>0</td>\n",
       "      <td>0</td>\n",
       "      <td>Non-Trafficway</td>\n",
       "      <td>0</td>\n",
       "      <td>0.0</td>\n",
       "      <td>0.0</td>\n",
       "      <td>Non-Trafficway</td>\n",
       "      <td>0.0</td>\n",
       "      <td>No signal</td>\n",
       "    </tr>\n",
       "    <tr>\n",
       "      <th>14</th>\n",
       "      <td>14</td>\n",
       "      <td>0</td>\n",
       "      <td>MINOR_NO_INJURY</td>\n",
       "      <td>1</td>\n",
       "      <td>Possible Injury</td>\n",
       "      <td>0</td>\n",
       "      <td>0</td>\n",
       "      <td>0</td>\n",
       "      <td>202204408715</td>\n",
       "      <td>3</td>\n",
       "      <td>...</td>\n",
       "      <td>1</td>\n",
       "      <td>0</td>\n",
       "      <td>1</td>\n",
       "      <td>Two-Way Not Divided</td>\n",
       "      <td>2</td>\n",
       "      <td>45.0</td>\n",
       "      <td>1.0</td>\n",
       "      <td>Straight</td>\n",
       "      <td>0.0</td>\n",
       "      <td>No signal</td>\n",
       "    </tr>\n",
       "    <tr>\n",
       "      <th>15</th>\n",
       "      <td>15</td>\n",
       "      <td>0</td>\n",
       "      <td>MINOR_NO_INJURY</td>\n",
       "      <td>2</td>\n",
       "      <td>Suspected Minor Injury</td>\n",
       "      <td>0</td>\n",
       "      <td>1</td>\n",
       "      <td>0</td>\n",
       "      <td>202204376949</td>\n",
       "      <td>1</td>\n",
       "      <td>...</td>\n",
       "      <td>9</td>\n",
       "      <td>0</td>\n",
       "      <td>9</td>\n",
       "      <td>Unknown</td>\n",
       "      <td>2</td>\n",
       "      <td>25.0</td>\n",
       "      <td>1.0</td>\n",
       "      <td>Straight</td>\n",
       "      <td>3.0</td>\n",
       "      <td>Other Signs</td>\n",
       "    </tr>\n",
       "    <tr>\n",
       "      <th>16</th>\n",
       "      <td>16</td>\n",
       "      <td>0</td>\n",
       "      <td>MINOR_NO_INJURY</td>\n",
       "      <td>1</td>\n",
       "      <td>Possible Injury</td>\n",
       "      <td>0</td>\n",
       "      <td>1</td>\n",
       "      <td>1</td>\n",
       "      <td>202203946829</td>\n",
       "      <td>3</td>\n",
       "      <td>...</td>\n",
       "      <td>0</td>\n",
       "      <td>0</td>\n",
       "      <td>1</td>\n",
       "      <td>Two-Way Not Divided</td>\n",
       "      <td>3</td>\n",
       "      <td>30.0</td>\n",
       "      <td>1.0</td>\n",
       "      <td>Straight</td>\n",
       "      <td>1.0</td>\n",
       "      <td>Traffic Signal</td>\n",
       "    </tr>\n",
       "    <tr>\n",
       "      <th>17</th>\n",
       "      <td>17</td>\n",
       "      <td>2</td>\n",
       "      <td>FATAL</td>\n",
       "      <td>4</td>\n",
       "      <td>Fatal</td>\n",
       "      <td>0</td>\n",
       "      <td>1</td>\n",
       "      <td>1</td>\n",
       "      <td>202204527769</td>\n",
       "      <td>3</td>\n",
       "      <td>...</td>\n",
       "      <td>9</td>\n",
       "      <td>0</td>\n",
       "      <td>1</td>\n",
       "      <td>Two-Way Not Divided</td>\n",
       "      <td>4</td>\n",
       "      <td>35.0</td>\n",
       "      <td>1.0</td>\n",
       "      <td>Straight</td>\n",
       "      <td>0.0</td>\n",
       "      <td>No signal</td>\n",
       "    </tr>\n",
       "    <tr>\n",
       "      <th>18</th>\n",
       "      <td>18</td>\n",
       "      <td>0</td>\n",
       "      <td>MINOR_NO_INJURY</td>\n",
       "      <td>1</td>\n",
       "      <td>Possible Injury</td>\n",
       "      <td>0</td>\n",
       "      <td>0</td>\n",
       "      <td>1</td>\n",
       "      <td>202203829259</td>\n",
       "      <td>3</td>\n",
       "      <td>...</td>\n",
       "      <td>0</td>\n",
       "      <td>0</td>\n",
       "      <td>2</td>\n",
       "      <td>Two-Way Divided</td>\n",
       "      <td>9</td>\n",
       "      <td>40.0</td>\n",
       "      <td>1.0</td>\n",
       "      <td>Straight</td>\n",
       "      <td>0.0</td>\n",
       "      <td>No signal</td>\n",
       "    </tr>\n",
       "    <tr>\n",
       "      <th>19</th>\n",
       "      <td>19</td>\n",
       "      <td>0</td>\n",
       "      <td>MINOR_NO_INJURY</td>\n",
       "      <td>1</td>\n",
       "      <td>Possible Injury</td>\n",
       "      <td>0</td>\n",
       "      <td>1</td>\n",
       "      <td>1</td>\n",
       "      <td>202204127127</td>\n",
       "      <td>3</td>\n",
       "      <td>...</td>\n",
       "      <td>1</td>\n",
       "      <td>0</td>\n",
       "      <td>2</td>\n",
       "      <td>Two-Way Divided</td>\n",
       "      <td>9</td>\n",
       "      <td>55.0</td>\n",
       "      <td>1.0</td>\n",
       "      <td>Straight</td>\n",
       "      <td>0.0</td>\n",
       "      <td>No signal</td>\n",
       "    </tr>\n",
       "    <tr>\n",
       "      <th>20</th>\n",
       "      <td>20</td>\n",
       "      <td>0</td>\n",
       "      <td>MINOR_NO_INJURY</td>\n",
       "      <td>1</td>\n",
       "      <td>Possible Injury</td>\n",
       "      <td>0</td>\n",
       "      <td>0</td>\n",
       "      <td>1</td>\n",
       "      <td>202204090489</td>\n",
       "      <td>3</td>\n",
       "      <td>...</td>\n",
       "      <td>0</td>\n",
       "      <td>0</td>\n",
       "      <td>0</td>\n",
       "      <td>Non-Trafficway</td>\n",
       "      <td>0</td>\n",
       "      <td>0.0</td>\n",
       "      <td>0.0</td>\n",
       "      <td>Non-Trafficway</td>\n",
       "      <td>0.0</td>\n",
       "      <td>No signal</td>\n",
       "    </tr>\n",
       "    <tr>\n",
       "      <th>21</th>\n",
       "      <td>21</td>\n",
       "      <td>2</td>\n",
       "      <td>FATAL</td>\n",
       "      <td>4</td>\n",
       "      <td>Fatal</td>\n",
       "      <td>0</td>\n",
       "      <td>1</td>\n",
       "      <td>0</td>\n",
       "      <td>202203991840</td>\n",
       "      <td>3</td>\n",
       "      <td>...</td>\n",
       "      <td>9</td>\n",
       "      <td>0</td>\n",
       "      <td>2</td>\n",
       "      <td>Two-Way Divided</td>\n",
       "      <td>3</td>\n",
       "      <td>70.0</td>\n",
       "      <td>1.0</td>\n",
       "      <td>Straight</td>\n",
       "      <td>0.0</td>\n",
       "      <td>No signal</td>\n",
       "    </tr>\n",
       "    <tr>\n",
       "      <th>22</th>\n",
       "      <td>22</td>\n",
       "      <td>0</td>\n",
       "      <td>MINOR_NO_INJURY</td>\n",
       "      <td>1</td>\n",
       "      <td>Possible Injury</td>\n",
       "      <td>0</td>\n",
       "      <td>0</td>\n",
       "      <td>0</td>\n",
       "      <td>202203944848</td>\n",
       "      <td>3</td>\n",
       "      <td>...</td>\n",
       "      <td>1</td>\n",
       "      <td>0</td>\n",
       "      <td>1</td>\n",
       "      <td>Two-Way Not Divided</td>\n",
       "      <td>2</td>\n",
       "      <td>45.0</td>\n",
       "      <td>1.0</td>\n",
       "      <td>Straight</td>\n",
       "      <td>0.0</td>\n",
       "      <td>No signal</td>\n",
       "    </tr>\n",
       "    <tr>\n",
       "      <th>23</th>\n",
       "      <td>23</td>\n",
       "      <td>0</td>\n",
       "      <td>MINOR_NO_INJURY</td>\n",
       "      <td>2</td>\n",
       "      <td>Suspected Minor Injury</td>\n",
       "      <td>0</td>\n",
       "      <td>0</td>\n",
       "      <td>0</td>\n",
       "      <td>202204048212</td>\n",
       "      <td>1</td>\n",
       "      <td>...</td>\n",
       "      <td>9</td>\n",
       "      <td>0</td>\n",
       "      <td>0</td>\n",
       "      <td>Non-Trafficway</td>\n",
       "      <td>0</td>\n",
       "      <td>0.0</td>\n",
       "      <td>0.0</td>\n",
       "      <td>Non-Trafficway</td>\n",
       "      <td>0.0</td>\n",
       "      <td>No signal</td>\n",
       "    </tr>\n",
       "    <tr>\n",
       "      <th>24</th>\n",
       "      <td>24</td>\n",
       "      <td>0</td>\n",
       "      <td>MINOR_NO_INJURY</td>\n",
       "      <td>2</td>\n",
       "      <td>Suspected Minor Injury</td>\n",
       "      <td>0</td>\n",
       "      <td>1</td>\n",
       "      <td>1</td>\n",
       "      <td>202204515130</td>\n",
       "      <td>4</td>\n",
       "      <td>...</td>\n",
       "      <td>9</td>\n",
       "      <td>0</td>\n",
       "      <td>2</td>\n",
       "      <td>Two-Way Divided</td>\n",
       "      <td>3</td>\n",
       "      <td>40.0</td>\n",
       "      <td>1.0</td>\n",
       "      <td>Straight</td>\n",
       "      <td>1.0</td>\n",
       "      <td>Traffic Signal</td>\n",
       "    </tr>\n",
       "    <tr>\n",
       "      <th>25</th>\n",
       "      <td>25</td>\n",
       "      <td>0</td>\n",
       "      <td>MINOR_NO_INJURY</td>\n",
       "      <td>1</td>\n",
       "      <td>Possible Injury</td>\n",
       "      <td>0</td>\n",
       "      <td>1</td>\n",
       "      <td>1</td>\n",
       "      <td>202204315021</td>\n",
       "      <td>3</td>\n",
       "      <td>...</td>\n",
       "      <td>0</td>\n",
       "      <td>0</td>\n",
       "      <td>2</td>\n",
       "      <td>Two-Way Divided</td>\n",
       "      <td>9</td>\n",
       "      <td>30.0</td>\n",
       "      <td>1.0</td>\n",
       "      <td>Straight</td>\n",
       "      <td>0.0</td>\n",
       "      <td>No signal</td>\n",
       "    </tr>\n",
       "    <tr>\n",
       "      <th>26</th>\n",
       "      <td>26</td>\n",
       "      <td>1</td>\n",
       "      <td>SERIOUS_INJURY</td>\n",
       "      <td>3</td>\n",
       "      <td>Suspected Serious Injury</td>\n",
       "      <td>1</td>\n",
       "      <td>1</td>\n",
       "      <td>1</td>\n",
       "      <td>202204300486</td>\n",
       "      <td>2</td>\n",
       "      <td>...</td>\n",
       "      <td>0</td>\n",
       "      <td>0</td>\n",
       "      <td>1</td>\n",
       "      <td>Two-Way Not Divided</td>\n",
       "      <td>2</td>\n",
       "      <td>25.0</td>\n",
       "      <td>1.0</td>\n",
       "      <td>Straight</td>\n",
       "      <td>0.0</td>\n",
       "      <td>No signal</td>\n",
       "    </tr>\n",
       "    <tr>\n",
       "      <th>27</th>\n",
       "      <td>27</td>\n",
       "      <td>1</td>\n",
       "      <td>SERIOUS_INJURY</td>\n",
       "      <td>3</td>\n",
       "      <td>Suspected Serious Injury</td>\n",
       "      <td>0</td>\n",
       "      <td>1</td>\n",
       "      <td>0</td>\n",
       "      <td>202203822446</td>\n",
       "      <td>3</td>\n",
       "      <td>...</td>\n",
       "      <td>1</td>\n",
       "      <td>0</td>\n",
       "      <td>2</td>\n",
       "      <td>Two-Way Divided</td>\n",
       "      <td>2</td>\n",
       "      <td>40.0</td>\n",
       "      <td>1.0</td>\n",
       "      <td>Straight</td>\n",
       "      <td>0.0</td>\n",
       "      <td>No signal</td>\n",
       "    </tr>\n",
       "    <tr>\n",
       "      <th>28</th>\n",
       "      <td>28</td>\n",
       "      <td>0</td>\n",
       "      <td>MINOR_NO_INJURY</td>\n",
       "      <td>1</td>\n",
       "      <td>Possible Injury</td>\n",
       "      <td>0</td>\n",
       "      <td>1</td>\n",
       "      <td>0</td>\n",
       "      <td>202204544365</td>\n",
       "      <td>3</td>\n",
       "      <td>...</td>\n",
       "      <td>0</td>\n",
       "      <td>0</td>\n",
       "      <td>1</td>\n",
       "      <td>Two-Way Not Divided</td>\n",
       "      <td>2</td>\n",
       "      <td>35.0</td>\n",
       "      <td>1.0</td>\n",
       "      <td>Straight</td>\n",
       "      <td>2.0</td>\n",
       "      <td>Traffic Sign</td>\n",
       "    </tr>\n",
       "    <tr>\n",
       "      <th>29</th>\n",
       "      <td>29</td>\n",
       "      <td>0</td>\n",
       "      <td>MINOR_NO_INJURY</td>\n",
       "      <td>2</td>\n",
       "      <td>Suspected Minor Injury</td>\n",
       "      <td>0</td>\n",
       "      <td>1</td>\n",
       "      <td>1</td>\n",
       "      <td>202203790033</td>\n",
       "      <td>3</td>\n",
       "      <td>...</td>\n",
       "      <td>0</td>\n",
       "      <td>0</td>\n",
       "      <td>1</td>\n",
       "      <td>Two-Way Not Divided</td>\n",
       "      <td>9</td>\n",
       "      <td>30.0</td>\n",
       "      <td>1.0</td>\n",
       "      <td>Straight</td>\n",
       "      <td>0.0</td>\n",
       "      <td>No signal</td>\n",
       "    </tr>\n",
       "  </tbody>\n",
       "</table>\n",
       "<p>30 rows × 48 columns</p>\n",
       "</div>"
      ],
      "text/plain": [
       "    Unnamed: 0  PED_SAFETY   PED_SAFETY_IND  MAX_SEVERITY  \\\n",
       "0            0           0  MINOR_NO_INJURY             1   \n",
       "1            1           1   SERIOUS_INJURY             3   \n",
       "2            2           0  MINOR_NO_INJURY             2   \n",
       "3            3           0  MINOR_NO_INJURY             2   \n",
       "4            4           0  MINOR_NO_INJURY             2   \n",
       "5            5           2            FATAL             4   \n",
       "6            6           0  MINOR_NO_INJURY             1   \n",
       "7            7           0  MINOR_NO_INJURY             2   \n",
       "8            8           0  MINOR_NO_INJURY             2   \n",
       "9            9           0  MINOR_NO_INJURY             2   \n",
       "10          10           1   SERIOUS_INJURY             3   \n",
       "11          11           1   SERIOUS_INJURY             3   \n",
       "12          12           0  MINOR_NO_INJURY             2   \n",
       "13          13           1   SERIOUS_INJURY             3   \n",
       "14          14           0  MINOR_NO_INJURY             1   \n",
       "15          15           0  MINOR_NO_INJURY             2   \n",
       "16          16           0  MINOR_NO_INJURY             1   \n",
       "17          17           2            FATAL             4   \n",
       "18          18           0  MINOR_NO_INJURY             1   \n",
       "19          19           0  MINOR_NO_INJURY             1   \n",
       "20          20           0  MINOR_NO_INJURY             1   \n",
       "21          21           2            FATAL             4   \n",
       "22          22           0  MINOR_NO_INJURY             1   \n",
       "23          23           0  MINOR_NO_INJURY             2   \n",
       "24          24           0  MINOR_NO_INJURY             2   \n",
       "25          25           0  MINOR_NO_INJURY             1   \n",
       "26          26           1   SERIOUS_INJURY             3   \n",
       "27          27           1   SERIOUS_INJURY             3   \n",
       "28          28           0  MINOR_NO_INJURY             1   \n",
       "29          29           0  MINOR_NO_INJURY             2   \n",
       "\n",
       "             MAX_SEVERITY_NM  SAFETYEQ  DISTRACTED  CROSSING       CASENUM  \\\n",
       "0            Possible Injury         0           0         1  202204040976   \n",
       "1   Suspected Serious Injury         0           1         0  202204257294   \n",
       "2     Suspected Minor Injury         0           1         1  202204033237   \n",
       "3     Suspected Minor Injury         0           0         1  202204518258   \n",
       "4     Suspected Minor Injury         0           0         1  202204322904   \n",
       "5                      Fatal         0           1         0  202203815126   \n",
       "6            Possible Injury         0           1         1  202204509073   \n",
       "7     Suspected Minor Injury         0           1         1  202204167067   \n",
       "8     Suspected Minor Injury         0           0         1  202204297732   \n",
       "9     Suspected Minor Injury         1           0         0  202204213899   \n",
       "10  Suspected Serious Injury         0           1         1  202204706667   \n",
       "11  Suspected Serious Injury         0           1         1  202204517822   \n",
       "12    Suspected Minor Injury         0           1         1  202204016998   \n",
       "13  Suspected Serious Injury         0           1         0  202204350996   \n",
       "14           Possible Injury         0           0         0  202204408715   \n",
       "15    Suspected Minor Injury         0           1         0  202204376949   \n",
       "16           Possible Injury         0           1         1  202203946829   \n",
       "17                     Fatal         0           1         1  202204527769   \n",
       "18           Possible Injury         0           0         1  202203829259   \n",
       "19           Possible Injury         0           1         1  202204127127   \n",
       "20           Possible Injury         0           0         1  202204090489   \n",
       "21                     Fatal         0           1         0  202203991840   \n",
       "22           Possible Injury         0           0         0  202203944848   \n",
       "23    Suspected Minor Injury         0           0         0  202204048212   \n",
       "24    Suspected Minor Injury         0           1         1  202204515130   \n",
       "25           Possible Injury         0           1         1  202204315021   \n",
       "26  Suspected Serious Injury         1           1         1  202204300486   \n",
       "27  Suspected Serious Injury         0           1         0  202203822446   \n",
       "28           Possible Injury         0           1         0  202204544365   \n",
       "29    Suspected Minor Injury         0           1         1  202203790033   \n",
       "\n",
       "    REGION  ... ALCOHOL  SPEEDING TRAFFICWAY        TRAFFICWAY_NM  \\\n",
       "0        2  ...       0         9          0       Non-Trafficway   \n",
       "1        3  ...       9         0          1  Two-Way Not Divided   \n",
       "2        3  ...       0         0          1  Two-Way Not Divided   \n",
       "3        2  ...       9         0          1  Two-Way Not Divided   \n",
       "4        3  ...       0         0          1  Two-Way Not Divided   \n",
       "5        2  ...       1         0          1  Two-Way Not Divided   \n",
       "6        3  ...       0         0          1  Two-Way Not Divided   \n",
       "7        3  ...       0         0          1  Two-Way Not Divided   \n",
       "8        3  ...       0         0          1  Two-Way Not Divided   \n",
       "9        3  ...       0         0          1  Two-Way Not Divided   \n",
       "10       4  ...       1         0          1  Two-Way Not Divided   \n",
       "11       3  ...       1         0          1  Two-Way Not Divided   \n",
       "12       3  ...       9         0          2      Two-Way Divided   \n",
       "13       1  ...       9         0          0       Non-Trafficway   \n",
       "14       3  ...       1         0          1  Two-Way Not Divided   \n",
       "15       1  ...       9         0          9              Unknown   \n",
       "16       3  ...       0         0          1  Two-Way Not Divided   \n",
       "17       3  ...       9         0          1  Two-Way Not Divided   \n",
       "18       3  ...       0         0          2      Two-Way Divided   \n",
       "19       3  ...       1         0          2      Two-Way Divided   \n",
       "20       3  ...       0         0          0       Non-Trafficway   \n",
       "21       3  ...       9         0          2      Two-Way Divided   \n",
       "22       3  ...       1         0          1  Two-Way Not Divided   \n",
       "23       1  ...       9         0          0       Non-Trafficway   \n",
       "24       4  ...       9         0          2      Two-Way Divided   \n",
       "25       3  ...       0         0          2      Two-Way Divided   \n",
       "26       2  ...       0         0          1  Two-Way Not Divided   \n",
       "27       3  ...       1         0          2      Two-Way Divided   \n",
       "28       3  ...       0         0          1  Two-Way Not Divided   \n",
       "29       3  ...       0         0          1  Two-Way Not Divided   \n",
       "\n",
       "    NUMBER_OF_LANES  SPEED_LIMIT  ROADWAY_ALIGNMENT  ROADWAY_ALIGNMENT_NM  \\\n",
       "0                 0          0.0                0.0        Non-Trafficway   \n",
       "1                 2         45.0                1.0              Straight   \n",
       "2                 3         45.0                1.0              Straight   \n",
       "3                 2         35.0                1.0              Straight   \n",
       "4                 2         25.0                1.0              Straight   \n",
       "5                 2         40.0                1.0              Straight   \n",
       "6                 9         40.0                1.0              Straight   \n",
       "7                 2         20.0                1.0              Straight   \n",
       "8                 9         10.0                1.0              Straight   \n",
       "9                 2         45.0                1.0              Straight   \n",
       "10                9         35.0                1.0              Straight   \n",
       "11                9         30.0                1.0              Straight   \n",
       "12                3         45.0                1.0              Straight   \n",
       "13                0          0.0                0.0        Non-Trafficway   \n",
       "14                2         45.0                1.0              Straight   \n",
       "15                2         25.0                1.0              Straight   \n",
       "16                3         30.0                1.0              Straight   \n",
       "17                4         35.0                1.0              Straight   \n",
       "18                9         40.0                1.0              Straight   \n",
       "19                9         55.0                1.0              Straight   \n",
       "20                0          0.0                0.0        Non-Trafficway   \n",
       "21                3         70.0                1.0              Straight   \n",
       "22                2         45.0                1.0              Straight   \n",
       "23                0          0.0                0.0        Non-Trafficway   \n",
       "24                3         40.0                1.0              Straight   \n",
       "25                9         30.0                1.0              Straight   \n",
       "26                2         25.0                1.0              Straight   \n",
       "27                2         40.0                1.0              Straight   \n",
       "28                2         35.0                1.0              Straight   \n",
       "29                9         30.0                1.0              Straight   \n",
       "\n",
       "    TRAFFIC_CONTROL_DEVICE  TRAFFIC_CONTROL_DEVICE_NM  \n",
       "0                      0.0                  No signal  \n",
       "1                      0.0                  No signal  \n",
       "2                      0.0                  No signal  \n",
       "3                      1.0             Traffic Signal  \n",
       "4                      0.0                  No signal  \n",
       "5                      0.0                  No signal  \n",
       "6                      0.0                  No signal  \n",
       "7                      0.0                  No signal  \n",
       "8                      2.0               Traffic Sign  \n",
       "9                      3.0                Other Signs  \n",
       "10                     1.0             Traffic Signal  \n",
       "11                     0.0                  No signal  \n",
       "12                     0.0                  No signal  \n",
       "13                     0.0                  No signal  \n",
       "14                     0.0                  No signal  \n",
       "15                     3.0                Other Signs  \n",
       "16                     1.0             Traffic Signal  \n",
       "17                     0.0                  No signal  \n",
       "18                     0.0                  No signal  \n",
       "19                     0.0                  No signal  \n",
       "20                     0.0                  No signal  \n",
       "21                     0.0                  No signal  \n",
       "22                     0.0                  No signal  \n",
       "23                     0.0                  No signal  \n",
       "24                     1.0             Traffic Signal  \n",
       "25                     0.0                  No signal  \n",
       "26                     0.0                  No signal  \n",
       "27                     0.0                  No signal  \n",
       "28                     2.0               Traffic Sign  \n",
       "29                     0.0                  No signal  \n",
       "\n",
       "[30 rows x 48 columns]"
      ]
     },
     "execution_count": 3,
     "metadata": {},
     "output_type": "execute_result"
    }
   ],
   "source": [
    "# CRSS cleaned data:\n",
    "\n",
    "crss_data = pd.read_csv('~/data/CRSS_Data/crss.csv')\n",
    "crss_data.head(30)"
   ]
  },
  {
   "cell_type": "code",
   "execution_count": 5,
   "id": "74e9a971",
   "metadata": {},
   "outputs": [
    {
     "data": {
      "text/plain": [
       "(27555, 48)"
      ]
     },
     "execution_count": 5,
     "metadata": {},
     "output_type": "execute_result"
    }
   ],
   "source": [
    "crss_data.shape"
   ]
  },
  {
   "cell_type": "code",
   "execution_count": 6,
   "id": "61bc22c3",
   "metadata": {
    "scrolled": true
   },
   "outputs": [
    {
     "data": {
      "text/plain": [
       "Unnamed: 0                     int64\n",
       "PED_SAFETY                     int64\n",
       "PED_SAFETY_IND                object\n",
       "MAX_SEVERITY                   int64\n",
       "MAX_SEVERITY_NM               object\n",
       "SAFETYEQ                       int64\n",
       "DISTRACTED                     int64\n",
       "CROSSING                       int64\n",
       "CASENUM                        int64\n",
       "REGION                         int64\n",
       "REGION_NM                     object\n",
       "URBAN_CITY                     int64\n",
       "URBAN_CITY_NM                 object\n",
       "PEDESTRIAN_CYCLIST             int64\n",
       "ALL_VHICLES_IN_CRASH           int64\n",
       "PARKED_VEHICLES                int64\n",
       "PERSON_IN_VEHICLE              int64\n",
       "YEAR                           int64\n",
       "MONTH                          int64\n",
       "DAY_WEEK                       int64\n",
       "WEEKEND                        int64\n",
       "HARMFUL_EVENT                  int64\n",
       "HARMFUL_EVENT_NM              object\n",
       "COLLUSION                      int64\n",
       "COLLUSION_NM                  object\n",
       "JUNCTION                       int64\n",
       "JUNCTION_NM                   object\n",
       "INTERSECTION_TYPE              int64\n",
       "INTERSECTION_TYPE_NM          object\n",
       "CRASH_LOCATION                 int64\n",
       "CRASH_LOCATION_NM             object\n",
       "WORK_ZONE                      int64\n",
       "LIGHT_CONDITION                int64\n",
       "LIGHT_CONDITION_NM            object\n",
       "WEATHER                        int64\n",
       "WEATHER_NM                    object\n",
       "SCHOOL_BUS                     int64\n",
       "INTERSTATE_HWY                 int64\n",
       "ALCOHOL                        int64\n",
       "SPEEDING                       int64\n",
       "TRAFFICWAY                     int64\n",
       "TRAFFICWAY_NM                 object\n",
       "NUMBER_OF_LANES                int64\n",
       "SPEED_LIMIT                  float64\n",
       "ROADWAY_ALIGNMENT            float64\n",
       "ROADWAY_ALIGNMENT_NM          object\n",
       "TRAFFIC_CONTROL_DEVICE       float64\n",
       "TRAFFIC_CONTROL_DEVICE_NM     object\n",
       "dtype: object"
      ]
     },
     "execution_count": 6,
     "metadata": {},
     "output_type": "execute_result"
    }
   ],
   "source": [
    "crss_data.dtypes"
   ]
  },
  {
   "cell_type": "markdown",
   "id": "f1baa936",
   "metadata": {},
   "source": [
    "# EDA:"
   ]
  },
  {
   "cell_type": "markdown",
   "id": "eb33949b",
   "metadata": {},
   "source": [
    "#### Need to impute all NA values including hidden ones (some values are assigned a value of 99 to represent unknown) from the dataframe before modeling:"
   ]
  },
  {
   "cell_type": "code",
   "execution_count": 7,
   "id": "0ba7f23d",
   "metadata": {
    "scrolled": true
   },
   "outputs": [
    {
     "data": {
      "text/plain": [
       "Unnamed: 0                      0\n",
       "PED_SAFETY                      0\n",
       "PED_SAFETY_IND                  0\n",
       "MAX_SEVERITY                    0\n",
       "MAX_SEVERITY_NM                 0\n",
       "SAFETYEQ                        0\n",
       "DISTRACTED                      0\n",
       "CROSSING                        0\n",
       "CASENUM                         0\n",
       "REGION                          0\n",
       "REGION_NM                       0\n",
       "URBAN_CITY                      0\n",
       "URBAN_CITY_NM                   0\n",
       "PEDESTRIAN_CYCLIST              0\n",
       "ALL_VHICLES_IN_CRASH            0\n",
       "PARKED_VEHICLES                 0\n",
       "PERSON_IN_VEHICLE               0\n",
       "YEAR                            0\n",
       "MONTH                           0\n",
       "DAY_WEEK                        0\n",
       "WEEKEND                         0\n",
       "HARMFUL_EVENT                   0\n",
       "HARMFUL_EVENT_NM                0\n",
       "COLLUSION                       0\n",
       "COLLUSION_NM                    0\n",
       "JUNCTION                        0\n",
       "JUNCTION_NM                     0\n",
       "INTERSECTION_TYPE               0\n",
       "INTERSECTION_TYPE_NM            0\n",
       "CRASH_LOCATION                  0\n",
       "CRASH_LOCATION_NM               0\n",
       "WORK_ZONE                       0\n",
       "LIGHT_CONDITION                 0\n",
       "LIGHT_CONDITION_NM              0\n",
       "WEATHER                         0\n",
       "WEATHER_NM                      0\n",
       "SCHOOL_BUS                      0\n",
       "INTERSTATE_HWY                  0\n",
       "ALCOHOL                         0\n",
       "SPEEDING                        0\n",
       "TRAFFICWAY                      0\n",
       "TRAFFICWAY_NM                   0\n",
       "NUMBER_OF_LANES                 0\n",
       "SPEED_LIMIT                  7661\n",
       "ROADWAY_ALIGNMENT            2631\n",
       "ROADWAY_ALIGNMENT_NM            0\n",
       "TRAFFIC_CONTROL_DEVICE       3236\n",
       "TRAFFIC_CONTROL_DEVICE_NM       0\n",
       "dtype: int64"
      ]
     },
     "execution_count": 7,
     "metadata": {},
     "output_type": "execute_result"
    }
   ],
   "source": [
    "# Per column NA values\n",
    "na_count_per_column = crss_data.isna().sum()\n",
    "\n",
    "na_count_per_column"
   ]
  },
  {
   "cell_type": "code",
   "execution_count": 8,
   "id": "6676f606",
   "metadata": {},
   "outputs": [],
   "source": [
    "avg_spd_lim = crss_data['SPEED_LIMIT'].mean()\n",
    "crss_data['SPEED_LIMIT'].fillna(avg_spd_lim, inplace=True)"
   ]
  },
  {
   "cell_type": "code",
   "execution_count": 9,
   "id": "54661092",
   "metadata": {},
   "outputs": [
    {
     "data": {
      "text/plain": [
       "31.083492510304616"
      ]
     },
     "execution_count": 9,
     "metadata": {},
     "output_type": "execute_result"
    }
   ],
   "source": [
    "avg_spd_lim"
   ]
  },
  {
   "cell_type": "code",
   "execution_count": 10,
   "id": "621a4778",
   "metadata": {},
   "outputs": [],
   "source": [
    "mode_rdwy_align = crss_data['ROADWAY_ALIGNMENT'].mode()[0]\n",
    "crss_data['ROADWAY_ALIGNMENT'].fillna(mode_rdwy_align, inplace=True)"
   ]
  },
  {
   "cell_type": "code",
   "execution_count": 11,
   "id": "ed832489",
   "metadata": {},
   "outputs": [
    {
     "data": {
      "text/plain": [
       "1.0"
      ]
     },
     "execution_count": 11,
     "metadata": {},
     "output_type": "execute_result"
    }
   ],
   "source": [
    "mode_rdwy_align"
   ]
  },
  {
   "cell_type": "code",
   "execution_count": 12,
   "id": "2044ad2e",
   "metadata": {},
   "outputs": [],
   "source": [
    "mode_traf_cntrl_dev = crss_data['TRAFFIC_CONTROL_DEVICE'].mode()[0]\n",
    "crss_data['TRAFFIC_CONTROL_DEVICE'].fillna(mode_traf_cntrl_dev, inplace=True)"
   ]
  },
  {
   "cell_type": "code",
   "execution_count": 13,
   "id": "12211679",
   "metadata": {},
   "outputs": [
    {
     "data": {
      "text/plain": [
       "0.0"
      ]
     },
     "execution_count": 13,
     "metadata": {},
     "output_type": "execute_result"
    }
   ],
   "source": [
    "mode_traf_cntrl_dev"
   ]
  },
  {
   "cell_type": "code",
   "execution_count": 14,
   "id": "31eaee78",
   "metadata": {},
   "outputs": [
    {
     "data": {
      "text/plain": [
       "(0, 0, 0)"
      ]
     },
     "execution_count": 14,
     "metadata": {},
     "output_type": "execute_result"
    }
   ],
   "source": [
    "crss_data['SPEED_LIMIT'].isna().sum(), crss_data['ROADWAY_ALIGNMENT'].isna().sum(), crss_data['TRAFFIC_CONTROL_DEVICE'].isna().sum()"
   ]
  },
  {
   "cell_type": "code",
   "execution_count": 15,
   "id": "dcf83065",
   "metadata": {},
   "outputs": [],
   "source": [
    "# Number of lanes values that are 9 are for unknown values\n",
    "crss_data.loc[crss_data['NUMBER_OF_LANES'] == 9, 'NUMBER_OF_LANES'] = np.nan\n",
    "mode_num_lanes = int(crss_data['NUMBER_OF_LANES'].mode()[0])\n",
    "crss_data['NUMBER_OF_LANES'].fillna(mode_num_lanes, inplace=True)"
   ]
  },
  {
   "cell_type": "code",
   "execution_count": 16,
   "id": "31652624",
   "metadata": {},
   "outputs": [
    {
     "data": {
      "text/plain": [
       "2"
      ]
     },
     "execution_count": 16,
     "metadata": {},
     "output_type": "execute_result"
    }
   ],
   "source": [
    "mode_num_lanes"
   ]
  },
  {
   "cell_type": "code",
   "execution_count": 17,
   "id": "3c323ef1",
   "metadata": {},
   "outputs": [
    {
     "data": {
      "text/plain": [
       "NUMBER_OF_LANES\n",
       "2.0    19153\n",
       "3.0     2332\n",
       "4.0     1892\n",
       "0.0     1702\n",
       "5.0     1463\n",
       "1.0      433\n",
       "6.0      399\n",
       "7.0      181\n",
       "Name: count, dtype: int64"
      ]
     },
     "execution_count": 17,
     "metadata": {},
     "output_type": "execute_result"
    }
   ],
   "source": [
    "crss_data['NUMBER_OF_LANES'].value_counts()"
   ]
  },
  {
   "cell_type": "code",
   "execution_count": 18,
   "id": "5ec01f08",
   "metadata": {},
   "outputs": [
    {
     "data": {
      "text/plain": [
       "array([0., 1., 2., 3., 4., 5., 6., 7.])"
      ]
     },
     "execution_count": 18,
     "metadata": {},
     "output_type": "execute_result"
    }
   ],
   "source": [
    "np.unique(crss_data['NUMBER_OF_LANES'])"
   ]
  },
  {
   "cell_type": "code",
   "execution_count": 19,
   "id": "98c67b34",
   "metadata": {},
   "outputs": [],
   "source": [
    "# COLLUSION column replacing values of 98 with 1 to make it a yes/no 1/0 variable:\n",
    "crss_data.loc[crss_data['COLLUSION'] == 98, 'COLLUSION'] = 1\n"
   ]
  },
  {
   "cell_type": "code",
   "execution_count": 20,
   "id": "8bffb8a6",
   "metadata": {},
   "outputs": [
    {
     "data": {
      "text/plain": [
       "array([0, 1])"
      ]
     },
     "execution_count": 20,
     "metadata": {},
     "output_type": "execute_result"
    }
   ],
   "source": [
    "np.unique(crss_data['COLLUSION'])"
   ]
  },
  {
   "cell_type": "code",
   "execution_count": 21,
   "id": "53832b01",
   "metadata": {
    "scrolled": true
   },
   "outputs": [],
   "source": [
    "# JUNCTION column values of 8 & 9 are unknown:\n",
    "\n",
    "crss_data.loc[(crss_data['JUNCTION'] == 8) \n",
    "              | (crss_data['JUNCTION'] == 9), 'JUNCTION'] = np.nan\n",
    "\n",
    "mode_junct = int(crss_data['JUNCTION'].mode()[0])\n",
    "\n",
    "crss_data['JUNCTION'].fillna(mode_junct, inplace=True)\n"
   ]
  },
  {
   "cell_type": "code",
   "execution_count": 22,
   "id": "14922460",
   "metadata": {},
   "outputs": [
    {
     "data": {
      "text/plain": [
       "0"
      ]
     },
     "execution_count": 22,
     "metadata": {},
     "output_type": "execute_result"
    }
   ],
   "source": [
    "mode_junct"
   ]
  },
  {
   "cell_type": "code",
   "execution_count": 23,
   "id": "c137c4f0",
   "metadata": {},
   "outputs": [
    {
     "data": {
      "text/plain": [
       "JUNCTION\n",
       "0.0    27134\n",
       "1.0      421\n",
       "Name: count, dtype: int64"
      ]
     },
     "execution_count": 23,
     "metadata": {},
     "output_type": "execute_result"
    }
   ],
   "source": [
    "crss_data['JUNCTION'].value_counts()"
   ]
  },
  {
   "cell_type": "code",
   "execution_count": 24,
   "id": "439fb1d3",
   "metadata": {},
   "outputs": [
    {
     "data": {
      "text/plain": [
       "array([0., 1.])"
      ]
     },
     "execution_count": 24,
     "metadata": {},
     "output_type": "execute_result"
    }
   ],
   "source": [
    "np.unique(crss_data['JUNCTION'])"
   ]
  },
  {
   "cell_type": "code",
   "execution_count": 25,
   "id": "8be008b6",
   "metadata": {
    "scrolled": true
   },
   "outputs": [],
   "source": [
    "# INTERSECTION_TYPE column: \n",
    "# Values of 98 & 99 are unknown,\n",
    "# Values of 4, 5, 6, 7, 10, 11 are all “Other” and need to all be \n",
    "# set to 4 for understandability\n",
    "\n",
    "crss_data.loc[(crss_data['INTERSECTION_TYPE'] == 98) \n",
    "              | (crss_data['INTERSECTION_TYPE'] == 99), 'INTERSECTION_TYPE'] = np.nan\n",
    "\n",
    "mode_int_type = int(crss_data['INTERSECTION_TYPE'].mode()[0])\n",
    "crss_data['INTERSECTION_TYPE'].fillna(mode_int_type, inplace=True)\n",
    "\n",
    "int_type_same_vals = [4, 5, 6, 7, 10, 11]\n",
    "crss_data.loc[crss_data['INTERSECTION_TYPE'].isin(int_type_same_vals), \n",
    "              'INTERSECTION_TYPE'] = 4\n"
   ]
  },
  {
   "cell_type": "code",
   "execution_count": 26,
   "id": "4ded4266",
   "metadata": {},
   "outputs": [
    {
     "data": {
      "text/plain": [
       "1"
      ]
     },
     "execution_count": 26,
     "metadata": {},
     "output_type": "execute_result"
    }
   ],
   "source": [
    "mode_int_type"
   ]
  },
  {
   "cell_type": "code",
   "execution_count": 27,
   "id": "acfd7dde",
   "metadata": {},
   "outputs": [
    {
     "data": {
      "text/plain": [
       "INTERSECTION_TYPE\n",
       "1.0    14846\n",
       "2.0     8809\n",
       "3.0     3694\n",
       "4.0      206\n",
       "Name: count, dtype: int64"
      ]
     },
     "execution_count": 27,
     "metadata": {},
     "output_type": "execute_result"
    }
   ],
   "source": [
    "crss_data['INTERSECTION_TYPE'].value_counts()"
   ]
  },
  {
   "cell_type": "code",
   "execution_count": 28,
   "id": "3320371a",
   "metadata": {},
   "outputs": [
    {
     "data": {
      "text/plain": [
       "array([1., 2., 3., 4.])"
      ]
     },
     "execution_count": 28,
     "metadata": {},
     "output_type": "execute_result"
    }
   ],
   "source": [
    "np.unique(crss_data['INTERSECTION_TYPE'])"
   ]
  },
  {
   "cell_type": "code",
   "execution_count": 29,
   "id": "435745a8",
   "metadata": {},
   "outputs": [],
   "source": [
    "# CRASH_LOCATION column:\n",
    "# Values of 98 & 99 unknown,\n",
    "# Values of 5 & 12 are “other” and need to be same \n",
    "\n",
    "crss_data.loc[(crss_data['CRASH_LOCATION'] == 98) \n",
    "              | (crss_data['CRASH_LOCATION'] == 99), 'CRASH_LOCATION'] = np.nan\n",
    "\n",
    "mode_crash_loc = int(crss_data['CRASH_LOCATION'].mode()[0])\n",
    "crss_data['CRASH_LOCATION'].fillna(mode_crash_loc, inplace=True)\n",
    "\n",
    "crash_loc_same_vals = [5, 12]\n",
    "crss_data.loc[crss_data['CRASH_LOCATION'].isin(crash_loc_same_vals), 'CRASH_LOCATION'] = 5\n"
   ]
  },
  {
   "cell_type": "code",
   "execution_count": 30,
   "id": "b872849c",
   "metadata": {},
   "outputs": [
    {
     "data": {
      "text/plain": [
       "1"
      ]
     },
     "execution_count": 30,
     "metadata": {},
     "output_type": "execute_result"
    }
   ],
   "source": [
    "mode_crash_loc"
   ]
  },
  {
   "cell_type": "code",
   "execution_count": 31,
   "id": "2a45632f",
   "metadata": {},
   "outputs": [
    {
     "data": {
      "text/plain": [
       "CRASH_LOCATION\n",
       "1.0     26057\n",
       "4.0       598\n",
       "2.0       494\n",
       "7.0       183\n",
       "5.0        94\n",
       "3.0        46\n",
       "6.0        40\n",
       "11.0       33\n",
       "8.0         7\n",
       "10.0        3\n",
       "Name: count, dtype: int64"
      ]
     },
     "execution_count": 31,
     "metadata": {},
     "output_type": "execute_result"
    }
   ],
   "source": [
    "crss_data['CRASH_LOCATION'].value_counts()"
   ]
  },
  {
   "cell_type": "code",
   "execution_count": 32,
   "id": "146be256",
   "metadata": {},
   "outputs": [
    {
     "data": {
      "text/plain": [
       "array([ 1.,  2.,  3.,  4.,  5.,  6.,  7.,  8., 10., 11.])"
      ]
     },
     "execution_count": 32,
     "metadata": {},
     "output_type": "execute_result"
    }
   ],
   "source": [
    "np.unique(crss_data['CRASH_LOCATION'])"
   ]
  },
  {
   "cell_type": "code",
   "execution_count": 33,
   "id": "f9117770",
   "metadata": {},
   "outputs": [],
   "source": [
    "# LIGHT_CONDITION column:\n",
    "# Values of 6, 7, 8, 9 are unknown\n",
    "\n",
    "crss_data.loc[(crss_data['LIGHT_CONDITION'] == 6) \n",
    "              | (crss_data['LIGHT_CONDITION'] == 7) \n",
    "              | (crss_data['LIGHT_CONDITION'] == 8) \n",
    "              | (crss_data['LIGHT_CONDITION'] == 9), 'LIGHT_CONDITION'] = np.nan\n",
    "\n",
    "mode_lgt_cond = int(crss_data['LIGHT_CONDITION'].mode()[0])\n",
    "crss_data['LIGHT_CONDITION'].fillna(mode_lgt_cond, inplace=True)\n"
   ]
  },
  {
   "cell_type": "code",
   "execution_count": 34,
   "id": "368f820b",
   "metadata": {},
   "outputs": [
    {
     "data": {
      "text/plain": [
       "1"
      ]
     },
     "execution_count": 34,
     "metadata": {},
     "output_type": "execute_result"
    }
   ],
   "source": [
    "mode_lgt_cond"
   ]
  },
  {
   "cell_type": "code",
   "execution_count": 35,
   "id": "7681c224",
   "metadata": {},
   "outputs": [
    {
     "data": {
      "text/plain": [
       "LIGHT_CONDITION\n",
       "1.0    17342\n",
       "3.0     6759\n",
       "2.0     2255\n",
       "5.0      812\n",
       "4.0      387\n",
       "Name: count, dtype: int64"
      ]
     },
     "execution_count": 35,
     "metadata": {},
     "output_type": "execute_result"
    }
   ],
   "source": [
    "crss_data['LIGHT_CONDITION'].value_counts()"
   ]
  },
  {
   "cell_type": "code",
   "execution_count": 36,
   "id": "323360ec",
   "metadata": {},
   "outputs": [
    {
     "data": {
      "text/plain": [
       "array([1., 2., 3., 4., 5.])"
      ]
     },
     "execution_count": 36,
     "metadata": {},
     "output_type": "execute_result"
    }
   ],
   "source": [
    "np.unique(crss_data['LIGHT_CONDITION'])"
   ]
  },
  {
   "cell_type": "code",
   "execution_count": 37,
   "id": "929fccb9",
   "metadata": {},
   "outputs": [],
   "source": [
    "# WEATHER column:\n",
    "# Values of 98, 99 unknown\n",
    "# Values of 6, 8 are other so make same number\n",
    "\n",
    "crss_data.loc[(crss_data['WEATHER'] == 98) \n",
    "              | (crss_data['WEATHER'] == 99), 'WEATHER'] = np.nan\n",
    "\n",
    "mode_wthr = int(crss_data['WEATHER'].mode()[0])\n",
    "crss_data['WEATHER'].fillna(mode_wthr, inplace=True)\n",
    "\n",
    "wthr_same_vals = [6, 8]\n",
    "crss_data.loc[crss_data['WEATHER'].isin(wthr_same_vals), 'WEATHER'] = 6\n"
   ]
  },
  {
   "cell_type": "code",
   "execution_count": 38,
   "id": "eb9a8e6d",
   "metadata": {},
   "outputs": [
    {
     "data": {
      "text/plain": [
       "1"
      ]
     },
     "execution_count": 38,
     "metadata": {},
     "output_type": "execute_result"
    }
   ],
   "source": [
    "mode_wthr"
   ]
  },
  {
   "cell_type": "code",
   "execution_count": 39,
   "id": "bea893fd",
   "metadata": {},
   "outputs": [
    {
     "data": {
      "text/plain": [
       "WEATHER\n",
       "1.0     22410\n",
       "10.0     2902\n",
       "2.0      1973\n",
       "4.0       154\n",
       "5.0        76\n",
       "6.0        17\n",
       "3.0        13\n",
       "12.0        6\n",
       "11.0        4\n",
       "Name: count, dtype: int64"
      ]
     },
     "execution_count": 39,
     "metadata": {},
     "output_type": "execute_result"
    }
   ],
   "source": [
    "crss_data['WEATHER'].value_counts()"
   ]
  },
  {
   "cell_type": "code",
   "execution_count": 40,
   "id": "a5e3637c",
   "metadata": {},
   "outputs": [
    {
     "data": {
      "text/plain": [
       "array([ 1.,  2.,  3.,  4.,  5.,  6., 10., 11., 12.])"
      ]
     },
     "execution_count": 40,
     "metadata": {},
     "output_type": "execute_result"
    }
   ],
   "source": [
    "np.unique(crss_data['WEATHER'])"
   ]
  },
  {
   "cell_type": "code",
   "execution_count": 41,
   "id": "74011d20",
   "metadata": {},
   "outputs": [],
   "source": [
    "# ALCOHOL column:\n",
    "# Value of 9 unknown\n",
    "\n",
    "crss_data.loc[crss_data['ALCOHOL'] == 9, 'ALCOHOL'] = np.nan\n",
    "mode_alc = int(crss_data['ALCOHOL'].mode()[0])   \n",
    "crss_data['ALCOHOL'].fillna(mode_alc, inplace=True)\n"
   ]
  },
  {
   "cell_type": "code",
   "execution_count": 42,
   "id": "3a567789",
   "metadata": {},
   "outputs": [
    {
     "data": {
      "text/plain": [
       "0"
      ]
     },
     "execution_count": 42,
     "metadata": {},
     "output_type": "execute_result"
    }
   ],
   "source": [
    "mode_alc"
   ]
  },
  {
   "cell_type": "code",
   "execution_count": 43,
   "id": "3bf6cd43",
   "metadata": {},
   "outputs": [
    {
     "data": {
      "text/plain": [
       "ALCOHOL\n",
       "0.0    26057\n",
       "1.0     1498\n",
       "Name: count, dtype: int64"
      ]
     },
     "execution_count": 43,
     "metadata": {},
     "output_type": "execute_result"
    }
   ],
   "source": [
    "crss_data['ALCOHOL'].value_counts()"
   ]
  },
  {
   "cell_type": "code",
   "execution_count": 44,
   "id": "9cbae5a8",
   "metadata": {},
   "outputs": [
    {
     "data": {
      "text/plain": [
       "array([0., 1.])"
      ]
     },
     "execution_count": 44,
     "metadata": {},
     "output_type": "execute_result"
    }
   ],
   "source": [
    "np.unique(crss_data['ALCOHOL'])"
   ]
  },
  {
   "cell_type": "code",
   "execution_count": 45,
   "id": "79c31c42",
   "metadata": {},
   "outputs": [],
   "source": [
    "# SPEEDING column:\n",
    "# Value of 9 unknown\n",
    "\n",
    "crss_data.loc[crss_data['SPEEDING'] == 9, 'SPEEDING'] = np.nan\n",
    "mode_spd = int(crss_data['SPEEDING'].mode()[0])   \n",
    "crss_data['SPEEDING'].fillna(mode_spd, inplace=True)"
   ]
  },
  {
   "cell_type": "code",
   "execution_count": 46,
   "id": "01d2b10e",
   "metadata": {},
   "outputs": [
    {
     "data": {
      "text/plain": [
       "0"
      ]
     },
     "execution_count": 46,
     "metadata": {},
     "output_type": "execute_result"
    }
   ],
   "source": [
    "mode_spd"
   ]
  },
  {
   "cell_type": "code",
   "execution_count": 47,
   "id": "998982b8",
   "metadata": {},
   "outputs": [
    {
     "data": {
      "text/plain": [
       "SPEEDING\n",
       "0.0    26888\n",
       "1.0      667\n",
       "Name: count, dtype: int64"
      ]
     },
     "execution_count": 47,
     "metadata": {},
     "output_type": "execute_result"
    }
   ],
   "source": [
    "crss_data['SPEEDING'].value_counts()"
   ]
  },
  {
   "cell_type": "code",
   "execution_count": 48,
   "id": "74fbe6e7",
   "metadata": {},
   "outputs": [
    {
     "data": {
      "text/plain": [
       "array([0., 1.])"
      ]
     },
     "execution_count": 48,
     "metadata": {},
     "output_type": "execute_result"
    }
   ],
   "source": [
    "np.unique(crss_data['SPEEDING'])"
   ]
  },
  {
   "cell_type": "code",
   "execution_count": 49,
   "id": "101d5388",
   "metadata": {},
   "outputs": [],
   "source": [
    "# TRAFFICWAY column:\n",
    "# Value of 9 unknown\n",
    "\n",
    "crss_data.loc[crss_data['TRAFFICWAY'] == 9, 'TRAFFICWAY'] = np.nan\n",
    "mode_tfc_wy = int(crss_data['TRAFFICWAY'].mode()[0])   \n",
    "crss_data['TRAFFICWAY'].fillna(mode_tfc_wy, inplace=True)"
   ]
  },
  {
   "cell_type": "code",
   "execution_count": 50,
   "id": "d5f012a8",
   "metadata": {},
   "outputs": [
    {
     "data": {
      "text/plain": [
       "1"
      ]
     },
     "execution_count": 50,
     "metadata": {},
     "output_type": "execute_result"
    }
   ],
   "source": [
    "mode_tfc_wy"
   ]
  },
  {
   "cell_type": "code",
   "execution_count": 51,
   "id": "9cfc6d20",
   "metadata": {},
   "outputs": [
    {
     "data": {
      "text/plain": [
       "TRAFFICWAY\n",
       "1.0    20230\n",
       "2.0     4512\n",
       "0.0     1702\n",
       "3.0      893\n",
       "4.0      218\n",
       "Name: count, dtype: int64"
      ]
     },
     "execution_count": 51,
     "metadata": {},
     "output_type": "execute_result"
    }
   ],
   "source": [
    "crss_data['TRAFFICWAY'].value_counts()"
   ]
  },
  {
   "cell_type": "code",
   "execution_count": 52,
   "id": "eb1192cc",
   "metadata": {},
   "outputs": [
    {
     "data": {
      "text/plain": [
       "array([0., 1., 2., 3., 4.])"
      ]
     },
     "execution_count": 52,
     "metadata": {},
     "output_type": "execute_result"
    }
   ],
   "source": [
    "np.unique(crss_data['TRAFFICWAY'])"
   ]
  },
  {
   "cell_type": "code",
   "execution_count": 53,
   "id": "63a64e23",
   "metadata": {
    "scrolled": true
   },
   "outputs": [
    {
     "data": {
      "text/html": [
       "<div>\n",
       "<style scoped>\n",
       "    .dataframe tbody tr th:only-of-type {\n",
       "        vertical-align: middle;\n",
       "    }\n",
       "\n",
       "    .dataframe tbody tr th {\n",
       "        vertical-align: top;\n",
       "    }\n",
       "\n",
       "    .dataframe thead th {\n",
       "        text-align: right;\n",
       "    }\n",
       "</style>\n",
       "<table border=\"1\" class=\"dataframe\">\n",
       "  <thead>\n",
       "    <tr style=\"text-align: right;\">\n",
       "      <th></th>\n",
       "      <th>PED_SAFETY</th>\n",
       "      <th>PED_SAFETY_IND</th>\n",
       "      <th>SAFETYEQ</th>\n",
       "      <th>DISTRACTED</th>\n",
       "      <th>CROSSING</th>\n",
       "      <th>REGION</th>\n",
       "      <th>REGION_NM</th>\n",
       "      <th>URBAN_CITY</th>\n",
       "      <th>URBAN_CITY_NM</th>\n",
       "      <th>ALL_VHICLES_IN_CRASH</th>\n",
       "      <th>...</th>\n",
       "      <th>ALCOHOL</th>\n",
       "      <th>SPEEDING</th>\n",
       "      <th>TRAFFICWAY</th>\n",
       "      <th>TRAFFICWAY_NM</th>\n",
       "      <th>NUMBER_OF_LANES</th>\n",
       "      <th>SPEED_LIMIT</th>\n",
       "      <th>ROADWAY_ALIGNMENT</th>\n",
       "      <th>ROADWAY_ALIGNMENT_NM</th>\n",
       "      <th>TRAFFIC_CONTROL_DEVICE</th>\n",
       "      <th>TRAFFIC_CONTROL_DEVICE_NM</th>\n",
       "    </tr>\n",
       "  </thead>\n",
       "  <tbody>\n",
       "    <tr>\n",
       "      <th>0</th>\n",
       "      <td>0</td>\n",
       "      <td>MINOR_NO_INJURY</td>\n",
       "      <td>0</td>\n",
       "      <td>0</td>\n",
       "      <td>1</td>\n",
       "      <td>2</td>\n",
       "      <td>Midwest</td>\n",
       "      <td>1</td>\n",
       "      <td>URBAN</td>\n",
       "      <td>1</td>\n",
       "      <td>...</td>\n",
       "      <td>0.0</td>\n",
       "      <td>0.0</td>\n",
       "      <td>0.0</td>\n",
       "      <td>Non-Trafficway</td>\n",
       "      <td>0.0</td>\n",
       "      <td>0.0</td>\n",
       "      <td>0.0</td>\n",
       "      <td>Non-Trafficway</td>\n",
       "      <td>0.0</td>\n",
       "      <td>No signal</td>\n",
       "    </tr>\n",
       "    <tr>\n",
       "      <th>1</th>\n",
       "      <td>1</td>\n",
       "      <td>SERIOUS_INJURY</td>\n",
       "      <td>0</td>\n",
       "      <td>1</td>\n",
       "      <td>0</td>\n",
       "      <td>3</td>\n",
       "      <td>South</td>\n",
       "      <td>1</td>\n",
       "      <td>URBAN</td>\n",
       "      <td>1</td>\n",
       "      <td>...</td>\n",
       "      <td>0.0</td>\n",
       "      <td>0.0</td>\n",
       "      <td>1.0</td>\n",
       "      <td>Two-Way Not Divided</td>\n",
       "      <td>2.0</td>\n",
       "      <td>45.0</td>\n",
       "      <td>1.0</td>\n",
       "      <td>Straight</td>\n",
       "      <td>0.0</td>\n",
       "      <td>No signal</td>\n",
       "    </tr>\n",
       "    <tr>\n",
       "      <th>2</th>\n",
       "      <td>0</td>\n",
       "      <td>MINOR_NO_INJURY</td>\n",
       "      <td>0</td>\n",
       "      <td>1</td>\n",
       "      <td>1</td>\n",
       "      <td>3</td>\n",
       "      <td>South</td>\n",
       "      <td>0</td>\n",
       "      <td>RURAL</td>\n",
       "      <td>1</td>\n",
       "      <td>...</td>\n",
       "      <td>0.0</td>\n",
       "      <td>0.0</td>\n",
       "      <td>1.0</td>\n",
       "      <td>Two-Way Not Divided</td>\n",
       "      <td>3.0</td>\n",
       "      <td>45.0</td>\n",
       "      <td>1.0</td>\n",
       "      <td>Straight</td>\n",
       "      <td>0.0</td>\n",
       "      <td>No signal</td>\n",
       "    </tr>\n",
       "    <tr>\n",
       "      <th>3</th>\n",
       "      <td>0</td>\n",
       "      <td>MINOR_NO_INJURY</td>\n",
       "      <td>0</td>\n",
       "      <td>0</td>\n",
       "      <td>1</td>\n",
       "      <td>2</td>\n",
       "      <td>Midwest</td>\n",
       "      <td>0</td>\n",
       "      <td>RURAL</td>\n",
       "      <td>1</td>\n",
       "      <td>...</td>\n",
       "      <td>0.0</td>\n",
       "      <td>0.0</td>\n",
       "      <td>1.0</td>\n",
       "      <td>Two-Way Not Divided</td>\n",
       "      <td>2.0</td>\n",
       "      <td>35.0</td>\n",
       "      <td>1.0</td>\n",
       "      <td>Straight</td>\n",
       "      <td>1.0</td>\n",
       "      <td>Traffic Signal</td>\n",
       "    </tr>\n",
       "    <tr>\n",
       "      <th>4</th>\n",
       "      <td>0</td>\n",
       "      <td>MINOR_NO_INJURY</td>\n",
       "      <td>0</td>\n",
       "      <td>0</td>\n",
       "      <td>1</td>\n",
       "      <td>3</td>\n",
       "      <td>South</td>\n",
       "      <td>1</td>\n",
       "      <td>URBAN</td>\n",
       "      <td>1</td>\n",
       "      <td>...</td>\n",
       "      <td>0.0</td>\n",
       "      <td>0.0</td>\n",
       "      <td>1.0</td>\n",
       "      <td>Two-Way Not Divided</td>\n",
       "      <td>2.0</td>\n",
       "      <td>25.0</td>\n",
       "      <td>1.0</td>\n",
       "      <td>Straight</td>\n",
       "      <td>0.0</td>\n",
       "      <td>No signal</td>\n",
       "    </tr>\n",
       "  </tbody>\n",
       "</table>\n",
       "<p>5 rows × 42 columns</p>\n",
       "</div>"
      ],
      "text/plain": [
       "   PED_SAFETY   PED_SAFETY_IND  SAFETYEQ  DISTRACTED  CROSSING  REGION  \\\n",
       "0           0  MINOR_NO_INJURY         0           0         1       2   \n",
       "1           1   SERIOUS_INJURY         0           1         0       3   \n",
       "2           0  MINOR_NO_INJURY         0           1         1       3   \n",
       "3           0  MINOR_NO_INJURY         0           0         1       2   \n",
       "4           0  MINOR_NO_INJURY         0           0         1       3   \n",
       "\n",
       "  REGION_NM  URBAN_CITY URBAN_CITY_NM  ALL_VHICLES_IN_CRASH  ...  ALCOHOL  \\\n",
       "0   Midwest           1         URBAN                     1  ...      0.0   \n",
       "1     South           1         URBAN                     1  ...      0.0   \n",
       "2     South           0         RURAL                     1  ...      0.0   \n",
       "3   Midwest           0         RURAL                     1  ...      0.0   \n",
       "4     South           1         URBAN                     1  ...      0.0   \n",
       "\n",
       "   SPEEDING  TRAFFICWAY        TRAFFICWAY_NM  NUMBER_OF_LANES  SPEED_LIMIT  \\\n",
       "0       0.0         0.0       Non-Trafficway              0.0          0.0   \n",
       "1       0.0         1.0  Two-Way Not Divided              2.0         45.0   \n",
       "2       0.0         1.0  Two-Way Not Divided              3.0         45.0   \n",
       "3       0.0         1.0  Two-Way Not Divided              2.0         35.0   \n",
       "4       0.0         1.0  Two-Way Not Divided              2.0         25.0   \n",
       "\n",
       "  ROADWAY_ALIGNMENT  ROADWAY_ALIGNMENT_NM TRAFFIC_CONTROL_DEVICE  \\\n",
       "0               0.0        Non-Trafficway                    0.0   \n",
       "1               1.0              Straight                    0.0   \n",
       "2               1.0              Straight                    0.0   \n",
       "3               1.0              Straight                    1.0   \n",
       "4               1.0              Straight                    0.0   \n",
       "\n",
       "   TRAFFIC_CONTROL_DEVICE_NM  \n",
       "0                  No signal  \n",
       "1                  No signal  \n",
       "2                  No signal  \n",
       "3             Traffic Signal  \n",
       "4                  No signal  \n",
       "\n",
       "[5 rows x 42 columns]"
      ]
     },
     "execution_count": 53,
     "metadata": {},
     "output_type": "execute_result"
    }
   ],
   "source": [
    "# Dropping unnecessry columns:\n",
    "\n",
    "crss_data.drop(columns=['Unnamed: 0', 'CASENUM', 'MAX_SEVERITY',\n",
    "                       'MAX_SEVERITY_NM', 'PEDESTRIAN_CYCLIST',\n",
    "                       'HARMFUL_EVENT'], inplace=True)\n",
    "crss_data.head()"
   ]
  },
  {
   "cell_type": "code",
   "execution_count": 54,
   "id": "4367457f",
   "metadata": {},
   "outputs": [],
   "source": [
    "# Identifying column types:\n",
    "int_columns = crss_data.select_dtypes(include=['int64']).columns.tolist()\n",
    "float_columns = crss_data.select_dtypes(include=['float64']).columns.tolist()\n",
    "bool_columns = crss_data.select_dtypes(include=['bool']).columns.tolist()\n",
    "str_columns = crss_data.select_dtypes(include=['object']).columns.tolist()"
   ]
  },
  {
   "cell_type": "code",
   "execution_count": 55,
   "id": "92b729d8",
   "metadata": {
    "scrolled": true
   },
   "outputs": [
    {
     "data": {
      "text/plain": [
       "PED_SAFETY                  int64\n",
       "SAFETYEQ                    int64\n",
       "DISTRACTED                  int64\n",
       "CROSSING                    int64\n",
       "REGION                      int64\n",
       "URBAN_CITY                  int64\n",
       "ALL_VHICLES_IN_CRASH        int64\n",
       "PARKED_VEHICLES             int64\n",
       "PERSON_IN_VEHICLE           int64\n",
       "YEAR                        int64\n",
       "MONTH                       int64\n",
       "DAY_WEEK                    int64\n",
       "WEEKEND                     int64\n",
       "COLLUSION                   int64\n",
       "JUNCTION                  float64\n",
       "INTERSECTION_TYPE         float64\n",
       "CRASH_LOCATION            float64\n",
       "WORK_ZONE                   int64\n",
       "LIGHT_CONDITION           float64\n",
       "WEATHER                   float64\n",
       "SCHOOL_BUS                  int64\n",
       "INTERSTATE_HWY              int64\n",
       "ALCOHOL                   float64\n",
       "SPEEDING                  float64\n",
       "TRAFFICWAY                float64\n",
       "NUMBER_OF_LANES           float64\n",
       "SPEED_LIMIT               float64\n",
       "ROADWAY_ALIGNMENT         float64\n",
       "TRAFFIC_CONTROL_DEVICE    float64\n",
       "dtype: object"
      ]
     },
     "execution_count": 55,
     "metadata": {},
     "output_type": "execute_result"
    }
   ],
   "source": [
    "selected_columns = crss_data.select_dtypes(include=['int64', 'bool', 'float64']).columns.tolist()\n",
    "quant_crss_data = crss_data.loc[:, selected_columns]\n",
    "quant_crss_data.dtypes"
   ]
  },
  {
   "cell_type": "markdown",
   "id": "7b34f22a",
   "metadata": {},
   "source": [
    "# Visualizations for the Report:"
   ]
  },
  {
   "cell_type": "code",
   "execution_count": 56,
   "id": "a00f8f9e",
   "metadata": {},
   "outputs": [
    {
     "name": "stdout",
     "output_type": "stream",
     "text": [
      "0: 14265\n",
      "1: 13290\n"
     ]
    }
   ],
   "source": [
    "# Retrieve counts of unique values\n",
    "unique_values, counts = np.unique(crss_data['DISTRACTED'], return_counts=True)\n",
    "\n",
    "for value, count in zip(unique_values, counts):\n",
    "    print(f\"{value}: {count}\")\n"
   ]
  },
  {
   "cell_type": "code",
   "execution_count": 57,
   "id": "ca8e390b",
   "metadata": {},
   "outputs": [
    {
     "data": {
      "image/png": "[encoded data removed]",
      "text/plain": [
       "<Figure size 800x500 with 1 Axes>"
      ]
     },
     "metadata": {},
     "output_type": "display_data"
    }
   ],
   "source": [
    "plt.figure(figsize=(8, 5))\n",
    "ax = sns.countplot(data=crss_data, x='CROSSING', order=[0, 1], palette='Set2')  \n",
    "plt.title('CRSS Data Accidents Involving Crossing the Road')\n",
    "plt.xlabel('CROSSING')\n",
    "plt.ylabel('Count')\n",
    "\n",
    "plt.xticks([0, 1], ['No', 'Yes'])\n",
    "\n",
    "plt.show()\n"
   ]
  },
  {
   "cell_type": "code",
   "execution_count": 58,
   "id": "81b96a73",
   "metadata": {},
   "outputs": [
    {
     "data": {
      "image/png": "[encoded data removed]",
      "text/plain": [
       "<Figure size 800x500 with 1 Axes>"
      ]
     },
     "metadata": {},
     "output_type": "display_data"
    }
   ],
   "source": [
    "plt.figure(figsize=(8, 5))\n",
    "ax = sns.countplot(data=crss_data, x='WEEKEND', order=[0, 1], palette='Set2')  \n",
    "plt.title('CRSS Data Accidents on Weekends vs. Weekdays')\n",
    "plt.xlabel('WEEKEND')\n",
    "plt.ylabel('Count')\n",
    "\n",
    "plt.xticks([0, 1], ['No', 'Yes'])\n",
    "\n",
    "plt.show()\n"
   ]
  },
  {
   "cell_type": "code",
   "execution_count": 59,
   "id": "9ac81088",
   "metadata": {},
   "outputs": [
    {
     "name": "stdout",
     "output_type": "stream",
     "text": [
      "0.0: 1702\n",
      "1.0: 433\n",
      "2.0: 19153\n",
      "3.0: 2332\n",
      "4.0: 1892\n",
      "5.0: 1463\n",
      "6.0: 399\n",
      "7.0: 181\n"
     ]
    }
   ],
   "source": [
    "# Get unique values and their counts\n",
    "unique_values, counts = np.unique(crss_data['NUMBER_OF_LANES'], return_counts=True)\n",
    "\n",
    "# Print frequency distribution\n",
    "for value, count in zip(unique_values, counts):\n",
    "    print(f\"{value}: {count}\")\n"
   ]
  },
  {
   "cell_type": "code",
   "execution_count": 60,
   "id": "8d1d781c",
   "metadata": {},
   "outputs": [
    {
     "data": {
      "image/png": "[encoded data removed]",
      "text/plain": [
       "<Figure size 800x500 with 1 Axes>"
      ]
     },
     "metadata": {},
     "output_type": "display_data"
    }
   ],
   "source": [
    "# Custom color palette\n",
    "custom_palette = sns.color_palette(\"hsv\", 10) \n",
    "\n",
    "plt.figure(figsize=(8, 5))\n",
    "ax = sns.countplot(data=crss_data, x='NUMBER_OF_LANES', order=range(8), palette=custom_palette) \n",
    "plt.title('Number of Lanes in CRSS Data Accidents')\n",
    "plt.xlabel('NUMBER_OF_LANES')\n",
    "plt.ylabel('Count')\n",
    "\n",
    "plt.show()\n",
    "\n"
   ]
  },
  {
   "cell_type": "code",
   "execution_count": 61,
   "id": "b587f4d6",
   "metadata": {},
   "outputs": [
    {
     "name": "stdout",
     "output_type": "stream",
     "text": [
      "1: 26986\n",
      "2: 481\n",
      "3: 67\n",
      "4: 13\n",
      "5: 4\n",
      "6: 2\n",
      "7: 1\n",
      "9: 1\n"
     ]
    }
   ],
   "source": [
    "# Get unique values and their counts\n",
    "unique_values, counts = np.unique(crss_data['ALL_VHICLES_IN_CRASH'], return_counts=True)\n",
    "\n",
    "# Print frequency distribution\n",
    "for value, count in zip(unique_values, counts):\n",
    "    print(f\"{value}: {count}\")\n"
   ]
  },
  {
   "cell_type": "code",
   "execution_count": 62,
   "id": "49f7974f",
   "metadata": {},
   "outputs": [
    {
     "name": "stdout",
     "output_type": "stream",
     "text": [
      "0: 27260\n",
      "1: 249\n",
      "2: 33\n",
      "3: 8\n",
      "4: 3\n",
      "6: 1\n",
      "8: 1\n"
     ]
    }
   ],
   "source": [
    "# Get unique values and their counts\n",
    "unique_values, counts = np.unique(crss_data['PARKED_VEHICLES'], return_counts=True)\n",
    "\n",
    "# Print frequency distribution\n",
    "for value, count in zip(unique_values, counts):\n",
    "    print(f\"{value}: {count}\")\n"
   ]
  },
  {
   "cell_type": "code",
   "execution_count": 63,
   "id": "91666f15",
   "metadata": {},
   "outputs": [
    {
     "name": "stdout",
     "output_type": "stream",
     "text": [
      "0: 102\n",
      "1: 23135\n",
      "2: 3087\n",
      "3: 785\n",
      "4: 290\n",
      "5: 103\n",
      "6: 34\n",
      "7: 10\n",
      "8: 4\n",
      "9: 2\n",
      "10: 1\n",
      "13: 1\n",
      "15: 1\n"
     ]
    }
   ],
   "source": [
    "# Get unique values and their counts\n",
    "unique_values, counts = np.unique(crss_data['PERSON_IN_VEHICLE'], return_counts=True)\n",
    "\n",
    "# Print frequency distribution\n",
    "for value, count in zip(unique_values, counts):\n",
    "    print(f\"{value}: {count}\")\n"
   ]
  },
  {
   "cell_type": "code",
   "execution_count": 64,
   "id": "424e7c59",
   "metadata": {},
   "outputs": [
    {
     "name": "stdout",
     "output_type": "stream",
     "text": [
      "2017: 4727\n",
      "2018: 3765\n",
      "2019: 4667\n",
      "2020: 4791\n",
      "2021: 4704\n",
      "2022: 4901\n"
     ]
    }
   ],
   "source": [
    "# Get unique values and their counts\n",
    "unique_values, counts = np.unique(crss_data['YEAR'], return_counts=True)\n",
    "\n",
    "# Print frequency distribution\n",
    "for value, count in zip(unique_values, counts):\n",
    "    print(f\"{value}: {count}\")\n"
   ]
  },
  {
   "cell_type": "code",
   "execution_count": 65,
   "id": "c7f7b402",
   "metadata": {},
   "outputs": [
    {
     "data": {
      "image/png": "[encoded data removed]",
      "text/plain": [
       "<Figure size 800x500 with 1 Axes>"
      ]
     },
     "metadata": {},
     "output_type": "display_data"
    }
   ],
   "source": [
    "custom_palette = sns.color_palette(\"hsv\", 12)\n",
    "\n",
    "plt.figure(figsize=(8, 5))\n",
    "ax = sns.countplot(data=crss_data, x='MONTH', order=range(1, 13), palette=custom_palette) \n",
    "plt.title('CRSS Accidents by Month')\n",
    "plt.xlabel('MONTH')\n",
    "plt.ylabel('Count')\n",
    "\n",
    "plt.xticks([0, 1, 2, 3, 4, 5, 6, 7, 8, 9, 10, 11], \n",
    "           ['Jan.', 'Feb.', 'Mar.', 'Apr.', 'May', 'June', \n",
    "            'July', 'Aug.', 'Sept.', 'Oct.', 'Nov.', 'Dec.'])\n",
    "plt.show()\n",
    "\n"
   ]
  },
  {
   "cell_type": "code",
   "execution_count": 66,
   "id": "1eaac9c5",
   "metadata": {},
   "outputs": [
    {
     "data": {
      "image/png": "[encoded data removed]",
      "text/plain": [
       "<Figure size 800x500 with 1 Axes>"
      ]
     },
     "metadata": {},
     "output_type": "display_data"
    }
   ],
   "source": [
    "# Define a custom color palette with a unique color for each day of the week\n",
    "custom_palette = sns.color_palette(\"hsv\", 7)\n",
    "\n",
    "plt.figure(figsize=(8, 5))\n",
    "ax = sns.countplot(data=crss_data, x='DAY_WEEK', order=[1, 2, 3, 4, 5, 6, 7], palette=custom_palette) \n",
    "plt.title('Distribution of CRSS Accidents by Day of the Week')\n",
    "plt.xlabel('DAY_WEEK')\n",
    "plt.ylabel('Count')\n",
    "\n",
    "# Set custom labels for x-axis ticks\n",
    "plt.xticks([0, 1, 2, 3, 4, 5, 6], ['Sunday', 'Monday', 'Tuesday', 'Wednesday', 'Thursday', 'Friday', 'Saturday'])\n",
    "\n",
    "plt.show()\n",
    "\n"
   ]
  },
  {
   "cell_type": "code",
   "execution_count": 67,
   "id": "85bdb506",
   "metadata": {},
   "outputs": [
    {
     "data": {
      "image/png": "[encoded data removed]",
      "text/plain": [
       "<Figure size 800x500 with 1 Axes>"
      ]
     },
     "metadata": {},
     "output_type": "display_data"
    }
   ],
   "source": [
    "# Define the numeric to category mapping\n",
    "region_mapping = {1: 'Northeast', 2: 'Midwest', 3: 'South', 4: 'West'}\n",
    "\n",
    "# Mapping\n",
    "crss_data['REGION'] = crss_data['REGION'].map(region_mapping)\n",
    "\n",
    "plt.figure(figsize=(8, 5))\n",
    "region_counts = crss_data['REGION'].value_counts()\n",
    "region_counts.plot(kind='pie', autopct='%1.1f%%')\n",
    "plt.title('Regions of CRSS Data Accidents')\n",
    "plt.ylabel('')\n",
    "plt.show()\n"
   ]
  },
  {
   "cell_type": "code",
   "execution_count": 68,
   "id": "7acd5080",
   "metadata": {},
   "outputs": [
    {
     "data": {
      "image/png": "[encoded data removed]",
      "text/plain": [
       "<Figure size 800x500 with 1 Axes>"
      ]
     },
     "metadata": {},
     "output_type": "display_data"
    }
   ],
   "source": [
    "# Define the numeric to category mapping\n",
    "URBAN_CITY_mapping = {0: 'Rural', 1: 'Urban'}\n",
    "\n",
    "# Mapping\n",
    "crss_data['URBAN_CITY'] = crss_data['URBAN_CITY'].map(URBAN_CITY_mapping)\n",
    "\n",
    "custom_colors = ['#ff9999', '#66b3ff']\n",
    "\n",
    "plt.figure(figsize=(8, 5))\n",
    "URBAN_CITY_counts = crss_data['URBAN_CITY'].value_counts()\n",
    "URBAN_CITY_counts.plot(kind='pie', autopct='%1.1f%%', colors=custom_colors)\n",
    "plt.title('Urban vs. Rural Settings of CRSS Data Accidents')\n",
    "plt.ylabel('')\n",
    "plt.show()\n"
   ]
  },
  {
   "cell_type": "code",
   "execution_count": 69,
   "id": "ae827674",
   "metadata": {},
   "outputs": [
    {
     "data": {
      "image/png": "[encoded data removed]",
      "text/plain": [
       "<Figure size 1000x800 with 2 Axes>"
      ]
     },
     "metadata": {},
     "output_type": "display_data"
    }
   ],
   "source": [
    "plt.figure(figsize=(10, 8))\n",
    "sns.heatmap(quant_crss_data.corr(), annot=False, cmap='coolwarm')\n",
    "\n",
    "plt.title('Correlation Heatmap for CRSS Data Variables')\n",
    "plt.show()\n",
    "\n"
   ]
  },
  {
   "cell_type": "code",
   "execution_count": 70,
   "id": "3821199c",
   "metadata": {},
   "outputs": [
    {
     "data": {
      "image/png": "[encoded data removed]",
      "text/plain": [
       "<Figure size 800x500 with 1 Axes>"
      ]
     },
     "metadata": {},
     "output_type": "display_data"
    }
   ],
   "source": [
    "plt.figure(figsize=(8, 5))\n",
    "sns.boxplot(x='PED_SAFETY', y='SPEED_LIMIT', data=crss_data)\n",
    "plt.title('Box Plot of Speed Limit vs. Pedestrian Safety Index for CRSS Data Accidents')\n",
    "plt.xlabel('Pedestrian Safety Index')\n",
    "plt.ylabel('Speed Limit')\n",
    "plt.show()\n"
   ]
  },
  {
   "cell_type": "markdown",
   "id": "eedbb2c3",
   "metadata": {},
   "source": [
    "# Train-Test Split for All Models:"
   ]
  },
  {
   "cell_type": "code",
   "execution_count": 71,
   "id": "207a2ef2",
   "metadata": {},
   "outputs": [],
   "source": [
    "X = quant_crss_data.loc[:, ~(quant_crss_data.columns.isin(['PED_SAFETY']))]\n",
    "\n",
    "# X = quant_crss_data.loc[:, ~(quant_crss_data.columns.isin(['PED_SAFETY', 'PEDESTRIAN_CYCLIST', \n",
    "#                                                                        'HARMFUL_EVENT']))]\n",
    "\n",
    "y = quant_crss_data.loc[:,'PED_SAFETY']\n",
    "\n",
    "X_train, X_test, y_train, y_test = train_test_split(X, y, test_size = 0.25)"
   ]
  },
  {
   "cell_type": "code",
   "execution_count": 72,
   "id": "4a3b1e36",
   "metadata": {},
   "outputs": [
    {
     "data": {
      "text/plain": [
       "((27555, 28), pandas.core.frame.DataFrame)"
      ]
     },
     "execution_count": 72,
     "metadata": {},
     "output_type": "execute_result"
    }
   ],
   "source": [
    "X.shape, type(X)"
   ]
  },
  {
   "cell_type": "code",
   "execution_count": 73,
   "id": "73ac71d6",
   "metadata": {},
   "outputs": [
    {
     "data": {
      "text/plain": [
       "((27555,), pandas.core.series.Series)"
      ]
     },
     "execution_count": 73,
     "metadata": {},
     "output_type": "execute_result"
    }
   ],
   "source": [
    "y.shape, type(y)"
   ]
  },
  {
   "cell_type": "code",
   "execution_count": 74,
   "id": "7fdc07c4",
   "metadata": {},
   "outputs": [
    {
     "data": {
      "text/plain": [
       "((20666, 28), pandas.core.frame.DataFrame)"
      ]
     },
     "execution_count": 74,
     "metadata": {},
     "output_type": "execute_result"
    }
   ],
   "source": [
    "X_train.shape, type(X_train)"
   ]
  },
  {
   "cell_type": "code",
   "execution_count": 75,
   "id": "f389bd9a",
   "metadata": {},
   "outputs": [
    {
     "data": {
      "text/plain": [
       "((6889, 28), pandas.core.frame.DataFrame)"
      ]
     },
     "execution_count": 75,
     "metadata": {},
     "output_type": "execute_result"
    }
   ],
   "source": [
    "X_test.shape, type(X_test)"
   ]
  },
  {
   "cell_type": "code",
   "execution_count": 76,
   "id": "3eeca5a1",
   "metadata": {},
   "outputs": [
    {
     "data": {
      "text/plain": [
       "((20666,), pandas.core.series.Series)"
      ]
     },
     "execution_count": 76,
     "metadata": {},
     "output_type": "execute_result"
    }
   ],
   "source": [
    "y_train.shape, type(y_train)"
   ]
  },
  {
   "cell_type": "code",
   "execution_count": 77,
   "id": "bd476ea7",
   "metadata": {},
   "outputs": [
    {
     "data": {
      "text/plain": [
       "array([0, 1, 2])"
      ]
     },
     "execution_count": 77,
     "metadata": {},
     "output_type": "execute_result"
    }
   ],
   "source": [
    "np.unique(y_train)"
   ]
  },
  {
   "cell_type": "code",
   "execution_count": 78,
   "id": "31b437e5",
   "metadata": {},
   "outputs": [
    {
     "data": {
      "text/plain": [
       "((6889,), pandas.core.series.Series)"
      ]
     },
     "execution_count": 78,
     "metadata": {},
     "output_type": "execute_result"
    }
   ],
   "source": [
    "y_test.shape, type(y_test)"
   ]
  },
  {
   "cell_type": "markdown",
   "id": "2b168a43",
   "metadata": {},
   "source": [
    "# Scaling the Quantitative Columns Only:"
   ]
  },
  {
   "cell_type": "code",
   "execution_count": 79,
   "id": "42fe6232",
   "metadata": {
    "scrolled": true
   },
   "outputs": [],
   "source": [
    "# Initialize the scaler object\n",
    "scaler = StandardScaler()\n",
    "\n",
    "# Fit the scaler on the training data\n",
    "scaler.fit(X_train)\n",
    "\n",
    "# Scale both the training and the testing data \n",
    "X_train_scaled = scaler.transform(X_train)\n",
    "X_test_scaled = scaler.transform(X_test)\n",
    "\n",
    "# Convert scaled numpy arrays to dfs\n",
    "X_train_scaled_df = pd.DataFrame(X_train_scaled, columns=X_train.columns)\n",
    "X_test_scaled_df = pd.DataFrame(X_test_scaled, columns=X_test.columns)"
   ]
  },
  {
   "cell_type": "code",
   "execution_count": 80,
   "id": "8eb49a6d",
   "metadata": {},
   "outputs": [
    {
     "data": {
      "text/html": [
       "<div>\n",
       "<style scoped>\n",
       "    .dataframe tbody tr th:only-of-type {\n",
       "        vertical-align: middle;\n",
       "    }\n",
       "\n",
       "    .dataframe tbody tr th {\n",
       "        vertical-align: top;\n",
       "    }\n",
       "\n",
       "    .dataframe thead th {\n",
       "        text-align: right;\n",
       "    }\n",
       "</style>\n",
       "<table border=\"1\" class=\"dataframe\">\n",
       "  <thead>\n",
       "    <tr style=\"text-align: right;\">\n",
       "      <th></th>\n",
       "      <th>SAFETYEQ</th>\n",
       "      <th>DISTRACTED</th>\n",
       "      <th>CROSSING</th>\n",
       "      <th>REGION</th>\n",
       "      <th>URBAN_CITY</th>\n",
       "      <th>ALL_VHICLES_IN_CRASH</th>\n",
       "      <th>PARKED_VEHICLES</th>\n",
       "      <th>PERSON_IN_VEHICLE</th>\n",
       "      <th>YEAR</th>\n",
       "      <th>MONTH</th>\n",
       "      <th>...</th>\n",
       "      <th>WEATHER</th>\n",
       "      <th>SCHOOL_BUS</th>\n",
       "      <th>INTERSTATE_HWY</th>\n",
       "      <th>ALCOHOL</th>\n",
       "      <th>SPEEDING</th>\n",
       "      <th>TRAFFICWAY</th>\n",
       "      <th>NUMBER_OF_LANES</th>\n",
       "      <th>SPEED_LIMIT</th>\n",
       "      <th>ROADWAY_ALIGNMENT</th>\n",
       "      <th>TRAFFIC_CONTROL_DEVICE</th>\n",
       "    </tr>\n",
       "  </thead>\n",
       "  <tbody>\n",
       "    <tr>\n",
       "      <th>0</th>\n",
       "      <td>-0.314119</td>\n",
       "      <td>1.041709</td>\n",
       "      <td>-1.540971</td>\n",
       "      <td>0.322185</td>\n",
       "      <td>0.383193</td>\n",
       "      <td>-0.127543</td>\n",
       "      <td>-0.088689</td>\n",
       "      <td>-0.347976</td>\n",
       "      <td>0.246862</td>\n",
       "      <td>-1.187418</td>\n",
       "      <td>...</td>\n",
       "      <td>-0.381858</td>\n",
       "      <td>-0.066504</td>\n",
       "      <td>-0.116345</td>\n",
       "      <td>-0.240841</td>\n",
       "      <td>-0.157784</td>\n",
       "      <td>1.292633</td>\n",
       "      <td>0.568570</td>\n",
       "      <td>-1.370774</td>\n",
       "      <td>0.1024</td>\n",
       "      <td>0.568523</td>\n",
       "    </tr>\n",
       "    <tr>\n",
       "      <th>1</th>\n",
       "      <td>-0.314119</td>\n",
       "      <td>-0.959961</td>\n",
       "      <td>0.648941</td>\n",
       "      <td>1.217114</td>\n",
       "      <td>0.383193</td>\n",
       "      <td>-0.127543</td>\n",
       "      <td>-0.088689</td>\n",
       "      <td>-0.347976</td>\n",
       "      <td>-1.493720</td>\n",
       "      <td>-1.485270</td>\n",
       "      <td>...</td>\n",
       "      <td>-0.381858</td>\n",
       "      <td>-0.066504</td>\n",
       "      <td>-0.116345</td>\n",
       "      <td>-0.240841</td>\n",
       "      <td>6.337770</td>\n",
       "      <td>-0.306598</td>\n",
       "      <td>-0.283008</td>\n",
       "      <td>0.333348</td>\n",
       "      <td>0.1024</td>\n",
       "      <td>1.909591</td>\n",
       "    </tr>\n",
       "    <tr>\n",
       "      <th>2</th>\n",
       "      <td>-0.314119</td>\n",
       "      <td>1.041709</td>\n",
       "      <td>0.648941</td>\n",
       "      <td>-0.572744</td>\n",
       "      <td>0.383193</td>\n",
       "      <td>-0.127543</td>\n",
       "      <td>-0.088689</td>\n",
       "      <td>-0.347976</td>\n",
       "      <td>-1.493720</td>\n",
       "      <td>1.493255</td>\n",
       "      <td>...</td>\n",
       "      <td>-0.020956</td>\n",
       "      <td>-0.066504</td>\n",
       "      <td>-0.116345</td>\n",
       "      <td>-0.240841</td>\n",
       "      <td>-0.157784</td>\n",
       "      <td>1.292633</td>\n",
       "      <td>0.568570</td>\n",
       "      <td>1.185408</td>\n",
       "      <td>0.1024</td>\n",
       "      <td>-0.772545</td>\n",
       "    </tr>\n",
       "    <tr>\n",
       "      <th>3</th>\n",
       "      <td>-0.314119</td>\n",
       "      <td>-0.959961</td>\n",
       "      <td>-1.540971</td>\n",
       "      <td>-1.467674</td>\n",
       "      <td>0.383193</td>\n",
       "      <td>-0.127543</td>\n",
       "      <td>-0.088689</td>\n",
       "      <td>-0.347976</td>\n",
       "      <td>0.246862</td>\n",
       "      <td>0.003992</td>\n",
       "      <td>...</td>\n",
       "      <td>-0.381858</td>\n",
       "      <td>-0.066504</td>\n",
       "      <td>-0.116345</td>\n",
       "      <td>-0.240841</td>\n",
       "      <td>-0.157784</td>\n",
       "      <td>-0.306598</td>\n",
       "      <td>-0.283008</td>\n",
       "      <td>-0.000363</td>\n",
       "      <td>0.1024</td>\n",
       "      <td>-0.772545</td>\n",
       "    </tr>\n",
       "    <tr>\n",
       "      <th>4</th>\n",
       "      <td>-0.314119</td>\n",
       "      <td>1.041709</td>\n",
       "      <td>0.648941</td>\n",
       "      <td>1.217114</td>\n",
       "      <td>0.383193</td>\n",
       "      <td>-0.127543</td>\n",
       "      <td>-0.088689</td>\n",
       "      <td>-0.347976</td>\n",
       "      <td>1.407250</td>\n",
       "      <td>-0.293860</td>\n",
       "      <td>...</td>\n",
       "      <td>-0.381858</td>\n",
       "      <td>-0.066504</td>\n",
       "      <td>-0.116345</td>\n",
       "      <td>-0.240841</td>\n",
       "      <td>-0.157784</td>\n",
       "      <td>-0.306598</td>\n",
       "      <td>-0.283008</td>\n",
       "      <td>0.759378</td>\n",
       "      <td>0.1024</td>\n",
       "      <td>0.568523</td>\n",
       "    </tr>\n",
       "  </tbody>\n",
       "</table>\n",
       "<p>5 rows × 28 columns</p>\n",
       "</div>"
      ],
      "text/plain": [
       "   SAFETYEQ  DISTRACTED  CROSSING    REGION  URBAN_CITY  ALL_VHICLES_IN_CRASH  \\\n",
       "0 -0.314119    1.041709 -1.540971  0.322185    0.383193             -0.127543   \n",
       "1 -0.314119   -0.959961  0.648941  1.217114    0.383193             -0.127543   \n",
       "2 -0.314119    1.041709  0.648941 -0.572744    0.383193             -0.127543   \n",
       "3 -0.314119   -0.959961 -1.540971 -1.467674    0.383193             -0.127543   \n",
       "4 -0.314119    1.041709  0.648941  1.217114    0.383193             -0.127543   \n",
       "\n",
       "   PARKED_VEHICLES  PERSON_IN_VEHICLE      YEAR     MONTH  ...   WEATHER  \\\n",
       "0        -0.088689          -0.347976  0.246862 -1.187418  ... -0.381858   \n",
       "1        -0.088689          -0.347976 -1.493720 -1.485270  ... -0.381858   \n",
       "2        -0.088689          -0.347976 -1.493720  1.493255  ... -0.020956   \n",
       "3        -0.088689          -0.347976  0.246862  0.003992  ... -0.381858   \n",
       "4        -0.088689          -0.347976  1.407250 -0.293860  ... -0.381858   \n",
       "\n",
       "   SCHOOL_BUS  INTERSTATE_HWY   ALCOHOL  SPEEDING  TRAFFICWAY  \\\n",
       "0   -0.066504       -0.116345 -0.240841 -0.157784    1.292633   \n",
       "1   -0.066504       -0.116345 -0.240841  6.337770   -0.306598   \n",
       "2   -0.066504       -0.116345 -0.240841 -0.157784    1.292633   \n",
       "3   -0.066504       -0.116345 -0.240841 -0.157784   -0.306598   \n",
       "4   -0.066504       -0.116345 -0.240841 -0.157784   -0.306598   \n",
       "\n",
       "   NUMBER_OF_LANES  SPEED_LIMIT  ROADWAY_ALIGNMENT  TRAFFIC_CONTROL_DEVICE  \n",
       "0         0.568570    -1.370774             0.1024                0.568523  \n",
       "1        -0.283008     0.333348             0.1024                1.909591  \n",
       "2         0.568570     1.185408             0.1024               -0.772545  \n",
       "3        -0.283008    -0.000363             0.1024               -0.772545  \n",
       "4        -0.283008     0.759378             0.1024                0.568523  \n",
       "\n",
       "[5 rows x 28 columns]"
      ]
     },
     "execution_count": 80,
     "metadata": {},
     "output_type": "execute_result"
    }
   ],
   "source": [
    "X_train_scaled_df.head()"
   ]
  },
  {
   "cell_type": "code",
   "execution_count": 81,
   "id": "cabab650",
   "metadata": {},
   "outputs": [
    {
     "data": {
      "text/html": [
       "<div>\n",
       "<style scoped>\n",
       "    .dataframe tbody tr th:only-of-type {\n",
       "        vertical-align: middle;\n",
       "    }\n",
       "\n",
       "    .dataframe tbody tr th {\n",
       "        vertical-align: top;\n",
       "    }\n",
       "\n",
       "    .dataframe thead th {\n",
       "        text-align: right;\n",
       "    }\n",
       "</style>\n",
       "<table border=\"1\" class=\"dataframe\">\n",
       "  <thead>\n",
       "    <tr style=\"text-align: right;\">\n",
       "      <th></th>\n",
       "      <th>SAFETYEQ</th>\n",
       "      <th>DISTRACTED</th>\n",
       "      <th>CROSSING</th>\n",
       "      <th>REGION</th>\n",
       "      <th>URBAN_CITY</th>\n",
       "      <th>ALL_VHICLES_IN_CRASH</th>\n",
       "      <th>PARKED_VEHICLES</th>\n",
       "      <th>PERSON_IN_VEHICLE</th>\n",
       "      <th>YEAR</th>\n",
       "      <th>MONTH</th>\n",
       "      <th>...</th>\n",
       "      <th>WEATHER</th>\n",
       "      <th>SCHOOL_BUS</th>\n",
       "      <th>INTERSTATE_HWY</th>\n",
       "      <th>ALCOHOL</th>\n",
       "      <th>SPEEDING</th>\n",
       "      <th>TRAFFICWAY</th>\n",
       "      <th>NUMBER_OF_LANES</th>\n",
       "      <th>SPEED_LIMIT</th>\n",
       "      <th>ROADWAY_ALIGNMENT</th>\n",
       "      <th>TRAFFIC_CONTROL_DEVICE</th>\n",
       "    </tr>\n",
       "  </thead>\n",
       "  <tbody>\n",
       "    <tr>\n",
       "      <th>0</th>\n",
       "      <td>-0.314119</td>\n",
       "      <td>-0.959961</td>\n",
       "      <td>-1.540971</td>\n",
       "      <td>0.322185</td>\n",
       "      <td>0.383193</td>\n",
       "      <td>-0.127543</td>\n",
       "      <td>-0.088689</td>\n",
       "      <td>-0.347976</td>\n",
       "      <td>-0.333332</td>\n",
       "      <td>1.195402</td>\n",
       "      <td>...</td>\n",
       "      <td>-0.381858</td>\n",
       "      <td>-0.066504</td>\n",
       "      <td>-0.116345</td>\n",
       "      <td>-0.240841</td>\n",
       "      <td>-0.157784</td>\n",
       "      <td>-0.306598</td>\n",
       "      <td>0.568570</td>\n",
       "      <td>-1.370774</td>\n",
       "      <td>0.1024</td>\n",
       "      <td>1.909591</td>\n",
       "    </tr>\n",
       "    <tr>\n",
       "      <th>1</th>\n",
       "      <td>-0.314119</td>\n",
       "      <td>1.041709</td>\n",
       "      <td>0.648941</td>\n",
       "      <td>-0.572744</td>\n",
       "      <td>0.383193</td>\n",
       "      <td>-0.127543</td>\n",
       "      <td>-0.088689</td>\n",
       "      <td>1.242662</td>\n",
       "      <td>-1.493720</td>\n",
       "      <td>-0.889565</td>\n",
       "      <td>...</td>\n",
       "      <td>-0.381858</td>\n",
       "      <td>-0.066504</td>\n",
       "      <td>-0.116345</td>\n",
       "      <td>-0.240841</td>\n",
       "      <td>-0.157784</td>\n",
       "      <td>-0.306598</td>\n",
       "      <td>-0.283008</td>\n",
       "      <td>-0.092683</td>\n",
       "      <td>0.1024</td>\n",
       "      <td>-0.772545</td>\n",
       "    </tr>\n",
       "    <tr>\n",
       "      <th>2</th>\n",
       "      <td>3.183504</td>\n",
       "      <td>1.041709</td>\n",
       "      <td>-1.540971</td>\n",
       "      <td>0.322185</td>\n",
       "      <td>0.383193</td>\n",
       "      <td>-0.127543</td>\n",
       "      <td>-0.088689</td>\n",
       "      <td>-0.347976</td>\n",
       "      <td>1.407250</td>\n",
       "      <td>1.195402</td>\n",
       "      <td>...</td>\n",
       "      <td>-0.381858</td>\n",
       "      <td>-0.066504</td>\n",
       "      <td>-0.116345</td>\n",
       "      <td>-0.240841</td>\n",
       "      <td>-0.157784</td>\n",
       "      <td>1.292633</td>\n",
       "      <td>-0.283008</td>\n",
       "      <td>0.333348</td>\n",
       "      <td>0.1024</td>\n",
       "      <td>-0.772545</td>\n",
       "    </tr>\n",
       "    <tr>\n",
       "      <th>3</th>\n",
       "      <td>3.183504</td>\n",
       "      <td>-0.959961</td>\n",
       "      <td>-1.540971</td>\n",
       "      <td>-0.572744</td>\n",
       "      <td>0.383193</td>\n",
       "      <td>-0.127543</td>\n",
       "      <td>-0.088689</td>\n",
       "      <td>-0.347976</td>\n",
       "      <td>0.827056</td>\n",
       "      <td>1.493255</td>\n",
       "      <td>...</td>\n",
       "      <td>-0.020956</td>\n",
       "      <td>-0.066504</td>\n",
       "      <td>-0.116345</td>\n",
       "      <td>-0.240841</td>\n",
       "      <td>-0.157784</td>\n",
       "      <td>-0.306598</td>\n",
       "      <td>1.420149</td>\n",
       "      <td>0.759378</td>\n",
       "      <td>0.1024</td>\n",
       "      <td>-0.772545</td>\n",
       "    </tr>\n",
       "    <tr>\n",
       "      <th>4</th>\n",
       "      <td>-0.314119</td>\n",
       "      <td>-0.959961</td>\n",
       "      <td>-1.540971</td>\n",
       "      <td>1.217114</td>\n",
       "      <td>-2.609651</td>\n",
       "      <td>-0.127543</td>\n",
       "      <td>-0.088689</td>\n",
       "      <td>-0.347976</td>\n",
       "      <td>-0.333332</td>\n",
       "      <td>1.493255</td>\n",
       "      <td>...</td>\n",
       "      <td>2.866255</td>\n",
       "      <td>-0.066504</td>\n",
       "      <td>-0.116345</td>\n",
       "      <td>-0.240841</td>\n",
       "      <td>-0.157784</td>\n",
       "      <td>-0.306598</td>\n",
       "      <td>1.420149</td>\n",
       "      <td>-0.092683</td>\n",
       "      <td>0.1024</td>\n",
       "      <td>-0.772545</td>\n",
       "    </tr>\n",
       "  </tbody>\n",
       "</table>\n",
       "<p>5 rows × 28 columns</p>\n",
       "</div>"
      ],
      "text/plain": [
       "   SAFETYEQ  DISTRACTED  CROSSING    REGION  URBAN_CITY  ALL_VHICLES_IN_CRASH  \\\n",
       "0 -0.314119   -0.959961 -1.540971  0.322185    0.383193             -0.127543   \n",
       "1 -0.314119    1.041709  0.648941 -0.572744    0.383193             -0.127543   \n",
       "2  3.183504    1.041709 -1.540971  0.322185    0.383193             -0.127543   \n",
       "3  3.183504   -0.959961 -1.540971 -0.572744    0.383193             -0.127543   \n",
       "4 -0.314119   -0.959961 -1.540971  1.217114   -2.609651             -0.127543   \n",
       "\n",
       "   PARKED_VEHICLES  PERSON_IN_VEHICLE      YEAR     MONTH  ...   WEATHER  \\\n",
       "0        -0.088689          -0.347976 -0.333332  1.195402  ... -0.381858   \n",
       "1        -0.088689           1.242662 -1.493720 -0.889565  ... -0.381858   \n",
       "2        -0.088689          -0.347976  1.407250  1.195402  ... -0.381858   \n",
       "3        -0.088689          -0.347976  0.827056  1.493255  ... -0.020956   \n",
       "4        -0.088689          -0.347976 -0.333332  1.493255  ...  2.866255   \n",
       "\n",
       "   SCHOOL_BUS  INTERSTATE_HWY   ALCOHOL  SPEEDING  TRAFFICWAY  \\\n",
       "0   -0.066504       -0.116345 -0.240841 -0.157784   -0.306598   \n",
       "1   -0.066504       -0.116345 -0.240841 -0.157784   -0.306598   \n",
       "2   -0.066504       -0.116345 -0.240841 -0.157784    1.292633   \n",
       "3   -0.066504       -0.116345 -0.240841 -0.157784   -0.306598   \n",
       "4   -0.066504       -0.116345 -0.240841 -0.157784   -0.306598   \n",
       "\n",
       "   NUMBER_OF_LANES  SPEED_LIMIT  ROADWAY_ALIGNMENT  TRAFFIC_CONTROL_DEVICE  \n",
       "0         0.568570    -1.370774             0.1024                1.909591  \n",
       "1        -0.283008    -0.092683             0.1024               -0.772545  \n",
       "2        -0.283008     0.333348             0.1024               -0.772545  \n",
       "3         1.420149     0.759378             0.1024               -0.772545  \n",
       "4         1.420149    -0.092683             0.1024               -0.772545  \n",
       "\n",
       "[5 rows x 28 columns]"
      ]
     },
     "execution_count": 81,
     "metadata": {},
     "output_type": "execute_result"
    }
   ],
   "source": [
    "X_test_scaled_df.head()"
   ]
  },
  {
   "cell_type": "markdown",
   "id": "08061e27",
   "metadata": {},
   "source": [
    "# Non-SMOTE Random Forest Model:"
   ]
  },
  {
   "cell_type": "code",
   "execution_count": 82,
   "id": "e03a3088",
   "metadata": {},
   "outputs": [
    {
     "data": {
      "text/plain": [
       "array([0, 1, 2])"
      ]
     },
     "execution_count": 82,
     "metadata": {},
     "output_type": "execute_result"
    }
   ],
   "source": [
    "np.unique(y_train)"
   ]
  },
  {
   "cell_type": "code",
   "execution_count": null,
   "id": "9341ab06",
   "metadata": {},
   "outputs": [],
   "source": [
    "def train_best_model(X_train, y_train, X_test, y_test, num_iters=10, num_folds_cv=5):\n",
    "    import joblib\n",
    "    from tqdm import tqdm\n",
    "    from sklearn.ensemble import RandomForestClassifier\n",
    "    from sklearn.model_selection import RandomizedSearchCV\n",
    "\n",
    "    model_file = \"non_smote_best_model_rf.joblib\"\n",
    "    \n",
    "    if os.path.exists(model_file):\n",
    "        print(\"Loading the best model\")\n",
    "        rand_search_rf = joblib.load(model_file)\n",
    "        best_params_rf = rand_search_rf.best_params_\n",
    "        best_rf_model = rand_search_rf.best_estimator_\n",
    "    else:\n",
    "        param_distributions_rf = {\n",
    "            'n_estimators': [100, 200, 300],\n",
    "            'max_depth': [None, 10, 20],\n",
    "            'min_samples_split': [2, 5, 10],\n",
    "            'min_samples_leaf': [1, 2, 4],\n",
    "            'max_features': ['auto', 'sqrt', 'log2']\n",
    "        }\n",
    "\n",
    "        rf = RandomForestClassifier(random_state=42)\n",
    "        rand_search_rf = RandomizedSearchCV(estimator=rf, param_distributions=param_distributions_rf, n_iter=num_iters, cv=num_folds_cv)\n",
    "\n",
    "        with tqdm(total=num_iters * num_folds_cv) as pbar:\n",
    "            rand_search_rf.fit(X_train, y_train)\n",
    "            pbar.update(num_folds_cv*num_iters)\n",
    "\n",
    "        best_params_rf = rand_search_rf.best_params_\n",
    "        best_rf_model = rand_search_rf.best_estimator_\n",
    "\n",
    "        joblib.dump(rand_search_rf, model_file)\n",
    "        print(\"Saved the best model\")\n",
    "\n",
    "    return best_rf_model, best_params_rf\n",
    "\n"
   ]
  },
  {
   "cell_type": "code",
   "execution_count": 84,
   "id": "f16aef94",
   "metadata": {},
   "outputs": [
    {
     "name": "stdout",
     "output_type": "stream",
     "text": [
      "Loading the best model\n"
     ]
    }
   ],
   "source": [
    "# Calling the function\n",
    "best_rf_model, best_params_rf = train_best_model(X_train_scaled_df, y_train, X_test_scaled_df, y_test)"
   ]
  },
  {
   "cell_type": "code",
   "execution_count": 85,
   "id": "408c06b1",
   "metadata": {},
   "outputs": [
    {
     "data": {
      "text/plain": [
       "{'n_estimators': 200,\n",
       " 'min_samples_split': 10,\n",
       " 'min_samples_leaf': 4,\n",
       " 'max_features': 'auto',\n",
       " 'max_depth': None}"
      ]
     },
     "execution_count": 85,
     "metadata": {},
     "output_type": "execute_result"
    }
   ],
   "source": [
    "best_params_rf"
   ]
  },
  {
   "cell_type": "code",
   "execution_count": 87,
   "id": "17852bfe",
   "metadata": {},
   "outputs": [
    {
     "name": "stdout",
     "output_type": "stream",
     "text": [
      "SPEED_LIMIT: 0.15417437260729272\n",
      "MONTH: 0.10566258652434576\n",
      "LIGHT_CONDITION: 0.09893681450024014\n",
      "YEAR: 0.07958227648727204\n",
      "DAY_WEEK: 0.07845551650677116\n",
      "NUMBER_OF_LANES: 0.055220444223480644\n",
      "REGION: 0.052467571698061904\n",
      "TRAFFIC_CONTROL_DEVICE: 0.04458690778647563\n",
      "DISTRACTED: 0.04326607456170005\n",
      "INTERSECTION_TYPE: 0.036176800881067075\n",
      "TRAFFICWAY: 0.03255918626359508\n",
      "ALCOHOL: 0.02949744182441757\n",
      "PERSON_IN_VEHICLE: 0.028074866405459007\n",
      "WEATHER: 0.028017042001771714\n",
      "CROSSING: 0.023418742014432167\n",
      "URBAN_CITY: 0.018934355750750788\n",
      "WEEKEND: 0.018400959122478567\n",
      "CRASH_LOCATION: 0.014980622379254644\n",
      "INTERSTATE_HWY: 0.013492377636884583\n",
      "ALL_VHICLES_IN_CRASH: 0.011317487978667084\n",
      "ROADWAY_ALIGNMENT: 0.009736064935454031\n",
      "SAFETYEQ: 0.009587861021798368\n",
      "SPEEDING: 0.006502575705883928\n",
      "PARKED_VEHICLES: 0.0031235646419716244\n",
      "JUNCTION: 0.002148842627852887\n",
      "WORK_ZONE: 0.0010345879903806273\n",
      "SCHOOL_BUS: 0.0006440559222403195\n",
      "COLLUSION: 0.0\n"
     ]
    }
   ],
   "source": [
    "# Feature Importance Plot Values:\n",
    "impts = best_rf_model.feature_importances_\n",
    "\n",
    "feature_names = X_train_scaled_df.columns\n",
    "\n",
    "idxs = np.argsort(impts)[::-1]\n",
    "\n",
    "for i in idxs:\n",
    "    print(f\"{feature_names[i]}: {impts[i]}\")\n"
   ]
  },
  {
   "cell_type": "code",
   "execution_count": 88,
   "id": "aa3d83ea",
   "metadata": {},
   "outputs": [
    {
     "data": {
      "image/png": "[encoded data removed]",
      "text/plain": [
       "<Figure size 1000x500 with 1 Axes>"
      ]
     },
     "metadata": {},
     "output_type": "display_data"
    }
   ],
   "source": [
    "impts = best_rf_model.feature_importances_\n",
    "idxs = np.argsort(impts)[::-1]\n",
    "\n",
    "plt.figure(figsize=(10, 5))\n",
    "plt.title(\"Feature Importances for the\\nNon-SMOTE Random Forest Model for CRSS Data\")\n",
    "plt.bar(range(len(impts)), impts[idxs], align=\"center\")\n",
    "plt.xticks(range(len(impts)), [feature_names[i] for i in idxs], rotation=90)  # Make labels vertical\n",
    "plt.xlabel(\"Feature\")\n",
    "plt.ylabel(\"Importance\")\n",
    "plt.show()\n"
   ]
  },
  {
   "cell_type": "code",
   "execution_count": 89,
   "id": "b3c7340f",
   "metadata": {
    "scrolled": true
   },
   "outputs": [
    {
     "name": "stdout",
     "output_type": "stream",
     "text": [
      "Best Non-SMOTE Random Forest Model's Test Accuracy: 0.7976484250254028\n"
     ]
    }
   ],
   "source": [
    "# Find predictions for the test data using the best model\n",
    "preds_rf = best_rf_model.predict(X_test_scaled_df)\n",
    "\n",
    "acc_rf = accuracy_score(y_test, preds_rf)\n",
    "print(\"Best Non-SMOTE Random Forest Model's Test Accuracy:\", acc_rf)"
   ]
  },
  {
   "cell_type": "code",
   "execution_count": 90,
   "id": "b19d23cc",
   "metadata": {},
   "outputs": [
    {
     "name": "stdout",
     "output_type": "stream",
     "text": [
      "Class 0: Sensitivity = 0.9934012066365008, Specificity = 0.16782334384858044\n",
      "Class 1: Sensitivity = 0.11243072050673, Specificity = 0.9934233913970849\n",
      "Class 2: Sensitivity = 0.2608695652173913, Specificity = 0.9942134917009289\n"
     ]
    }
   ],
   "source": [
    "# Confusion Matrix:\n",
    "\n",
    "conf_mat_rf = confusion_matrix(y_test, preds_rf)\n",
    "\n",
    "# Empty sens and spec lists\n",
    "sens_list = []\n",
    "spec_list = []\n",
    "\n",
    "# Find sensitivity and specificity for each class, where \"positive\" means equal to \n",
    "# the class and \"negative\" means not equal to the class\n",
    "for i in range(conf_mat_rf.shape[0]):\n",
    "    TP = conf_mat_rf[i, i]\n",
    "    FN = np.sum(conf_mat_rf[i, :]) - TP\n",
    "    FP = np.sum(conf_mat_rf[:, i]) - TP\n",
    "    TN = np.sum(conf_mat_rf) - (TP + FN + FP)\n",
    "    \n",
    "    sens = TP / (TP + FN)\n",
    "    spec = TN / (TN + FP)\n",
    "    \n",
    "    sens_list.append(sens)\n",
    "    spec_list.append(spec)\n",
    "\n",
    "# Print out classes' sens and spec values\n",
    "for i, (sens, spec) in enumerate(zip(sens_list, spec_list)):\n",
    "    print(f\"Class {i}: Sensitivity = {sens}, Specificity = {spec}\")\n"
   ]
  },
  {
   "cell_type": "code",
   "execution_count": 91,
   "id": "26cb9154",
   "metadata": {},
   "outputs": [
    {
     "name": "stdout",
     "output_type": "stream",
     "text": [
      "Classification Report Non-SMOTE Random Forest Model:\n",
      "\n",
      "              precision    recall  f1-score   support\n",
      "\n",
      "           0       0.80      0.99      0.89      5304\n",
      "           1       0.79      0.11      0.20      1263\n",
      "           2       0.69      0.26      0.38       322\n",
      "\n",
      "    accuracy                           0.80      6889\n",
      "   macro avg       0.76      0.46      0.49      6889\n",
      "weighted avg       0.79      0.80      0.74      6889\n",
      "\n"
     ]
    }
   ],
   "source": [
    "print(\"Classification Report Non-SMOTE Random Forest Model:\\n\")\n",
    "print(classification_report(y_test, preds_rf))\n"
   ]
  },
  {
   "cell_type": "code",
   "execution_count": 92,
   "id": "8da5f088",
   "metadata": {},
   "outputs": [],
   "source": [
    "conf_mat_rf = confusion_matrix(y_test, preds_rf)"
   ]
  },
  {
   "cell_type": "code",
   "execution_count": 93,
   "id": "b6108572",
   "metadata": {},
   "outputs": [
    {
     "name": "stdout",
     "output_type": "stream",
     "text": [
      "[[5269   20   15]\n",
      " [1098  142   23]\n",
      " [ 221   17   84]]\n"
     ]
    }
   ],
   "source": [
    "print(conf_mat_rf)"
   ]
  },
  {
   "cell_type": "code",
   "execution_count": 94,
   "id": "3a926aff",
   "metadata": {},
   "outputs": [
    {
     "data": {
      "image/png": "[encoded data removed]",
      "text/plain": [
       "<Figure size 800x600 with 1 Axes>"
      ]
     },
     "metadata": {},
     "output_type": "display_data"
    }
   ],
   "source": [
    "plt.figure(figsize=(8, 6))\n",
    "sns.heatmap(conf_mat_rf, annot=True, fmt=\"d\", cmap=\"Blues\", cbar=False)\n",
    "plt.title(\"Confusion Matrix\")\n",
    "plt.xlabel(\"Predicted Label\")\n",
    "plt.ylabel(\"True Label\")\n",
    "plt.show()\n"
   ]
  },
  {
   "cell_type": "markdown",
   "id": "ccc95435",
   "metadata": {},
   "source": [
    "# Non-SMOTE Feed Forward Neural Network Model:"
   ]
  },
  {
   "cell_type": "code",
   "execution_count": 95,
   "id": "006aa4bb",
   "metadata": {},
   "outputs": [
    {
     "data": {
      "text/plain": [
       "array([0, 1, 2])"
      ]
     },
     "execution_count": 95,
     "metadata": {},
     "output_type": "execute_result"
    }
   ],
   "source": [
    "np.unique(y_train)"
   ]
  },
  {
   "cell_type": "code",
   "execution_count": 96,
   "id": "9b647799",
   "metadata": {},
   "outputs": [
    {
     "data": {
      "text/plain": [
       "array([0, 1, 2])"
      ]
     },
     "execution_count": 96,
     "metadata": {},
     "output_type": "execute_result"
    }
   ],
   "source": [
    "np.unique(y_test)"
   ]
  },
  {
   "cell_type": "code",
   "execution_count": 97,
   "id": "1cc08eb6",
   "metadata": {},
   "outputs": [
    {
     "data": {
      "image/png": "[encoded data removed]",
      "text/plain": [
       "<Figure size 1400x500 with 2 Axes>"
      ]
     },
     "metadata": {},
     "output_type": "display_data"
    }
   ],
   "source": [
    "def plot_side_by_side(y_train, y_test):\n",
    "    fig, axes = plt.subplots(nrows=1, ncols=2, figsize=(14, 5))\n",
    "    \n",
    "    color_map = {0: 'green', 1: 'yellow', 2: 'red'}\n",
    "    \n",
    "    # Plot y_train\n",
    "    unique_indices_train, index_counts_train = np.unique(y_train, return_counts=True)\n",
    "    colors_train = [color_map[i] for i in unique_indices_train]\n",
    "    axes[0].bar(unique_indices_train, index_counts_train, color=colors_train)\n",
    "    axes[0].set_xlabel('Pedestrian Safety Index')\n",
    "    axes[0].set_ylabel('Frequency')\n",
    "    axes[0].set_title('Train Data Frequency Distribution of Pedestrian Safety Indices')\n",
    "    axes[0].set_xticks(unique_indices_train)\n",
    "    labels = ['No or Minor Injuries', 'Serious Injuries', 'Fatal']\n",
    "    handles_train = [plt.Rectangle((0,0),1,1, color=color_map[i]) for i in range(len(labels))]\n",
    "    axes[0].legend(handles_train, labels, title=\"Index Description\")\n",
    "    \n",
    "    # Plot y_test\n",
    "    unique_indices_test, index_counts_test = np.unique(y_test, return_counts=True)\n",
    "    colors_test = [color_map[i] for i in unique_indices_test]\n",
    "    axes[1].bar(unique_indices_test, index_counts_test, color=colors_test)\n",
    "    axes[1].set_xlabel('Pedestrian Safety Index')\n",
    "    axes[1].set_ylabel('Frequency')\n",
    "    axes[1].set_title('Test Data Frequency Distribution of Pedestrian Safety Indices')\n",
    "    axes[1].set_xticks(unique_indices_test)\n",
    "    handles_test = [plt.Rectangle((0,0),1,1, color=color_map[i]) for i in range(len(labels))]\n",
    "    axes[1].legend(handles_test, labels, title=\"Index Description\")\n",
    "    \n",
    "    plt.tight_layout()\n",
    "    plt.show()\n",
    "\n",
    "plot_side_by_side(y_train, y_test)"
   ]
  },
  {
   "cell_type": "code",
   "execution_count": 98,
   "id": "2ca10d74",
   "metadata": {},
   "outputs": [
    {
     "data": {
      "text/plain": [
       "((20666, 28), (20666,))"
      ]
     },
     "execution_count": 98,
     "metadata": {},
     "output_type": "execute_result"
    }
   ],
   "source": [
    "X_train_scaled_df.shape, y_train.shape"
   ]
  },
  {
   "cell_type": "code",
   "execution_count": null,
   "id": "247a6bc9",
   "metadata": {
    "scrolled": true
   },
   "outputs": [],
   "source": [
    "from tensorflow.keras.models import Sequential, load_model\n",
    "from tensorflow.keras.layers import Dense, BatchNormalization\n",
    "from tensorflow.keras.callbacks import EarlyStopping\n",
    "from tensorflow.keras.optimizers import Adam\n",
    "\n",
    "def train_best_nn_model(X_train, y_train, X_test, y_test, inp_shp, num_epochs=50, batch_size=32):\n",
    "    \n",
    "    model_file = \"non_smote_best_model_nn.h5\"\n",
    "    \n",
    "    if os.path.exists(model_file):\n",
    "        print(\"Loading the neural network\")\n",
    "        best_nn_model = load_model(model_file)\n",
    "        # Accessing model configuration:\n",
    "        optimizer_config = best_nn_model.optimizer.get_config()\n",
    "        print(\"Optimizer:\", optimizer_config)\n",
    "    else:\n",
    "        nn_model = Sequential([\n",
    "            Dense(32, activation='relu', input_shape=(inp_shp,)),\n",
    "            BatchNormalization(),\n",
    "            Dense(3, activation='softmax') # 3 possible output class values of 0, 1, or 2\n",
    "        ])\n",
    "        \n",
    "        nn_model.compile(optimizer='adam', loss='sparse_categorical_crossentropy', metrics=['accuracy'])\n",
    "        \n",
    "        early_stop_monitor = EarlyStopping(\n",
    "            monitor='val_loss',\n",
    "            patience=5, # Stop training when no improvement in validation loss for 5 consecutive epochs\n",
    "            verbose=1\n",
    "        )\n",
    "\n",
    "        nn_model.fit(X_train, y_train, epochs=num_epochs, batch_size=batch_size, \n",
    "                     validation_split=0.2, callbacks=[early_stop_monitor])\n",
    "\n",
    "        nn_model.save(model_file)\n",
    "        print(\"Saved a neural network model to file.\")\n",
    "\n",
    "        best_nn_model = nn_model\n",
    "        optimizer_config = best_nn_model.optimizer.get_config()\n",
    "\n",
    "    return best_nn_model, optimizer_config\n"
   ]
  },
  {
   "cell_type": "code",
   "execution_count": 100,
   "id": "1976d2b3",
   "metadata": {
    "scrolled": true
   },
   "outputs": [
    {
     "name": "stdout",
     "output_type": "stream",
     "text": [
      "Loading the neural network\n"
     ]
    },
    {
     "name": "stderr",
     "output_type": "stream",
     "text": [
      "2024-04-29 01:23:59.734882: I tensorflow/core/platform/cpu_feature_guard.cc:193] This TensorFlow binary is optimized with oneAPI Deep Neural Network Library (oneDNN) to use the following CPU instructions in performance-critical operations:  SSE4.1 SSE4.2 AVX AVX2 FMA\n",
      "To enable them in other operations, rebuild TensorFlow with the appropriate compiler flags.\n"
     ]
    },
    {
     "name": "stdout",
     "output_type": "stream",
     "text": [
      "Optimizer: {'name': 'Adam', 'weight_decay': None, 'clipnorm': None, 'global_clipnorm': None, 'clipvalue': None, 'use_ema': False, 'ema_momentum': 0.99, 'ema_overwrite_frequency': None, 'jit_compile': False, 'is_legacy_optimizer': False, 'learning_rate': 0.001, 'beta_1': 0.9, 'beta_2': 0.999, 'epsilon': 1e-07, 'amsgrad': False}\n"
     ]
    }
   ],
   "source": [
    "# Call the function\n",
    "best_nn_model, optimizer_config = train_best_nn_model(X_train_scaled_df, y_train, \n",
    "                                                      X_test_scaled_df, y_test, \n",
    "                                                      inp_shp=28)\n",
    "\n"
   ]
  },
  {
   "cell_type": "markdown",
   "id": "5c23c4f3",
   "metadata": {},
   "source": [
    "If the softmax function is used in the output layer, Keras' predict() method outputs probabilites corresponding to each class instead of the class labels. So, these probabilities need to be changed to class labels by choosing the class that has the largest probability value for every prediction.\n",
    "\n",
    "Because the accuracy_score() function in scikit-learn wants y_test and preds_nn, these both have to either both contain labels or both contain probabilities.\n"
   ]
  },
  {
   "cell_type": "code",
   "execution_count": 101,
   "id": "d7e53990",
   "metadata": {},
   "outputs": [
    {
     "name": "stdout",
     "output_type": "stream",
     "text": [
      "216/216 [==============================] - 0s 752us/step\n",
      "Non-SMOTE Neural Network Test Accuracy: 0.7774713311075628\n"
     ]
    }
   ],
   "source": [
    "preds_nn_prob = best_nn_model.predict(X_test_scaled_df)\n",
    "\n",
    "# Change probabilities to labels\n",
    "preds_nn = np.argmax(preds_nn_prob, axis=1)\n",
    "\n",
    "acc_nn = accuracy_score(y_test, preds_nn)\n",
    "print(\"Non-SMOTE Neural Network Test Accuracy:\", acc_nn)\n"
   ]
  },
  {
   "cell_type": "code",
   "execution_count": 102,
   "id": "118364fc",
   "metadata": {},
   "outputs": [
    {
     "name": "stdout",
     "output_type": "stream",
     "text": [
      "Classification Report for the Non-SMOTE Feed Forward Neural Network Model:\n",
      "              precision    recall  f1-score   support\n",
      "\n",
      "           0       0.80      0.98      0.88      5304\n",
      "           1       0.43      0.08      0.14      1263\n",
      "           2       0.49      0.25      0.33       322\n",
      "\n",
      "    accuracy                           0.78      6889\n",
      "   macro avg       0.57      0.44      0.45      6889\n",
      "weighted avg       0.72      0.78      0.72      6889\n",
      "\n"
     ]
    }
   ],
   "source": [
    "nn_classif_report = classification_report(y_test, preds_nn)\n",
    "print('Classification Report for the Non-SMOTE Feed Forward Neural Network Model:')\n",
    "print(nn_classif_report)"
   ]
  },
  {
   "cell_type": "code",
   "execution_count": 103,
   "id": "c58ac6e8",
   "metadata": {},
   "outputs": [
    {
     "name": "stdout",
     "output_type": "stream",
     "text": [
      "Model: \"sequential\"\n",
      "_________________________________________________________________\n",
      " Layer (type)                Output Shape              Param #   \n",
      "=================================================================\n",
      " dense (Dense)               (None, 32)                928       \n",
      "                                                                 \n",
      " batch_normalization (BatchN  (None, 32)               128       \n",
      " ormalization)                                                   \n",
      "                                                                 \n",
      " dense_1 (Dense)             (None, 3)                 99        \n",
      "                                                                 \n",
      "=================================================================\n",
      "Total params: 1,155\n",
      "Trainable params: 1,091\n",
      "Non-trainable params: 64\n",
      "_________________________________________________________________\n"
     ]
    }
   ],
   "source": [
    "best_nn_model.summary()"
   ]
  },
  {
   "cell_type": "code",
   "execution_count": 104,
   "id": "286892cf",
   "metadata": {},
   "outputs": [],
   "source": [
    "conf_mat_nn = confusion_matrix(y_test, preds_nn)"
   ]
  },
  {
   "cell_type": "code",
   "execution_count": 105,
   "id": "906a441c",
   "metadata": {},
   "outputs": [
    {
     "name": "stdout",
     "output_type": "stream",
     "text": [
      "[[5173  101   30]\n",
      " [1105  102   56]\n",
      " [ 207   34   81]]\n"
     ]
    }
   ],
   "source": [
    "print(conf_mat_nn)"
   ]
  },
  {
   "cell_type": "code",
   "execution_count": 106,
   "id": "2b43f893",
   "metadata": {},
   "outputs": [
    {
     "data": {
      "image/png": "[encoded data removed]",
      "text/plain": [
       "<Figure size 800x600 with 1 Axes>"
      ]
     },
     "metadata": {},
     "output_type": "display_data"
    }
   ],
   "source": [
    "plt.figure(figsize=(8, 6))\n",
    "sns.heatmap(conf_mat_nn, annot=True, fmt=\"d\", cmap=\"Blues\", cbar=False)\n",
    "plt.title(\"Confusion Matrix\")\n",
    "plt.xlabel(\"Predicted Label\")\n",
    "plt.ylabel(\"True Label\")\n",
    "plt.show()\n"
   ]
  },
  {
   "cell_type": "markdown",
   "id": "19d23f91",
   "metadata": {},
   "source": [
    "# Applying SMOTE to the Train Data:"
   ]
  },
  {
   "cell_type": "code",
   "execution_count": 107,
   "id": "9ae2343a",
   "metadata": {
    "scrolled": true
   },
   "outputs": [
    {
     "data": {
      "text/html": [
       "<div>\n",
       "<style scoped>\n",
       "    .dataframe tbody tr th:only-of-type {\n",
       "        vertical-align: middle;\n",
       "    }\n",
       "\n",
       "    .dataframe tbody tr th {\n",
       "        vertical-align: top;\n",
       "    }\n",
       "\n",
       "    .dataframe thead th {\n",
       "        text-align: right;\n",
       "    }\n",
       "</style>\n",
       "<table border=\"1\" class=\"dataframe\">\n",
       "  <thead>\n",
       "    <tr style=\"text-align: right;\">\n",
       "      <th></th>\n",
       "      <th>SAFETYEQ</th>\n",
       "      <th>DISTRACTED</th>\n",
       "      <th>CROSSING</th>\n",
       "      <th>REGION</th>\n",
       "      <th>URBAN_CITY</th>\n",
       "      <th>ALL_VHICLES_IN_CRASH</th>\n",
       "      <th>PARKED_VEHICLES</th>\n",
       "      <th>PERSON_IN_VEHICLE</th>\n",
       "      <th>YEAR</th>\n",
       "      <th>MONTH</th>\n",
       "      <th>...</th>\n",
       "      <th>WEATHER</th>\n",
       "      <th>SCHOOL_BUS</th>\n",
       "      <th>INTERSTATE_HWY</th>\n",
       "      <th>ALCOHOL</th>\n",
       "      <th>SPEEDING</th>\n",
       "      <th>TRAFFICWAY</th>\n",
       "      <th>NUMBER_OF_LANES</th>\n",
       "      <th>SPEED_LIMIT</th>\n",
       "      <th>ROADWAY_ALIGNMENT</th>\n",
       "      <th>TRAFFIC_CONTROL_DEVICE</th>\n",
       "    </tr>\n",
       "  </thead>\n",
       "  <tbody>\n",
       "    <tr>\n",
       "      <th>0</th>\n",
       "      <td>-0.314119</td>\n",
       "      <td>1.041709</td>\n",
       "      <td>-1.540971</td>\n",
       "      <td>0.322185</td>\n",
       "      <td>0.383193</td>\n",
       "      <td>-0.127543</td>\n",
       "      <td>-0.088689</td>\n",
       "      <td>-0.347976</td>\n",
       "      <td>0.246862</td>\n",
       "      <td>-1.187418</td>\n",
       "      <td>...</td>\n",
       "      <td>-0.381858</td>\n",
       "      <td>-0.066504</td>\n",
       "      <td>-0.116345</td>\n",
       "      <td>-0.240841</td>\n",
       "      <td>-0.157784</td>\n",
       "      <td>1.292633</td>\n",
       "      <td>0.568570</td>\n",
       "      <td>-1.370774</td>\n",
       "      <td>0.1024</td>\n",
       "      <td>0.568523</td>\n",
       "    </tr>\n",
       "    <tr>\n",
       "      <th>1</th>\n",
       "      <td>-0.314119</td>\n",
       "      <td>-0.959961</td>\n",
       "      <td>0.648941</td>\n",
       "      <td>1.217114</td>\n",
       "      <td>0.383193</td>\n",
       "      <td>-0.127543</td>\n",
       "      <td>-0.088689</td>\n",
       "      <td>-0.347976</td>\n",
       "      <td>-1.493720</td>\n",
       "      <td>-1.485270</td>\n",
       "      <td>...</td>\n",
       "      <td>-0.381858</td>\n",
       "      <td>-0.066504</td>\n",
       "      <td>-0.116345</td>\n",
       "      <td>-0.240841</td>\n",
       "      <td>6.337770</td>\n",
       "      <td>-0.306598</td>\n",
       "      <td>-0.283008</td>\n",
       "      <td>0.333348</td>\n",
       "      <td>0.1024</td>\n",
       "      <td>1.909591</td>\n",
       "    </tr>\n",
       "    <tr>\n",
       "      <th>2</th>\n",
       "      <td>-0.314119</td>\n",
       "      <td>1.041709</td>\n",
       "      <td>0.648941</td>\n",
       "      <td>-0.572744</td>\n",
       "      <td>0.383193</td>\n",
       "      <td>-0.127543</td>\n",
       "      <td>-0.088689</td>\n",
       "      <td>-0.347976</td>\n",
       "      <td>-1.493720</td>\n",
       "      <td>1.493255</td>\n",
       "      <td>...</td>\n",
       "      <td>-0.020956</td>\n",
       "      <td>-0.066504</td>\n",
       "      <td>-0.116345</td>\n",
       "      <td>-0.240841</td>\n",
       "      <td>-0.157784</td>\n",
       "      <td>1.292633</td>\n",
       "      <td>0.568570</td>\n",
       "      <td>1.185408</td>\n",
       "      <td>0.1024</td>\n",
       "      <td>-0.772545</td>\n",
       "    </tr>\n",
       "    <tr>\n",
       "      <th>3</th>\n",
       "      <td>-0.314119</td>\n",
       "      <td>-0.959961</td>\n",
       "      <td>-1.540971</td>\n",
       "      <td>-1.467674</td>\n",
       "      <td>0.383193</td>\n",
       "      <td>-0.127543</td>\n",
       "      <td>-0.088689</td>\n",
       "      <td>-0.347976</td>\n",
       "      <td>0.246862</td>\n",
       "      <td>0.003992</td>\n",
       "      <td>...</td>\n",
       "      <td>-0.381858</td>\n",
       "      <td>-0.066504</td>\n",
       "      <td>-0.116345</td>\n",
       "      <td>-0.240841</td>\n",
       "      <td>-0.157784</td>\n",
       "      <td>-0.306598</td>\n",
       "      <td>-0.283008</td>\n",
       "      <td>-0.000363</td>\n",
       "      <td>0.1024</td>\n",
       "      <td>-0.772545</td>\n",
       "    </tr>\n",
       "    <tr>\n",
       "      <th>4</th>\n",
       "      <td>-0.314119</td>\n",
       "      <td>1.041709</td>\n",
       "      <td>0.648941</td>\n",
       "      <td>1.217114</td>\n",
       "      <td>0.383193</td>\n",
       "      <td>-0.127543</td>\n",
       "      <td>-0.088689</td>\n",
       "      <td>-0.347976</td>\n",
       "      <td>1.407250</td>\n",
       "      <td>-0.293860</td>\n",
       "      <td>...</td>\n",
       "      <td>-0.381858</td>\n",
       "      <td>-0.066504</td>\n",
       "      <td>-0.116345</td>\n",
       "      <td>-0.240841</td>\n",
       "      <td>-0.157784</td>\n",
       "      <td>-0.306598</td>\n",
       "      <td>-0.283008</td>\n",
       "      <td>0.759378</td>\n",
       "      <td>0.1024</td>\n",
       "      <td>0.568523</td>\n",
       "    </tr>\n",
       "  </tbody>\n",
       "</table>\n",
       "<p>5 rows × 28 columns</p>\n",
       "</div>"
      ],
      "text/plain": [
       "   SAFETYEQ  DISTRACTED  CROSSING    REGION  URBAN_CITY  ALL_VHICLES_IN_CRASH  \\\n",
       "0 -0.314119    1.041709 -1.540971  0.322185    0.383193             -0.127543   \n",
       "1 -0.314119   -0.959961  0.648941  1.217114    0.383193             -0.127543   \n",
       "2 -0.314119    1.041709  0.648941 -0.572744    0.383193             -0.127543   \n",
       "3 -0.314119   -0.959961 -1.540971 -1.467674    0.383193             -0.127543   \n",
       "4 -0.314119    1.041709  0.648941  1.217114    0.383193             -0.127543   \n",
       "\n",
       "   PARKED_VEHICLES  PERSON_IN_VEHICLE      YEAR     MONTH  ...   WEATHER  \\\n",
       "0        -0.088689          -0.347976  0.246862 -1.187418  ... -0.381858   \n",
       "1        -0.088689          -0.347976 -1.493720 -1.485270  ... -0.381858   \n",
       "2        -0.088689          -0.347976 -1.493720  1.493255  ... -0.020956   \n",
       "3        -0.088689          -0.347976  0.246862  0.003992  ... -0.381858   \n",
       "4        -0.088689          -0.347976  1.407250 -0.293860  ... -0.381858   \n",
       "\n",
       "   SCHOOL_BUS  INTERSTATE_HWY   ALCOHOL  SPEEDING  TRAFFICWAY  \\\n",
       "0   -0.066504       -0.116345 -0.240841 -0.157784    1.292633   \n",
       "1   -0.066504       -0.116345 -0.240841  6.337770   -0.306598   \n",
       "2   -0.066504       -0.116345 -0.240841 -0.157784    1.292633   \n",
       "3   -0.066504       -0.116345 -0.240841 -0.157784   -0.306598   \n",
       "4   -0.066504       -0.116345 -0.240841 -0.157784   -0.306598   \n",
       "\n",
       "   NUMBER_OF_LANES  SPEED_LIMIT  ROADWAY_ALIGNMENT  TRAFFIC_CONTROL_DEVICE  \n",
       "0         0.568570    -1.370774             0.1024                0.568523  \n",
       "1        -0.283008     0.333348             0.1024                1.909591  \n",
       "2         0.568570     1.185408             0.1024               -0.772545  \n",
       "3        -0.283008    -0.000363             0.1024               -0.772545  \n",
       "4        -0.283008     0.759378             0.1024                0.568523  \n",
       "\n",
       "[5 rows x 28 columns]"
      ]
     },
     "execution_count": 107,
     "metadata": {},
     "output_type": "execute_result"
    }
   ],
   "source": [
    "# Initialize SMOTE with a smaller number of k_neighbors\n",
    "# k_neighbors must be < the lowest class count - 1\n",
    "smote = SMOTE(k_neighbors=min([y_train.value_counts().min() - 1, 5]))  \n",
    "\n",
    "# Apply SMOTE\n",
    "X_train_smote, y_train_smote = smote.fit_resample(X_train_scaled_df, y_train)\n",
    "X_train_smote_df = pd.DataFrame(X_train_smote, columns=X_train_scaled_df.columns)\n",
    "X_train_smote_df.head()"
   ]
  },
  {
   "cell_type": "markdown",
   "id": "c49d84b2",
   "metadata": {},
   "source": [
    "# SMOTE Random Forest Model:"
   ]
  },
  {
   "cell_type": "code",
   "execution_count": 108,
   "id": "38aebdb5",
   "metadata": {},
   "outputs": [
    {
     "data": {
      "text/plain": [
       "array([0, 1, 2])"
      ]
     },
     "execution_count": 108,
     "metadata": {},
     "output_type": "execute_result"
    }
   ],
   "source": [
    "np.unique(y_train_smote)"
   ]
  },
  {
   "cell_type": "code",
   "execution_count": 109,
   "id": "e3c016b5",
   "metadata": {},
   "outputs": [
    {
     "data": {
      "text/plain": [
       "PED_SAFETY\n",
       "0    16084\n",
       "2    16084\n",
       "1    16084\n",
       "Name: count, dtype: int64"
      ]
     },
     "execution_count": 109,
     "metadata": {},
     "output_type": "execute_result"
    }
   ],
   "source": [
    "y_train_smote.value_counts()"
   ]
  },
  {
   "cell_type": "code",
   "execution_count": 110,
   "id": "a27698dd",
   "metadata": {
    "scrolled": true
   },
   "outputs": [
    {
     "name": "stderr",
     "output_type": "stream",
     "text": [
      "100%|███████████████████████████████████████████| 50/50 [06:32<00:00,  7.85s/it]\n"
     ]
    },
    {
     "name": "stdout",
     "output_type": "stream",
     "text": [
      "Saved the best model\n",
      "{'mean_fit_time': array([11.63933487,  3.62332301,  2.88125658,  7.99558492,  7.74618516,\n",
      "        8.72708478,  8.76733623, 13.37990556,  4.93058176,  2.30980568]), 'std_fit_time': array([1.8855478 , 0.11232654, 0.19928472, 0.47437035, 0.33552579,\n",
      "       0.43014955, 0.42964472, 1.12505799, 0.15102116, 0.10322077]), 'mean_score_time': array([0.53647223, 0.13900223, 0.10398712, 0.30689855, 0.26901708,\n",
      "       0.36472282, 0.35807343, 0.72096124, 0.22876949, 0.10186973]), 'std_score_time': array([0.10504474, 0.00314214, 0.00913345, 0.02456043, 0.01024656,\n",
      "       0.06581127, 0.07094996, 0.14397568, 0.01289886, 0.00737147]), 'param_n_estimators': masked_array(data=[300, 100, 100, 200, 300, 200, 200, 300, 100, 100],\n",
      "             mask=[False, False, False, False, False, False, False, False,\n",
      "                   False, False],\n",
      "       fill_value='?',\n",
      "            dtype=object), 'param_min_samples_split': masked_array(data=[2, 10, 10, 5, 10, 10, 10, 2, 2, 2],\n",
      "             mask=[False, False, False, False, False, False, False, False,\n",
      "                   False, False],\n",
      "       fill_value='?',\n",
      "            dtype=object), 'param_min_samples_leaf': masked_array(data=[1, 4, 2, 4, 4, 1, 1, 1, 1, 2],\n",
      "             mask=[False, False, False, False, False, False, False, False,\n",
      "                   False, False],\n",
      "       fill_value='?',\n",
      "            dtype=object), 'param_max_features': masked_array(data=['log2', 'auto', 'sqrt', 'auto', 'sqrt', 'sqrt', 'auto',\n",
      "                   'log2', 'sqrt', 'log2'],\n",
      "             mask=[False, False, False, False, False, False, False, False,\n",
      "                   False, False],\n",
      "       fill_value='?',\n",
      "            dtype=object), 'param_max_depth': masked_array(data=[20, 20, 10, None, 10, 20, 20, None, None, 10],\n",
      "             mask=[False, False, False, False, False, False, False, False,\n",
      "                   False, False],\n",
      "       fill_value='?',\n",
      "            dtype=object), 'params': [{'n_estimators': 300, 'min_samples_split': 2, 'min_samples_leaf': 1, 'max_features': 'log2', 'max_depth': 20}, {'n_estimators': 100, 'min_samples_split': 10, 'min_samples_leaf': 4, 'max_features': 'auto', 'max_depth': 20}, {'n_estimators': 100, 'min_samples_split': 10, 'min_samples_leaf': 2, 'max_features': 'sqrt', 'max_depth': 10}, {'n_estimators': 200, 'min_samples_split': 5, 'min_samples_leaf': 4, 'max_features': 'auto', 'max_depth': None}, {'n_estimators': 300, 'min_samples_split': 10, 'min_samples_leaf': 4, 'max_features': 'sqrt', 'max_depth': 10}, {'n_estimators': 200, 'min_samples_split': 10, 'min_samples_leaf': 1, 'max_features': 'sqrt', 'max_depth': 20}, {'n_estimators': 200, 'min_samples_split': 10, 'min_samples_leaf': 1, 'max_features': 'auto', 'max_depth': 20}, {'n_estimators': 300, 'min_samples_split': 2, 'min_samples_leaf': 1, 'max_features': 'log2', 'max_depth': None}, {'n_estimators': 100, 'min_samples_split': 2, 'min_samples_leaf': 1, 'max_features': 'sqrt', 'max_depth': None}, {'n_estimators': 100, 'min_samples_split': 2, 'min_samples_leaf': 2, 'max_features': 'log2', 'max_depth': 10}], 'split0_test_accuracy': array([0.67858253, 0.64977723, 0.60667288, 0.65381826, 0.60688012,\n",
      "       0.65744482, 0.65744482, 0.69433219, 0.68251995, 0.61040307]), 'split1_test_accuracy': array([0.91244431, 0.8798052 , 0.78054088, 0.89151383, 0.78333851,\n",
      "       0.89773081, 0.89773081, 0.93016268, 0.92322039, 0.7749456 ]), 'split2_test_accuracy': array([0.92642487, 0.89139896, 0.78860104, 0.90590674, 0.78984456,\n",
      "       0.91388601, 0.91388601, 0.94870466, 0.94549223, 0.7788601 ]), 'split3_test_accuracy': array([0.92725389, 0.89150259, 0.78943005, 0.90580311, 0.79305699,\n",
      "       0.91233161, 0.91233161, 0.94756477, 0.94414508, 0.78041451]), 'split4_test_accuracy': array([0.92352332, 0.89036269, 0.79056995, 0.90507772, 0.79481865,\n",
      "       0.91150259, 0.91150259, 0.94756477, 0.9384456 , 0.78290155]), 'mean_test_accuracy': array([0.87364578, 0.84056934, 0.75116296, 0.85242393, 0.75358777,\n",
      "       0.85857917, 0.85857917, 0.89366581, 0.88676465, 0.74550497]), 'std_test_accuracy': array([0.0976752 , 0.09549692, 0.07233165, 0.09945291, 0.07345829,\n",
      "       0.10073424, 0.10073424, 0.09990534, 0.10242781, 0.06760033]), 'rank_test_accuracy': array([ 3,  7,  9,  6,  8,  4,  4,  1,  2, 10], dtype=int32), 'split0_test_precision': array([0.76871397, 0.7103685 , 0.60196774, 0.7215496 , 0.60079325,\n",
      "       0.73424698, 0.73424698, 0.79523655, 0.78281266, 0.60815893]), 'split1_test_precision': array([0.9133251 , 0.88023484, 0.78129705, 0.89182955, 0.78443523,\n",
      "       0.89837287, 0.89837287, 0.92989686, 0.9229184 , 0.7752585 ]), 'split2_test_precision': array([0.92891593, 0.89426264, 0.79063833, 0.9084064 , 0.79204432,\n",
      "       0.91666458, 0.91666458, 0.95060473, 0.94744485, 0.78075071]), 'split3_test_precision': array([0.93043769, 0.89550691, 0.7917085 , 0.90880174, 0.79635648,\n",
      "       0.91599947, 0.91599947, 0.94935696, 0.9460653 , 0.78296866]), 'split4_test_precision': array([0.9260932 , 0.89332722, 0.79396662, 0.90754224, 0.79900306,\n",
      "       0.91430746, 0.91430746, 0.94930876, 0.94054616, 0.78641111]), 'mean_test_precision': array([0.89349718, 0.85474002, 0.75191565, 0.86762591, 0.75452647,\n",
      "       0.87591827, 0.87591827, 0.91488077, 0.90795748, 0.74670958]), 'std_test_precision': array([0.06268267, 0.07239623, 0.07509839, 0.07331564, 0.0770246 ,\n",
      "       0.0711554 , 0.0711554 , 0.06031636, 0.06317996, 0.0693701 ]), 'rank_test_precision': array([ 3,  7,  9,  6,  8,  4,  4,  1,  2, 10], dtype=int32), 'split0_test_recall': array([0.67858253, 0.64977723, 0.60667288, 0.65381826, 0.60688012,\n",
      "       0.65744482, 0.65744482, 0.69433219, 0.68251995, 0.61040307]), 'split1_test_recall': array([0.91244431, 0.8798052 , 0.78054088, 0.89151383, 0.78333851,\n",
      "       0.89773081, 0.89773081, 0.93016268, 0.92322039, 0.7749456 ]), 'split2_test_recall': array([0.92642487, 0.89139896, 0.78860104, 0.90590674, 0.78984456,\n",
      "       0.91388601, 0.91388601, 0.94870466, 0.94549223, 0.7788601 ]), 'split3_test_recall': array([0.92725389, 0.89150259, 0.78943005, 0.90580311, 0.79305699,\n",
      "       0.91233161, 0.91233161, 0.94756477, 0.94414508, 0.78041451]), 'split4_test_recall': array([0.92352332, 0.89036269, 0.79056995, 0.90507772, 0.79481865,\n",
      "       0.91150259, 0.91150259, 0.94756477, 0.9384456 , 0.78290155]), 'mean_test_recall': array([0.87364578, 0.84056934, 0.75116296, 0.85242393, 0.75358777,\n",
      "       0.85857917, 0.85857917, 0.89366581, 0.88676465, 0.74550497]), 'std_test_recall': array([0.0976752 , 0.09549692, 0.07233165, 0.09945291, 0.07345829,\n",
      "       0.10073424, 0.10073424, 0.09990534, 0.10242781, 0.06760033]), 'rank_test_recall': array([ 3,  7,  9,  6,  8,  4,  4,  1,  2, 10], dtype=int32), 'split0_test_f1': array([0.64109762, 0.60470276, 0.55087566, 0.61000096, 0.55003787,\n",
      "       0.6134817 , 0.6134817 , 0.6638847 , 0.64885491, 0.55558635]), 'split1_test_f1': array([0.91133055, 0.87818752, 0.7726679 , 0.8901956 , 0.7760131 ,\n",
      "       0.8964805 , 0.8964805 , 0.92964358, 0.92262845, 0.76637907]), 'split2_test_f1': array([0.92640329, 0.89101534, 0.78349799, 0.90582099, 0.78503082,\n",
      "       0.91382111, 0.91382111, 0.94873646, 0.94556341, 0.77291281]), 'split3_test_f1': array([0.92712468, 0.8906732 , 0.78307219, 0.90541579, 0.78731282,\n",
      "       0.91207146, 0.91207146, 0.94756063, 0.94416966, 0.77317914]), 'split4_test_f1': array([0.92351396, 0.89005537, 0.78561748, 0.90508019, 0.79056971,\n",
      "       0.9114886 , 0.9114886 , 0.94762735, 0.93858552, 0.77712106]), 'mean_test_f1': array([0.86589402, 0.83092684, 0.73514624, 0.8433027 , 0.73779287,\n",
      "       0.84946867, 0.84946867, 0.88749054, 0.87996039, 0.72903568]), 'std_test_f1': array([0.11254201, 0.11321426, 0.09224495, 0.11680041, 0.09400188,\n",
      "       0.11815818, 0.11815818, 0.11202889, 0.11583937, 0.08679315]), 'rank_test_f1': array([ 3,  7,  9,  6,  8,  4,  4,  1,  2, 10], dtype=int32)}\n"
     ]
    }
   ],
   "source": [
    "def train_best_model(X_train_smote, y_train_smote, X_test, y_test, num_iters=10, num_folds_cv=5):\n",
    "    model_file = \"smote_best_model_rf.joblib\"\n",
    "\n",
    "    if os.path.exists(model_file):\n",
    "        print(\"Loading the best model\")\n",
    "        rand_search_rf = joblib.load(model_file)\n",
    "    else:\n",
    "        # Parameters to experiment with\n",
    "        param_distributions_rf = {\n",
    "            'n_estimators': [100, 200, 300],\n",
    "            'max_depth': [None, 10, 20],\n",
    "            'min_samples_split': [2, 5, 10],\n",
    "            'min_samples_leaf': [1, 2, 4],\n",
    "            'max_features': ['auto', 'sqrt', 'log2']\n",
    "        }\n",
    "\n",
    "        rf = RandomForestClassifier(random_state=42)\n",
    "\n",
    "        # Set scoring metrics\n",
    "        scoring_metrics = {\n",
    "            'accuracy': make_scorer(accuracy_score),\n",
    "            'precision': make_scorer(precision_score, average='weighted'),\n",
    "            'recall': make_scorer(recall_score, average='weighted'),\n",
    "            'f1': make_scorer(f1_score, average='weighted')\n",
    "        }\n",
    "\n",
    "        # Conduct randomized search cross-validation\n",
    "        rand_search_rf = RandomizedSearchCV(estimator=rf, param_distributions=param_distributions_rf,\n",
    "                                            n_iter=num_iters, cv=num_folds_cv, scoring=scoring_metrics, refit='accuracy')\n",
    "\n",
    "        with tqdm(total=num_iters * num_folds_cv) as pbar:\n",
    "            rand_search_rf.fit(X_train_smote, y_train_smote)\n",
    "            pbar.update(num_folds_cv*num_iters)\n",
    "\n",
    "        joblib.dump(rand_search_rf, model_file)\n",
    "        print(\"Saved the best model\")\n",
    "\n",
    "    # Retrieve the best estimator and parameters\n",
    "    best_params_rf = rand_search_rf.best_params_\n",
    "    best_rf_model = rand_search_rf.best_estimator_\n",
    "\n",
    "    cv_results = rand_search_rf.cv_results_\n",
    "    print(cv_results)\n",
    "\n",
    "    return best_rf_model, best_params_rf\n",
    "\n",
    "best_rf_model, best_params_rf = train_best_model(X_train_smote, y_train_smote, X_test, y_test)\n"
   ]
  },
  {
   "cell_type": "code",
   "execution_count": 111,
   "id": "6443df9a",
   "metadata": {},
   "outputs": [
    {
     "data": {
      "text/plain": [
       "{'n_estimators': 300,\n",
       " 'min_samples_split': 2,\n",
       " 'min_samples_leaf': 1,\n",
       " 'max_features': 'log2',\n",
       " 'max_depth': None}"
      ]
     },
     "execution_count": 111,
     "metadata": {},
     "output_type": "execute_result"
    }
   ],
   "source": [
    "best_params_rf"
   ]
  },
  {
   "cell_type": "code",
   "execution_count": 113,
   "id": "33728ce7",
   "metadata": {},
   "outputs": [
    {
     "name": "stdout",
     "output_type": "stream",
     "text": [
      "SPEED_LIMIT: 0.1428265140035148\n",
      "LIGHT_CONDITION: 0.10226108833978945\n",
      "MONTH: 0.09672343857418503\n",
      "YEAR: 0.08612159673661969\n",
      "DAY_WEEK: 0.07755913689640374\n",
      "REGION: 0.0729123395951255\n",
      "NUMBER_OF_LANES: 0.055484286918359105\n",
      "INTERSECTION_TYPE: 0.051327503009717425\n",
      "TRAFFIC_CONTROL_DEVICE: 0.04869842539747098\n",
      "TRAFFICWAY: 0.04084200393493267\n",
      "DISTRACTED: 0.03774795645252923\n",
      "WEATHER: 0.030687810898512576\n",
      "PERSON_IN_VEHICLE: 0.029647108500324554\n",
      "CROSSING: 0.02406218946470146\n",
      "WEEKEND: 0.01855094111480596\n",
      "URBAN_CITY: 0.01622074943209523\n",
      "ALCOHOL: 0.012298488046380384\n",
      "CRASH_LOCATION: 0.01206702371155206\n",
      "SAFETYEQ: 0.01008256257914086\n",
      "ROADWAY_ALIGNMENT: 0.009843397260514353\n",
      "SPEEDING: 0.006007804099036611\n",
      "ALL_VHICLES_IN_CRASH: 0.005682716231473423\n",
      "INTERSTATE_HWY: 0.004828407198738544\n",
      "JUNCTION: 0.002502447836350935\n",
      "WORK_ZONE: 0.00224191959373951\n",
      "PARKED_VEHICLES: 0.0019094157761242027\n",
      "SCHOOL_BUS: 0.0008616449309299202\n",
      "COLLUSION: 1.0834669319706304e-06\n"
     ]
    }
   ],
   "source": [
    "# Feature Importance Plot:\n",
    "impts = best_rf_model.feature_importances_\n",
    "\n",
    "feature_names = X_train_scaled_df.columns\n",
    "\n",
    "idxs = np.argsort(impts)[::-1]\n",
    "\n",
    "for i in idxs:\n",
    "    print(f\"{feature_names[i]}: {impts[i]}\")\n"
   ]
  },
  {
   "cell_type": "code",
   "execution_count": 114,
   "id": "809747f8",
   "metadata": {},
   "outputs": [
    {
     "data": {
      "image/png": "[encoded data removed]",
      "text/plain": [
       "<Figure size 1000x500 with 1 Axes>"
      ]
     },
     "metadata": {},
     "output_type": "display_data"
    }
   ],
   "source": [
    "impts = best_rf_model.feature_importances_\n",
    "idxs = np.argsort(impts)[::-1]\n",
    "\n",
    "plt.figure(figsize=(10, 5))\n",
    "plt.title(\"Feature Importances for the\\nSMOTE Random Forest Model for CRSS Data\")\n",
    "plt.bar(range(len(impts)), impts[idxs], align=\"center\")\n",
    "plt.xticks(range(len(impts)), [feature_names[i] for i in idxs], rotation=90)  # Make labels vertical\n",
    "plt.xlabel(\"Feature\")\n",
    "plt.ylabel(\"Importance\")\n",
    "plt.show()\n",
    "\n"
   ]
  },
  {
   "cell_type": "code",
   "execution_count": 115,
   "id": "8a43cc6d",
   "metadata": {},
   "outputs": [
    {
     "name": "stdout",
     "output_type": "stream",
     "text": [
      "Best SMOTE Random Forest Model's Test Accuracy: 0.7542458992596893\n"
     ]
    }
   ],
   "source": [
    "# Find predictions for the test data using the best model\n",
    "preds_rf = best_rf_model.predict(X_test_scaled_df)\n",
    "\n",
    "# Find the test accuracy\n",
    "acc_rf = accuracy_score(y_test, preds_rf)\n",
    "print(\"Best SMOTE Random Forest Model's Test Accuracy:\", acc_rf)"
   ]
  },
  {
   "cell_type": "code",
   "execution_count": 116,
   "id": "062b6581",
   "metadata": {},
   "outputs": [
    {
     "name": "stdout",
     "output_type": "stream",
     "text": [
      "Classification Report SMOTE Random Forest Model:\n",
      "\n",
      "              precision    recall  f1-score   support\n",
      "\n",
      "           0       0.80      0.94      0.87      5304\n",
      "           1       0.31      0.11      0.16      1263\n",
      "           2       0.34      0.29      0.31       322\n",
      "\n",
      "    accuracy                           0.75      6889\n",
      "   macro avg       0.48      0.44      0.45      6889\n",
      "weighted avg       0.69      0.75      0.71      6889\n",
      "\n"
     ]
    }
   ],
   "source": [
    "print(\"Classification Report SMOTE Random Forest Model:\\n\")\n",
    "print(classification_report(y_test, preds_rf))\n"
   ]
  },
  {
   "cell_type": "code",
   "execution_count": 120,
   "id": "ad59f271",
   "metadata": {},
   "outputs": [],
   "source": [
    "conf_mat_rf = confusion_matrix(y_test, preds_rf)"
   ]
  },
  {
   "cell_type": "code",
   "execution_count": 121,
   "id": "7a8cba16",
   "metadata": {},
   "outputs": [
    {
     "name": "stdout",
     "output_type": "stream",
     "text": [
      "[[5338    0    0]\n",
      " [1217    0    0]\n",
      " [ 334    0    0]]\n"
     ]
    }
   ],
   "source": [
    "print(conf_mat_rf)"
   ]
  },
  {
   "cell_type": "code",
   "execution_count": 122,
   "id": "335d4e4d",
   "metadata": {},
   "outputs": [
    {
     "data": {
      "image/png": "[encoded data removed]",
      "text/plain": [
       "<Figure size 800x600 with 1 Axes>"
      ]
     },
     "metadata": {},
     "output_type": "display_data"
    }
   ],
   "source": [
    "plt.figure(figsize=(8, 6))\n",
    "sns.heatmap(conf_mat_rf, annot=True, fmt=\"d\", cmap=\"Blues\", cbar=False)\n",
    "plt.title(\"Confusion Matrix\")\n",
    "plt.xlabel(\"Predicted Label\")\n",
    "plt.ylabel(\"True Label\")\n",
    "plt.show()\n"
   ]
  },
  {
   "cell_type": "markdown",
   "id": "556ea4e8",
   "metadata": {},
   "source": [
    "# SMOTE FFNN Model:"
   ]
  },
  {
   "cell_type": "code",
   "execution_count": null,
   "id": "eec4bb95",
   "metadata": {
    "scrolled": true
   },
   "outputs": [],
   "source": [
    "def train_best_nn_model(X_train_smote, y_train_smote, X_test, y_test, inp_shp, num_epochs=50, batch_size=32):\n",
    "    \n",
    "    model_file = \"smote_best_model_nn.h5\"\n",
    "    \n",
    "    if os.path.exists(model_file):\n",
    "        print(\"Loading a neural network\")\n",
    "        best_nn_model = load_model(model_file)\n",
    "        # Accessing model configuration:\n",
    "        optimizer_config = best_nn_model.optimizer.get_config()\n",
    "        print(\"Optimizer:\", optimizer_config)\n",
    "    else:\n",
    "        nn_model = Sequential([\n",
    "            Dense(32, activation='relu', input_shape=(inp_shp,)),\n",
    "            BatchNormalization(),\n",
    "            Dense(3, activation='softmax') # 3 possible output class values of 0, 1, or 2\n",
    "        ])\n",
    "        \n",
    "        nn_model.compile(optimizer='adam', loss='sparse_categorical_crossentropy', metrics=['accuracy'])\n",
    "        \n",
    "        early_stop_monitor = EarlyStopping(\n",
    "            monitor='val_loss',\n",
    "            patience=5, # Stop training when no improvement in validation loss for 5 consecutive epochs\n",
    "            verbose=1\n",
    "        )\n",
    "\n",
    "        nn_model.fit(X_train_smote, y_train_smote, epochs=num_epochs, batch_size=batch_size, \n",
    "                     validation_split=0.2, callbacks=[early_stop_monitor])\n",
    "\n",
    "        nn_model.save(model_file)\n",
    "        print(\"Saved a neural network model to file.\")\n",
    "\n",
    "        best_nn_model = nn_model\n",
    "        optimizer_config = best_nn_model.optimizer.get_config()\n",
    "\n",
    "    return best_nn_model, optimizer_config\n"
   ]
  },
  {
   "cell_type": "code",
   "execution_count": 124,
   "id": "ff6d2a4f",
   "metadata": {
    "scrolled": true
   },
   "outputs": [
    {
     "name": "stdout",
     "output_type": "stream",
     "text": [
      "Epoch 1/50\n",
      "1204/1204 [==============================] - 2s 1ms/step - loss: 0.9249 - accuracy: 0.5320 - val_loss: 1.2701 - val_accuracy: 0.3542\n",
      "Epoch 2/50\n",
      "1204/1204 [==============================] - 1s 1ms/step - loss: 0.8519 - accuracy: 0.5718 - val_loss: 1.1396 - val_accuracy: 0.4474\n",
      "Epoch 3/50\n",
      "1204/1204 [==============================] - 1s 1ms/step - loss: 0.8350 - accuracy: 0.5834 - val_loss: 1.1453 - val_accuracy: 0.4323\n",
      "Epoch 4/50\n",
      "1204/1204 [==============================] - 1s 1ms/step - loss: 0.8234 - accuracy: 0.5877 - val_loss: 1.0374 - val_accuracy: 0.5334\n",
      "Epoch 5/50\n",
      "1204/1204 [==============================] - 1s 1ms/step - loss: 0.8156 - accuracy: 0.5953 - val_loss: 1.0134 - val_accuracy: 0.5324\n",
      "Epoch 6/50\n",
      "1204/1204 [==============================] - 1s 1ms/step - loss: 0.8068 - accuracy: 0.6033 - val_loss: 0.9797 - val_accuracy: 0.5613\n",
      "Epoch 7/50\n",
      "1204/1204 [==============================] - 1s 1ms/step - loss: 0.8046 - accuracy: 0.6002 - val_loss: 0.9445 - val_accuracy: 0.5877\n",
      "Epoch 8/50\n",
      "1204/1204 [==============================] - 1s 1ms/step - loss: 0.7995 - accuracy: 0.6086 - val_loss: 1.0297 - val_accuracy: 0.5024\n",
      "Epoch 9/50\n",
      "1204/1204 [==============================] - 1s 1ms/step - loss: 0.7946 - accuracy: 0.6101 - val_loss: 1.0869 - val_accuracy: 0.4882\n",
      "Epoch 10/50\n",
      "1204/1204 [==============================] - 1s 1ms/step - loss: 0.7910 - accuracy: 0.6123 - val_loss: 0.9936 - val_accuracy: 0.5239\n",
      "Epoch 11/50\n",
      "1204/1204 [==============================] - 1s 1ms/step - loss: 0.7854 - accuracy: 0.6148 - val_loss: 0.9618 - val_accuracy: 0.5640\n",
      "Epoch 12/50\n",
      "1204/1204 [==============================] - 1s 1ms/step - loss: 0.7846 - accuracy: 0.6162 - val_loss: 0.9612 - val_accuracy: 0.5504\n",
      "Epoch 12: early stopping\n",
      "Saved a neural network model to file.\n"
     ]
    }
   ],
   "source": [
    "# Call the function\n",
    "best_nn_model, optimizer_config = train_best_nn_model(X_train_smote, y_train_smote, X_test_scaled_df, y_test, inp_shp=28)"
   ]
  },
  {
   "cell_type": "code",
   "execution_count": 126,
   "id": "18b26ca1",
   "metadata": {},
   "outputs": [
    {
     "name": "stdout",
     "output_type": "stream",
     "text": [
      "216/216 [==============================] - 0s 773us/step\n",
      "SMOTE Neural Network Test Accuracy: 0.6236028451154013\n"
     ]
    }
   ],
   "source": [
    "preds_nn_prob = best_nn_model.predict(X_test_scaled_df)\n",
    "\n",
    "# Change probabilities to labels\n",
    "preds_nn = np.argmax(preds_nn_prob, axis=1)\n",
    "\n",
    "acc_nn = accuracy_score(y_test, preds_nn)\n",
    "print(\"SMOTE Neural Network Test Accuracy:\", acc_nn)\n"
   ]
  },
  {
   "cell_type": "code",
   "execution_count": 127,
   "id": "5c1aeb74",
   "metadata": {},
   "outputs": [
    {
     "name": "stdout",
     "output_type": "stream",
     "text": [
      "Classification Report for the SMOTE Feed Forward Neural Network Model:\n",
      "              precision    recall  f1-score   support\n",
      "\n",
      "           0       0.86      0.68      0.76      5338\n",
      "           1       0.25      0.45      0.32      1217\n",
      "           2       0.25      0.30      0.28       334\n",
      "\n",
      "    accuracy                           0.62      6889\n",
      "   macro avg       0.45      0.48      0.45      6889\n",
      "weighted avg       0.72      0.62      0.66      6889\n",
      "\n"
     ]
    }
   ],
   "source": [
    "nn_classif_report = classification_report(y_test, preds_nn)\n",
    "print(\"Classification Report for the SMOTE Feed Forward Neural Network Model:\")\n",
    "print(nn_classif_report)"
   ]
  },
  {
   "cell_type": "code",
   "execution_count": 128,
   "id": "ddb26401",
   "metadata": {},
   "outputs": [
    {
     "name": "stdout",
     "output_type": "stream",
     "text": [
      "Model: \"sequential_1\"\n",
      "_________________________________________________________________\n",
      " Layer (type)                Output Shape              Param #   \n",
      "=================================================================\n",
      " dense_2 (Dense)             (None, 32)                928       \n",
      "                                                                 \n",
      " batch_normalization_1 (Batc  (None, 32)               128       \n",
      " hNormalization)                                                 \n",
      "                                                                 \n",
      " dense_3 (Dense)             (None, 3)                 99        \n",
      "                                                                 \n",
      "=================================================================\n",
      "Total params: 1,155\n",
      "Trainable params: 1,091\n",
      "Non-trainable params: 64\n",
      "_________________________________________________________________\n"
     ]
    }
   ],
   "source": [
    "best_nn_model.summary()"
   ]
  },
  {
   "cell_type": "code",
   "execution_count": 129,
   "id": "597e99d2",
   "metadata": {},
   "outputs": [],
   "source": [
    "conf_mat_nn = confusion_matrix(y_test, preds_nn)"
   ]
  },
  {
   "cell_type": "code",
   "execution_count": 130,
   "id": "f08004fe",
   "metadata": {},
   "outputs": [
    {
     "name": "stdout",
     "output_type": "stream",
     "text": [
      "[[3644 1508  186]\n",
      " [ 556  551  110]\n",
      " [  57  176  101]]\n"
     ]
    }
   ],
   "source": [
    "print(conf_mat_nn)"
   ]
  },
  {
   "cell_type": "code",
   "execution_count": 131,
   "id": "faaabf53",
   "metadata": {},
   "outputs": [
    {
     "data": {
      "image/png": "[encoded data removed]",
      "text/plain": [
       "<Figure size 800x600 with 1 Axes>"
      ]
     },
     "metadata": {},
     "output_type": "display_data"
    }
   ],
   "source": [
    "plt.figure(figsize=(8, 6))\n",
    "sns.heatmap(conf_mat_nn, annot=True, fmt=\"d\", cmap=\"Blues\", cbar=False)\n",
    "plt.title(\"Confusion Matrix\")\n",
    "plt.xlabel(\"Predicted Label\")\n",
    "plt.ylabel(\"True Label\")\n",
    "plt.show()\n"
   ]
  }
 ],
 "metadata": {
  "kernelspec": {
   "display_name": "Python 3 (ipykernel)",
   "language": "python",
   "name": "python3"
  },
  "language_info": {
   "codemirror_mode": {
    "name": "ipython",
    "version": 3
   },
   "file_extension": ".py",
   "mimetype": "text/x-python",
   "name": "python",
   "nbconvert_exporter": "python",
   "pygments_lexer": "ipython3",
   "version": "3.12.4"
  }
 },
 "nbformat": 4,
 "nbformat_minor": 5
}
