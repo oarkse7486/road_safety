{
 "cells": [
  {
   "cell_type": "code",
   "execution_count": 1,
   "id": "5e7e89b4",
   "metadata": {},
   "outputs": [
    {
     "name": "stderr",
     "output_type": "stream",
     "text": [
      "2024-05-01 18:20:47.407016: I tensorflow/core/platform/cpu_feature_guard.cc:193] This TensorFlow binary is optimized with oneAPI Deep Neural Network Library (oneDNN) to use the following CPU instructions in performance-critical operations:  SSE4.1 SSE4.2 AVX AVX2 FMA\n",
      "To enable them in other operations, rebuild TensorFlow with the appropriate compiler flags.\n"
     ]
    }
   ],
   "source": [
    "import os\n",
    "import numpy as np\n",
    "import pandas as pd\n",
    "import json\n",
    "import pprint\n",
    "import glob\n",
    "import datetime\n",
    "import random\n",
    "import re\n",
    "import warnings\n",
    "from sklearn.impute import KNNImputer\n",
    "import statsmodels.api as sm\n",
    "import seaborn as sns\n",
    "import matplotlib.pyplot as plt\n",
    "import tensorflow as tf\n",
    "from tensorflow import keras\n",
    "from tensorflow.keras import layers\n",
    "from sklearn import preprocessing, svm\n",
    "from sklearn.model_selection import train_test_split\n",
    "from sklearn.ensemble import RandomForestClassifier\n",
    "from sklearn.metrics import classification_report\n",
    "from sklearn.metrics import mean_squared_error, r2_score\n",
    "from imblearn.over_sampling import SMOTE\n",
    "from imblearn.under_sampling import RandomUnderSampler\n",
    "from imblearn.pipeline import Pipeline\n",
    "from collections import Counter\n",
    "from sklearn.metrics import classification_report, mean_squared_error, r2_score\n",
    "from sklearn.metrics import accuracy_score, confusion_matrix, roc_curve, auc\n",
    "from sklearn.preprocessing import label_binarize\n",
    "from sklearn.multiclass import OneVsRestClassifier\n",
    "\n",
    "warnings.filterwarnings('ignore')\n"
   ]
  },
  {
   "cell_type": "markdown",
   "id": "0dbe0271",
   "metadata": {},
   "source": [
    "#### Decided to exclude latitude and longitude bc they won't really tell us much in terms of conclusions since others had run into the issue of how latitude and longitude expained most of variation, which isn't that accurate in terms of an insight or business value conclusion form the experiment. \n"
   ]
  },
  {
   "cell_type": "markdown",
   "id": "7e6303d9",
   "metadata": {},
   "source": [
    "# Importing Data:"
   ]
  },
  {
   "cell_type": "code",
   "execution_count": 3,
   "id": "72d2de1e",
   "metadata": {},
   "outputs": [
    {
     "data": {
      "text/html": [
       "<div>\n",
       "<style scoped>\n",
       "    .dataframe tbody tr th:only-of-type {\n",
       "        vertical-align: middle;\n",
       "    }\n",
       "\n",
       "    .dataframe tbody tr th {\n",
       "        vertical-align: top;\n",
       "    }\n",
       "\n",
       "    .dataframe thead th {\n",
       "        text-align: right;\n",
       "    }\n",
       "</style>\n",
       "<table border=\"1\" class=\"dataframe\">\n",
       "  <thead>\n",
       "    <tr style=\"text-align: right;\">\n",
       "      <th></th>\n",
       "      <th>YEAR</th>\n",
       "      <th>ST_CASE</th>\n",
       "      <th>PERSONS</th>\n",
       "      <th>HOUR</th>\n",
       "      <th>SCH_BUS</th>\n",
       "      <th>HIT_RUN</th>\n",
       "      <th>MOD_YEAR</th>\n",
       "      <th>DEATHS</th>\n",
       "      <th>DR_DRINK</th>\n",
       "    </tr>\n",
       "  </thead>\n",
       "  <tbody>\n",
       "    <tr>\n",
       "      <th>0</th>\n",
       "      <td>1975</td>\n",
       "      <td>10001</td>\n",
       "      <td>4</td>\n",
       "      <td>20</td>\n",
       "      <td>0.0</td>\n",
       "      <td>0</td>\n",
       "      <td>1973.0</td>\n",
       "      <td>0.0</td>\n",
       "      <td>0.0</td>\n",
       "    </tr>\n",
       "    <tr>\n",
       "      <th>1</th>\n",
       "      <td>1975</td>\n",
       "      <td>10001</td>\n",
       "      <td>4</td>\n",
       "      <td>20</td>\n",
       "      <td>0.0</td>\n",
       "      <td>0</td>\n",
       "      <td>1969.0</td>\n",
       "      <td>0.0</td>\n",
       "      <td>0.0</td>\n",
       "    </tr>\n",
       "    <tr>\n",
       "      <th>2</th>\n",
       "      <td>1975</td>\n",
       "      <td>10001</td>\n",
       "      <td>4</td>\n",
       "      <td>20</td>\n",
       "      <td>0.0</td>\n",
       "      <td>0</td>\n",
       "      <td>1969.0</td>\n",
       "      <td>1.0</td>\n",
       "      <td>0.0</td>\n",
       "    </tr>\n",
       "    <tr>\n",
       "      <th>3</th>\n",
       "      <td>1975</td>\n",
       "      <td>10002</td>\n",
       "      <td>1</td>\n",
       "      <td>19</td>\n",
       "      <td>0.0</td>\n",
       "      <td>0</td>\n",
       "      <td>1971.0</td>\n",
       "      <td>1.0</td>\n",
       "      <td>0.0</td>\n",
       "    </tr>\n",
       "    <tr>\n",
       "      <th>4</th>\n",
       "      <td>1975</td>\n",
       "      <td>10003</td>\n",
       "      <td>2</td>\n",
       "      <td>22</td>\n",
       "      <td>0.0</td>\n",
       "      <td>0</td>\n",
       "      <td>1972.0</td>\n",
       "      <td>1.0</td>\n",
       "      <td>0.0</td>\n",
       "    </tr>\n",
       "  </tbody>\n",
       "</table>\n",
       "</div>"
      ],
      "text/plain": [
       "   YEAR  ST_CASE  PERSONS  HOUR  SCH_BUS  HIT_RUN  MOD_YEAR  DEATHS  DR_DRINK\n",
       "0  1975    10001        4    20      0.0        0    1973.0     0.0       0.0\n",
       "1  1975    10001        4    20      0.0        0    1969.0     0.0       0.0\n",
       "2  1975    10001        4    20      0.0        0    1969.0     1.0       0.0\n",
       "3  1975    10002        1    19      0.0        0    1971.0     1.0       0.0\n",
       "4  1975    10003        2    22      0.0        0    1972.0     1.0       0.0"
      ]
     },
     "execution_count": 3,
     "metadata": {},
     "output_type": "execute_result"
    }
   ],
   "source": [
    "# 1975 to 1981:\n",
    "\n",
    "acc_vehc_sect_1 = pd.read_csv('acc_vehc_sect_1.csv')\n",
    "acc_vehc_sect_1.head()"
   ]
  },
  {
   "cell_type": "code",
   "execution_count": 4,
   "id": "a5da378a",
   "metadata": {},
   "outputs": [
    {
     "data": {
      "text/plain": [
       "(15770, 9)"
      ]
     },
     "execution_count": 4,
     "metadata": {},
     "output_type": "execute_result"
    }
   ],
   "source": [
    "acc_vehc_sect_1.shape"
   ]
  },
  {
   "cell_type": "code",
   "execution_count": 5,
   "id": "b47691be",
   "metadata": {},
   "outputs": [
    {
     "data": {
      "text/plain": [
       "YEAR          int64\n",
       "ST_CASE       int64\n",
       "PERSONS       int64\n",
       "HOUR          int64\n",
       "SCH_BUS     float64\n",
       "HIT_RUN       int64\n",
       "MOD_YEAR    float64\n",
       "DEATHS      float64\n",
       "DR_DRINK    float64\n",
       "dtype: object"
      ]
     },
     "execution_count": 5,
     "metadata": {},
     "output_type": "execute_result"
    }
   ],
   "source": [
    "acc_vehc_sect_1.dtypes"
   ]
  },
  {
   "cell_type": "markdown",
   "id": "c86d37bb",
   "metadata": {},
   "source": [
    "#### Converting the number of deaths version into a categorical variable where all death values 3 and above are placed into a single category"
   ]
  },
  {
   "cell_type": "code",
   "execution_count": 6,
   "id": "c2b6155b",
   "metadata": {},
   "outputs": [],
   "source": [
    "# Converting the death values within DEATHS column plus handling floating-point strings\n",
    "def categorize_deaths(x):\n",
    "    # Initially, transform the value into a float, then an integer to process floating-point strings such as '0.0'.\n",
    "    int_val = int(float(x))\n",
    "    if int_val >= 3:\n",
    "        return '3+'\n",
    "    else:\n",
    "        return str(int_val)\n"
   ]
  },
  {
   "cell_type": "code",
   "execution_count": 7,
   "id": "2864bb4e",
   "metadata": {},
   "outputs": [
    {
     "data": {
      "text/plain": [
       "DEATHS\n",
       "1     7584\n",
       "0     7345\n",
       "2      683\n",
       "3+     158\n",
       "Name: count, dtype: int64"
      ]
     },
     "execution_count": 7,
     "metadata": {},
     "output_type": "execute_result"
    }
   ],
   "source": [
    "# Make sure the 'DEATHS' column is of string type\n",
    "acc_vehc_sect_1['DEATHS'] = acc_vehc_sect_1['DEATHS'].astype(str)\n",
    "\n",
    "# Apply the function that places each death value into a category\n",
    "acc_vehc_sect_1['DEATHS'] = acc_vehc_sect_1['DEATHS'].apply(categorize_deaths)\n",
    "\n",
    "# Convert the 'DEATHS' column to ordinal (categorical)\n",
    "acc_vehc_sect_1['DEATHS'] = pd.Categorical(acc_vehc_sect_1['DEATHS'], \n",
    "                                           categories=['0', '1', '2', '3+'], \n",
    "                                           ordered=True)\n",
    "\n",
    "acc_vehc_sect_1['DEATHS'].value_counts()\n"
   ]
  },
  {
   "cell_type": "code",
   "execution_count": 8,
   "id": "0c823d95",
   "metadata": {},
   "outputs": [],
   "source": [
    "X_1 = acc_vehc_sect_1.loc[:, ~(acc_vehc_sect_1.columns.isin(['DEATHS', 'ROAD_NAME', 'ST_CASE']))]\n",
    "\n",
    "y_1 = acc_vehc_sect_1.loc[:,'DEATHS']\n",
    "\n",
    "X_train_1, X_test_1, y_train_1, y_test_1 = train_test_split(X_1, y_1, test_size = 0.25)"
   ]
  },
  {
   "cell_type": "code",
   "execution_count": 9,
   "id": "72cb05af",
   "metadata": {},
   "outputs": [
    {
     "data": {
      "text/html": [
       "<div>\n",
       "<style scoped>\n",
       "    .dataframe tbody tr th:only-of-type {\n",
       "        vertical-align: middle;\n",
       "    }\n",
       "\n",
       "    .dataframe tbody tr th {\n",
       "        vertical-align: top;\n",
       "    }\n",
       "\n",
       "    .dataframe thead th {\n",
       "        text-align: right;\n",
       "    }\n",
       "</style>\n",
       "<table border=\"1\" class=\"dataframe\">\n",
       "  <thead>\n",
       "    <tr style=\"text-align: right;\">\n",
       "      <th></th>\n",
       "      <th>YEAR</th>\n",
       "      <th>ST_CASE</th>\n",
       "      <th>PERSONS</th>\n",
       "      <th>HOUR</th>\n",
       "      <th>ROAD_NAME</th>\n",
       "      <th>MILE_MARKER</th>\n",
       "      <th>SCH_BUS</th>\n",
       "      <th>HIT_RUN</th>\n",
       "      <th>MOD_YEAR</th>\n",
       "      <th>DEATHS</th>\n",
       "      <th>DR_DRINK</th>\n",
       "    </tr>\n",
       "  </thead>\n",
       "  <tbody>\n",
       "    <tr>\n",
       "      <th>0</th>\n",
       "      <td>1982</td>\n",
       "      <td>10001</td>\n",
       "      <td>2</td>\n",
       "      <td>19</td>\n",
       "      <td>130</td>\n",
       "      <td>78.0</td>\n",
       "      <td>0</td>\n",
       "      <td>0</td>\n",
       "      <td>1972.0</td>\n",
       "      <td>2</td>\n",
       "      <td>0</td>\n",
       "    </tr>\n",
       "    <tr>\n",
       "      <th>1</th>\n",
       "      <td>1982</td>\n",
       "      <td>10002</td>\n",
       "      <td>2</td>\n",
       "      <td>23</td>\n",
       "      <td>285S</td>\n",
       "      <td>38944.0</td>\n",
       "      <td>0</td>\n",
       "      <td>0</td>\n",
       "      <td>1969.0</td>\n",
       "      <td>1</td>\n",
       "      <td>0</td>\n",
       "    </tr>\n",
       "    <tr>\n",
       "      <th>2</th>\n",
       "      <td>1982</td>\n",
       "      <td>10003</td>\n",
       "      <td>1</td>\n",
       "      <td>12</td>\n",
       "      <td>285N</td>\n",
       "      <td>38944.0</td>\n",
       "      <td>0</td>\n",
       "      <td>0</td>\n",
       "      <td>1970.0</td>\n",
       "      <td>1</td>\n",
       "      <td>1</td>\n",
       "    </tr>\n",
       "    <tr>\n",
       "      <th>3</th>\n",
       "      <td>1982</td>\n",
       "      <td>10004</td>\n",
       "      <td>1</td>\n",
       "      <td>1</td>\n",
       "      <td>15</td>\n",
       "      <td>36.0</td>\n",
       "      <td>0</td>\n",
       "      <td>0</td>\n",
       "      <td>1980.0</td>\n",
       "      <td>2</td>\n",
       "      <td>1</td>\n",
       "    </tr>\n",
       "    <tr>\n",
       "      <th>4</th>\n",
       "      <td>1982</td>\n",
       "      <td>10005</td>\n",
       "      <td>2</td>\n",
       "      <td>15</td>\n",
       "      <td>285W</td>\n",
       "      <td>38944.0</td>\n",
       "      <td>0</td>\n",
       "      <td>2</td>\n",
       "      <td>1966.0</td>\n",
       "      <td>0</td>\n",
       "      <td>1</td>\n",
       "    </tr>\n",
       "  </tbody>\n",
       "</table>\n",
       "</div>"
      ],
      "text/plain": [
       "   YEAR  ST_CASE  PERSONS  HOUR ROAD_NAME  MILE_MARKER  SCH_BUS  HIT_RUN  \\\n",
       "0  1982    10001        2    19       130         78.0        0        0   \n",
       "1  1982    10002        2    23      285S      38944.0        0        0   \n",
       "2  1982    10003        1    12      285N      38944.0        0        0   \n",
       "3  1982    10004        1     1        15         36.0        0        0   \n",
       "4  1982    10005        2    15      285W      38944.0        0        2   \n",
       "\n",
       "   MOD_YEAR  DEATHS  DR_DRINK  \n",
       "0    1972.0       2         0  \n",
       "1    1969.0       1         0  \n",
       "2    1970.0       1         1  \n",
       "3    1980.0       2         1  \n",
       "4    1966.0       0         1  "
      ]
     },
     "execution_count": 9,
     "metadata": {},
     "output_type": "execute_result"
    }
   ],
   "source": [
    "# 1982 to 1990:\n",
    "\n",
    "acc_vehc_sect_2 = pd.read_csv('acc_vehc_sect_2.csv')\n",
    "\n",
    "acc_vehc_sect_2.head()"
   ]
  },
  {
   "cell_type": "code",
   "execution_count": 10,
   "id": "a852784f",
   "metadata": {},
   "outputs": [
    {
     "data": {
      "text/plain": [
       "DEATHS\n",
       "1     9457\n",
       "0     7251\n",
       "2      847\n",
       "3+     166\n",
       "Name: count, dtype: int64"
      ]
     },
     "execution_count": 10,
     "metadata": {},
     "output_type": "execute_result"
    }
   ],
   "source": [
    "# Make sure the 'DEATHS' column is of string type\n",
    "acc_vehc_sect_2['DEATHS'] = acc_vehc_sect_2['DEATHS'].astype(str)\n",
    "\n",
    "# Apply the function that places each death value into a category\n",
    "acc_vehc_sect_2['DEATHS'] = acc_vehc_sect_2['DEATHS'].apply(categorize_deaths)\n",
    "\n",
    "# Convert the 'DEATHS' column to ordinal (categorical)\n",
    "acc_vehc_sect_2['DEATHS'] = pd.Categorical(acc_vehc_sect_2['DEATHS'], \n",
    "                                           categories=['0', '1', '2', '3+'], \n",
    "                                           ordered=True)\n",
    "\n",
    "acc_vehc_sect_2['DEATHS'].value_counts()"
   ]
  },
  {
   "cell_type": "code",
   "execution_count": 11,
   "id": "78c14e6f",
   "metadata": {},
   "outputs": [],
   "source": [
    "# Exclude the response variable & categorical variables with too many levels:\n",
    "\n",
    "X_2 = acc_vehc_sect_2.loc[:, ~(acc_vehc_sect_2.columns.isin(['DEATHS', 'ROAD_NAME', 'ST_CASE']))]\n",
    "\n",
    "y_2 = acc_vehc_sect_2.loc[:,'DEATHS']\n",
    "\n",
    "X_train_2, X_test_2, y_train_2, y_test_2 = train_test_split(X_2, y_2, test_size = 0.25)"
   ]
  },
  {
   "cell_type": "code",
   "execution_count": 12,
   "id": "f96f42bb",
   "metadata": {},
   "outputs": [
    {
     "data": {
      "text/html": [
       "<div>\n",
       "<style scoped>\n",
       "    .dataframe tbody tr th:only-of-type {\n",
       "        vertical-align: middle;\n",
       "    }\n",
       "\n",
       "    .dataframe tbody tr th {\n",
       "        vertical-align: top;\n",
       "    }\n",
       "\n",
       "    .dataframe thead th {\n",
       "        text-align: right;\n",
       "    }\n",
       "</style>\n",
       "<table border=\"1\" class=\"dataframe\">\n",
       "  <thead>\n",
       "    <tr style=\"text-align: right;\">\n",
       "      <th></th>\n",
       "      <th>YEAR</th>\n",
       "      <th>ST_CASE</th>\n",
       "      <th>NUM_PEDS</th>\n",
       "      <th>PERSONS</th>\n",
       "      <th>HOUR</th>\n",
       "      <th>ROAD_NAME</th>\n",
       "      <th>MILE_MARKER</th>\n",
       "      <th>SCH_BUS</th>\n",
       "      <th>HIT_RUN</th>\n",
       "      <th>MOD_YEAR</th>\n",
       "      <th>DEATHS</th>\n",
       "      <th>DR_DRINK</th>\n",
       "    </tr>\n",
       "  </thead>\n",
       "  <tbody>\n",
       "    <tr>\n",
       "      <th>0</th>\n",
       "      <td>1991</td>\n",
       "      <td>10001</td>\n",
       "      <td>0</td>\n",
       "      <td>4</td>\n",
       "      <td>2</td>\n",
       "      <td>I75</td>\n",
       "      <td>3173.0</td>\n",
       "      <td>0</td>\n",
       "      <td>0</td>\n",
       "      <td>1989.0</td>\n",
       "      <td>1</td>\n",
       "      <td>0</td>\n",
       "    </tr>\n",
       "    <tr>\n",
       "      <th>1</th>\n",
       "      <td>1991</td>\n",
       "      <td>10002</td>\n",
       "      <td>0</td>\n",
       "      <td>1</td>\n",
       "      <td>8</td>\n",
       "      <td>307</td>\n",
       "      <td>87.0</td>\n",
       "      <td>0</td>\n",
       "      <td>0</td>\n",
       "      <td>1976.0</td>\n",
       "      <td>0</td>\n",
       "      <td>0</td>\n",
       "    </tr>\n",
       "    <tr>\n",
       "      <th>2</th>\n",
       "      <td>1991</td>\n",
       "      <td>10002</td>\n",
       "      <td>0</td>\n",
       "      <td>1</td>\n",
       "      <td>8</td>\n",
       "      <td>307</td>\n",
       "      <td>87.0</td>\n",
       "      <td>0</td>\n",
       "      <td>0</td>\n",
       "      <td>1985.0</td>\n",
       "      <td>0</td>\n",
       "      <td>0</td>\n",
       "    </tr>\n",
       "    <tr>\n",
       "      <th>3</th>\n",
       "      <td>1991</td>\n",
       "      <td>10002</td>\n",
       "      <td>0</td>\n",
       "      <td>1</td>\n",
       "      <td>8</td>\n",
       "      <td>307</td>\n",
       "      <td>87.0</td>\n",
       "      <td>0</td>\n",
       "      <td>0</td>\n",
       "      <td>1989.0</td>\n",
       "      <td>1</td>\n",
       "      <td>0</td>\n",
       "    </tr>\n",
       "    <tr>\n",
       "      <th>4</th>\n",
       "      <td>1991</td>\n",
       "      <td>10002</td>\n",
       "      <td>0</td>\n",
       "      <td>1</td>\n",
       "      <td>8</td>\n",
       "      <td>307</td>\n",
       "      <td>87.0</td>\n",
       "      <td>0</td>\n",
       "      <td>0</td>\n",
       "      <td>1987.0</td>\n",
       "      <td>1</td>\n",
       "      <td>0</td>\n",
       "    </tr>\n",
       "  </tbody>\n",
       "</table>\n",
       "</div>"
      ],
      "text/plain": [
       "   YEAR  ST_CASE  NUM_PEDS  PERSONS  HOUR ROAD_NAME  MILE_MARKER  SCH_BUS  \\\n",
       "0  1991    10001         0        4     2       I75       3173.0        0   \n",
       "1  1991    10002         0        1     8       307         87.0        0   \n",
       "2  1991    10002         0        1     8       307         87.0        0   \n",
       "3  1991    10002         0        1     8       307         87.0        0   \n",
       "4  1991    10002         0        1     8       307         87.0        0   \n",
       "\n",
       "   HIT_RUN  MOD_YEAR  DEATHS  DR_DRINK  \n",
       "0        0    1989.0       1         0  \n",
       "1        0    1976.0       0         0  \n",
       "2        0    1985.0       0         0  \n",
       "3        0    1989.0       1         0  \n",
       "4        0    1987.0       1         0  "
      ]
     },
     "execution_count": 12,
     "metadata": {},
     "output_type": "execute_result"
    }
   ],
   "source": [
    "# 1991 to 2000:\n",
    "\n",
    "acc_vehc_sect_3 = pd.read_csv('acc_vehc_sect_3.csv')\n",
    "\n",
    "acc_vehc_sect_3.head()"
   ]
  },
  {
   "cell_type": "code",
   "execution_count": 13,
   "id": "91caec1a",
   "metadata": {},
   "outputs": [
    {
     "data": {
      "text/plain": [
       "DEATHS\n",
       "1     8811\n",
       "0     6094\n",
       "2      787\n",
       "3+     124\n",
       "Name: count, dtype: int64"
      ]
     },
     "execution_count": 13,
     "metadata": {},
     "output_type": "execute_result"
    }
   ],
   "source": [
    "# Make sure the 'DEATHS' column is of string type\n",
    "acc_vehc_sect_3['DEATHS'] = acc_vehc_sect_3['DEATHS'].astype(str)\n",
    "\n",
    "# Apply the function that places each death value into a category\n",
    "acc_vehc_sect_3['DEATHS'] = acc_vehc_sect_3['DEATHS'].apply(categorize_deaths)\n",
    "\n",
    "# Convert the 'DEATHS' column to ordinal (categorical)\n",
    "acc_vehc_sect_3['DEATHS'] = pd.Categorical(acc_vehc_sect_3['DEATHS'], \n",
    "                                           categories=['0', '1', '2', '3+'], \n",
    "                                           ordered=True)\n",
    "\n",
    "acc_vehc_sect_3['DEATHS'].value_counts()"
   ]
  },
  {
   "cell_type": "code",
   "execution_count": 14,
   "id": "63d9249d",
   "metadata": {},
   "outputs": [],
   "source": [
    "X_3 = acc_vehc_sect_3.loc[:, ~(acc_vehc_sect_3.columns.isin(['DEATHS', 'ROAD_NAME', 'ST_CASE']))]\n",
    "\n",
    "y_3 = acc_vehc_sect_3.loc[:,'DEATHS']\n",
    "\n",
    "X_train_3, X_test_3, y_train_3, y_test_3 = train_test_split(X_3, y_3, test_size = 0.25)"
   ]
  },
  {
   "cell_type": "code",
   "execution_count": 15,
   "id": "e77dfd6f",
   "metadata": {},
   "outputs": [
    {
     "data": {
      "text/html": [
       "<div>\n",
       "<style scoped>\n",
       "    .dataframe tbody tr th:only-of-type {\n",
       "        vertical-align: middle;\n",
       "    }\n",
       "\n",
       "    .dataframe tbody tr th {\n",
       "        vertical-align: top;\n",
       "    }\n",
       "\n",
       "    .dataframe thead th {\n",
       "        text-align: right;\n",
       "    }\n",
       "</style>\n",
       "<table border=\"1\" class=\"dataframe\">\n",
       "  <thead>\n",
       "    <tr style=\"text-align: right;\">\n",
       "      <th></th>\n",
       "      <th>YEAR</th>\n",
       "      <th>ST_CASE</th>\n",
       "      <th>NUM_PEDS</th>\n",
       "      <th>PERSONS</th>\n",
       "      <th>HOUR</th>\n",
       "      <th>ROAD_NAME</th>\n",
       "      <th>MILE_MARKER</th>\n",
       "      <th>SCH_BUS</th>\n",
       "      <th>DEATHS</th>\n",
       "      <th>MOD_YEAR</th>\n",
       "      <th>DR_DRINK</th>\n",
       "      <th>HIT_RUN</th>\n",
       "    </tr>\n",
       "  </thead>\n",
       "  <tbody>\n",
       "    <tr>\n",
       "      <th>0</th>\n",
       "      <td>2001</td>\n",
       "      <td>10001</td>\n",
       "      <td>0</td>\n",
       "      <td>2</td>\n",
       "      <td>21</td>\n",
       "      <td>I-75 (SR 401)</td>\n",
       "      <td>124.0</td>\n",
       "      <td>0</td>\n",
       "      <td>1</td>\n",
       "      <td>1997.0</td>\n",
       "      <td>1</td>\n",
       "      <td>0</td>\n",
       "    </tr>\n",
       "    <tr>\n",
       "      <th>1</th>\n",
       "      <td>2001</td>\n",
       "      <td>10002</td>\n",
       "      <td>0</td>\n",
       "      <td>4</td>\n",
       "      <td>10</td>\n",
       "      <td>I-75 (SR 401)</td>\n",
       "      <td>12.0</td>\n",
       "      <td>0</td>\n",
       "      <td>1</td>\n",
       "      <td>1994.0</td>\n",
       "      <td>0</td>\n",
       "      <td>0</td>\n",
       "    </tr>\n",
       "    <tr>\n",
       "      <th>2</th>\n",
       "      <td>2001</td>\n",
       "      <td>10003</td>\n",
       "      <td>0</td>\n",
       "      <td>2</td>\n",
       "      <td>14</td>\n",
       "      <td>US-25 (SR 23)</td>\n",
       "      <td>106.0</td>\n",
       "      <td>0</td>\n",
       "      <td>1</td>\n",
       "      <td>1992.0</td>\n",
       "      <td>0</td>\n",
       "      <td>0</td>\n",
       "    </tr>\n",
       "    <tr>\n",
       "      <th>3</th>\n",
       "      <td>2001</td>\n",
       "      <td>10004</td>\n",
       "      <td>0</td>\n",
       "      <td>2</td>\n",
       "      <td>1</td>\n",
       "      <td>237</td>\n",
       "      <td>30.0</td>\n",
       "      <td>0</td>\n",
       "      <td>1</td>\n",
       "      <td>1987.0</td>\n",
       "      <td>1</td>\n",
       "      <td>0</td>\n",
       "    </tr>\n",
       "    <tr>\n",
       "      <th>4</th>\n",
       "      <td>2001</td>\n",
       "      <td>10004</td>\n",
       "      <td>0</td>\n",
       "      <td>2</td>\n",
       "      <td>1</td>\n",
       "      <td>237</td>\n",
       "      <td>30.0</td>\n",
       "      <td>0</td>\n",
       "      <td>0</td>\n",
       "      <td>1989.0</td>\n",
       "      <td>0</td>\n",
       "      <td>0</td>\n",
       "    </tr>\n",
       "  </tbody>\n",
       "</table>\n",
       "</div>"
      ],
      "text/plain": [
       "   YEAR  ST_CASE  NUM_PEDS  PERSONS  HOUR      ROAD_NAME  MILE_MARKER  \\\n",
       "0  2001    10001         0        2    21  I-75 (SR 401)        124.0   \n",
       "1  2001    10002         0        4    10  I-75 (SR 401)         12.0   \n",
       "2  2001    10003         0        2    14  US-25 (SR 23)        106.0   \n",
       "3  2001    10004         0        2     1            237         30.0   \n",
       "4  2001    10004         0        2     1            237         30.0   \n",
       "\n",
       "   SCH_BUS  DEATHS  MOD_YEAR  DR_DRINK  HIT_RUN  \n",
       "0        0       1    1997.0         1        0  \n",
       "1        0       1    1994.0         0        0  \n",
       "2        0       1    1992.0         0        0  \n",
       "3        0       1    1987.0         1        0  \n",
       "4        0       0    1989.0         0        0  "
      ]
     },
     "execution_count": 15,
     "metadata": {},
     "output_type": "execute_result"
    }
   ],
   "source": [
    "# 2001 to 2007:\n",
    "\n",
    "acc_vehc_sect_4 = pd.read_csv('acc_vehc_sect_4.csv')\n",
    "\n",
    "acc_vehc_sect_4.head()"
   ]
  },
  {
   "cell_type": "code",
   "execution_count": 16,
   "id": "33c500e2",
   "metadata": {},
   "outputs": [
    {
     "data": {
      "text/plain": [
       "DEATHS\n",
       "1     6397\n",
       "0     4165\n",
       "2      467\n",
       "3+      84\n",
       "Name: count, dtype: int64"
      ]
     },
     "execution_count": 16,
     "metadata": {},
     "output_type": "execute_result"
    }
   ],
   "source": [
    "# Make sure the 'DEATHS' column is of string type\n",
    "acc_vehc_sect_4['DEATHS'] = acc_vehc_sect_4['DEATHS'].astype(str)\n",
    "\n",
    "# Apply the function that places each death value into a category\n",
    "acc_vehc_sect_4['DEATHS'] = acc_vehc_sect_4['DEATHS'].apply(categorize_deaths)\n",
    "\n",
    "# Convert the 'DEATHS' column to ordinal (categorical)\n",
    "acc_vehc_sect_4['DEATHS'] = pd.Categorical(acc_vehc_sect_4['DEATHS'], \n",
    "                                           categories=['0', '1', '2', '3+'], \n",
    "                                           ordered=True)\n",
    "\n",
    "acc_vehc_sect_4['DEATHS'].value_counts()"
   ]
  },
  {
   "cell_type": "code",
   "execution_count": 17,
   "id": "634e6117",
   "metadata": {},
   "outputs": [],
   "source": [
    "X_4 = acc_vehc_sect_4.loc[:, ~(acc_vehc_sect_4.columns.isin(['DEATHS', 'ROAD_NAME', 'ST_CASE']))]\n",
    "\n",
    "y_4 = acc_vehc_sect_4.loc[:,'DEATHS']\n",
    "\n",
    "X_train_4, X_test_4, y_train_4, y_test_4 = train_test_split(X_4, y_4, test_size = 0.25)"
   ]
  },
  {
   "cell_type": "code",
   "execution_count": 18,
   "id": "f52489c5",
   "metadata": {},
   "outputs": [
    {
     "data": {
      "text/html": [
       "<div>\n",
       "<style scoped>\n",
       "    .dataframe tbody tr th:only-of-type {\n",
       "        vertical-align: middle;\n",
       "    }\n",
       "\n",
       "    .dataframe tbody tr th {\n",
       "        vertical-align: top;\n",
       "    }\n",
       "\n",
       "    .dataframe thead th {\n",
       "        text-align: right;\n",
       "    }\n",
       "</style>\n",
       "<table border=\"1\" class=\"dataframe\">\n",
       "  <thead>\n",
       "    <tr style=\"text-align: right;\">\n",
       "      <th></th>\n",
       "      <th>YEAR</th>\n",
       "      <th>ST_CASE</th>\n",
       "      <th>NUM_PEDS</th>\n",
       "      <th>NUM_VEHC</th>\n",
       "      <th>PERSONS</th>\n",
       "      <th>HOUR</th>\n",
       "      <th>ROAD_NAME</th>\n",
       "      <th>MILE_MARKER</th>\n",
       "      <th>LATITUDE</th>\n",
       "      <th>LONGITUD</th>\n",
       "      <th>SCH_BUS</th>\n",
       "      <th>DEATHS</th>\n",
       "      <th>MOD_YEAR</th>\n",
       "      <th>DR_DRINK</th>\n",
       "      <th>HIT_RUN</th>\n",
       "    </tr>\n",
       "  </thead>\n",
       "  <tbody>\n",
       "    <tr>\n",
       "      <th>0</th>\n",
       "      <td>2008</td>\n",
       "      <td>10001</td>\n",
       "      <td>0</td>\n",
       "      <td>1</td>\n",
       "      <td>1</td>\n",
       "      <td>18</td>\n",
       "      <td>SR-253</td>\n",
       "      <td>158.0</td>\n",
       "      <td>30.963258</td>\n",
       "      <td>-84.568056</td>\n",
       "      <td>0</td>\n",
       "      <td>0</td>\n",
       "      <td>2006.0</td>\n",
       "      <td>0</td>\n",
       "      <td>0</td>\n",
       "    </tr>\n",
       "    <tr>\n",
       "      <th>1</th>\n",
       "      <td>2008</td>\n",
       "      <td>10002</td>\n",
       "      <td>0</td>\n",
       "      <td>2</td>\n",
       "      <td>5</td>\n",
       "      <td>17</td>\n",
       "      <td>SR-14 AL</td>\n",
       "      <td>105.0</td>\n",
       "      <td>33.604111</td>\n",
       "      <td>-84.538122</td>\n",
       "      <td>0</td>\n",
       "      <td>1</td>\n",
       "      <td>2003.0</td>\n",
       "      <td>0</td>\n",
       "      <td>0</td>\n",
       "    </tr>\n",
       "    <tr>\n",
       "      <th>2</th>\n",
       "      <td>2008</td>\n",
       "      <td>10002</td>\n",
       "      <td>0</td>\n",
       "      <td>2</td>\n",
       "      <td>5</td>\n",
       "      <td>17</td>\n",
       "      <td>SR-14 AL</td>\n",
       "      <td>105.0</td>\n",
       "      <td>33.604111</td>\n",
       "      <td>-84.538122</td>\n",
       "      <td>0</td>\n",
       "      <td>0</td>\n",
       "      <td>2000.0</td>\n",
       "      <td>0</td>\n",
       "      <td>0</td>\n",
       "    </tr>\n",
       "    <tr>\n",
       "      <th>3</th>\n",
       "      <td>2008</td>\n",
       "      <td>10003</td>\n",
       "      <td>0</td>\n",
       "      <td>2</td>\n",
       "      <td>3</td>\n",
       "      <td>13</td>\n",
       "      <td>SR-120</td>\n",
       "      <td>32.0</td>\n",
       "      <td>33.767589</td>\n",
       "      <td>-85.242619</td>\n",
       "      <td>0</td>\n",
       "      <td>1</td>\n",
       "      <td>2001.0</td>\n",
       "      <td>1</td>\n",
       "      <td>0</td>\n",
       "    </tr>\n",
       "    <tr>\n",
       "      <th>4</th>\n",
       "      <td>2008</td>\n",
       "      <td>10004</td>\n",
       "      <td>0</td>\n",
       "      <td>1</td>\n",
       "      <td>1</td>\n",
       "      <td>1</td>\n",
       "      <td>SR-104</td>\n",
       "      <td>68.0</td>\n",
       "      <td>33.557275</td>\n",
       "      <td>-82.160483</td>\n",
       "      <td>0</td>\n",
       "      <td>1</td>\n",
       "      <td>1993.0</td>\n",
       "      <td>0</td>\n",
       "      <td>0</td>\n",
       "    </tr>\n",
       "  </tbody>\n",
       "</table>\n",
       "</div>"
      ],
      "text/plain": [
       "   YEAR  ST_CASE  NUM_PEDS  NUM_VEHC  PERSONS  HOUR ROAD_NAME  MILE_MARKER  \\\n",
       "0  2008    10001         0         1        1    18    SR-253        158.0   \n",
       "1  2008    10002         0         2        5    17  SR-14 AL        105.0   \n",
       "2  2008    10002         0         2        5    17  SR-14 AL        105.0   \n",
       "3  2008    10003         0         2        3    13    SR-120         32.0   \n",
       "4  2008    10004         0         1        1     1    SR-104         68.0   \n",
       "\n",
       "    LATITUDE   LONGITUD  SCH_BUS  DEATHS  MOD_YEAR  DR_DRINK  HIT_RUN  \n",
       "0  30.963258 -84.568056        0       0    2006.0         0        0  \n",
       "1  33.604111 -84.538122        0       1    2003.0         0        0  \n",
       "2  33.604111 -84.538122        0       0    2000.0         0        0  \n",
       "3  33.767589 -85.242619        0       1    2001.0         1        0  \n",
       "4  33.557275 -82.160483        0       1    1993.0         0        0  "
      ]
     },
     "execution_count": 18,
     "metadata": {},
     "output_type": "execute_result"
    }
   ],
   "source": [
    "# 2008 to 2014:\n",
    "\n",
    "acc_vehc_sect_5 = pd.read_csv('acc_vehc_sect_5.csv')\n",
    "\n",
    "acc_vehc_sect_5.head()"
   ]
  },
  {
   "cell_type": "code",
   "execution_count": 19,
   "id": "c972042a",
   "metadata": {},
   "outputs": [
    {
     "data": {
      "text/plain": [
       "DEATHS\n",
       "1     5086\n",
       "0     3358\n",
       "2      326\n",
       "3+      54\n",
       "Name: count, dtype: int64"
      ]
     },
     "execution_count": 19,
     "metadata": {},
     "output_type": "execute_result"
    }
   ],
   "source": [
    "# Make sure the 'DEATHS' column is of string type\n",
    "acc_vehc_sect_5['DEATHS'] = acc_vehc_sect_5['DEATHS'].astype(str)\n",
    "\n",
    "# Apply the function that places each death value into a category\n",
    "acc_vehc_sect_5['DEATHS'] = acc_vehc_sect_5['DEATHS'].apply(categorize_deaths)\n",
    "\n",
    "# Convert the 'DEATHS' column to ordinal (categorical)\n",
    "acc_vehc_sect_5['DEATHS'] = pd.Categorical(acc_vehc_sect_5['DEATHS'], \n",
    "                                           categories=['0', '1', '2', '3+'], \n",
    "                                           ordered=True)\n",
    "\n",
    "acc_vehc_sect_5['DEATHS'].value_counts()"
   ]
  },
  {
   "cell_type": "code",
   "execution_count": 20,
   "id": "645ba5ab",
   "metadata": {},
   "outputs": [],
   "source": [
    "X_5 = acc_vehc_sect_5.loc[:, ~(acc_vehc_sect_5.columns.isin(['DEATHS','ROAD_NAME', \n",
    "                                                             'LATITUDE', 'LONGITUD', 'ST_CASE']))]\n",
    "\n",
    "y_5 = acc_vehc_sect_5.loc[:,'DEATHS']\n",
    "\n",
    "X_train_5, X_test_5, y_train_5, y_test_5 = train_test_split(X_5, y_5, test_size = 0.25)"
   ]
  },
  {
   "cell_type": "code",
   "execution_count": 21,
   "id": "b753ac7c",
   "metadata": {},
   "outputs": [
    {
     "data": {
      "text/html": [
       "<div>\n",
       "<style scoped>\n",
       "    .dataframe tbody tr th:only-of-type {\n",
       "        vertical-align: middle;\n",
       "    }\n",
       "\n",
       "    .dataframe tbody tr th {\n",
       "        vertical-align: top;\n",
       "    }\n",
       "\n",
       "    .dataframe thead th {\n",
       "        text-align: right;\n",
       "    }\n",
       "</style>\n",
       "<table border=\"1\" class=\"dataframe\">\n",
       "  <thead>\n",
       "    <tr style=\"text-align: right;\">\n",
       "      <th></th>\n",
       "      <th>YEAR</th>\n",
       "      <th>ST_CASE</th>\n",
       "      <th>STATENAME</th>\n",
       "      <th>NUM_PEDS</th>\n",
       "      <th>NUM_VEHC</th>\n",
       "      <th>PERSONS</th>\n",
       "      <th>MONTHNAME</th>\n",
       "      <th>DAYNAME</th>\n",
       "      <th>DAY_WEEKNAME</th>\n",
       "      <th>HOUR</th>\n",
       "      <th>...</th>\n",
       "      <th>WRK_ZONENAME</th>\n",
       "      <th>LGT_CONDNAME</th>\n",
       "      <th>WEATHERNAME</th>\n",
       "      <th>SCH_BUS</th>\n",
       "      <th>HIT_RUN</th>\n",
       "      <th>MOD_YEAR</th>\n",
       "      <th>DEATHS</th>\n",
       "      <th>DR_DRINK</th>\n",
       "      <th>COUNTYNAME</th>\n",
       "      <th>CITYNAME</th>\n",
       "    </tr>\n",
       "  </thead>\n",
       "  <tbody>\n",
       "    <tr>\n",
       "      <th>0</th>\n",
       "      <td>2015</td>\n",
       "      <td>10001</td>\n",
       "      <td>Georgia</td>\n",
       "      <td>1</td>\n",
       "      <td>1</td>\n",
       "      <td>2</td>\n",
       "      <td>November</td>\n",
       "      <td>9</td>\n",
       "      <td>Monday</td>\n",
       "      <td>19</td>\n",
       "      <td>...</td>\n",
       "      <td>NaN</td>\n",
       "      <td>Dark - Not Lighted</td>\n",
       "      <td>Rain</td>\n",
       "      <td>0</td>\n",
       "      <td>0</td>\n",
       "      <td>2003.0</td>\n",
       "      <td>1</td>\n",
       "      <td>1</td>\n",
       "      <td>NOT AVAILABLE</td>\n",
       "      <td>NOT AVAILABLE</td>\n",
       "    </tr>\n",
       "    <tr>\n",
       "      <th>1</th>\n",
       "      <td>2015</td>\n",
       "      <td>10002</td>\n",
       "      <td>Georgia</td>\n",
       "      <td>0</td>\n",
       "      <td>1</td>\n",
       "      <td>1</td>\n",
       "      <td>November</td>\n",
       "      <td>10</td>\n",
       "      <td>Tuesday</td>\n",
       "      <td>23</td>\n",
       "      <td>...</td>\n",
       "      <td>NaN</td>\n",
       "      <td>Dark - Not Lighted</td>\n",
       "      <td>Clear</td>\n",
       "      <td>0</td>\n",
       "      <td>0</td>\n",
       "      <td>2006.0</td>\n",
       "      <td>1</td>\n",
       "      <td>0</td>\n",
       "      <td>NOT AVAILABLE</td>\n",
       "      <td>NOT AVAILABLE</td>\n",
       "    </tr>\n",
       "    <tr>\n",
       "      <th>2</th>\n",
       "      <td>2015</td>\n",
       "      <td>10003</td>\n",
       "      <td>Georgia</td>\n",
       "      <td>1</td>\n",
       "      <td>2</td>\n",
       "      <td>5</td>\n",
       "      <td>November</td>\n",
       "      <td>10</td>\n",
       "      <td>Tuesday</td>\n",
       "      <td>21</td>\n",
       "      <td>...</td>\n",
       "      <td>NaN</td>\n",
       "      <td>Dark - Not Lighted</td>\n",
       "      <td>Cloudy</td>\n",
       "      <td>0</td>\n",
       "      <td>0</td>\n",
       "      <td>2008.0</td>\n",
       "      <td>1</td>\n",
       "      <td>1</td>\n",
       "      <td>NOT AVAILABLE</td>\n",
       "      <td>NOT AVAILABLE</td>\n",
       "    </tr>\n",
       "    <tr>\n",
       "      <th>3</th>\n",
       "      <td>2015</td>\n",
       "      <td>10004</td>\n",
       "      <td>Georgia</td>\n",
       "      <td>0</td>\n",
       "      <td>2</td>\n",
       "      <td>6</td>\n",
       "      <td>November</td>\n",
       "      <td>11</td>\n",
       "      <td>Wednesday</td>\n",
       "      <td>15</td>\n",
       "      <td>...</td>\n",
       "      <td>NaN</td>\n",
       "      <td>Daylight</td>\n",
       "      <td>Clear</td>\n",
       "      <td>0</td>\n",
       "      <td>0</td>\n",
       "      <td>2005.0</td>\n",
       "      <td>1</td>\n",
       "      <td>1</td>\n",
       "      <td>NOT AVAILABLE</td>\n",
       "      <td>NOT AVAILABLE</td>\n",
       "    </tr>\n",
       "    <tr>\n",
       "      <th>4</th>\n",
       "      <td>2015</td>\n",
       "      <td>10005</td>\n",
       "      <td>Georgia</td>\n",
       "      <td>1</td>\n",
       "      <td>1</td>\n",
       "      <td>1</td>\n",
       "      <td>November</td>\n",
       "      <td>11</td>\n",
       "      <td>Wednesday</td>\n",
       "      <td>19</td>\n",
       "      <td>...</td>\n",
       "      <td>NaN</td>\n",
       "      <td>Dark - Not Lighted</td>\n",
       "      <td>Clear</td>\n",
       "      <td>0</td>\n",
       "      <td>0</td>\n",
       "      <td>2006.0</td>\n",
       "      <td>1</td>\n",
       "      <td>0</td>\n",
       "      <td>NOT AVAILABLE</td>\n",
       "      <td>NOT AVAILABLE</td>\n",
       "    </tr>\n",
       "  </tbody>\n",
       "</table>\n",
       "<p>5 rows × 32 columns</p>\n",
       "</div>"
      ],
      "text/plain": [
       "   YEAR  ST_CASE STATENAME  NUM_PEDS  NUM_VEHC  PERSONS MONTHNAME  DAYNAME  \\\n",
       "0  2015    10001   Georgia         1         1        2  November        9   \n",
       "1  2015    10002   Georgia         0         1        1  November       10   \n",
       "2  2015    10003   Georgia         1         2        5  November       10   \n",
       "3  2015    10004   Georgia         0         2        6  November       11   \n",
       "4  2015    10005   Georgia         1         1        1  November       11   \n",
       "\n",
       "  DAY_WEEKNAME  HOUR  ... WRK_ZONENAME        LGT_CONDNAME WEATHERNAME  \\\n",
       "0       Monday    19  ...          NaN  Dark - Not Lighted        Rain   \n",
       "1      Tuesday    23  ...          NaN  Dark - Not Lighted       Clear   \n",
       "2      Tuesday    21  ...          NaN  Dark - Not Lighted      Cloudy   \n",
       "3    Wednesday    15  ...          NaN            Daylight       Clear   \n",
       "4    Wednesday    19  ...          NaN  Dark - Not Lighted       Clear   \n",
       "\n",
       "  SCH_BUS HIT_RUN  MOD_YEAR  DEATHS  DR_DRINK     COUNTYNAME       CITYNAME  \n",
       "0       0       0    2003.0       1         1  NOT AVAILABLE  NOT AVAILABLE  \n",
       "1       0       0    2006.0       1         0  NOT AVAILABLE  NOT AVAILABLE  \n",
       "2       0       0    2008.0       1         1  NOT AVAILABLE  NOT AVAILABLE  \n",
       "3       0       0    2005.0       1         1  NOT AVAILABLE  NOT AVAILABLE  \n",
       "4       0       0    2006.0       1         0  NOT AVAILABLE  NOT AVAILABLE  \n",
       "\n",
       "[5 rows x 32 columns]"
      ]
     },
     "execution_count": 21,
     "metadata": {},
     "output_type": "execute_result"
    }
   ],
   "source": [
    "# 2015 to 2022:\n",
    "\n",
    "acc_vehc_sect_6 = pd.read_csv('acc_vehc_sect_6.csv')\n",
    "\n",
    "acc_vehc_sect_6.head()"
   ]
  },
  {
   "cell_type": "code",
   "execution_count": 22,
   "id": "e21e040a",
   "metadata": {},
   "outputs": [
    {
     "data": {
      "text/plain": [
       "DEATHS\n",
       "1     6195\n",
       "0     4751\n",
       "2      371\n",
       "3+      64\n",
       "Name: count, dtype: int64"
      ]
     },
     "execution_count": 22,
     "metadata": {},
     "output_type": "execute_result"
    }
   ],
   "source": [
    "# Make sure the 'DEATHS' column is of string type\n",
    "acc_vehc_sect_6['DEATHS'] = acc_vehc_sect_6['DEATHS'].astype(str)\n",
    "\n",
    "# Apply the function that places each death value into a category\n",
    "acc_vehc_sect_6['DEATHS'] = acc_vehc_sect_6['DEATHS'].apply(categorize_deaths)\n",
    "\n",
    "# Convert the 'DEATHS' column to ordinal (categorical)\n",
    "acc_vehc_sect_6['DEATHS'] = pd.Categorical(acc_vehc_sect_6['DEATHS'], \n",
    "                                           categories=['0', '1', '2', '3+'], \n",
    "                                           ordered=True)\n",
    "\n",
    "acc_vehc_sect_6['DEATHS'].value_counts()"
   ]
  },
  {
   "cell_type": "markdown",
   "id": "e02da8d6",
   "metadata": {},
   "source": [
    "#### Generate dummy variables for Time Period 6:"
   ]
  },
  {
   "cell_type": "markdown",
   "id": "635adc0c",
   "metadata": {},
   "source": [
    "Will make these variables with fewer levels into dummy variables:\n",
    "\n",
    "MONTHNAME\n",
    "\n",
    "DAY_WEEKNAME\n",
    "\n",
    "ROUTENAME\n",
    "\n",
    "RUR_URBNAME\n",
    "\n",
    "FUNC_SYSNAME\n",
    "\n",
    "COLLISION_TYPE\n",
    "\n",
    "TYP_INTNAME\n",
    "\n",
    "REL_ROADNAME\n",
    "\n",
    "WRK_ZONENAME\n",
    "\n",
    "LGT_CONDNAME\n",
    "\n",
    "WEATHERNAME\n",
    "\n",
    "Will exclude these variables because of too many levels:\n",
    "\n",
    "STATENAME\n",
    "ROAD_NAME\n",
    "\n",
    "RD_OWNERNAME\n",
    "\n",
    "HARM_EVNAME\n",
    "\n",
    "COUNTYNAME\n",
    "\n",
    "CITYNAME"
   ]
  },
  {
   "cell_type": "code",
   "execution_count": 23,
   "id": "bbbe2714",
   "metadata": {
    "scrolled": true
   },
   "outputs": [
    {
     "data": {
      "text/html": [
       "<div>\n",
       "<style scoped>\n",
       "    .dataframe tbody tr th:only-of-type {\n",
       "        vertical-align: middle;\n",
       "    }\n",
       "\n",
       "    .dataframe tbody tr th {\n",
       "        vertical-align: top;\n",
       "    }\n",
       "\n",
       "    .dataframe thead th {\n",
       "        text-align: right;\n",
       "    }\n",
       "</style>\n",
       "<table border=\"1\" class=\"dataframe\">\n",
       "  <thead>\n",
       "    <tr style=\"text-align: right;\">\n",
       "      <th></th>\n",
       "      <th>YEAR</th>\n",
       "      <th>NUM_PEDS</th>\n",
       "      <th>NUM_VEHC</th>\n",
       "      <th>PERSONS</th>\n",
       "      <th>DAYNAME</th>\n",
       "      <th>HOUR</th>\n",
       "      <th>MILE_MARKER</th>\n",
       "      <th>SCH_BUS</th>\n",
       "      <th>HIT_RUN</th>\n",
       "      <th>MOD_YEAR</th>\n",
       "      <th>...</th>\n",
       "      <th>WEATHERNAME_Clear</th>\n",
       "      <th>WEATHERNAME_Cloudy</th>\n",
       "      <th>WEATHERNAME_Fog, Smog, Smoke</th>\n",
       "      <th>WEATHERNAME_Not Reported</th>\n",
       "      <th>WEATHERNAME_Other</th>\n",
       "      <th>WEATHERNAME_Rain</th>\n",
       "      <th>WEATHERNAME_Reported as Unknown</th>\n",
       "      <th>WEATHERNAME_Severe Crosswinds</th>\n",
       "      <th>WEATHERNAME_Snow</th>\n",
       "      <th>WEATHERNAME_Unknown</th>\n",
       "    </tr>\n",
       "  </thead>\n",
       "  <tbody>\n",
       "    <tr>\n",
       "      <th>0</th>\n",
       "      <td>2015</td>\n",
       "      <td>1</td>\n",
       "      <td>1</td>\n",
       "      <td>2</td>\n",
       "      <td>9</td>\n",
       "      <td>19</td>\n",
       "      <td>72.0</td>\n",
       "      <td>0</td>\n",
       "      <td>0</td>\n",
       "      <td>2003.0</td>\n",
       "      <td>...</td>\n",
       "      <td>False</td>\n",
       "      <td>False</td>\n",
       "      <td>False</td>\n",
       "      <td>False</td>\n",
       "      <td>False</td>\n",
       "      <td>True</td>\n",
       "      <td>False</td>\n",
       "      <td>False</td>\n",
       "      <td>False</td>\n",
       "      <td>False</td>\n",
       "    </tr>\n",
       "    <tr>\n",
       "      <th>1</th>\n",
       "      <td>2015</td>\n",
       "      <td>0</td>\n",
       "      <td>1</td>\n",
       "      <td>1</td>\n",
       "      <td>10</td>\n",
       "      <td>23</td>\n",
       "      <td>26.0</td>\n",
       "      <td>0</td>\n",
       "      <td>0</td>\n",
       "      <td>2006.0</td>\n",
       "      <td>...</td>\n",
       "      <td>True</td>\n",
       "      <td>False</td>\n",
       "      <td>False</td>\n",
       "      <td>False</td>\n",
       "      <td>False</td>\n",
       "      <td>False</td>\n",
       "      <td>False</td>\n",
       "      <td>False</td>\n",
       "      <td>False</td>\n",
       "      <td>False</td>\n",
       "    </tr>\n",
       "    <tr>\n",
       "      <th>2</th>\n",
       "      <td>2015</td>\n",
       "      <td>1</td>\n",
       "      <td>2</td>\n",
       "      <td>5</td>\n",
       "      <td>10</td>\n",
       "      <td>21</td>\n",
       "      <td>50.0</td>\n",
       "      <td>0</td>\n",
       "      <td>0</td>\n",
       "      <td>2008.0</td>\n",
       "      <td>...</td>\n",
       "      <td>False</td>\n",
       "      <td>True</td>\n",
       "      <td>False</td>\n",
       "      <td>False</td>\n",
       "      <td>False</td>\n",
       "      <td>False</td>\n",
       "      <td>False</td>\n",
       "      <td>False</td>\n",
       "      <td>False</td>\n",
       "      <td>False</td>\n",
       "    </tr>\n",
       "    <tr>\n",
       "      <th>3</th>\n",
       "      <td>2015</td>\n",
       "      <td>0</td>\n",
       "      <td>2</td>\n",
       "      <td>6</td>\n",
       "      <td>11</td>\n",
       "      <td>15</td>\n",
       "      <td>21.0</td>\n",
       "      <td>0</td>\n",
       "      <td>0</td>\n",
       "      <td>2005.0</td>\n",
       "      <td>...</td>\n",
       "      <td>True</td>\n",
       "      <td>False</td>\n",
       "      <td>False</td>\n",
       "      <td>False</td>\n",
       "      <td>False</td>\n",
       "      <td>False</td>\n",
       "      <td>False</td>\n",
       "      <td>False</td>\n",
       "      <td>False</td>\n",
       "      <td>False</td>\n",
       "    </tr>\n",
       "    <tr>\n",
       "      <th>4</th>\n",
       "      <td>2015</td>\n",
       "      <td>1</td>\n",
       "      <td>1</td>\n",
       "      <td>1</td>\n",
       "      <td>11</td>\n",
       "      <td>19</td>\n",
       "      <td>2.0</td>\n",
       "      <td>0</td>\n",
       "      <td>0</td>\n",
       "      <td>2006.0</td>\n",
       "      <td>...</td>\n",
       "      <td>True</td>\n",
       "      <td>False</td>\n",
       "      <td>False</td>\n",
       "      <td>False</td>\n",
       "      <td>False</td>\n",
       "      <td>False</td>\n",
       "      <td>False</td>\n",
       "      <td>False</td>\n",
       "      <td>False</td>\n",
       "      <td>False</td>\n",
       "    </tr>\n",
       "  </tbody>\n",
       "</table>\n",
       "<p>5 rows × 117 columns</p>\n",
       "</div>"
      ],
      "text/plain": [
       "   YEAR  NUM_PEDS  NUM_VEHC  PERSONS  DAYNAME  HOUR  MILE_MARKER  SCH_BUS  \\\n",
       "0  2015         1         1        2        9    19         72.0        0   \n",
       "1  2015         0         1        1       10    23         26.0        0   \n",
       "2  2015         1         2        5       10    21         50.0        0   \n",
       "3  2015         0         2        6       11    15         21.0        0   \n",
       "4  2015         1         1        1       11    19          2.0        0   \n",
       "\n",
       "   HIT_RUN  MOD_YEAR  ... WEATHERNAME_Clear  WEATHERNAME_Cloudy  \\\n",
       "0        0    2003.0  ...             False               False   \n",
       "1        0    2006.0  ...              True               False   \n",
       "2        0    2008.0  ...             False                True   \n",
       "3        0    2005.0  ...              True               False   \n",
       "4        0    2006.0  ...              True               False   \n",
       "\n",
       "   WEATHERNAME_Fog, Smog, Smoke  WEATHERNAME_Not Reported  WEATHERNAME_Other  \\\n",
       "0                         False                     False              False   \n",
       "1                         False                     False              False   \n",
       "2                         False                     False              False   \n",
       "3                         False                     False              False   \n",
       "4                         False                     False              False   \n",
       "\n",
       "   WEATHERNAME_Rain  WEATHERNAME_Reported as Unknown  \\\n",
       "0              True                            False   \n",
       "1             False                            False   \n",
       "2             False                            False   \n",
       "3             False                            False   \n",
       "4             False                            False   \n",
       "\n",
       "   WEATHERNAME_Severe Crosswinds  WEATHERNAME_Snow  WEATHERNAME_Unknown  \n",
       "0                          False             False                False  \n",
       "1                          False             False                False  \n",
       "2                          False             False                False  \n",
       "3                          False             False                False  \n",
       "4                          False             False                False  \n",
       "\n",
       "[5 rows x 117 columns]"
      ]
     },
     "execution_count": 23,
     "metadata": {},
     "output_type": "execute_result"
    }
   ],
   "source": [
    "columns_dummy = ['MONTHNAME', 'DAY_WEEKNAME', 'ROUTENAME', 'RUR_URBNAME', \n",
    "                    'FUNC_SYSNAME', 'COLLISION_TYPE', 'TYP_INTNAME', 'REL_ROADNAME', \n",
    "                    'WRK_ZONENAME', 'LGT_CONDNAME', 'WEATHERNAME']\n",
    "\n",
    "dummy_df_6 = pd.get_dummies(acc_vehc_sect_6, columns=columns_dummy)\n",
    "\n",
    "dummy_df_6 = dummy_df_6.drop(columns=['STATENAME', 'ROAD_NAME', 'RD_OWNERNAME', \n",
    "                                      'HARM_EVNAME', 'COUNTYNAME', 'CITYNAME',\n",
    "                                      'LATITUDE','LONGITUD', 'ST_CASE'])  \n",
    "\n",
    "dummy_df_6.head()\n"
   ]
  },
  {
   "cell_type": "code",
   "execution_count": 24,
   "id": "689c81ee",
   "metadata": {},
   "outputs": [
    {
     "data": {
      "text/plain": [
       "(11381, 117)"
      ]
     },
     "execution_count": 24,
     "metadata": {},
     "output_type": "execute_result"
    }
   ],
   "source": [
    "dummy_df_6.shape"
   ]
  },
  {
   "cell_type": "code",
   "execution_count": 25,
   "id": "710d927c",
   "metadata": {},
   "outputs": [
    {
     "data": {
      "text/html": [
       "<div>\n",
       "<style scoped>\n",
       "    .dataframe tbody tr th:only-of-type {\n",
       "        vertical-align: middle;\n",
       "    }\n",
       "\n",
       "    .dataframe tbody tr th {\n",
       "        vertical-align: top;\n",
       "    }\n",
       "\n",
       "    .dataframe thead th {\n",
       "        text-align: right;\n",
       "    }\n",
       "</style>\n",
       "<table border=\"1\" class=\"dataframe\">\n",
       "  <thead>\n",
       "    <tr style=\"text-align: right;\">\n",
       "      <th></th>\n",
       "      <th>YEAR</th>\n",
       "      <th>NUM_PEDS</th>\n",
       "      <th>NUM_VEHC</th>\n",
       "      <th>PERSONS</th>\n",
       "      <th>DAYNAME</th>\n",
       "      <th>HOUR</th>\n",
       "      <th>MILE_MARKER</th>\n",
       "      <th>SCH_BUS</th>\n",
       "      <th>HIT_RUN</th>\n",
       "      <th>MOD_YEAR</th>\n",
       "      <th>...</th>\n",
       "      <th>WEATHERNAME_Clear</th>\n",
       "      <th>WEATHERNAME_Cloudy</th>\n",
       "      <th>WEATHERNAME_Fog, Smog, Smoke</th>\n",
       "      <th>WEATHERNAME_Not Reported</th>\n",
       "      <th>WEATHERNAME_Other</th>\n",
       "      <th>WEATHERNAME_Rain</th>\n",
       "      <th>WEATHERNAME_Reported as Unknown</th>\n",
       "      <th>WEATHERNAME_Severe Crosswinds</th>\n",
       "      <th>WEATHERNAME_Snow</th>\n",
       "      <th>WEATHERNAME_Unknown</th>\n",
       "    </tr>\n",
       "  </thead>\n",
       "  <tbody>\n",
       "    <tr>\n",
       "      <th>0</th>\n",
       "      <td>2015</td>\n",
       "      <td>1</td>\n",
       "      <td>1</td>\n",
       "      <td>2</td>\n",
       "      <td>9</td>\n",
       "      <td>19</td>\n",
       "      <td>72.0</td>\n",
       "      <td>0</td>\n",
       "      <td>0</td>\n",
       "      <td>2003.0</td>\n",
       "      <td>...</td>\n",
       "      <td>False</td>\n",
       "      <td>False</td>\n",
       "      <td>False</td>\n",
       "      <td>False</td>\n",
       "      <td>False</td>\n",
       "      <td>True</td>\n",
       "      <td>False</td>\n",
       "      <td>False</td>\n",
       "      <td>False</td>\n",
       "      <td>False</td>\n",
       "    </tr>\n",
       "    <tr>\n",
       "      <th>1</th>\n",
       "      <td>2015</td>\n",
       "      <td>0</td>\n",
       "      <td>1</td>\n",
       "      <td>1</td>\n",
       "      <td>10</td>\n",
       "      <td>23</td>\n",
       "      <td>26.0</td>\n",
       "      <td>0</td>\n",
       "      <td>0</td>\n",
       "      <td>2006.0</td>\n",
       "      <td>...</td>\n",
       "      <td>True</td>\n",
       "      <td>False</td>\n",
       "      <td>False</td>\n",
       "      <td>False</td>\n",
       "      <td>False</td>\n",
       "      <td>False</td>\n",
       "      <td>False</td>\n",
       "      <td>False</td>\n",
       "      <td>False</td>\n",
       "      <td>False</td>\n",
       "    </tr>\n",
       "    <tr>\n",
       "      <th>2</th>\n",
       "      <td>2015</td>\n",
       "      <td>1</td>\n",
       "      <td>2</td>\n",
       "      <td>5</td>\n",
       "      <td>10</td>\n",
       "      <td>21</td>\n",
       "      <td>50.0</td>\n",
       "      <td>0</td>\n",
       "      <td>0</td>\n",
       "      <td>2008.0</td>\n",
       "      <td>...</td>\n",
       "      <td>False</td>\n",
       "      <td>True</td>\n",
       "      <td>False</td>\n",
       "      <td>False</td>\n",
       "      <td>False</td>\n",
       "      <td>False</td>\n",
       "      <td>False</td>\n",
       "      <td>False</td>\n",
       "      <td>False</td>\n",
       "      <td>False</td>\n",
       "    </tr>\n",
       "    <tr>\n",
       "      <th>3</th>\n",
       "      <td>2015</td>\n",
       "      <td>0</td>\n",
       "      <td>2</td>\n",
       "      <td>6</td>\n",
       "      <td>11</td>\n",
       "      <td>15</td>\n",
       "      <td>21.0</td>\n",
       "      <td>0</td>\n",
       "      <td>0</td>\n",
       "      <td>2005.0</td>\n",
       "      <td>...</td>\n",
       "      <td>True</td>\n",
       "      <td>False</td>\n",
       "      <td>False</td>\n",
       "      <td>False</td>\n",
       "      <td>False</td>\n",
       "      <td>False</td>\n",
       "      <td>False</td>\n",
       "      <td>False</td>\n",
       "      <td>False</td>\n",
       "      <td>False</td>\n",
       "    </tr>\n",
       "    <tr>\n",
       "      <th>4</th>\n",
       "      <td>2015</td>\n",
       "      <td>1</td>\n",
       "      <td>1</td>\n",
       "      <td>1</td>\n",
       "      <td>11</td>\n",
       "      <td>19</td>\n",
       "      <td>2.0</td>\n",
       "      <td>0</td>\n",
       "      <td>0</td>\n",
       "      <td>2006.0</td>\n",
       "      <td>...</td>\n",
       "      <td>True</td>\n",
       "      <td>False</td>\n",
       "      <td>False</td>\n",
       "      <td>False</td>\n",
       "      <td>False</td>\n",
       "      <td>False</td>\n",
       "      <td>False</td>\n",
       "      <td>False</td>\n",
       "      <td>False</td>\n",
       "      <td>False</td>\n",
       "    </tr>\n",
       "  </tbody>\n",
       "</table>\n",
       "<p>5 rows × 117 columns</p>\n",
       "</div>"
      ],
      "text/plain": [
       "   YEAR  NUM_PEDS  NUM_VEHC  PERSONS  DAYNAME  HOUR  MILE_MARKER  SCH_BUS  \\\n",
       "0  2015         1         1        2        9    19         72.0        0   \n",
       "1  2015         0         1        1       10    23         26.0        0   \n",
       "2  2015         1         2        5       10    21         50.0        0   \n",
       "3  2015         0         2        6       11    15         21.0        0   \n",
       "4  2015         1         1        1       11    19          2.0        0   \n",
       "\n",
       "   HIT_RUN  MOD_YEAR  ... WEATHERNAME_Clear  WEATHERNAME_Cloudy  \\\n",
       "0        0    2003.0  ...             False               False   \n",
       "1        0    2006.0  ...              True               False   \n",
       "2        0    2008.0  ...             False                True   \n",
       "3        0    2005.0  ...              True               False   \n",
       "4        0    2006.0  ...              True               False   \n",
       "\n",
       "   WEATHERNAME_Fog, Smog, Smoke  WEATHERNAME_Not Reported  WEATHERNAME_Other  \\\n",
       "0                         False                     False              False   \n",
       "1                         False                     False              False   \n",
       "2                         False                     False              False   \n",
       "3                         False                     False              False   \n",
       "4                         False                     False              False   \n",
       "\n",
       "   WEATHERNAME_Rain  WEATHERNAME_Reported as Unknown  \\\n",
       "0              True                            False   \n",
       "1             False                            False   \n",
       "2             False                            False   \n",
       "3             False                            False   \n",
       "4             False                            False   \n",
       "\n",
       "   WEATHERNAME_Severe Crosswinds  WEATHERNAME_Snow  WEATHERNAME_Unknown  \n",
       "0                          False             False                False  \n",
       "1                          False             False                False  \n",
       "2                          False             False                False  \n",
       "3                          False             False                False  \n",
       "4                          False             False                False  \n",
       "\n",
       "[5 rows x 117 columns]"
      ]
     },
     "execution_count": 25,
     "metadata": {},
     "output_type": "execute_result"
    }
   ],
   "source": [
    "dummy_df_6.head()"
   ]
  },
  {
   "cell_type": "code",
   "execution_count": 26,
   "id": "14db036b",
   "metadata": {
    "scrolled": true
   },
   "outputs": [],
   "source": [
    "# Finding quantitative and categorical columns to help with dummy variable creation:\n",
    "int_columns = dummy_df_6.select_dtypes(include=['int64']).columns.tolist()\n",
    "float_columns = dummy_df_6.select_dtypes(include=['float64']).columns.tolist()\n",
    "bool_columns = dummy_df_6.select_dtypes(include=['bool']).columns.tolist()\n"
   ]
  },
  {
   "cell_type": "code",
   "execution_count": 27,
   "id": "b58b6d6f",
   "metadata": {},
   "outputs": [
    {
     "name": "stdout",
     "output_type": "stream",
     "text": [
      "Integer Columns: ['YEAR', 'NUM_PEDS', 'NUM_VEHC', 'PERSONS', 'DAYNAME', 'HOUR', 'SCH_BUS', 'HIT_RUN', 'DR_DRINK']\n"
     ]
    }
   ],
   "source": [
    "print(\"Integer Columns:\", int_columns)\n"
   ]
  },
  {
   "cell_type": "code",
   "execution_count": 28,
   "id": "af91c1f3",
   "metadata": {},
   "outputs": [
    {
     "name": "stdout",
     "output_type": "stream",
     "text": [
      "Float/Double Columns: ['MILE_MARKER', 'MOD_YEAR']\n"
     ]
    }
   ],
   "source": [
    "print(\"Float/Double Columns:\", float_columns)\n"
   ]
  },
  {
   "cell_type": "code",
   "execution_count": 29,
   "id": "39b98d3f",
   "metadata": {},
   "outputs": [
    {
     "name": "stdout",
     "output_type": "stream",
     "text": [
      "Columns that aren't int, float, or bool: ['DEATHS']\n"
     ]
    }
   ],
   "source": [
    "all_columns = dummy_df_6.columns.tolist()\n",
    "\n",
    "# Cateogrical columns\n",
    "columns_to_exclude = dummy_df_6.select_dtypes(include=['int64', 'float64', 'bool']).columns.tolist()\n",
    "\n",
    "columns_not_int_float_bool = [col for col in all_columns if col not in columns_to_exclude]\n",
    "\n",
    "print(\"Columns that aren't int, float, or bool:\", columns_not_int_float_bool)\n"
   ]
  },
  {
   "cell_type": "code",
   "execution_count": 30,
   "id": "eee135e3",
   "metadata": {},
   "outputs": [
    {
     "data": {
      "text/plain": [
       "1"
      ]
     },
     "execution_count": 30,
     "metadata": {},
     "output_type": "execute_result"
    }
   ],
   "source": [
    "len(columns_not_int_float_bool)"
   ]
  },
  {
   "cell_type": "code",
   "execution_count": 31,
   "id": "61ed0382",
   "metadata": {},
   "outputs": [
    {
     "data": {
      "text/plain": [
       "Series([], dtype: object)"
      ]
     },
     "execution_count": 31,
     "metadata": {},
     "output_type": "execute_result"
    }
   ],
   "source": [
    "object_columns = dummy_df_6.select_dtypes(include=['object']).columns\n",
    "dummy_df_6[object_columns].dtypes\n"
   ]
  },
  {
   "cell_type": "code",
   "execution_count": 32,
   "id": "8b88bcba",
   "metadata": {
    "scrolled": true
   },
   "outputs": [],
   "source": [
    "X_6 = dummy_df_6.loc[:, ~(dummy_df_6.columns.isin(['DEATHS']))]\n",
    "y_6 = dummy_df_6.loc[:,'DEATHS']\n",
    "\n",
    "X_train_6, X_test_6, y_train_6, y_test_6 = train_test_split(X_6, y_6, test_size = 0.25)"
   ]
  },
  {
   "cell_type": "code",
   "execution_count": 33,
   "id": "742b55fa",
   "metadata": {},
   "outputs": [
    {
     "data": {
      "text/plain": [
       "pandas.core.frame.DataFrame"
      ]
     },
     "execution_count": 33,
     "metadata": {},
     "output_type": "execute_result"
    }
   ],
   "source": [
    "type(X_train_1)"
   ]
  },
  {
   "cell_type": "code",
   "execution_count": 34,
   "id": "7641d237",
   "metadata": {},
   "outputs": [
    {
     "data": {
      "text/plain": [
       "pandas.core.series.Series"
      ]
     },
     "execution_count": 34,
     "metadata": {},
     "output_type": "execute_result"
    }
   ],
   "source": [
    "type(y_train_1)"
   ]
  },
  {
   "cell_type": "markdown",
   "id": "713b788b",
   "metadata": {},
   "source": [
    "# SMOTE for Re-Balancing the Dependent Variable's Imbalanced Class Distribution:"
   ]
  },
  {
   "cell_type": "code",
   "execution_count": 35,
   "id": "6cc3ab93",
   "metadata": {},
   "outputs": [
    {
     "data": {
      "text/plain": [
       "['1', '0', '2', '3+']\n",
       "Categories (4, object): ['0' < '1' < '2' < '3+']"
      ]
     },
     "execution_count": 35,
     "metadata": {},
     "output_type": "execute_result"
    }
   ],
   "source": [
    "pd.unique(y_train_1)"
   ]
  },
  {
   "cell_type": "code",
   "execution_count": 36,
   "id": "161eeef8",
   "metadata": {},
   "outputs": [
    {
     "data": {
      "text/plain": [
       "Counter({'1': 5664, '0': 5520, '2': 518, '3+': 125})"
      ]
     },
     "execution_count": 36,
     "metadata": {},
     "output_type": "execute_result"
    }
   ],
   "source": [
    "class_dist_train_1 = Counter(y_train_1)\n",
    "class_dist_train_1"
   ]
  },
  {
   "cell_type": "code",
   "execution_count": 37,
   "id": "84235d13",
   "metadata": {},
   "outputs": [
    {
     "data": {
      "text/plain": [
       "Counter({'1': 7107, '0': 5407, '2': 645, '3+': 131})"
      ]
     },
     "execution_count": 37,
     "metadata": {},
     "output_type": "execute_result"
    }
   ],
   "source": [
    "class_dist_train_2 = Counter(y_train_2)\n",
    "class_dist_train_2"
   ]
  },
  {
   "cell_type": "code",
   "execution_count": 38,
   "id": "47a8b126",
   "metadata": {},
   "outputs": [
    {
     "data": {
      "text/plain": [
       "Counter({'0': 4509, '1': 6659, '2': 605, '3+': 89})"
      ]
     },
     "execution_count": 38,
     "metadata": {},
     "output_type": "execute_result"
    }
   ],
   "source": [
    "class_dist_train_3 = Counter(y_train_3)\n",
    "class_dist_train_3"
   ]
  },
  {
   "cell_type": "code",
   "execution_count": 39,
   "id": "cdb0c15e",
   "metadata": {},
   "outputs": [
    {
     "data": {
      "text/plain": [
       "Counter({'1': 4835, '2': 348, '0': 3095, '3+': 56})"
      ]
     },
     "execution_count": 39,
     "metadata": {},
     "output_type": "execute_result"
    }
   ],
   "source": [
    "class_dist_train_4 = Counter(y_train_4)\n",
    "class_dist_train_4"
   ]
  },
  {
   "cell_type": "code",
   "execution_count": 40,
   "id": "4fe07765",
   "metadata": {},
   "outputs": [
    {
     "data": {
      "text/plain": [
       "Counter({'1': 3818, '0': 2521, '2': 238, '3+': 41})"
      ]
     },
     "execution_count": 40,
     "metadata": {},
     "output_type": "execute_result"
    }
   ],
   "source": [
    "class_dist_train_5 = Counter(y_train_5)\n",
    "class_dist_train_5"
   ]
  },
  {
   "cell_type": "code",
   "execution_count": 41,
   "id": "a011bf1c",
   "metadata": {},
   "outputs": [
    {
     "data": {
      "text/plain": [
       "Counter({'1': 4605, '0': 3592, '2': 290, '3+': 48})"
      ]
     },
     "execution_count": 41,
     "metadata": {},
     "output_type": "execute_result"
    }
   ],
   "source": [
    "class_dist_train_6 = Counter(y_train_6)\n",
    "class_dist_train_6"
   ]
  },
  {
   "cell_type": "code",
   "execution_count": 42,
   "id": "c371ae2b",
   "metadata": {},
   "outputs": [],
   "source": [
    "class_distributions = [class_dist_train_1, class_dist_train_2, class_dist_train_3,\n",
    "                       class_dist_train_4, class_dist_train_5, class_dist_train_6]"
   ]
  },
  {
   "cell_type": "code",
   "execution_count": 43,
   "id": "1648b9d8",
   "metadata": {},
   "outputs": [
    {
     "data": {
      "image/png": "[encoded data removed]",
      "text/plain": [
       "<Figure size 1500x1500 with 6 Axes>"
      ]
     },
     "metadata": {},
     "output_type": "display_data"
    }
   ],
   "source": [
    "# Specify the classes' correct order\n",
    "ordered_classes = ['0', '1', '2', '3+']\n",
    "\n",
    "# Generate a 3x2 grid of dependent variable\n",
    "# class distribution for each time period's data from 1 to 6:\n",
    "fig, axs = plt.subplots(3, 2, figsize=(15, 15))  \n",
    "\n",
    "axs = axs.flatten()\n",
    "\n",
    "# Fill in each subplot with its class distribution:\n",
    "for i, ax in enumerate(axs):\n",
    "    values = [class_distributions[i][class_label] for class_label in ordered_classes]\n",
    "    ax.bar(ordered_classes, values, color='skyblue')\n",
    "    \n",
    "    # Dictionary maps i to its corresponding range of years\n",
    "    year_ranges = {\n",
    "        0: \"1975 - 1981\",\n",
    "        1: \"1982 - 1990\",\n",
    "        2: \"1991 - 2000\",\n",
    "        3: \"2001 - 2007\",\n",
    "        4: \"2008 - 2014\",\n",
    "        5: \"2015 - 2022\"\n",
    "    }\n",
    "\n",
    "    year_range = year_ranges[i]\n",
    " \n",
    "    ax.set_xlabel('Classes') \n",
    "    ax.set_ylabel('Counts') \n",
    "    ax.set_title(f'Time Period {i+1}: {year_range}')  \n",
    "    ax.set_xticks(ordered_classes)  # Specify x-ticks as the class labels\n",
    "    ax.set_xticklabels(ordered_classes, rotation=45)  # Rotate labels so overlap doesn't happen\n",
    "    ax.grid(axis='y', linestyle='--')  # Include horizontal grid lines\n",
    "\n",
    "    \n",
    "fig.suptitle('Initial Class Distributions in the Train Data for 6 Time Periods:', fontsize=16, y=1.03)\n",
    "\n",
    "plt.tight_layout()  \n",
    "plt.show()\n"
   ]
  },
  {
   "cell_type": "code",
   "execution_count": 44,
   "id": "a2ab6a22",
   "metadata": {},
   "outputs": [],
   "source": [
    "# SMOTE object instantiation\n",
    "smote = SMOTE(random_state=1)"
   ]
  },
  {
   "cell_type": "code",
   "execution_count": 45,
   "id": "de332249",
   "metadata": {},
   "outputs": [
    {
     "name": "stdout",
     "output_type": "stream",
     "text": [
      "Resampled Distribution for Time Period 1 Data: \n",
      " Counter({'1': 5664, '0': 5664, '2': 5664, '3+': 5664})\n"
     ]
    }
   ],
   "source": [
    "# Generate synthetic train (not test) samples from SMOTE \n",
    "\n",
    "X_resampled_1, y_resampled_1 = smote.fit_resample(X_train_1, y_train_1)\n",
    "print(\"Resampled Distribution for Time Period 1 Data: \\n\", Counter(y_resampled_1))"
   ]
  },
  {
   "cell_type": "code",
   "execution_count": 46,
   "id": "98fbc007",
   "metadata": {
    "scrolled": true
   },
   "outputs": [
    {
     "name": "stdout",
     "output_type": "stream",
     "text": [
      "Resampled Distribution for Time Period 2 Data: \n",
      " Counter({'1': 7107, '0': 7107, '2': 7107, '3+': 7107})\n"
     ]
    }
   ],
   "source": [
    "X_resampled_2, y_resampled_2 = smote.fit_resample(X_train_2, y_train_2)\n",
    "print(\"Resampled Distribution for Time Period 2 Data: \\n\", Counter(y_resampled_2))"
   ]
  },
  {
   "cell_type": "code",
   "execution_count": 47,
   "id": "370d1d50",
   "metadata": {
    "scrolled": true
   },
   "outputs": [
    {
     "name": "stdout",
     "output_type": "stream",
     "text": [
      "Resampled Distribution for Time Period 3 Data: \n",
      " Counter({'0': 6659, '1': 6659, '2': 6659, '3+': 6659})\n"
     ]
    }
   ],
   "source": [
    "X_resampled_3, y_resampled_3 = smote.fit_resample(X_train_3, y_train_3)\n",
    "print(\"Resampled Distribution for Time Period 3 Data: \\n\", Counter(y_resampled_3))"
   ]
  },
  {
   "cell_type": "code",
   "execution_count": 48,
   "id": "c92a9152",
   "metadata": {
    "scrolled": true
   },
   "outputs": [
    {
     "name": "stdout",
     "output_type": "stream",
     "text": [
      "Resampled Distribution for Time Period 4 Data: \n",
      " Counter({'1': 4835, '2': 4835, '0': 4835, '3+': 4835})\n"
     ]
    }
   ],
   "source": [
    "X_resampled_4, y_resampled_4 = smote.fit_resample(X_train_4, y_train_4)\n",
    "print(\"Resampled Distribution for Time Period 4 Data: \\n\", Counter(y_resampled_4))"
   ]
  },
  {
   "cell_type": "code",
   "execution_count": 49,
   "id": "510567d3",
   "metadata": {
    "scrolled": true
   },
   "outputs": [
    {
     "name": "stdout",
     "output_type": "stream",
     "text": [
      "Resampled Distribution for Time Period 5 Data: \n",
      " Counter({'1': 3818, '0': 3818, '2': 3818, '3+': 3818})\n"
     ]
    }
   ],
   "source": [
    "X_resampled_5, y_resampled_5 = smote.fit_resample(X_train_5, y_train_5)\n",
    "print(\"Resampled Distribution for Time Period 5 Data: \\n\", Counter(y_resampled_5))"
   ]
  },
  {
   "cell_type": "code",
   "execution_count": 50,
   "id": "fad29a75",
   "metadata": {},
   "outputs": [
    {
     "name": "stdout",
     "output_type": "stream",
     "text": [
      "Resampled Distribution for Time Period 6 Data: \n",
      " Counter({'1': 4605, '0': 4605, '2': 4605, '3+': 4605})\n"
     ]
    }
   ],
   "source": [
    "X_resampled_6, y_resampled_6 = smote.fit_resample(X_train_6, y_train_6)\n",
    "print(\"Resampled Distribution for Time Period 6 Data: \\n\", Counter(y_resampled_6))"
   ]
  },
  {
   "cell_type": "code",
   "execution_count": 51,
   "id": "872df871",
   "metadata": {},
   "outputs": [
    {
     "data": {
      "text/plain": [
       "Counter({'1': 5664, '0': 5664, '2': 5664, '3+': 5664})"
      ]
     },
     "execution_count": 51,
     "metadata": {},
     "output_type": "execute_result"
    }
   ],
   "source": [
    "resamp_class_dist_train_1 = Counter(y_resampled_1)\n",
    "resamp_class_dist_train_1"
   ]
  },
  {
   "cell_type": "code",
   "execution_count": 52,
   "id": "c0f18467",
   "metadata": {},
   "outputs": [
    {
     "data": {
      "text/plain": [
       "Counter({'1': 7107, '0': 7107, '2': 7107, '3+': 7107})"
      ]
     },
     "execution_count": 52,
     "metadata": {},
     "output_type": "execute_result"
    }
   ],
   "source": [
    "resamp_class_dist_train_2 = Counter(y_resampled_2)\n",
    "resamp_class_dist_train_2"
   ]
  },
  {
   "cell_type": "code",
   "execution_count": 53,
   "id": "26c8a584",
   "metadata": {},
   "outputs": [
    {
     "data": {
      "text/plain": [
       "Counter({'0': 6659, '1': 6659, '2': 6659, '3+': 6659})"
      ]
     },
     "execution_count": 53,
     "metadata": {},
     "output_type": "execute_result"
    }
   ],
   "source": [
    "resamp_class_dist_train_3 = Counter(y_resampled_3)\n",
    "resamp_class_dist_train_3"
   ]
  },
  {
   "cell_type": "code",
   "execution_count": 54,
   "id": "d7d26dea",
   "metadata": {},
   "outputs": [
    {
     "data": {
      "text/plain": [
       "Counter({'1': 4835, '2': 4835, '0': 4835, '3+': 4835})"
      ]
     },
     "execution_count": 54,
     "metadata": {},
     "output_type": "execute_result"
    }
   ],
   "source": [
    "resamp_class_dist_train_4 = Counter(y_resampled_4)\n",
    "resamp_class_dist_train_4"
   ]
  },
  {
   "cell_type": "code",
   "execution_count": 55,
   "id": "0dbad357",
   "metadata": {},
   "outputs": [
    {
     "data": {
      "text/plain": [
       "Counter({'1': 3818, '0': 3818, '2': 3818, '3+': 3818})"
      ]
     },
     "execution_count": 55,
     "metadata": {},
     "output_type": "execute_result"
    }
   ],
   "source": [
    "resamp_class_dist_train_5 = Counter(y_resampled_5)\n",
    "resamp_class_dist_train_5"
   ]
  },
  {
   "cell_type": "code",
   "execution_count": 56,
   "id": "4a23df77",
   "metadata": {},
   "outputs": [
    {
     "data": {
      "text/plain": [
       "Counter({'1': 4605, '0': 4605, '2': 4605, '3+': 4605})"
      ]
     },
     "execution_count": 56,
     "metadata": {},
     "output_type": "execute_result"
    }
   ],
   "source": [
    "resamp_class_dist_train_6 = Counter(y_resampled_6)\n",
    "resamp_class_dist_train_6"
   ]
  },
  {
   "cell_type": "code",
   "execution_count": 57,
   "id": "181c031e",
   "metadata": {},
   "outputs": [],
   "source": [
    "resamp_class_distributions = [resamp_class_dist_train_1, resamp_class_dist_train_2, \n",
    "                              resamp_class_dist_train_3, resamp_class_dist_train_4, \n",
    "                              resamp_class_dist_train_5, resamp_class_dist_train_6]"
   ]
  },
  {
   "cell_type": "code",
   "execution_count": 58,
   "id": "99c10d2d",
   "metadata": {
    "scrolled": false
   },
   "outputs": [
    {
     "data": {
      "image/png": "[encoded data removed]",
      "text/plain": [
       "<Figure size 1500x1500 with 6 Axes>"
      ]
     },
     "metadata": {},
     "output_type": "display_data"
    }
   ],
   "source": [
    "ordered_classes = ['0', '1', '2', '3+']\n",
    "\n",
    "fig, axs = plt.subplots(3, 2, figsize=(15, 15))  # Adjust figure size as needed\n",
    "\n",
    "axs = axs.flatten()\n",
    "\n",
    "for i, ax in enumerate(axs):\n",
    "    values = [resamp_class_distributions[i][class_label] for class_label in ordered_classes]\n",
    "    ax.bar(ordered_classes, values, color='skyblue')\n",
    "    \n",
    "    \n",
    "    # Dictionary maps i to its corresponding range of years\n",
    "    year_ranges = {\n",
    "        0: \"1975 - 1981\",\n",
    "        1: \"1982 - 1990\",\n",
    "        2: \"1991 - 2000\",\n",
    "        3: \"2001 - 2007\",\n",
    "        4: \"2008 - 2014\",\n",
    "        5: \"2015 - 2022\"\n",
    "    }\n",
    "\n",
    "    year_range = year_ranges[i]\n",
    " \n",
    "    ax.set_xlabel('Classes') \n",
    "    ax.set_ylabel('Counts') \n",
    "    ax.set_title(f'Time Period {i+1}: {year_range}') \n",
    "    ax.set_xticks(ordered_classes)  \n",
    "    ax.set_xticklabels(ordered_classes, rotation=45)  \n",
    "    ax.grid(axis='y', linestyle='--')  \n",
    "\n",
    "# Add a supertitle\n",
    "fig.suptitle('Class Distributions After SMOTE Resampling From the Train Data for 6 Time Periods:', fontsize=16, y=1.03)\n",
    "\n",
    "plt.tight_layout()  \n",
    "plt.show()  \n"
   ]
  },
  {
   "cell_type": "markdown",
   "id": "93477531",
   "metadata": {},
   "source": [
    "# Creating Models with SMOTE Modified Variables:\n",
    "\n",
    "For each model type:\n",
    "1. Create 1 model that shows the deaths over the 47 years that has all the common columns from all 6 time periods\n",
    "2. Create separate models for each time period: 1 with all regressors & 1 reduced model"
   ]
  },
  {
   "cell_type": "markdown",
   "id": "0b471ac4",
   "metadata": {},
   "source": [
    "#### TO DO: Filter out the common variables in all 6 time periods & put them into a common dataframe so that you can create models for all 47 years combined"
   ]
  },
  {
   "cell_type": "markdown",
   "id": "3e21044f",
   "metadata": {},
   "source": [
    "### Random Forest Models:"
   ]
  },
  {
   "cell_type": "markdown",
   "id": "4f2255fc",
   "metadata": {},
   "source": [
    "#### Model 1 - Accidents from 1975 to 1981:"
   ]
  },
  {
   "cell_type": "code",
   "execution_count": 59,
   "id": "15d5ee1f",
   "metadata": {},
   "outputs": [
    {
     "data": {
      "text/plain": [
       "pandas.core.frame.DataFrame"
      ]
     },
     "execution_count": 59,
     "metadata": {},
     "output_type": "execute_result"
    }
   ],
   "source": [
    "type(X_resampled_1)"
   ]
  },
  {
   "cell_type": "code",
   "execution_count": 60,
   "id": "0e45f44b",
   "metadata": {},
   "outputs": [
    {
     "data": {
      "text/plain": [
       "pandas.core.series.Series"
      ]
     },
     "execution_count": 60,
     "metadata": {},
     "output_type": "execute_result"
    }
   ],
   "source": [
    "type(y_resampled_1)"
   ]
  },
  {
   "cell_type": "code",
   "execution_count": 61,
   "id": "7abbed40",
   "metadata": {},
   "outputs": [
    {
     "data": {
      "text/plain": [
       "YEAR          int64\n",
       "PERSONS       int64\n",
       "HOUR          int64\n",
       "SCH_BUS     float64\n",
       "HIT_RUN       int64\n",
       "MOD_YEAR    float64\n",
       "DR_DRINK    float64\n",
       "dtype: object"
      ]
     },
     "execution_count": 61,
     "metadata": {},
     "output_type": "execute_result"
    }
   ],
   "source": [
    "# Make sure all variables are quantitative:\n",
    "X_resampled_1.dtypes"
   ]
  },
  {
   "cell_type": "code",
   "execution_count": 63,
   "id": "da6b260f",
   "metadata": {},
   "outputs": [
    {
     "name": "stdout",
     "output_type": "stream",
     "text": [
      "Test Accuracy: 0.48744610702510777\n"
     ]
    }
   ],
   "source": [
    "rf_mod_1 = RandomForestClassifier(n_estimators=100, random_state=42)\n",
    "\n",
    "rf_mod_1.fit(X_resampled_1, y_resampled_1)\n",
    "\n",
    "# Test Predictions\n",
    "preds_mod_1 = rf_mod_1.predict(X_test_1)\n",
    "\n",
    "# Accuracy\n",
    "acc_mod_1 = accuracy_score(y_test_1, preds_mod_1)\n",
    "print(\"Test Accuracy:\", acc_mod_1)\n"
   ]
  },
  {
   "cell_type": "code",
   "execution_count": 64,
   "id": "fa82bd81",
   "metadata": {},
   "outputs": [
    {
     "name": "stdout",
     "output_type": "stream",
     "text": [
      "MOD_YEAR: 0.4289052992339692\n",
      "HOUR: 0.29124407414502657\n",
      "YEAR: 0.11868269664219804\n",
      "PERSONS: 0.08725899699532644\n",
      "DR_DRINK: 0.06425193365705667\n",
      "HIT_RUN: 0.005129134569180379\n",
      "SCH_BUS: 0.004527864757242687\n"
     ]
    }
   ],
   "source": [
    "# Feature Importance Plot:\n",
    "impts = rf_mod_1.feature_importances_\n",
    "\n",
    "feature_names = X_resampled_1.columns\n",
    "\n",
    "idxs = np.argsort(impts)[::-1]\n",
    "\n",
    "for i in idxs:\n",
    "    print(f\"{feature_names[i]}: {impts[i]}\")\n"
   ]
  },
  {
   "cell_type": "code",
   "execution_count": 65,
   "id": "7ad3b645",
   "metadata": {},
   "outputs": [
    {
     "data": {
      "image/png": "[encoded data removed]",
      "text/plain": [
       "<Figure size 1000x500 with 1 Axes>"
      ]
     },
     "metadata": {},
     "output_type": "display_data"
    }
   ],
   "source": [
    "impts = rf_mod_1.feature_importances_\n",
    "\n",
    "idxs = np.argsort(impts)[::-1]\n",
    "\n",
    "plt.figure(figsize=(10, 5))\n",
    "plt.title(\"Feature Importance\")\n",
    "plt.bar(range(len(impts)), impts[idxs], align=\"center\")\n",
    "plt.xticks(range(len(impts)), [feature_names[i] for i in idxs]) \n",
    "plt.xlabel(\"Feature\")\n",
    "plt.ylabel(\"Importance\")\n",
    "plt.show()\n"
   ]
  },
  {
   "cell_type": "code",
   "execution_count": 66,
   "id": "269a0850",
   "metadata": {},
   "outputs": [
    {
     "name": "stdout",
     "output_type": "stream",
     "text": [
      "Class 0: Sensitivity = 0.49095890410958903, Specificity = 0.653918791312559\n",
      "Class 1: Sensitivity = 0.5276041666666667, Specificity = 0.5887296094908552\n",
      "Class 2: Sensitivity = 0.07272727272727272, Specificity = 0.9118581259925886\n",
      "Class 3: Sensitivity = 0.030303030303030304, Specificity = 0.9685421994884911\n"
     ]
    }
   ],
   "source": [
    "# Confusion Matrix:\n",
    "\n",
    "# Create confusion matrix\n",
    "conf_mat_1 = confusion_matrix(y_test_1, preds_mod_1)\n",
    "\n",
    "# Empty sens and spec lists\n",
    "sens_list = []\n",
    "spec_list = []\n",
    "\n",
    "# Find sensitivity and specificity for each class, where \"positive\" means equal to \n",
    "# the class and \"negative\" means not equal to the class\n",
    "for i in range(conf_mat_1.shape[0]):\n",
    "    TP = conf_mat_1[i, i]\n",
    "    FN = np.sum(conf_mat_1[i, :]) - TP\n",
    "    FP = np.sum(conf_mat_1[:, i]) - TP\n",
    "    TN = np.sum(conf_mat_1) - (TP + FN + FP)\n",
    "    \n",
    "    sens = TP / (TP + FN)\n",
    "    spec = TN / (TN + FP)\n",
    "    \n",
    "    sens_list.append(sens)\n",
    "    spec_list.append(spec)\n",
    "\n",
    "# Print out classes' sens and spec values\n",
    "for i, (sens, spec) in enumerate(zip(sens_list, spec_list)):\n",
    "    print(f\"Class {i}: Sensitivity = {sens}, Specificity = {spec}\")\n"
   ]
  },
  {
   "cell_type": "markdown",
   "id": "125f7487",
   "metadata": {},
   "source": [
    "#### Model 2 - Accidents from 1982 to 1990:"
   ]
  },
  {
   "cell_type": "code",
   "execution_count": 67,
   "id": "59be0317",
   "metadata": {},
   "outputs": [
    {
     "data": {
      "text/plain": [
       "pandas.core.frame.DataFrame"
      ]
     },
     "execution_count": 67,
     "metadata": {},
     "output_type": "execute_result"
    }
   ],
   "source": [
    "type(X_resampled_2)"
   ]
  },
  {
   "cell_type": "code",
   "execution_count": 68,
   "id": "9e5f809d",
   "metadata": {},
   "outputs": [
    {
     "data": {
      "text/plain": [
       "pandas.core.series.Series"
      ]
     },
     "execution_count": 68,
     "metadata": {},
     "output_type": "execute_result"
    }
   ],
   "source": [
    "type(y_resampled_2)"
   ]
  },
  {
   "cell_type": "code",
   "execution_count": 69,
   "id": "0b2e3a87",
   "metadata": {},
   "outputs": [
    {
     "data": {
      "text/plain": [
       "YEAR             int64\n",
       "PERSONS          int64\n",
       "HOUR             int64\n",
       "MILE_MARKER    float64\n",
       "SCH_BUS          int64\n",
       "HIT_RUN          int64\n",
       "MOD_YEAR       float64\n",
       "DR_DRINK         int64\n",
       "dtype: object"
      ]
     },
     "execution_count": 69,
     "metadata": {},
     "output_type": "execute_result"
    }
   ],
   "source": [
    "# Make sure all variables are quantitative:\n",
    "X_resampled_2.dtypes"
   ]
  },
  {
   "cell_type": "code",
   "execution_count": 71,
   "id": "8a05b7de",
   "metadata": {},
   "outputs": [
    {
     "name": "stdout",
     "output_type": "stream",
     "text": [
      "Test Accuracy: 0.47506206273978785\n"
     ]
    }
   ],
   "source": [
    "rf_mod_2 = RandomForestClassifier(n_estimators=100, random_state=42)\n",
    "\n",
    "rf_mod_2.fit(X_resampled_2, y_resampled_2)\n",
    "\n",
    "# Test Predictions\n",
    "preds_mod_2 = rf_mod_2.predict(X_test_2)\n",
    "\n",
    "# Accuracy\n",
    "acc_mod_2 = accuracy_score(y_test_2, preds_mod_2)\n",
    "print(\"Test Accuracy:\", acc_mod_2)\n"
   ]
  },
  {
   "cell_type": "code",
   "execution_count": 72,
   "id": "f8752470",
   "metadata": {},
   "outputs": [
    {
     "name": "stdout",
     "output_type": "stream",
     "text": [
      "MOD_YEAR: 0.35914867057630795\n",
      "HOUR: 0.2208535502292056\n",
      "MILE_MARKER: 0.20176218996458684\n",
      "YEAR: 0.08710112639610798\n",
      "PERSONS: 0.08511385594139026\n",
      "DR_DRINK: 0.03259788898718015\n",
      "HIT_RUN: 0.012752200377656644\n",
      "SCH_BUS: 0.0006705175275645898\n"
     ]
    }
   ],
   "source": [
    "# Feature Importance Plot:\n",
    "impts = rf_mod_2.feature_importances_\n",
    "\n",
    "feature_names = X_resampled_2.columns\n",
    "\n",
    "idxs = np.argsort(impts)[::-1]\n",
    "\n",
    "for i in idxs:\n",
    "    print(f\"{feature_names[i]}: {impts[i]}\")\n"
   ]
  },
  {
   "cell_type": "code",
   "execution_count": 73,
   "id": "76ab2142",
   "metadata": {},
   "outputs": [
    {
     "data": {
      "image/png": "[encoded data removed]",
      "text/plain": [
       "<Figure size 1000x500 with 1 Axes>"
      ]
     },
     "metadata": {},
     "output_type": "display_data"
    }
   ],
   "source": [
    "impts = rf_mod_2.feature_importances_\n",
    "\n",
    "idxs = np.argsort(impts)[::-1]\n",
    "\n",
    "plt.figure(figsize=(10, 5))\n",
    "plt.title(\"Feature Importance\")\n",
    "plt.bar(range(len(impts)), impts[idxs], align=\"center\")\n",
    "plt.xticks(range(len(impts)), [feature_names[i] for i in idxs]) \n",
    "plt.xlabel(\"Feature\")\n",
    "plt.ylabel(\"Importance\")\n",
    "plt.show()\n"
   ]
  },
  {
   "cell_type": "markdown",
   "id": "9797a1a7",
   "metadata": {},
   "source": [
    "#### Model 3 - Accidents from 1991 to 2000:"
   ]
  },
  {
   "cell_type": "code",
   "execution_count": 74,
   "id": "5f38f313",
   "metadata": {},
   "outputs": [
    {
     "data": {
      "text/plain": [
       "pandas.core.frame.DataFrame"
      ]
     },
     "execution_count": 74,
     "metadata": {},
     "output_type": "execute_result"
    }
   ],
   "source": [
    "type(X_resampled_3)"
   ]
  },
  {
   "cell_type": "code",
   "execution_count": 75,
   "id": "2b2f5f2b",
   "metadata": {},
   "outputs": [
    {
     "data": {
      "text/plain": [
       "pandas.core.series.Series"
      ]
     },
     "execution_count": 75,
     "metadata": {},
     "output_type": "execute_result"
    }
   ],
   "source": [
    "type(y_resampled_3)"
   ]
  },
  {
   "cell_type": "code",
   "execution_count": 76,
   "id": "56429213",
   "metadata": {},
   "outputs": [
    {
     "data": {
      "text/plain": [
       "YEAR             int64\n",
       "NUM_PEDS         int64\n",
       "PERSONS          int64\n",
       "HOUR             int64\n",
       "MILE_MARKER    float64\n",
       "SCH_BUS          int64\n",
       "HIT_RUN          int64\n",
       "MOD_YEAR       float64\n",
       "DR_DRINK         int64\n",
       "dtype: object"
      ]
     },
     "execution_count": 76,
     "metadata": {},
     "output_type": "execute_result"
    }
   ],
   "source": [
    "# Make sure all variables are quantitative:\n",
    "X_resampled_3.dtypes"
   ]
  },
  {
   "cell_type": "code",
   "execution_count": 78,
   "id": "c4039cbe",
   "metadata": {},
   "outputs": [
    {
     "name": "stdout",
     "output_type": "stream",
     "text": [
      "Test Accuracy: 0.46307536671724836\n"
     ]
    }
   ],
   "source": [
    "rf_mod_3 = RandomForestClassifier(n_estimators=100, random_state=42)\n",
    "\n",
    "rf_mod_3.fit(X_resampled_3, y_resampled_3)\n",
    "\n",
    "# Test Predictions\n",
    "preds_mod_3 = rf_mod_3.predict(X_test_3)\n",
    "\n",
    "# Accuracy\n",
    "acc_mod_3 = accuracy_score(y_test_3, preds_mod_3)\n",
    "print(\"Test Accuracy:\", acc_mod_3)\n"
   ]
  },
  {
   "cell_type": "code",
   "execution_count": 79,
   "id": "767f6b14",
   "metadata": {},
   "outputs": [
    {
     "name": "stdout",
     "output_type": "stream",
     "text": [
      "MILE_MARKER: 0.3183771041598983\n",
      "MOD_YEAR: 0.2644619640784736\n",
      "HOUR: 0.18113986414926683\n",
      "YEAR: 0.10963791913291088\n",
      "PERSONS: 0.07876762495418553\n",
      "DR_DRINK: 0.026144005806768175\n",
      "NUM_PEDS: 0.013683992625466799\n",
      "HIT_RUN: 0.007089448298180327\n",
      "SCH_BUS: 0.0006980767948496399\n"
     ]
    }
   ],
   "source": [
    "# Feature Importance Plot:\n",
    "impts = rf_mod_3.feature_importances_\n",
    "\n",
    "feature_names = X_resampled_3.columns\n",
    "\n",
    "idxs = np.argsort(impts)[::-1]\n",
    "\n",
    "for i in idxs:\n",
    "    print(f\"{feature_names[i]}: {impts[i]}\")\n"
   ]
  },
  {
   "cell_type": "code",
   "execution_count": 80,
   "id": "bc6958cd",
   "metadata": {},
   "outputs": [
    {
     "data": {
      "image/png": "[encoded data removed]",
      "text/plain": [
       "<Figure size 1000x500 with 1 Axes>"
      ]
     },
     "metadata": {},
     "output_type": "display_data"
    }
   ],
   "source": [
    "impts = rf_mod_3.feature_importances_\n",
    "\n",
    "idxs = np.argsort(impts)[::-1]\n",
    "\n",
    "plt.figure(figsize=(10, 5))\n",
    "plt.title(\"Feature Importance\")\n",
    "plt.bar(range(len(impts)), impts[idxs], align=\"center\")\n",
    "plt.xticks(range(len(impts)), [feature_names[i] for i in idxs]) \n",
    "plt.xlabel(\"Feature\")\n",
    "plt.ylabel(\"Importance\")\n",
    "plt.show()\n"
   ]
  },
  {
   "cell_type": "markdown",
   "id": "4ce2025e",
   "metadata": {},
   "source": [
    "#### Model 4 - Accidents from 2001 to 2007:"
   ]
  },
  {
   "cell_type": "code",
   "execution_count": 81,
   "id": "965feb45",
   "metadata": {},
   "outputs": [
    {
     "data": {
      "text/plain": [
       "pandas.core.frame.DataFrame"
      ]
     },
     "execution_count": 81,
     "metadata": {},
     "output_type": "execute_result"
    }
   ],
   "source": [
    "type(X_resampled_4)"
   ]
  },
  {
   "cell_type": "code",
   "execution_count": 82,
   "id": "1f9a3a2c",
   "metadata": {},
   "outputs": [
    {
     "data": {
      "text/plain": [
       "pandas.core.series.Series"
      ]
     },
     "execution_count": 82,
     "metadata": {},
     "output_type": "execute_result"
    }
   ],
   "source": [
    "type(y_resampled_4)"
   ]
  },
  {
   "cell_type": "code",
   "execution_count": 83,
   "id": "5c08f06f",
   "metadata": {},
   "outputs": [
    {
     "data": {
      "text/plain": [
       "YEAR             int64\n",
       "NUM_PEDS         int64\n",
       "PERSONS          int64\n",
       "HOUR             int64\n",
       "MILE_MARKER    float64\n",
       "SCH_BUS          int64\n",
       "MOD_YEAR       float64\n",
       "DR_DRINK         int64\n",
       "HIT_RUN          int64\n",
       "dtype: object"
      ]
     },
     "execution_count": 83,
     "metadata": {},
     "output_type": "execute_result"
    }
   ],
   "source": [
    "# Make sure all variables are quantitative:\n",
    "X_resampled_4.dtypes"
   ]
  },
  {
   "cell_type": "code",
   "execution_count": 85,
   "id": "9479f42e",
   "metadata": {},
   "outputs": [
    {
     "name": "stdout",
     "output_type": "stream",
     "text": [
      "Test Accuracy: 0.4713925872616049\n"
     ]
    }
   ],
   "source": [
    "rf_mod_4 = RandomForestClassifier(n_estimators=100, random_state=42)\n",
    "\n",
    "rf_mod_4.fit(X_resampled_4, y_resampled_4)\n",
    "\n",
    "# Test Predictions\n",
    "preds_mod_4 = rf_mod_4.predict(X_test_4)\n",
    "\n",
    "# Accuracy\n",
    "acc_mod_4 = accuracy_score(y_test_4, preds_mod_4)\n",
    "print(\"Test Accuracy:\", acc_mod_4)\n"
   ]
  },
  {
   "cell_type": "code",
   "execution_count": 86,
   "id": "cf58b0bb",
   "metadata": {},
   "outputs": [
    {
     "name": "stdout",
     "output_type": "stream",
     "text": [
      "MILE_MARKER: 0.29921698859057066\n",
      "MOD_YEAR: 0.27221954001745763\n",
      "HOUR: 0.19915135353678515\n",
      "YEAR: 0.09337472710295532\n",
      "PERSONS: 0.08812876074661292\n",
      "DR_DRINK: 0.02071155455849594\n",
      "NUM_PEDS: 0.017578308494446162\n",
      "HIT_RUN: 0.008953068260413354\n",
      "SCH_BUS: 0.000665698692262961\n"
     ]
    }
   ],
   "source": [
    "# Feature Importance Plot:\n",
    "impts = rf_mod_4.feature_importances_\n",
    "\n",
    "feature_names = X_resampled_4.columns\n",
    "\n",
    "idxs = np.argsort(impts)[::-1]\n",
    "\n",
    "for i in idxs:\n",
    "    print(f\"{feature_names[i]}: {impts[i]}\")\n"
   ]
  },
  {
   "cell_type": "code",
   "execution_count": 87,
   "id": "a63a023d",
   "metadata": {},
   "outputs": [
    {
     "data": {
      "image/png": "[encoded data removed]",
      "text/plain": [
       "<Figure size 1000x500 with 1 Axes>"
      ]
     },
     "metadata": {},
     "output_type": "display_data"
    }
   ],
   "source": [
    "impts = rf_mod_4.feature_importances_\n",
    "\n",
    "idxs = np.argsort(impts)[::-1]\n",
    "\n",
    "plt.figure(figsize=(10, 5))\n",
    "plt.title(\"Feature Importance\")\n",
    "plt.bar(range(len(impts)), impts[idxs], align=\"center\")\n",
    "plt.xticks(range(len(impts)), [feature_names[i] for i in idxs]) \n",
    "plt.xlabel(\"Feature\")\n",
    "plt.ylabel(\"Importance\")\n",
    "plt.show()\n"
   ]
  },
  {
   "cell_type": "markdown",
   "id": "124e721c",
   "metadata": {},
   "source": [
    "#### Model 5 - Accidents from 2008 to 2014:"
   ]
  },
  {
   "cell_type": "code",
   "execution_count": 88,
   "id": "810a5cf6",
   "metadata": {},
   "outputs": [
    {
     "data": {
      "text/plain": [
       "pandas.core.frame.DataFrame"
      ]
     },
     "execution_count": 88,
     "metadata": {},
     "output_type": "execute_result"
    }
   ],
   "source": [
    "type(X_resampled_5)"
   ]
  },
  {
   "cell_type": "code",
   "execution_count": 89,
   "id": "1f26ac0d",
   "metadata": {},
   "outputs": [
    {
     "data": {
      "text/plain": [
       "pandas.core.series.Series"
      ]
     },
     "execution_count": 89,
     "metadata": {},
     "output_type": "execute_result"
    }
   ],
   "source": [
    "type(y_resampled_5)"
   ]
  },
  {
   "cell_type": "code",
   "execution_count": 90,
   "id": "aff18d24",
   "metadata": {},
   "outputs": [
    {
     "data": {
      "text/plain": [
       "YEAR             int64\n",
       "NUM_PEDS         int64\n",
       "NUM_VEHC         int64\n",
       "PERSONS          int64\n",
       "HOUR             int64\n",
       "MILE_MARKER    float64\n",
       "SCH_BUS          int64\n",
       "MOD_YEAR       float64\n",
       "DR_DRINK         int64\n",
       "HIT_RUN          int64\n",
       "dtype: object"
      ]
     },
     "execution_count": 90,
     "metadata": {},
     "output_type": "execute_result"
    }
   ],
   "source": [
    "# Make sure all variables are quantitative:\n",
    "X_resampled_5.dtypes"
   ]
  },
  {
   "cell_type": "code",
   "execution_count": 92,
   "id": "e51d42ab",
   "metadata": {},
   "outputs": [
    {
     "name": "stdout",
     "output_type": "stream",
     "text": [
      "Test Accuracy: 0.48050770625566636\n"
     ]
    }
   ],
   "source": [
    "rf_mod_5 = RandomForestClassifier(n_estimators=100, random_state=42)\n",
    "\n",
    "rf_mod_5.fit(X_resampled_5, y_resampled_5)\n",
    "\n",
    "# Test Predictions\n",
    "preds_mod_5 = rf_mod_5.predict(X_test_5)\n",
    "\n",
    "# Accuracy\n",
    "acc_mod_5 = accuracy_score(y_test_5, preds_mod_5)\n",
    "print(\"Test Accuracy:\", acc_mod_5)\n"
   ]
  },
  {
   "cell_type": "code",
   "execution_count": 93,
   "id": "d54c84b8",
   "metadata": {},
   "outputs": [
    {
     "name": "stdout",
     "output_type": "stream",
     "text": [
      "MOD_YEAR: 0.3472337158286761\n",
      "HOUR: 0.23860031386181563\n",
      "MILE_MARKER: 0.12661809249076925\n",
      "YEAR: 0.12013334021656621\n",
      "PERSONS: 0.07170832820406374\n",
      "DR_DRINK: 0.03680285418590895\n",
      "NUM_VEHC: 0.030720408398448577\n",
      "NUM_PEDS: 0.019220546510370584\n",
      "HIT_RUN: 0.00804463806987877\n",
      "SCH_BUS: 0.000917762233502309\n"
     ]
    }
   ],
   "source": [
    "# Feature Importance Plot:\n",
    "impts = rf_mod_5.feature_importances_\n",
    "\n",
    "feature_names = X_resampled_5.columns\n",
    "\n",
    "idxs = np.argsort(impts)[::-1]\n",
    "\n",
    "for i in idxs:\n",
    "    print(f\"{feature_names[i]}: {impts[i]}\")\n"
   ]
  },
  {
   "cell_type": "code",
   "execution_count": 94,
   "id": "e01bbf6c",
   "metadata": {},
   "outputs": [
    {
     "data": {
      "image/png": "[encoded data removed]",
      "text/plain": [
       "<Figure size 1000x500 with 1 Axes>"
      ]
     },
     "metadata": {},
     "output_type": "display_data"
    }
   ],
   "source": [
    "impts = rf_mod_5.feature_importances_\n",
    "\n",
    "idxs = np.argsort(impts)[::-1]\n",
    "\n",
    "plt.figure(figsize=(10, 5))\n",
    "plt.title(\"Feature Importance\")\n",
    "plt.bar(range(len(impts)), impts[idxs], align=\"center\")\n",
    "plt.xticks(range(len(impts)), [feature_names[i] for i in idxs]) \n",
    "plt.xlabel(\"Feature\")\n",
    "plt.ylabel(\"Importance\")\n",
    "plt.show()\n"
   ]
  },
  {
   "cell_type": "markdown",
   "id": "01a9e031",
   "metadata": {},
   "source": [
    "#### Model 6 - Accidents from 2015 to 2022:"
   ]
  },
  {
   "cell_type": "code",
   "execution_count": 95,
   "id": "90318c8e",
   "metadata": {},
   "outputs": [
    {
     "data": {
      "text/plain": [
       "pandas.core.frame.DataFrame"
      ]
     },
     "execution_count": 95,
     "metadata": {},
     "output_type": "execute_result"
    }
   ],
   "source": [
    "type(X_resampled_6)"
   ]
  },
  {
   "cell_type": "code",
   "execution_count": 96,
   "id": "a0352058",
   "metadata": {},
   "outputs": [
    {
     "data": {
      "text/plain": [
       "pandas.core.series.Series"
      ]
     },
     "execution_count": 96,
     "metadata": {},
     "output_type": "execute_result"
    }
   ],
   "source": [
    "type(y_resampled_6)"
   ]
  },
  {
   "cell_type": "code",
   "execution_count": 97,
   "id": "b0efcfaa",
   "metadata": {},
   "outputs": [
    {
     "data": {
      "text/plain": [
       "YEAR                               int64\n",
       "NUM_PEDS                           int64\n",
       "NUM_VEHC                           int64\n",
       "PERSONS                            int64\n",
       "DAYNAME                            int64\n",
       "                                   ...  \n",
       "WEATHERNAME_Rain                    bool\n",
       "WEATHERNAME_Reported as Unknown     bool\n",
       "WEATHERNAME_Severe Crosswinds       bool\n",
       "WEATHERNAME_Snow                    bool\n",
       "WEATHERNAME_Unknown                 bool\n",
       "Length: 116, dtype: object"
      ]
     },
     "execution_count": 97,
     "metadata": {},
     "output_type": "execute_result"
    }
   ],
   "source": [
    "# Make sure all variables are quantitative:\n",
    "X_resampled_6.dtypes"
   ]
  },
  {
   "cell_type": "code",
   "execution_count": 99,
   "id": "a572b126",
   "metadata": {},
   "outputs": [
    {
     "name": "stdout",
     "output_type": "stream",
     "text": [
      "Test Accuracy: 0.4546732255797611\n"
     ]
    }
   ],
   "source": [
    "rf_mod_6 = RandomForestClassifier(n_estimators=100, random_state=42)\n",
    "\n",
    "rf_mod_6.fit(X_resampled_6, y_resampled_6)\n",
    "\n",
    "# Test Predictions\n",
    "preds_mod_6 = rf_mod_6.predict(X_test_6)\n",
    "\n",
    "# Accuracy\n",
    "acc_mod_6 = accuracy_score(y_test_6, preds_mod_6)\n",
    "print(\"Test Accuracy:\", acc_mod_6)\n"
   ]
  },
  {
   "cell_type": "code",
   "execution_count": 100,
   "id": "a14cf2fd",
   "metadata": {},
   "outputs": [
    {
     "name": "stdout",
     "output_type": "stream",
     "text": [
      "MOD_YEAR: 0.09710770556538437\n",
      "MILE_MARKER: 0.0582016946765235\n",
      "DAYNAME: 0.04807827271520061\n",
      "HOUR: 0.039483868704019376\n",
      "YEAR: 0.03215398836876704\n",
      "DR_DRINK: 0.024996062009919048\n",
      "PERSONS: 0.021721213966203478\n",
      "DAY_WEEKNAME_Tuesday: 0.02062439169201083\n",
      "DAY_WEEKNAME_Thursday: 0.020394581425780715\n",
      "RUR_URBNAME_Urban: 0.01759748010315467\n",
      "FUNC_SYSNAME_Minor Arterial: 0.01740270397172199\n",
      "ROUTENAME_State Highway: 0.01734325651334838\n",
      "RUR_URBNAME_Rural: 0.01704086099992985\n",
      "LGT_CONDNAME_Daylight: 0.016977780893547675\n",
      "LGT_CONDNAME_Dark - Not Lighted: 0.016446272561824207\n",
      "WEATHERNAME_Cloudy: 0.015817224169302344\n",
      "NUM_VEHC: 0.015436813398133969\n",
      "FUNC_SYSNAME_Principal Arterial - Other: 0.015299102065209728\n",
      "REL_ROADNAME_On Roadway: 0.015152423960896874\n",
      "REL_ROADNAME_On Roadside: 0.014717918936121876\n",
      "DAY_WEEKNAME_Wednesday: 0.014463546105930345\n",
      "TYP_INTNAME_Not an Intersection: 0.014127143006691496\n",
      "LGT_CONDNAME_Dark - Lighted: 0.014094225447998798\n",
      "COLLISION_TYPE_Angle: 0.013884984227833307\n",
      "MONTHNAME_December: 0.012874176151034911\n",
      "NUM_PEDS: 0.012742907370382054\n",
      "TYP_INTNAME_Four-Way Intersection: 0.01270810609978452\n",
      "COLLISION_TYPE_Not a Collision with Motor Vehicle In-Transport: 0.012630934430392888\n",
      "DAY_WEEKNAME_Saturday: 0.012605114376619011\n",
      "COLLISION_TYPE_Not a Collision: 0.012344871340723571\n",
      "MONTHNAME_September: 0.01227987170306019\n",
      "DAY_WEEKNAME_Friday: 0.012042857914052085\n",
      "ROUTENAME_U.S. Highway: 0.011702900438665766\n",
      "FUNC_SYSNAME_Local: 0.01169854537760806\n",
      "DAY_WEEKNAME_Monday: 0.011655455079998614\n",
      "DAY_WEEKNAME_Sunday: 0.011067091467420227\n",
      "TYP_INTNAME_T-Intersection: 0.010998944603107524\n",
      "WEATHERNAME_Clear: 0.010914585440472458\n",
      "FUNC_SYSNAME_Major Collector: 0.010763219716793455\n",
      "ROUTENAME_County Road: 0.01043786839484349\n",
      "MONTHNAME_October: 0.010362187603392026\n",
      "MONTHNAME_June: 0.010262847896377141\n",
      "ROUTENAME_Local Street - Municipality: 0.010113287633145271\n",
      "MONTHNAME_March: 0.010088051918916631\n",
      "MONTHNAME_November: 0.01007031937046164\n",
      "MONTHNAME_May: 0.01002532448983528\n",
      "MONTHNAME_April: 0.010017712299631292\n",
      "COLLISION_TYPE_Front-to-Front: 0.009958793027266637\n",
      "WEATHERNAME_Rain: 0.009951540579806663\n",
      "MONTHNAME_July: 0.009616508266162333\n",
      "FUNC_SYSNAME_Interstate: 0.008499482738186034\n",
      "ROUTENAME_Interstate: 0.008474948964838802\n",
      "COLLISION_TYPE_Front-to-Rear: 0.008411594112936925\n",
      "MONTHNAME_August: 0.008361908625089936\n",
      "FUNC_SYSNAME_Minor Collector: 0.00751026900416367\n",
      "MONTHNAME_January: 0.007225033968486861\n",
      "MONTHNAME_February: 0.006538751800569801\n",
      "HIT_RUN: 0.005170561638926663\n",
      "REL_ROADNAME_On Median: 0.0051124941546188485\n",
      "FUNC_SYSNAME_Principal Arterial - Freeways: 0.004388467800516428\n",
      "WRK_ZONENAME_Construction: 0.00409818552452677\n",
      "REL_ROADNAME_Off Roadway-Location Unknown: 0.0037589149491547426\n",
      "LGT_CONDNAME_Dawn: 0.0035293881503480856\n",
      "ROUTENAME_Other: 0.0032760555675456823\n",
      "LGT_CONDNAME_Dusk: 0.0027912633244279988\n",
      "ROUTENAME_US Highway: 0.0025895642184777345\n",
      "COLLISION_TYPE_Sideswipe - Same Direction: 0.0024331280233522434\n",
      "COLLISION_TYPE_Other: 0.0021992401447365685\n",
      "REL_ROADNAME_On Shoulder: 0.002172679357974231\n",
      "ROUTENAME_Local Street - Township: 0.0020700138940910793\n",
      "ROUTENAME_Unknown: 0.0016147539689417311\n",
      "WRK_ZONENAME_Work Zone, Type Unknown: 0.001594017923345413\n",
      "REL_ROADNAME_Outside Trafficway: 0.0014497281386810837\n",
      "WEATHERNAME_Fog, Smog, Smoke: 0.0012629466502012577\n",
      "COLLISION_TYPE_Sideswipe - Opposite Direction: 0.0009624673961618493\n",
      "REL_ROADNAME_Gore: 0.0006308465351740943\n",
      "ROUTENAME_Local Street - Frontage Road: 0.0006048440785353042\n",
      "TYP_INTNAME_Y-Intersection: 0.0005980655531347519\n",
      "WEATHERNAME_Snow: 0.0005248379936528089\n",
      "WRK_ZONENAME_Maintenance: 0.0004831864457637119\n",
      "COLLISION_TYPE_Unknown: 0.00043914398650671043\n",
      "LGT_CONDNAME_Dark - Unknown Lighting: 0.00043883195436271726\n",
      "REL_ROADNAME_Continuous Left - Turn Lane: 0.0004231364647551831\n",
      "WEATHERNAME_Other: 0.0003337212812543345\n",
      "LGT_CONDNAME_Unknown: 0.00024068100419746846\n",
      "WEATHERNAME_Not Reported: 0.00020771452814586665\n",
      "SCH_BUS: 0.00018876824036849222\n",
      "COLLISION_TYPE_Rear-to-Side: 0.00010906630215663324\n",
      "WEATHERNAME_Unknown: 9.42158474033837e-05\n",
      "LGT_CONDNAME_Not Reported: 5.6732385068227e-05\n",
      "TYP_INTNAME_Traffic Circle: 5.143897487737813e-05\n",
      "COLLISION_TYPE_Not Reported: 5.089933902745066e-05\n",
      "TYP_INTNAME_Unknown: 5.066935196518957e-05\n",
      "REL_ROADNAME_In Parking Lane/Zone: 4.5679423008732034e-05\n",
      "LGT_CONDNAME_Reported as Unknown: 4.543574254831746e-05\n",
      "RUR_URBNAME_Trafficway Not in State Inventory: 4.2074859169163586e-05\n",
      "COLLISION_TYPE_Reported as Unknown: 4.1976090493211156e-05\n",
      "FUNC_SYSNAME_Trafficway Not in State Inventory: 3.835126880710562e-05\n",
      "TYP_INTNAME_Not Reported: 3.626390691024628e-05\n",
      "REL_ROADNAME_Not Reported: 3.390674155695545e-05\n",
      "TYP_INTNAME_Roundabout: 3.181596650224846e-05\n",
      "TYP_INTNAME_Reported as Unknown: 1.9941306783381103e-05\n",
      "TYP_INTNAME_Other Intersection Type: 1.8581768916601757e-05\n",
      "WRK_ZONENAME_Utility: 1.8436457679618384e-05\n",
      "LGT_CONDNAME_Other: 1.5133654819969785e-05\n",
      "TYP_INTNAME_Five Point, or More: 1.5080951226160344e-05\n",
      "WEATHERNAME_Reported as Unknown: 1.359873605801541e-05\n",
      "WEATHERNAME_Severe Crosswinds: 1.1874136725185051e-05\n",
      "FUNC_SYSNAME_Not Reported: 1.0474538156260369e-05\n",
      "REL_ROADNAME_Separator: 9.87617345314716e-06\n",
      "REL_ROADNAME_Reported as Unknown: 9.811966298595462e-06\n",
      "TYP_INTNAME_L-Intersection: 8.384465500696586e-06\n",
      "WEATHERNAME_Blowing Snow: 5.432364223122772e-06\n",
      "REL_ROADNAME_Pedestrian Refuge Island or Traffic Island: 3.904824428560359e-06\n",
      "FUNC_SYSNAME_Unknown: 3.765874676384749e-06\n",
      "RUR_URBNAME_Not Reported: 0.0\n"
     ]
    }
   ],
   "source": [
    "# Feature Importance Plot:\n",
    "impts = rf_mod_6.feature_importances_\n",
    "\n",
    "feature_names = X_resampled_6.columns\n",
    "\n",
    "idxs = np.argsort(impts)[::-1]\n",
    "\n",
    "for i in idxs:\n",
    "    print(f\"{feature_names[i]}: {impts[i]}\")\n"
   ]
  },
  {
   "cell_type": "code",
   "execution_count": 101,
   "id": "8903dac8",
   "metadata": {},
   "outputs": [
    {
     "data": {
      "image/png": "[encoded data removed]",
      "text/plain": [
       "<Figure size 1200x600 with 1 Axes>"
      ]
     },
     "metadata": {},
     "output_type": "display_data"
    }
   ],
   "source": [
    "impts = rf_mod_6.feature_importances_\n",
    "\n",
    "idxs = np.argsort(impts)[::-1]\n",
    "\n",
    "# Top 10 indices\n",
    "top_idxs = idxs[:10]\n",
    "\n",
    "# Plotting only top 25\n",
    "plt.figure(figsize=(12, 6))\n",
    "plt.title(\"FARS Data SMOTE Random Forest Model's Top 10 Feature Importances\")\n",
    "plt.bar(range(len(top_idxs)), impts[top_idxs], align=\"center\")\n",
    "plt.xticks(range(len(top_idxs)), [feature_names[i] for i in top_idxs], rotation=45, ha='right') \n",
    "plt.xlabel(\"Feature\")\n",
    "plt.ylabel(\"Importance\")\n",
    "plt.tight_layout() \n",
    "plt.show()\n"
   ]
  },
  {
   "cell_type": "markdown",
   "id": "606a1ec6",
   "metadata": {},
   "source": [
    "#### Feed Forward Neural Networks:"
   ]
  },
  {
   "cell_type": "code",
   "execution_count": 113,
   "id": "234bd3da",
   "metadata": {},
   "outputs": [
    {
     "data": {
      "text/plain": [
       "pandas.core.frame.DataFrame"
      ]
     },
     "execution_count": 113,
     "metadata": {},
     "output_type": "execute_result"
    }
   ],
   "source": [
    "type(X_resampled_1)"
   ]
  },
  {
   "cell_type": "code",
   "execution_count": 114,
   "id": "ba064d22",
   "metadata": {},
   "outputs": [
    {
     "data": {
      "text/plain": [
       "pandas.core.series.Series"
      ]
     },
     "execution_count": 114,
     "metadata": {},
     "output_type": "execute_result"
    }
   ],
   "source": [
    "type(y_resampled_1)"
   ]
  },
  {
   "cell_type": "code",
   "execution_count": 115,
   "id": "db4125ed",
   "metadata": {},
   "outputs": [
    {
     "data": {
      "text/plain": [
       "(22808, 7)"
      ]
     },
     "execution_count": 115,
     "metadata": {},
     "output_type": "execute_result"
    }
   ],
   "source": [
    "X_resampled_1.shape"
   ]
  },
  {
   "cell_type": "code",
   "execution_count": 116,
   "id": "eaf0ad04",
   "metadata": {},
   "outputs": [
    {
     "data": {
      "text/plain": [
       "(22808,)"
      ]
     },
     "execution_count": 116,
     "metadata": {},
     "output_type": "execute_result"
    }
   ],
   "source": [
    "y_resampled_1.shape"
   ]
  },
  {
   "cell_type": "markdown",
   "id": "2ed3dffa",
   "metadata": {},
   "source": [
    "Decided to convert \"3+\" to 3 for the sake of making it a quantitative variable. So whenever the model predicts a value of 3, it means that there could be 3 or more deaths."
   ]
  },
  {
   "cell_type": "code",
   "execution_count": 117,
   "id": "639070d3",
   "metadata": {},
   "outputs": [
    {
     "name": "stdout",
     "output_type": "stream",
     "text": [
      "[0 1 2 3]\n"
     ]
    }
   ],
   "source": [
    "# Change string to integer labels\n",
    "y_resampled_1_int = y_resampled_1.replace({'0': 0, '1': 1, '2': 2, '3+': 3})\n",
    "\n",
    "print(np.unique(y_resampled_1_int))\n"
   ]
  },
  {
   "cell_type": "markdown",
   "id": "e301362b",
   "metadata": {},
   "source": [
    "#### Justification of Each Neural Network Component:\n",
    "\n",
    "I used a ReLU activation because deaths cannot be < 0, so a ReLU function is the most suitable activation function. The softmax function is appropriate because the response variable has 4 categories to choose among. \n",
    "\n",
    "I chose the Adam optimizer because it can adapt the model parameters' learning rates based on past gradients. Additonally, this optimizer makes use of a measure called the momentum, which helps the optimizer speed up the process of learning based on previous gradients' effect on the direction to update values.\n",
    "\n",
    "The loss function of sparse categorical cross-entropy is appropriate for multi-class classification with 3 or more categories & when the target variable is an integer. \n"
   ]
  },
  {
   "cell_type": "markdown",
   "id": "11fb0fce",
   "metadata": {},
   "source": [
    "#### First trying a model without the SMOTE resampling but another type of resampling:"
   ]
  },
  {
   "cell_type": "code",
   "execution_count": 119,
   "id": "15689bd4",
   "metadata": {},
   "outputs": [
    {
     "name": "stdout",
     "output_type": "stream",
     "text": [
      "['0' '1' '2' '3+']\n"
     ]
    }
   ],
   "source": [
    "print(np.unique(y_train_1))"
   ]
  },
  {
   "cell_type": "code",
   "execution_count": 120,
   "id": "7e165c81",
   "metadata": {},
   "outputs": [
    {
     "name": "stdout",
     "output_type": "stream",
     "text": [
      "[0 1 2 3]\n"
     ]
    }
   ],
   "source": [
    "# Change string to integer labels\n",
    "y_train_1_int = y_train_1.replace({'0': 0, '1': 1, '2': 2, '3+': 3})\n",
    "\n",
    "print(np.unique(y_train_1_int))"
   ]
  },
  {
   "cell_type": "code",
   "execution_count": 121,
   "id": "b75cfc1b",
   "metadata": {},
   "outputs": [
    {
     "name": "stdout",
     "output_type": "stream",
     "text": [
      "Epoch 1/100\n"
     ]
    },
    {
     "name": "stderr",
     "output_type": "stream",
     "text": [
      "2024-04-08 19:31:00.686231: I tensorflow/core/platform/cpu_feature_guard.cc:193] This TensorFlow binary is optimized with oneAPI Deep Neural Network Library (oneDNN) to use the following CPU instructions in performance-critical operations:  SSE4.1 SSE4.2 AVX AVX2 FMA\n",
      "To enable them in other operations, rebuild TensorFlow with the appropriate compiler flags.\n"
     ]
    },
    {
     "name": "stdout",
     "output_type": "stream",
     "text": [
      "286/286 [==============================] - 1s 2ms/step - loss: 9.5127 - accuracy: 0.2984 - val_loss: 4.0270 - val_accuracy: 0.0000e+00\n",
      "Epoch 2/100\n",
      "286/286 [==============================] - 0s 1ms/step - loss: 2.5375 - accuracy: 0.3045 - val_loss: 5.4007 - val_accuracy: 0.0000e+00\n",
      "Epoch 3/100\n",
      "286/286 [==============================] - 0s 1ms/step - loss: 2.9002 - accuracy: 0.3062 - val_loss: 0.7435 - val_accuracy: 0.8801\n",
      "Epoch 4/100\n",
      "286/286 [==============================] - 0s 1ms/step - loss: 2.4292 - accuracy: 0.3128 - val_loss: 3.8454 - val_accuracy: 0.0000e+00\n",
      "Epoch 5/100\n",
      "286/286 [==============================] - 0s 2ms/step - loss: 2.7049 - accuracy: 0.3127 - val_loss: 11.1041 - val_accuracy: 0.0000e+00\n",
      "Epoch 6/100\n",
      "286/286 [==============================] - 0s 1ms/step - loss: 2.3640 - accuracy: 0.3098 - val_loss: 2.3416 - val_accuracy: 0.0000e+00\n",
      "Epoch 7/100\n",
      "286/286 [==============================] - 0s 2ms/step - loss: 2.2899 - accuracy: 0.3168 - val_loss: 9.1664 - val_accuracy: 0.0000e+00\n",
      "Epoch 8/100\n",
      "286/286 [==============================] - 0s 2ms/step - loss: 1.9880 - accuracy: 0.3196 - val_loss: 2.6082 - val_accuracy: 0.0000e+00\n",
      "Epoch 9/100\n",
      "286/286 [==============================] - 0s 2ms/step - loss: 1.8114 - accuracy: 0.3279 - val_loss: 6.4626 - val_accuracy: 0.0000e+00\n",
      "Epoch 10/100\n",
      "286/286 [==============================] - 1s 2ms/step - loss: 2.1561 - accuracy: 0.3208 - val_loss: 3.9814 - val_accuracy: 0.0000e+00\n",
      "Epoch 11/100\n",
      "286/286 [==============================] - 0s 1ms/step - loss: 2.1365 - accuracy: 0.3192 - val_loss: 3.1697 - val_accuracy: 0.0000e+00\n",
      "Epoch 12/100\n",
      "286/286 [==============================] - 0s 1ms/step - loss: 1.8038 - accuracy: 0.3241 - val_loss: 1.6595 - val_accuracy: 6.5761e-04\n",
      "Epoch 13/100\n",
      "286/286 [==============================] - 0s 2ms/step - loss: 2.6902 - accuracy: 0.3175 - val_loss: 2.6656 - val_accuracy: 0.0000e+00\n",
      "Epoch 14/100\n",
      "286/286 [==============================] - 0s 1ms/step - loss: 1.9978 - accuracy: 0.3292 - val_loss: 3.6626 - val_accuracy: 0.0000e+00\n",
      "Epoch 15/100\n",
      "286/286 [==============================] - 0s 1ms/step - loss: 1.7944 - accuracy: 0.3222 - val_loss: 6.9751 - val_accuracy: 0.0000e+00\n",
      "Epoch 16/100\n",
      "286/286 [==============================] - 0s 2ms/step - loss: 2.0786 - accuracy: 0.3235 - val_loss: 2.3044 - val_accuracy: 0.0000e+00\n",
      "Epoch 17/100\n",
      "286/286 [==============================] - 0s 1ms/step - loss: 1.9807 - accuracy: 0.3223 - val_loss: 2.1605 - val_accuracy: 0.0000e+00\n",
      "Epoch 18/100\n",
      "286/286 [==============================] - 0s 1ms/step - loss: 1.9304 - accuracy: 0.3223 - val_loss: 5.7400 - val_accuracy: 0.0000e+00\n",
      "Epoch 19/100\n",
      "286/286 [==============================] - 1s 2ms/step - loss: 1.7191 - accuracy: 0.3280 - val_loss: 5.2362 - val_accuracy: 0.0000e+00\n",
      "Epoch 20/100\n",
      "286/286 [==============================] - 1s 2ms/step - loss: 1.8386 - accuracy: 0.3230 - val_loss: 7.3980 - val_accuracy: 0.0000e+00\n",
      "Epoch 21/100\n",
      "286/286 [==============================] - 0s 2ms/step - loss: 2.0141 - accuracy: 0.3162 - val_loss: 5.1497 - val_accuracy: 0.0000e+00\n",
      "Epoch 22/100\n",
      "286/286 [==============================] - 0s 2ms/step - loss: 1.8936 - accuracy: 0.3254 - val_loss: 1.9766 - val_accuracy: 0.0000e+00\n",
      "Epoch 23/100\n",
      "286/286 [==============================] - 0s 1ms/step - loss: 1.6906 - accuracy: 0.3241 - val_loss: 3.7356 - val_accuracy: 0.0000e+00\n",
      "Epoch 24/100\n",
      "286/286 [==============================] - 0s 1ms/step - loss: 1.9243 - accuracy: 0.3297 - val_loss: 2.9530 - val_accuracy: 0.0000e+00\n",
      "Epoch 25/100\n",
      "286/286 [==============================] - 0s 1ms/step - loss: 2.1687 - accuracy: 0.3225 - val_loss: 7.5260 - val_accuracy: 0.0000e+00\n",
      "Epoch 26/100\n",
      "286/286 [==============================] - 0s 1ms/step - loss: 1.6575 - accuracy: 0.3308 - val_loss: 1.0693 - val_accuracy: 0.7556\n",
      "Epoch 27/100\n",
      "286/286 [==============================] - 0s 2ms/step - loss: 1.5547 - accuracy: 0.3282 - val_loss: 3.8898 - val_accuracy: 0.0000e+00\n",
      "Epoch 28/100\n",
      "286/286 [==============================] - 0s 1ms/step - loss: 1.6347 - accuracy: 0.3296 - val_loss: 0.9608 - val_accuracy: 0.3128\n",
      "Epoch 29/100\n",
      "286/286 [==============================] - 0s 1ms/step - loss: 1.6604 - accuracy: 0.3254 - val_loss: 8.6986 - val_accuracy: 0.0000e+00\n",
      "Epoch 30/100\n",
      "286/286 [==============================] - 0s 1ms/step - loss: 1.8721 - accuracy: 0.3210 - val_loss: 3.3153 - val_accuracy: 0.0000e+00\n",
      "Epoch 31/100\n",
      "286/286 [==============================] - 0s 1ms/step - loss: 1.5979 - accuracy: 0.3333 - val_loss: 7.2329 - val_accuracy: 0.0000e+00\n",
      "Epoch 32/100\n",
      "286/286 [==============================] - 0s 1ms/step - loss: 1.9570 - accuracy: 0.3245 - val_loss: 3.1363 - val_accuracy: 0.0000e+00\n",
      "Epoch 33/100\n",
      "286/286 [==============================] - 0s 1ms/step - loss: 1.7408 - accuracy: 0.3245 - val_loss: 3.3981 - val_accuracy: 0.0000e+00\n",
      "Epoch 34/100\n",
      "286/286 [==============================] - 0s 1ms/step - loss: 1.7427 - accuracy: 0.3288 - val_loss: 4.6175 - val_accuracy: 0.0000e+00\n",
      "Epoch 35/100\n",
      "286/286 [==============================] - 0s 1ms/step - loss: 2.0626 - accuracy: 0.3208 - val_loss: 10.2455 - val_accuracy: 0.0000e+00\n",
      "Epoch 36/100\n",
      "286/286 [==============================] - 0s 1ms/step - loss: 1.4688 - accuracy: 0.3440 - val_loss: 4.6903 - val_accuracy: 0.0000e+00\n",
      "Epoch 37/100\n",
      "286/286 [==============================] - 0s 1ms/step - loss: 1.6189 - accuracy: 0.3334 - val_loss: 2.9884 - val_accuracy: 0.0000e+00\n",
      "Epoch 38/100\n",
      "286/286 [==============================] - 0s 1ms/step - loss: 1.6343 - accuracy: 0.3260 - val_loss: 4.0391 - val_accuracy: 0.0000e+00\n",
      "Epoch 39/100\n",
      "286/286 [==============================] - 0s 1ms/step - loss: 1.6208 - accuracy: 0.3242 - val_loss: 3.5413 - val_accuracy: 0.0000e+00\n",
      "Epoch 40/100\n",
      "286/286 [==============================] - 0s 1ms/step - loss: 1.6697 - accuracy: 0.3307 - val_loss: 6.0390 - val_accuracy: 0.0000e+00\n",
      "Epoch 41/100\n",
      "286/286 [==============================] - 0s 1ms/step - loss: 1.6205 - accuracy: 0.3273 - val_loss: 2.0298 - val_accuracy: 0.0000e+00\n",
      "Epoch 42/100\n",
      "286/286 [==============================] - 0s 1ms/step - loss: 1.5571 - accuracy: 0.3334 - val_loss: 6.9626 - val_accuracy: 0.0000e+00\n",
      "Epoch 43/100\n",
      "286/286 [==============================] - 0s 1ms/step - loss: 1.6536 - accuracy: 0.3299 - val_loss: 7.5286 - val_accuracy: 0.0000e+00\n",
      "Epoch 44/100\n",
      "286/286 [==============================] - 0s 1ms/step - loss: 1.5141 - accuracy: 0.3328 - val_loss: 3.7181 - val_accuracy: 0.0000e+00\n",
      "Epoch 45/100\n",
      "286/286 [==============================] - 0s 1ms/step - loss: 1.5374 - accuracy: 0.3376 - val_loss: 1.0240 - val_accuracy: 0.2400\n",
      "Epoch 46/100\n",
      "286/286 [==============================] - 1s 2ms/step - loss: 1.7971 - accuracy: 0.3287 - val_loss: 0.6240 - val_accuracy: 0.8950\n",
      "Epoch 47/100\n",
      "286/286 [==============================] - 1s 2ms/step - loss: 1.5479 - accuracy: 0.3317 - val_loss: 4.3010 - val_accuracy: 0.0000e+00\n",
      "Epoch 48/100\n",
      "286/286 [==============================] - 0s 1ms/step - loss: 1.4718 - accuracy: 0.3370 - val_loss: 2.3504 - val_accuracy: 0.0000e+00\n",
      "Epoch 49/100\n",
      "286/286 [==============================] - 0s 1ms/step - loss: 1.5731 - accuracy: 0.3283 - val_loss: 4.4476 - val_accuracy: 0.0000e+00\n",
      "Epoch 50/100\n",
      "286/286 [==============================] - 0s 1ms/step - loss: 1.5488 - accuracy: 0.3315 - val_loss: 4.0168 - val_accuracy: 0.0000e+00\n",
      "Epoch 51/100\n",
      "286/286 [==============================] - 0s 1ms/step - loss: 1.4569 - accuracy: 0.3342 - val_loss: 5.5805 - val_accuracy: 0.0000e+00\n",
      "Epoch 52/100\n",
      "286/286 [==============================] - 0s 1ms/step - loss: 1.5406 - accuracy: 0.3340 - val_loss: 4.7482 - val_accuracy: 0.0000e+00\n",
      "Epoch 53/100\n",
      "286/286 [==============================] - 0s 1ms/step - loss: 1.4634 - accuracy: 0.3367 - val_loss: 2.4109 - val_accuracy: 0.0000e+00\n",
      "Epoch 54/100\n",
      "286/286 [==============================] - 0s 1ms/step - loss: 1.6072 - accuracy: 0.3236 - val_loss: 3.8861 - val_accuracy: 0.0000e+00\n",
      "Epoch 55/100\n",
      "286/286 [==============================] - 0s 1ms/step - loss: 1.4292 - accuracy: 0.3382 - val_loss: 3.0764 - val_accuracy: 0.0000e+00\n",
      "Epoch 56/100\n",
      "286/286 [==============================] - 0s 1ms/step - loss: 1.4405 - accuracy: 0.3416 - val_loss: 4.2580 - val_accuracy: 0.0000e+00\n",
      "Epoch 57/100\n",
      "286/286 [==============================] - 0s 1ms/step - loss: 1.5104 - accuracy: 0.3326 - val_loss: 5.2772 - val_accuracy: 0.0000e+00\n",
      "Epoch 58/100\n",
      "286/286 [==============================] - 0s 1ms/step - loss: 1.5377 - accuracy: 0.3280 - val_loss: 2.9765 - val_accuracy: 0.0000e+00\n",
      "Epoch 59/100\n",
      "286/286 [==============================] - 0s 1ms/step - loss: 1.4400 - accuracy: 0.3351 - val_loss: 4.6346 - val_accuracy: 0.0000e+00\n",
      "Epoch 60/100\n",
      "286/286 [==============================] - 0s 1ms/step - loss: 1.5171 - accuracy: 0.3326 - val_loss: 5.6708 - val_accuracy: 0.0000e+00\n",
      "Epoch 61/100\n",
      "286/286 [==============================] - 0s 1ms/step - loss: 1.4137 - accuracy: 0.3415 - val_loss: 2.1564 - val_accuracy: 0.0000e+00\n",
      "Epoch 62/100\n",
      "286/286 [==============================] - 0s 1ms/step - loss: 1.4249 - accuracy: 0.3337 - val_loss: 1.6665 - val_accuracy: 0.0000e+00\n",
      "Epoch 63/100\n",
      "286/286 [==============================] - 0s 1ms/step - loss: 1.4806 - accuracy: 0.3359 - val_loss: 0.6956 - val_accuracy: 0.9101\n",
      "Epoch 64/100\n",
      "286/286 [==============================] - 0s 1ms/step - loss: 1.4919 - accuracy: 0.3313 - val_loss: 3.5730 - val_accuracy: 0.0000e+00\n",
      "Epoch 65/100\n",
      "286/286 [==============================] - 0s 1ms/step - loss: 1.4595 - accuracy: 0.3279 - val_loss: 2.7646 - val_accuracy: 0.0000e+00\n",
      "Epoch 66/100\n",
      "286/286 [==============================] - 0s 1ms/step - loss: 1.3997 - accuracy: 0.3385 - val_loss: 3.1978 - val_accuracy: 0.0000e+00\n",
      "Epoch 67/100\n",
      "286/286 [==============================] - 0s 1ms/step - loss: 1.4930 - accuracy: 0.3322 - val_loss: 1.8784 - val_accuracy: 0.0000e+00\n",
      "Epoch 68/100\n",
      "286/286 [==============================] - 0s 1ms/step - loss: 1.3968 - accuracy: 0.3388 - val_loss: 3.8361 - val_accuracy: 0.0000e+00\n",
      "Epoch 69/100\n",
      "286/286 [==============================] - 0s 1ms/step - loss: 1.4073 - accuracy: 0.3378 - val_loss: 2.7925 - val_accuracy: 0.0000e+00\n",
      "Epoch 70/100\n",
      "286/286 [==============================] - 0s 1ms/step - loss: 1.3901 - accuracy: 0.3363 - val_loss: 5.5858 - val_accuracy: 0.0000e+00\n",
      "Epoch 71/100\n",
      "286/286 [==============================] - 0s 1ms/step - loss: 1.4868 - accuracy: 0.3310 - val_loss: 2.8081 - val_accuracy: 0.0000e+00\n",
      "Epoch 72/100\n",
      "286/286 [==============================] - 0s 1ms/step - loss: 1.4384 - accuracy: 0.3326 - val_loss: 2.6388 - val_accuracy: 0.0000e+00\n",
      "Epoch 73/100\n",
      "286/286 [==============================] - 0s 1ms/step - loss: 1.4307 - accuracy: 0.3365 - val_loss: 2.1194 - val_accuracy: 0.0000e+00\n",
      "Epoch 74/100\n",
      "286/286 [==============================] - 0s 1ms/step - loss: 1.3933 - accuracy: 0.3366 - val_loss: 2.9308 - val_accuracy: 0.0000e+00\n",
      "Epoch 75/100\n",
      "286/286 [==============================] - 0s 1ms/step - loss: 1.4006 - accuracy: 0.3326 - val_loss: 7.0273 - val_accuracy: 0.0000e+00\n",
      "Epoch 76/100\n",
      "286/286 [==============================] - 0s 1ms/step - loss: 1.4213 - accuracy: 0.3319 - val_loss: 1.3517 - val_accuracy: 0.0769\n",
      "Epoch 77/100\n",
      "286/286 [==============================] - 0s 1ms/step - loss: 1.4501 - accuracy: 0.3300 - val_loss: 1.5039 - val_accuracy: 0.0000e+00\n",
      "Epoch 78/100\n",
      "286/286 [==============================] - 0s 1ms/step - loss: 1.3706 - accuracy: 0.3302 - val_loss: 3.0471 - val_accuracy: 0.0000e+00\n",
      "Epoch 79/100\n",
      "286/286 [==============================] - 0s 2ms/step - loss: 1.3943 - accuracy: 0.3339 - val_loss: 1.6104 - val_accuracy: 0.0000e+00\n",
      "Epoch 80/100\n",
      "286/286 [==============================] - 0s 1ms/step - loss: 1.3618 - accuracy: 0.3441 - val_loss: 4.0795 - val_accuracy: 0.0000e+00\n",
      "Epoch 81/100\n",
      "286/286 [==============================] - 0s 1ms/step - loss: 1.3674 - accuracy: 0.3372 - val_loss: 2.7573 - val_accuracy: 0.0000e+00\n",
      "Epoch 82/100\n",
      "286/286 [==============================] - 0s 1ms/step - loss: 1.3917 - accuracy: 0.3335 - val_loss: 2.2050 - val_accuracy: 0.0000e+00\n",
      "Epoch 83/100\n",
      "286/286 [==============================] - 0s 1ms/step - loss: 1.3975 - accuracy: 0.3376 - val_loss: 2.8134 - val_accuracy: 0.0000e+00\n",
      "Epoch 84/100\n",
      "286/286 [==============================] - 0s 1ms/step - loss: 1.4384 - accuracy: 0.3308 - val_loss: 2.7753 - val_accuracy: 0.0000e+00\n",
      "Epoch 85/100\n",
      "286/286 [==============================] - 0s 1ms/step - loss: 1.3657 - accuracy: 0.3331 - val_loss: 4.2270 - val_accuracy: 0.0000e+00\n",
      "Epoch 86/100\n",
      "286/286 [==============================] - 0s 1ms/step - loss: 1.3450 - accuracy: 0.3366 - val_loss: 3.4128 - val_accuracy: 0.0000e+00\n",
      "Epoch 87/100\n",
      "286/286 [==============================] - 0s 1ms/step - loss: 1.3756 - accuracy: 0.3336 - val_loss: 3.8506 - val_accuracy: 0.0000e+00\n",
      "Epoch 88/100\n",
      "286/286 [==============================] - 0s 1ms/step - loss: 1.3504 - accuracy: 0.3364 - val_loss: 3.6546 - val_accuracy: 0.0000e+00\n",
      "Epoch 89/100\n",
      "286/286 [==============================] - 0s 1ms/step - loss: 1.3461 - accuracy: 0.3350 - val_loss: 3.1521 - val_accuracy: 0.0000e+00\n",
      "Epoch 90/100\n",
      "286/286 [==============================] - 0s 1ms/step - loss: 1.3356 - accuracy: 0.3396 - val_loss: 2.9172 - val_accuracy: 0.0000e+00\n",
      "Epoch 91/100\n",
      "286/286 [==============================] - 0s 1ms/step - loss: 1.3680 - accuracy: 0.3327 - val_loss: 2.5023 - val_accuracy: 0.0000e+00\n",
      "Epoch 92/100\n",
      "286/286 [==============================] - 0s 1ms/step - loss: 1.3681 - accuracy: 0.3332 - val_loss: 3.0733 - val_accuracy: 0.0000e+00\n",
      "Epoch 93/100\n",
      "286/286 [==============================] - 0s 1ms/step - loss: 1.3661 - accuracy: 0.3396 - val_loss: 2.1419 - val_accuracy: 0.0000e+00\n",
      "Epoch 94/100\n",
      "286/286 [==============================] - 0s 1ms/step - loss: 1.3681 - accuracy: 0.3359 - val_loss: 3.1122 - val_accuracy: 0.0000e+00\n",
      "Epoch 95/100\n",
      "286/286 [==============================] - 0s 1ms/step - loss: 1.3466 - accuracy: 0.3382 - val_loss: 3.2047 - val_accuracy: 0.0000e+00\n",
      "Epoch 96/100\n",
      "286/286 [==============================] - 0s 1ms/step - loss: 1.3514 - accuracy: 0.3399 - val_loss: 3.2415 - val_accuracy: 0.0000e+00\n",
      "Epoch 97/100\n",
      "286/286 [==============================] - 0s 1ms/step - loss: 1.3477 - accuracy: 0.3302 - val_loss: 2.8495 - val_accuracy: 0.0000e+00\n",
      "Epoch 98/100\n",
      "286/286 [==============================] - 0s 1ms/step - loss: 1.3532 - accuracy: 0.3380 - val_loss: 3.5889 - val_accuracy: 0.0000e+00\n",
      "Epoch 99/100\n",
      "286/286 [==============================] - 0s 1ms/step - loss: 1.3408 - accuracy: 0.3368 - val_loss: 2.2691 - val_accuracy: 0.0000e+00\n",
      "Epoch 100/100\n",
      "286/286 [==============================] - 0s 1ms/step - loss: 1.3304 - accuracy: 0.3362 - val_loss: 2.6194 - val_accuracy: 0.0000e+00\n"
     ]
    }
   ],
   "source": [
    "model_1 = keras.Sequential([\n",
    "    layers.Dense(64, activation='relu', input_shape=(7,)), # input shape of 7 since this time period's df has 7 features\n",
    "    layers.Dense(32, activation='relu'),\n",
    "    layers.Dense(4, activation='softmax')  # 4 neurons for 4 categories\n",
    "])\n",
    "\n",
    "model_1.compile(optimizer='adam',\n",
    "              loss='sparse_categorical_crossentropy',  \n",
    "              metrics=['accuracy'])\n",
    "\n",
    "history_1 = model_1.fit(X_resampled_1, y_resampled_1_int, epochs=100, batch_size=64, validation_split=0.2)\n"
   ]
  },
  {
   "cell_type": "code",
   "execution_count": 122,
   "id": "d7ae765e",
   "metadata": {},
   "outputs": [
    {
     "name": "stdout",
     "output_type": "stream",
     "text": [
      "124/124 [==============================] - 0s 773us/step - loss: 1.7112 - accuracy: 0.0596\n",
      "Accuracy on test set: 5.96%\n"
     ]
    }
   ],
   "source": [
    "# Change string to integer labels for the test data\n",
    "y_test_1_int = y_test_1.replace({'0': 0, '1': 1, '2': 2, '3+': 3})\n",
    "\n",
    "# Evaluate the model \n",
    "loss_1, accuracy_1 = model_1.evaluate(X_test_1, y_test_1_int)\n",
    "print(\"Accuracy on test set: {:.2f}%\".format(accuracy_1 * 100))\n"
   ]
  },
  {
   "cell_type": "code",
   "execution_count": 123,
   "id": "c745fbaa",
   "metadata": {},
   "outputs": [
    {
     "data": {
      "text/plain": [
       "(28424, 8)"
      ]
     },
     "execution_count": 123,
     "metadata": {},
     "output_type": "execute_result"
    }
   ],
   "source": [
    "X_resampled_2.shape"
   ]
  },
  {
   "cell_type": "code",
   "execution_count": 124,
   "id": "4ab68ddf",
   "metadata": {},
   "outputs": [
    {
     "data": {
      "text/plain": [
       "(28424,)"
      ]
     },
     "execution_count": 124,
     "metadata": {},
     "output_type": "execute_result"
    }
   ],
   "source": [
    "y_resampled_2.shape"
   ]
  },
  {
   "cell_type": "code",
   "execution_count": 125,
   "id": "63492b59",
   "metadata": {},
   "outputs": [
    {
     "name": "stdout",
     "output_type": "stream",
     "text": [
      "[0 1 2 3]\n"
     ]
    }
   ],
   "source": [
    "y_resampled_2_int = y_resampled_2.replace({'0': 0, '1': 1, '2': 2, '3+': 3})\n",
    "\n",
    "print(np.unique(y_resampled_2_int))\n"
   ]
  },
  {
   "cell_type": "code",
   "execution_count": 126,
   "id": "0a4f501b",
   "metadata": {
    "scrolled": true
   },
   "outputs": [
    {
     "name": "stdout",
     "output_type": "stream",
     "text": [
      "Epoch 1/100\n",
      "356/356 [==============================] - 1s 1ms/step - loss: 188.6911 - accuracy: 0.3000 - val_loss: 243.6297 - val_accuracy: 0.0000e+00\n",
      "Epoch 2/100\n",
      "356/356 [==============================] - 0s 1ms/step - loss: 75.3456 - accuracy: 0.2986 - val_loss: 403.8156 - val_accuracy: 0.3782\n",
      "Epoch 3/100\n",
      "356/356 [==============================] - 0s 1ms/step - loss: 83.7121 - accuracy: 0.3040 - val_loss: 34.8026 - val_accuracy: 0.0273\n",
      "Epoch 4/100\n",
      "356/356 [==============================] - 0s 1ms/step - loss: 70.5549 - accuracy: 0.3032 - val_loss: 371.0188 - val_accuracy: 0.0000e+00\n",
      "Epoch 5/100\n",
      "356/356 [==============================] - 0s 1ms/step - loss: 78.6835 - accuracy: 0.3057 - val_loss: 141.8788 - val_accuracy: 0.0665\n",
      "Epoch 6/100\n",
      "356/356 [==============================] - 0s 1ms/step - loss: 76.6520 - accuracy: 0.3051 - val_loss: 75.1454 - val_accuracy: 0.0000e+00\n",
      "Epoch 7/100\n",
      "356/356 [==============================] - 0s 1ms/step - loss: 76.9748 - accuracy: 0.3050 - val_loss: 7.0258 - val_accuracy: 0.2830\n",
      "Epoch 8/100\n",
      "356/356 [==============================] - 0s 1ms/step - loss: 72.2387 - accuracy: 0.3060 - val_loss: 221.0741 - val_accuracy: 0.0000e+00\n",
      "Epoch 9/100\n",
      "356/356 [==============================] - 1s 1ms/step - loss: 62.0689 - accuracy: 0.3117 - val_loss: 83.3471 - val_accuracy: 0.0120\n",
      "Epoch 10/100\n",
      "356/356 [==============================] - 0s 1ms/step - loss: 61.3614 - accuracy: 0.3050 - val_loss: 581.0265 - val_accuracy: 0.0000e+00\n",
      "Epoch 11/100\n",
      "356/356 [==============================] - 0s 1ms/step - loss: 53.1281 - accuracy: 0.3139 - val_loss: 272.0110 - val_accuracy: 0.0000e+00\n",
      "Epoch 12/100\n",
      "356/356 [==============================] - 0s 1ms/step - loss: 55.9529 - accuracy: 0.3136 - val_loss: 193.4747 - val_accuracy: 0.0142\n",
      "Epoch 13/100\n",
      "356/356 [==============================] - 0s 1ms/step - loss: 56.9128 - accuracy: 0.3077 - val_loss: 226.6875 - val_accuracy: 0.0000e+00\n",
      "Epoch 14/100\n",
      "356/356 [==============================] - 0s 1ms/step - loss: 51.3278 - accuracy: 0.3152 - val_loss: 201.2213 - val_accuracy: 0.0000e+00\n",
      "Epoch 15/100\n",
      "356/356 [==============================] - 0s 1ms/step - loss: 53.0928 - accuracy: 0.3163 - val_loss: 152.5525 - val_accuracy: 0.0000e+00\n",
      "Epoch 16/100\n",
      "356/356 [==============================] - 0s 1ms/step - loss: 47.3933 - accuracy: 0.3139 - val_loss: 101.9189 - val_accuracy: 0.0023\n",
      "Epoch 17/100\n",
      "356/356 [==============================] - 0s 1ms/step - loss: 53.3582 - accuracy: 0.3107 - val_loss: 108.7282 - val_accuracy: 0.0000e+00\n",
      "Epoch 18/100\n",
      "356/356 [==============================] - 0s 1ms/step - loss: 51.7531 - accuracy: 0.3149 - val_loss: 176.2427 - val_accuracy: 0.0387\n",
      "Epoch 19/100\n",
      "356/356 [==============================] - 0s 1ms/step - loss: 42.3056 - accuracy: 0.3145 - val_loss: 167.2687 - val_accuracy: 0.3432\n",
      "Epoch 20/100\n",
      "356/356 [==============================] - 0s 1ms/step - loss: 35.7487 - accuracy: 0.3231 - val_loss: 6.3317 - val_accuracy: 0.0111\n",
      "Epoch 21/100\n",
      "356/356 [==============================] - 0s 1ms/step - loss: 35.1355 - accuracy: 0.3218 - val_loss: 133.9494 - val_accuracy: 0.0000e+00\n",
      "Epoch 22/100\n",
      "356/356 [==============================] - 1s 1ms/step - loss: 34.8605 - accuracy: 0.3230 - val_loss: 81.5649 - val_accuracy: 0.0000e+00\n",
      "Epoch 23/100\n",
      "356/356 [==============================] - 0s 1ms/step - loss: 32.7694 - accuracy: 0.3171 - val_loss: 187.2359 - val_accuracy: 0.0000e+00\n",
      "Epoch 24/100\n",
      "356/356 [==============================] - 0s 1ms/step - loss: 33.4758 - accuracy: 0.3239 - val_loss: 216.6977 - val_accuracy: 0.0000e+00\n",
      "Epoch 25/100\n",
      "356/356 [==============================] - 0s 1ms/step - loss: 37.8520 - accuracy: 0.3203 - val_loss: 111.0336 - val_accuracy: 0.1015\n",
      "Epoch 26/100\n",
      "356/356 [==============================] - 0s 1ms/step - loss: 30.7043 - accuracy: 0.3275 - val_loss: 1.0595 - val_accuracy: 0.6037\n",
      "Epoch 27/100\n",
      "356/356 [==============================] - 0s 1ms/step - loss: 32.7684 - accuracy: 0.3231 - val_loss: 1.2384 - val_accuracy: 0.6014\n",
      "Epoch 28/100\n",
      "356/356 [==============================] - 1s 1ms/step - loss: 29.1675 - accuracy: 0.3304 - val_loss: 36.6217 - val_accuracy: 0.0035\n",
      "Epoch 29/100\n",
      "356/356 [==============================] - 0s 1ms/step - loss: 30.6339 - accuracy: 0.3221 - val_loss: 12.5864 - val_accuracy: 0.2245\n",
      "Epoch 30/100\n",
      "356/356 [==============================] - 0s 1ms/step - loss: 28.4353 - accuracy: 0.3294 - val_loss: 19.9057 - val_accuracy: 0.0030\n",
      "Epoch 31/100\n",
      "356/356 [==============================] - 0s 1ms/step - loss: 27.6538 - accuracy: 0.3322 - val_loss: 38.4723 - val_accuracy: 0.0000e+00\n",
      "Epoch 32/100\n",
      "356/356 [==============================] - 0s 1ms/step - loss: 25.6494 - accuracy: 0.3322 - val_loss: 84.5336 - val_accuracy: 0.0000e+00\n",
      "Epoch 33/100\n",
      "356/356 [==============================] - 0s 1ms/step - loss: 26.3257 - accuracy: 0.3363 - val_loss: 13.8649 - val_accuracy: 0.0000e+00\n",
      "Epoch 34/100\n",
      "356/356 [==============================] - 0s 1ms/step - loss: 22.9465 - accuracy: 0.3256 - val_loss: 78.9193 - val_accuracy: 0.0056\n",
      "Epoch 35/100\n",
      "356/356 [==============================] - 0s 1ms/step - loss: 26.6043 - accuracy: 0.3258 - val_loss: 69.9979 - val_accuracy: 0.0000e+00\n",
      "Epoch 36/100\n",
      "356/356 [==============================] - 0s 1ms/step - loss: 23.5282 - accuracy: 0.3246 - val_loss: 33.5855 - val_accuracy: 0.0000e+00\n",
      "Epoch 37/100\n",
      "356/356 [==============================] - 0s 1ms/step - loss: 24.7035 - accuracy: 0.3258 - val_loss: 32.7353 - val_accuracy: 0.0135\n",
      "Epoch 38/100\n",
      "356/356 [==============================] - 0s 1ms/step - loss: 22.6681 - accuracy: 0.3223 - val_loss: 2.8352 - val_accuracy: 0.5349\n",
      "Epoch 39/100\n",
      "356/356 [==============================] - 1s 2ms/step - loss: 15.7425 - accuracy: 0.3245 - val_loss: 24.4426 - val_accuracy: 0.0000e+00\n",
      "Epoch 40/100\n",
      "356/356 [==============================] - 1s 2ms/step - loss: 17.9255 - accuracy: 0.3248 - val_loss: 35.1446 - val_accuracy: 0.0000e+00\n",
      "Epoch 41/100\n",
      "356/356 [==============================] - 0s 1ms/step - loss: 16.6863 - accuracy: 0.3220 - val_loss: 6.7598 - val_accuracy: 0.0000e+00\n",
      "Epoch 42/100\n",
      "356/356 [==============================] - 0s 1ms/step - loss: 15.7686 - accuracy: 0.3211 - val_loss: 21.8044 - val_accuracy: 0.0058\n",
      "Epoch 43/100\n",
      "356/356 [==============================] - 0s 1ms/step - loss: 13.7845 - accuracy: 0.3290 - val_loss: 50.4668 - val_accuracy: 0.0000e+00\n",
      "Epoch 44/100\n",
      "356/356 [==============================] - 0s 1ms/step - loss: 14.6714 - accuracy: 0.3283 - val_loss: 47.0478 - val_accuracy: 1.7590e-04\n",
      "Epoch 45/100\n",
      "356/356 [==============================] - 0s 1ms/step - loss: 13.2426 - accuracy: 0.3191 - val_loss: 2.8889 - val_accuracy: 0.2197\n",
      "Epoch 46/100\n",
      "356/356 [==============================] - 0s 1ms/step - loss: 13.4693 - accuracy: 0.3266 - val_loss: 6.0503 - val_accuracy: 0.0021\n",
      "Epoch 47/100\n",
      "356/356 [==============================] - 0s 1ms/step - loss: 10.3724 - accuracy: 0.3324 - val_loss: 26.4641 - val_accuracy: 7.0361e-04\n",
      "Epoch 48/100\n",
      "356/356 [==============================] - 0s 1ms/step - loss: 12.4991 - accuracy: 0.3341 - val_loss: 18.6850 - val_accuracy: 0.0019\n",
      "Epoch 49/100\n",
      "356/356 [==============================] - 0s 1ms/step - loss: 11.5395 - accuracy: 0.3290 - val_loss: 16.6972 - val_accuracy: 0.0012\n",
      "Epoch 50/100\n",
      "356/356 [==============================] - 0s 1ms/step - loss: 9.7515 - accuracy: 0.3325 - val_loss: 13.5064 - val_accuracy: 7.0361e-04\n",
      "Epoch 51/100\n",
      "356/356 [==============================] - 0s 1ms/step - loss: 9.6457 - accuracy: 0.3352 - val_loss: 9.4304 - val_accuracy: 7.0361e-04\n",
      "Epoch 52/100\n",
      "356/356 [==============================] - 0s 1ms/step - loss: 9.6074 - accuracy: 0.3370 - val_loss: 11.3302 - val_accuracy: 0.0011\n",
      "Epoch 53/100\n",
      "356/356 [==============================] - 0s 1ms/step - loss: 9.5847 - accuracy: 0.3387 - val_loss: 14.3365 - val_accuracy: 0.0000e+00\n",
      "Epoch 54/100\n",
      "356/356 [==============================] - 0s 1ms/step - loss: 7.5473 - accuracy: 0.3368 - val_loss: 1.9531 - val_accuracy: 0.0287\n",
      "Epoch 55/100\n",
      "356/356 [==============================] - 0s 1ms/step - loss: 7.8327 - accuracy: 0.3468 - val_loss: 2.9215 - val_accuracy: 5.2770e-04\n",
      "Epoch 56/100\n",
      "356/356 [==============================] - 0s 1ms/step - loss: 7.3783 - accuracy: 0.3414 - val_loss: 15.1260 - val_accuracy: 0.0000e+00\n",
      "Epoch 57/100\n",
      "356/356 [==============================] - 0s 1ms/step - loss: 7.1547 - accuracy: 0.3413 - val_loss: 2.7154 - val_accuracy: 7.0361e-04\n",
      "Epoch 58/100\n",
      "356/356 [==============================] - 0s 1ms/step - loss: 7.6921 - accuracy: 0.3331 - val_loss: 4.0403 - val_accuracy: 3.5180e-04\n",
      "Epoch 59/100\n",
      "356/356 [==============================] - 0s 1ms/step - loss: 4.3535 - accuracy: 0.3544 - val_loss: 2.2348 - val_accuracy: 0.0030\n",
      "Epoch 60/100\n",
      "356/356 [==============================] - 0s 1ms/step - loss: 6.1012 - accuracy: 0.3416 - val_loss: 7.6468 - val_accuracy: 0.0016\n",
      "Epoch 61/100\n",
      "356/356 [==============================] - 0s 983us/step - loss: 6.9425 - accuracy: 0.3342 - val_loss: 2.1579 - val_accuracy: 0.0019\n",
      "Epoch 62/100\n",
      "356/356 [==============================] - 0s 975us/step - loss: 6.4893 - accuracy: 0.3347 - val_loss: 4.2387 - val_accuracy: 0.0019\n",
      "Epoch 63/100\n",
      "356/356 [==============================] - 0s 1ms/step - loss: 5.0015 - accuracy: 0.3240 - val_loss: 2.1336 - val_accuracy: 0.0033\n",
      "Epoch 64/100\n",
      "356/356 [==============================] - 0s 1ms/step - loss: 3.8676 - accuracy: 0.3293 - val_loss: 3.7496 - val_accuracy: 0.0033\n",
      "Epoch 65/100\n",
      "356/356 [==============================] - 0s 1ms/step - loss: 3.3645 - accuracy: 0.3349 - val_loss: 2.6984 - val_accuracy: 0.0023\n",
      "Epoch 66/100\n",
      "356/356 [==============================] - 0s 1ms/step - loss: 1.8714 - accuracy: 0.3097 - val_loss: 2.0407 - val_accuracy: 0.0000e+00\n",
      "Epoch 67/100\n",
      "356/356 [==============================] - 0s 1ms/step - loss: 1.2912 - accuracy: 0.3139 - val_loss: 2.2988 - val_accuracy: 0.0000e+00\n",
      "Epoch 68/100\n",
      "356/356 [==============================] - 0s 1ms/step - loss: 1.2780 - accuracy: 0.3179 - val_loss: 2.2981 - val_accuracy: 0.0000e+00\n",
      "Epoch 69/100\n",
      "356/356 [==============================] - 0s 1ms/step - loss: 1.2711 - accuracy: 0.3255 - val_loss: 2.5071 - val_accuracy: 0.0000e+00\n",
      "Epoch 70/100\n",
      "356/356 [==============================] - 0s 994us/step - loss: 1.2675 - accuracy: 0.3205 - val_loss: 2.5232 - val_accuracy: 0.0000e+00\n",
      "Epoch 71/100\n",
      "356/356 [==============================] - 0s 1ms/step - loss: 1.2651 - accuracy: 0.3251 - val_loss: 2.5196 - val_accuracy: 0.0000e+00\n",
      "Epoch 72/100\n",
      "356/356 [==============================] - 0s 1ms/step - loss: 1.2653 - accuracy: 0.3125 - val_loss: 2.6246 - val_accuracy: 0.0000e+00\n",
      "Epoch 73/100\n",
      "356/356 [==============================] - 0s 1ms/step - loss: 1.2642 - accuracy: 0.3121 - val_loss: 2.6928 - val_accuracy: 0.0000e+00\n",
      "Epoch 74/100\n",
      "356/356 [==============================] - 0s 1ms/step - loss: 1.2639 - accuracy: 0.3083 - val_loss: 2.7326 - val_accuracy: 0.0000e+00\n",
      "Epoch 75/100\n",
      "356/356 [==============================] - 0s 1ms/step - loss: 1.2638 - accuracy: 0.3105 - val_loss: 2.7562 - val_accuracy: 0.0000e+00\n",
      "Epoch 76/100\n",
      "356/356 [==============================] - 0s 1ms/step - loss: 1.2638 - accuracy: 0.3066 - val_loss: 2.7667 - val_accuracy: 0.0000e+00\n",
      "Epoch 77/100\n",
      "356/356 [==============================] - 0s 1ms/step - loss: 1.2638 - accuracy: 0.3096 - val_loss: 2.7686 - val_accuracy: 0.0000e+00\n",
      "Epoch 78/100\n",
      "356/356 [==============================] - 0s 1ms/step - loss: 1.2638 - accuracy: 0.3090 - val_loss: 2.7704 - val_accuracy: 0.0000e+00\n",
      "Epoch 79/100\n",
      "356/356 [==============================] - 0s 985us/step - loss: 1.2638 - accuracy: 0.3119 - val_loss: 2.7676 - val_accuracy: 0.0000e+00\n",
      "Epoch 80/100\n",
      "356/356 [==============================] - 0s 1ms/step - loss: 1.2638 - accuracy: 0.3139 - val_loss: 2.7728 - val_accuracy: 0.0000e+00\n",
      "Epoch 81/100\n",
      "356/356 [==============================] - 0s 1ms/step - loss: 1.2638 - accuracy: 0.3092 - val_loss: 2.7704 - val_accuracy: 0.0000e+00\n",
      "Epoch 82/100\n",
      "356/356 [==============================] - 0s 1ms/step - loss: 1.2638 - accuracy: 0.3047 - val_loss: 2.7717 - val_accuracy: 0.0000e+00\n",
      "Epoch 83/100\n",
      "356/356 [==============================] - 0s 1ms/step - loss: 1.2638 - accuracy: 0.3104 - val_loss: 2.7773 - val_accuracy: 0.0000e+00\n",
      "Epoch 84/100\n",
      "356/356 [==============================] - 0s 1ms/step - loss: 1.2638 - accuracy: 0.3108 - val_loss: 2.7755 - val_accuracy: 0.0000e+00\n",
      "Epoch 85/100\n",
      "356/356 [==============================] - 0s 1ms/step - loss: 1.2638 - accuracy: 0.3116 - val_loss: 2.7764 - val_accuracy: 0.0000e+00\n",
      "Epoch 86/100\n",
      "356/356 [==============================] - 0s 1ms/step - loss: 1.2638 - accuracy: 0.3114 - val_loss: 2.7754 - val_accuracy: 0.0000e+00\n",
      "Epoch 87/100\n",
      "356/356 [==============================] - 0s 1ms/step - loss: 1.2638 - accuracy: 0.3068 - val_loss: 2.7765 - val_accuracy: 0.0000e+00\n",
      "Epoch 88/100\n",
      "356/356 [==============================] - 0s 1ms/step - loss: 1.2638 - accuracy: 0.3061 - val_loss: 2.7742 - val_accuracy: 0.0000e+00\n",
      "Epoch 89/100\n",
      "356/356 [==============================] - 0s 1ms/step - loss: 1.2638 - accuracy: 0.3093 - val_loss: 2.7760 - val_accuracy: 0.0000e+00\n",
      "Epoch 90/100\n",
      "356/356 [==============================] - 0s 1ms/step - loss: 1.2638 - accuracy: 0.3100 - val_loss: 2.7753 - val_accuracy: 0.0000e+00\n",
      "Epoch 91/100\n",
      "356/356 [==============================] - 1s 1ms/step - loss: 1.2638 - accuracy: 0.3073 - val_loss: 2.7767 - val_accuracy: 0.0000e+00\n",
      "Epoch 92/100\n",
      "356/356 [==============================] - 1s 2ms/step - loss: 1.2638 - accuracy: 0.3096 - val_loss: 2.7782 - val_accuracy: 0.0000e+00\n",
      "Epoch 93/100\n",
      "356/356 [==============================] - 1s 2ms/step - loss: 1.2638 - accuracy: 0.3076 - val_loss: 2.7811 - val_accuracy: 0.0000e+00\n",
      "Epoch 94/100\n",
      "356/356 [==============================] - 1s 1ms/step - loss: 1.2638 - accuracy: 0.3102 - val_loss: 2.7765 - val_accuracy: 0.0000e+00\n",
      "Epoch 95/100\n",
      "356/356 [==============================] - 0s 1ms/step - loss: 1.2638 - accuracy: 0.3096 - val_loss: 2.7691 - val_accuracy: 0.0000e+00\n",
      "Epoch 96/100\n",
      "356/356 [==============================] - 0s 1ms/step - loss: 1.2638 - accuracy: 0.3093 - val_loss: 2.7692 - val_accuracy: 0.0000e+00\n",
      "Epoch 97/100\n",
      "356/356 [==============================] - 0s 1ms/step - loss: 1.2638 - accuracy: 0.3066 - val_loss: 2.7689 - val_accuracy: 0.0000e+00\n",
      "Epoch 98/100\n",
      "356/356 [==============================] - 0s 1ms/step - loss: 1.2638 - accuracy: 0.3070 - val_loss: 2.7754 - val_accuracy: 0.0000e+00\n",
      "Epoch 99/100\n",
      "356/356 [==============================] - 0s 1ms/step - loss: 1.2638 - accuracy: 0.3095 - val_loss: 2.7753 - val_accuracy: 0.0000e+00\n",
      "Epoch 100/100\n",
      "356/356 [==============================] - 0s 1ms/step - loss: 1.2638 - accuracy: 0.3099 - val_loss: 2.7709 - val_accuracy: 0.0000e+00\n"
     ]
    }
   ],
   "source": [
    "model_2 = keras.Sequential([\n",
    "    layers.Dense(64, activation='relu', input_shape=(8,)),  # input shape of 8 since this time period's df has 8 features\n",
    "    layers.Dense(32, activation='relu'),\n",
    "    layers.Dense(4, activation='softmax')  # 4 neurons for 4 categories\n",
    "])\n",
    "\n",
    "model_2.compile(optimizer='adam',\n",
    "              loss='sparse_categorical_crossentropy', \n",
    "              metrics=['accuracy'])\n",
    "\n",
    "history_2 = model_2.fit(X_resampled_2, y_resampled_2_int, epochs=100, batch_size=64, validation_split=0.2)\n"
   ]
  },
  {
   "cell_type": "code",
   "execution_count": 127,
   "id": "4f2ce41e",
   "metadata": {},
   "outputs": [
    {
     "name": "stdout",
     "output_type": "stream",
     "text": [
      "139/139 [==============================] - 0s 747us/step - loss: 1.1780 - accuracy: 0.5306\n",
      "Accuracy on test set: 53.06%\n"
     ]
    }
   ],
   "source": [
    "y_test_2_int = y_test_2.replace({'0': 0, '1': 1, '2': 2, '3+': 3})\n",
    "\n",
    "loss_2, accuracy_2 = model_2.evaluate(X_test_2, y_test_2_int)\n",
    "print(\"Accuracy on test set: {:.2f}%\".format(accuracy_2 * 100))\n"
   ]
  },
  {
   "cell_type": "code",
   "execution_count": 128,
   "id": "2a742800",
   "metadata": {},
   "outputs": [
    {
     "data": {
      "text/plain": [
       "(26580, 9)"
      ]
     },
     "execution_count": 128,
     "metadata": {},
     "output_type": "execute_result"
    }
   ],
   "source": [
    "X_resampled_3.shape"
   ]
  },
  {
   "cell_type": "code",
   "execution_count": 129,
   "id": "8d01d233",
   "metadata": {},
   "outputs": [
    {
     "data": {
      "text/plain": [
       "(26580,)"
      ]
     },
     "execution_count": 129,
     "metadata": {},
     "output_type": "execute_result"
    }
   ],
   "source": [
    "y_resampled_3.shape"
   ]
  },
  {
   "cell_type": "code",
   "execution_count": 130,
   "id": "24986527",
   "metadata": {},
   "outputs": [
    {
     "name": "stdout",
     "output_type": "stream",
     "text": [
      "[0 1 2 3]\n"
     ]
    }
   ],
   "source": [
    "y_resampled_3_int = y_resampled_3.replace({'0': 0, '1': 1, '2': 2, '3+': 3})\n",
    "\n",
    "print(np.unique(y_resampled_3_int))\n"
   ]
  },
  {
   "cell_type": "code",
   "execution_count": 131,
   "id": "fdd921ab",
   "metadata": {
    "scrolled": true
   },
   "outputs": [
    {
     "name": "stdout",
     "output_type": "stream",
     "text": [
      "Epoch 1/100\n",
      "333/333 [==============================] - 1s 2ms/step - loss: 15.5250 - accuracy: 0.3100 - val_loss: 16.4240 - val_accuracy: 0.0000e+00\n",
      "Epoch 2/100\n",
      "333/333 [==============================] - 0s 1ms/step - loss: 3.8535 - accuracy: 0.3097 - val_loss: 15.2963 - val_accuracy: 0.0000e+00\n",
      "Epoch 3/100\n",
      "333/333 [==============================] - 0s 1ms/step - loss: 3.1118 - accuracy: 0.3279 - val_loss: 1.7185 - val_accuracy: 0.3427\n",
      "Epoch 4/100\n",
      "333/333 [==============================] - 0s 1ms/step - loss: 3.4152 - accuracy: 0.3277 - val_loss: 18.5440 - val_accuracy: 0.0000e+00\n",
      "Epoch 5/100\n",
      "333/333 [==============================] - 0s 1ms/step - loss: 3.2974 - accuracy: 0.3274 - val_loss: 20.5107 - val_accuracy: 0.0000e+00\n",
      "Epoch 6/100\n",
      "333/333 [==============================] - 0s 1ms/step - loss: 3.0373 - accuracy: 0.3434 - val_loss: 3.2003 - val_accuracy: 0.0169\n",
      "Epoch 7/100\n",
      "333/333 [==============================] - 0s 1ms/step - loss: 3.0578 - accuracy: 0.3430 - val_loss: 13.0316 - val_accuracy: 0.0000e+00\n",
      "Epoch 8/100\n",
      "333/333 [==============================] - 0s 1ms/step - loss: 2.4535 - accuracy: 0.3527 - val_loss: 5.4224 - val_accuracy: 1.8811e-04\n",
      "Epoch 9/100\n",
      "333/333 [==============================] - 0s 1ms/step - loss: 2.8877 - accuracy: 0.3455 - val_loss: 9.0005 - val_accuracy: 0.0000e+00\n",
      "Epoch 10/100\n",
      "333/333 [==============================] - 0s 1ms/step - loss: 2.6366 - accuracy: 0.3486 - val_loss: 3.1899 - val_accuracy: 0.0000e+00\n",
      "Epoch 11/100\n",
      "333/333 [==============================] - 0s 1ms/step - loss: 2.4124 - accuracy: 0.3579 - val_loss: 10.0903 - val_accuracy: 0.0000e+00\n",
      "Epoch 12/100\n",
      "333/333 [==============================] - 0s 1ms/step - loss: 2.8305 - accuracy: 0.3472 - val_loss: 11.7009 - val_accuracy: 0.0000e+00\n",
      "Epoch 13/100\n",
      "333/333 [==============================] - 0s 1ms/step - loss: 2.5429 - accuracy: 0.3355 - val_loss: 24.7831 - val_accuracy: 0.0000e+00\n",
      "Epoch 14/100\n",
      "333/333 [==============================] - 0s 1ms/step - loss: 2.3862 - accuracy: 0.3595 - val_loss: 11.0223 - val_accuracy: 0.0000e+00\n",
      "Epoch 15/100\n",
      "333/333 [==============================] - 0s 1ms/step - loss: 2.4663 - accuracy: 0.3520 - val_loss: 7.3399 - val_accuracy: 0.0000e+00\n",
      "Epoch 16/100\n",
      "333/333 [==============================] - 0s 1ms/step - loss: 2.1449 - accuracy: 0.3630 - val_loss: 6.8501 - val_accuracy: 0.0000e+00\n",
      "Epoch 17/100\n",
      "333/333 [==============================] - 0s 1ms/step - loss: 2.0679 - accuracy: 0.3530 - val_loss: 11.3941 - val_accuracy: 0.0000e+00\n",
      "Epoch 18/100\n",
      "333/333 [==============================] - 0s 1ms/step - loss: 1.8935 - accuracy: 0.3602 - val_loss: 11.4838 - val_accuracy: 0.0000e+00\n",
      "Epoch 19/100\n",
      "333/333 [==============================] - 0s 1ms/step - loss: 1.9406 - accuracy: 0.3645 - val_loss: 1.8134 - val_accuracy: 0.0122\n",
      "Epoch 20/100\n",
      "333/333 [==============================] - 0s 1ms/step - loss: 2.4001 - accuracy: 0.3477 - val_loss: 5.7669 - val_accuracy: 0.0000e+00\n",
      "Epoch 21/100\n",
      "333/333 [==============================] - 0s 1ms/step - loss: 2.0967 - accuracy: 0.3591 - val_loss: 7.5260 - val_accuracy: 0.0000e+00\n",
      "Epoch 22/100\n",
      "333/333 [==============================] - 0s 1ms/step - loss: 2.0538 - accuracy: 0.3461 - val_loss: 5.9517 - val_accuracy: 0.0000e+00\n",
      "Epoch 23/100\n",
      "333/333 [==============================] - 0s 1ms/step - loss: 1.7037 - accuracy: 0.3687 - val_loss: 3.0158 - val_accuracy: 0.0000e+00\n",
      "Epoch 24/100\n",
      "333/333 [==============================] - 0s 1ms/step - loss: 1.7161 - accuracy: 0.3663 - val_loss: 5.7005 - val_accuracy: 0.0000e+00\n",
      "Epoch 25/100\n",
      "333/333 [==============================] - 0s 1ms/step - loss: 2.0217 - accuracy: 0.3552 - val_loss: 5.0565 - val_accuracy: 0.0000e+00\n",
      "Epoch 26/100\n",
      "333/333 [==============================] - 0s 1ms/step - loss: 1.8979 - accuracy: 0.3699 - val_loss: 8.8807 - val_accuracy: 0.0000e+00\n",
      "Epoch 27/100\n",
      "333/333 [==============================] - 0s 1ms/step - loss: 1.7257 - accuracy: 0.3651 - val_loss: 3.4093 - val_accuracy: 0.0000e+00\n",
      "Epoch 28/100\n",
      "333/333 [==============================] - 0s 1ms/step - loss: 1.6996 - accuracy: 0.3681 - val_loss: 8.3807 - val_accuracy: 0.0000e+00\n",
      "Epoch 29/100\n",
      "333/333 [==============================] - 0s 1ms/step - loss: 1.6746 - accuracy: 0.3677 - val_loss: 3.9975 - val_accuracy: 0.0000e+00\n",
      "Epoch 30/100\n",
      "333/333 [==============================] - 0s 1ms/step - loss: 1.8761 - accuracy: 0.3617 - val_loss: 3.5372 - val_accuracy: 0.0000e+00\n",
      "Epoch 31/100\n",
      "333/333 [==============================] - 0s 1ms/step - loss: 1.6593 - accuracy: 0.3659 - val_loss: 2.3831 - val_accuracy: 1.8811e-04\n",
      "Epoch 32/100\n",
      "333/333 [==============================] - 0s 1ms/step - loss: 1.6992 - accuracy: 0.3682 - val_loss: 2.7283 - val_accuracy: 0.0000e+00\n",
      "Epoch 33/100\n",
      "333/333 [==============================] - 0s 1ms/step - loss: 1.6236 - accuracy: 0.3684 - val_loss: 6.4006 - val_accuracy: 0.0000e+00\n",
      "Epoch 34/100\n",
      "333/333 [==============================] - 0s 1ms/step - loss: 1.6558 - accuracy: 0.3689 - val_loss: 3.2781 - val_accuracy: 0.0017\n",
      "Epoch 35/100\n",
      "333/333 [==============================] - 0s 1ms/step - loss: 1.5489 - accuracy: 0.3716 - val_loss: 5.4061 - val_accuracy: 0.0000e+00\n",
      "Epoch 36/100\n",
      "333/333 [==============================] - 0s 1ms/step - loss: 1.4873 - accuracy: 0.3836 - val_loss: 4.4925 - val_accuracy: 0.0000e+00\n",
      "Epoch 37/100\n",
      "333/333 [==============================] - 0s 1ms/step - loss: 1.5339 - accuracy: 0.3761 - val_loss: 5.1511 - val_accuracy: 0.0000e+00\n",
      "Epoch 38/100\n",
      "333/333 [==============================] - 0s 1ms/step - loss: 1.5535 - accuracy: 0.3700 - val_loss: 3.4350 - val_accuracy: 0.0000e+00\n",
      "Epoch 39/100\n",
      "333/333 [==============================] - 0s 1ms/step - loss: 1.4875 - accuracy: 0.3773 - val_loss: 2.5550 - val_accuracy: 0.0000e+00\n",
      "Epoch 40/100\n",
      "333/333 [==============================] - 0s 1ms/step - loss: 1.4946 - accuracy: 0.3702 - val_loss: 4.4936 - val_accuracy: 0.0000e+00\n",
      "Epoch 41/100\n",
      "333/333 [==============================] - 0s 1ms/step - loss: 1.4549 - accuracy: 0.3849 - val_loss: 1.5302 - val_accuracy: 0.0798\n",
      "Epoch 42/100\n",
      "333/333 [==============================] - 0s 1ms/step - loss: 1.4503 - accuracy: 0.3782 - val_loss: 2.5462 - val_accuracy: 0.0000e+00\n",
      "Epoch 43/100\n",
      "333/333 [==============================] - 0s 1ms/step - loss: 1.5899 - accuracy: 0.3762 - val_loss: 4.4147 - val_accuracy: 0.0000e+00\n",
      "Epoch 44/100\n",
      "333/333 [==============================] - 0s 1ms/step - loss: 1.5521 - accuracy: 0.3750 - val_loss: 0.8858 - val_accuracy: 0.6270\n",
      "Epoch 45/100\n",
      "333/333 [==============================] - 0s 1ms/step - loss: 1.4900 - accuracy: 0.3732 - val_loss: 6.0677 - val_accuracy: 0.0000e+00\n",
      "Epoch 46/100\n",
      "333/333 [==============================] - 0s 1ms/step - loss: 1.5122 - accuracy: 0.3700 - val_loss: 2.7556 - val_accuracy: 0.0000e+00\n",
      "Epoch 47/100\n",
      "333/333 [==============================] - 0s 1ms/step - loss: 1.4126 - accuracy: 0.3860 - val_loss: 4.8960 - val_accuracy: 0.0000e+00\n",
      "Epoch 48/100\n",
      "333/333 [==============================] - 0s 1ms/step - loss: 1.4001 - accuracy: 0.3820 - val_loss: 3.6148 - val_accuracy: 0.0000e+00\n",
      "Epoch 49/100\n",
      "333/333 [==============================] - 0s 1ms/step - loss: 1.4397 - accuracy: 0.3781 - val_loss: 2.7327 - val_accuracy: 0.0000e+00\n",
      "Epoch 50/100\n",
      "333/333 [==============================] - 0s 1ms/step - loss: 1.4090 - accuracy: 0.3804 - val_loss: 2.2547 - val_accuracy: 0.0028\n",
      "Epoch 51/100\n",
      "333/333 [==============================] - 0s 1ms/step - loss: 1.4021 - accuracy: 0.3845 - val_loss: 5.5025 - val_accuracy: 0.0000e+00\n",
      "Epoch 52/100\n",
      "333/333 [==============================] - 0s 1ms/step - loss: 1.3769 - accuracy: 0.3869 - val_loss: 1.8846 - val_accuracy: 0.0096\n",
      "Epoch 53/100\n",
      "333/333 [==============================] - 0s 1ms/step - loss: 1.4098 - accuracy: 0.3771 - val_loss: 5.1869 - val_accuracy: 0.0000e+00\n",
      "Epoch 54/100\n",
      "333/333 [==============================] - 0s 1ms/step - loss: 1.4052 - accuracy: 0.3783 - val_loss: 1.5232 - val_accuracy: 0.0751\n",
      "Epoch 55/100\n",
      "333/333 [==============================] - 0s 1ms/step - loss: 1.3284 - accuracy: 0.3849 - val_loss: 4.8761 - val_accuracy: 0.0000e+00\n",
      "Epoch 56/100\n",
      "333/333 [==============================] - 0s 1ms/step - loss: 1.3381 - accuracy: 0.3905 - val_loss: 1.9497 - val_accuracy: 0.0000e+00\n",
      "Epoch 57/100\n",
      "333/333 [==============================] - 0s 1ms/step - loss: 1.3674 - accuracy: 0.3884 - val_loss: 2.6910 - val_accuracy: 0.0000e+00\n",
      "Epoch 58/100\n",
      "333/333 [==============================] - 0s 1ms/step - loss: 1.3551 - accuracy: 0.3818 - val_loss: 3.2255 - val_accuracy: 0.0000e+00\n",
      "Epoch 59/100\n",
      "333/333 [==============================] - 0s 1ms/step - loss: 1.3526 - accuracy: 0.3858 - val_loss: 2.6914 - val_accuracy: 0.0000e+00\n",
      "Epoch 60/100\n",
      "333/333 [==============================] - 0s 1ms/step - loss: 1.3389 - accuracy: 0.3852 - val_loss: 2.5135 - val_accuracy: 0.0000e+00\n",
      "Epoch 61/100\n",
      "333/333 [==============================] - 0s 1ms/step - loss: 1.3207 - accuracy: 0.3856 - val_loss: 3.5615 - val_accuracy: 0.0000e+00\n",
      "Epoch 62/100\n",
      "333/333 [==============================] - 0s 994us/step - loss: 1.3230 - accuracy: 0.3839 - val_loss: 1.5613 - val_accuracy: 0.0497\n",
      "Epoch 63/100\n",
      "333/333 [==============================] - 0s 1ms/step - loss: 1.3303 - accuracy: 0.3862 - val_loss: 4.4648 - val_accuracy: 0.0000e+00\n",
      "Epoch 64/100\n",
      "333/333 [==============================] - 0s 1ms/step - loss: 1.3329 - accuracy: 0.3826 - val_loss: 1.8582 - val_accuracy: 0.0320\n",
      "Epoch 65/100\n",
      "333/333 [==============================] - 0s 1ms/step - loss: 1.3079 - accuracy: 0.3900 - val_loss: 4.5287 - val_accuracy: 0.0000e+00\n",
      "Epoch 66/100\n",
      "333/333 [==============================] - 0s 1ms/step - loss: 1.2915 - accuracy: 0.3933 - val_loss: 3.8084 - val_accuracy: 0.0000e+00\n",
      "Epoch 67/100\n",
      "333/333 [==============================] - 0s 1ms/step - loss: 1.2843 - accuracy: 0.3883 - val_loss: 2.3011 - val_accuracy: 0.0000e+00\n",
      "Epoch 68/100\n",
      "333/333 [==============================] - 0s 1ms/step - loss: 1.2995 - accuracy: 0.3848 - val_loss: 3.7599 - val_accuracy: 0.0000e+00\n",
      "Epoch 69/100\n",
      "333/333 [==============================] - 0s 1ms/step - loss: 1.3132 - accuracy: 0.3835 - val_loss: 1.8258 - val_accuracy: 0.0000e+00\n",
      "Epoch 70/100\n",
      "333/333 [==============================] - 0s 976us/step - loss: 1.2908 - accuracy: 0.3843 - val_loss: 2.2409 - val_accuracy: 0.0015\n",
      "Epoch 71/100\n",
      "333/333 [==============================] - 0s 987us/step - loss: 1.2891 - accuracy: 0.3868 - val_loss: 3.3761 - val_accuracy: 0.0000e+00\n",
      "Epoch 72/100\n",
      "333/333 [==============================] - 0s 1ms/step - loss: 1.2640 - accuracy: 0.3862 - val_loss: 2.3198 - val_accuracy: 0.0000e+00\n",
      "Epoch 73/100\n",
      "333/333 [==============================] - 0s 1ms/step - loss: 1.2950 - accuracy: 0.3820 - val_loss: 2.2832 - val_accuracy: 0.0000e+00\n",
      "Epoch 74/100\n",
      "333/333 [==============================] - 0s 1ms/step - loss: 1.2732 - accuracy: 0.3806 - val_loss: 4.3395 - val_accuracy: 0.0000e+00\n",
      "Epoch 75/100\n",
      "333/333 [==============================] - 0s 1ms/step - loss: 1.2995 - accuracy: 0.3364 - val_loss: 2.5101 - val_accuracy: 0.0000e+00\n",
      "Epoch 76/100\n",
      "333/333 [==============================] - 0s 1ms/step - loss: 1.2600 - accuracy: 0.3231 - val_loss: 2.4261 - val_accuracy: 0.0000e+00\n",
      "Epoch 77/100\n",
      "333/333 [==============================] - 1s 2ms/step - loss: 1.2644 - accuracy: 0.3191 - val_loss: 2.9755 - val_accuracy: 0.0000e+00\n",
      "Epoch 78/100\n",
      "333/333 [==============================] - 0s 1ms/step - loss: 1.2569 - accuracy: 0.3378 - val_loss: 2.9137 - val_accuracy: 0.0000e+00\n",
      "Epoch 79/100\n",
      "333/333 [==============================] - 0s 1ms/step - loss: 1.2565 - accuracy: 0.3250 - val_loss: 2.8489 - val_accuracy: 0.0000e+00\n",
      "Epoch 80/100\n",
      "333/333 [==============================] - 0s 1ms/step - loss: 1.2662 - accuracy: 0.3179 - val_loss: 2.7842 - val_accuracy: 0.0000e+00\n",
      "Epoch 81/100\n",
      "333/333 [==============================] - 0s 1ms/step - loss: 1.2661 - accuracy: 0.3106 - val_loss: 2.8001 - val_accuracy: 0.0000e+00\n",
      "Epoch 82/100\n",
      "333/333 [==============================] - 0s 1ms/step - loss: 1.2657 - accuracy: 0.3084 - val_loss: 2.5713 - val_accuracy: 0.0000e+00\n",
      "Epoch 83/100\n",
      "333/333 [==============================] - 0s 1ms/step - loss: 1.2649 - accuracy: 0.3115 - val_loss: 2.4677 - val_accuracy: 0.0000e+00\n",
      "Epoch 84/100\n",
      "333/333 [==============================] - 1s 2ms/step - loss: 1.2658 - accuracy: 0.3093 - val_loss: 2.0635 - val_accuracy: 0.0000e+00\n",
      "Epoch 85/100\n",
      "333/333 [==============================] - 0s 1ms/step - loss: 1.2657 - accuracy: 0.3195 - val_loss: 2.9563 - val_accuracy: 0.0000e+00\n",
      "Epoch 86/100\n",
      "333/333 [==============================] - 0s 1ms/step - loss: 1.2647 - accuracy: 0.3144 - val_loss: 2.5687 - val_accuracy: 0.0000e+00\n",
      "Epoch 87/100\n",
      "333/333 [==============================] - 0s 997us/step - loss: 1.2645 - accuracy: 0.3118 - val_loss: 2.7773 - val_accuracy: 0.0000e+00\n",
      "Epoch 88/100\n",
      "333/333 [==============================] - 0s 1ms/step - loss: 1.2647 - accuracy: 0.3133 - val_loss: 2.4315 - val_accuracy: 0.0000e+00\n",
      "Epoch 89/100\n",
      "333/333 [==============================] - 0s 1ms/step - loss: 1.2649 - accuracy: 0.3098 - val_loss: 3.1520 - val_accuracy: 0.0000e+00\n",
      "Epoch 90/100\n",
      "333/333 [==============================] - 0s 985us/step - loss: 1.2646 - accuracy: 0.3163 - val_loss: 3.0664 - val_accuracy: 0.0000e+00\n",
      "Epoch 91/100\n",
      "333/333 [==============================] - 0s 1ms/step - loss: 1.2648 - accuracy: 0.3144 - val_loss: 2.5602 - val_accuracy: 0.0000e+00\n",
      "Epoch 92/100\n",
      "333/333 [==============================] - 0s 992us/step - loss: 1.2647 - accuracy: 0.3183 - val_loss: 2.6380 - val_accuracy: 0.0000e+00\n",
      "Epoch 93/100\n",
      "333/333 [==============================] - 0s 1ms/step - loss: 1.2632 - accuracy: 0.3236 - val_loss: 2.8451 - val_accuracy: 0.0000e+00\n",
      "Epoch 94/100\n",
      "333/333 [==============================] - 0s 1ms/step - loss: 1.2630 - accuracy: 0.3225 - val_loss: 2.9607 - val_accuracy: 0.0000e+00\n",
      "Epoch 95/100\n",
      "333/333 [==============================] - 0s 985us/step - loss: 1.2648 - accuracy: 0.3165 - val_loss: 3.0258 - val_accuracy: 0.0000e+00\n",
      "Epoch 96/100\n",
      "333/333 [==============================] - 0s 1ms/step - loss: 1.2665 - accuracy: 0.3273 - val_loss: 2.4428 - val_accuracy: 0.0000e+00\n",
      "Epoch 97/100\n",
      "333/333 [==============================] - 0s 1ms/step - loss: 1.2627 - accuracy: 0.3331 - val_loss: 3.2419 - val_accuracy: 0.0000e+00\n",
      "Epoch 98/100\n",
      "333/333 [==============================] - 0s 1ms/step - loss: 1.2619 - accuracy: 0.3339 - val_loss: 2.6699 - val_accuracy: 0.0000e+00\n",
      "Epoch 99/100\n",
      "333/333 [==============================] - 0s 1ms/step - loss: 1.2615 - accuracy: 0.3331 - val_loss: 2.7487 - val_accuracy: 0.0000e+00\n",
      "Epoch 100/100\n",
      "333/333 [==============================] - 0s 1ms/step - loss: 1.2628 - accuracy: 0.3355 - val_loss: 2.4270 - val_accuracy: 0.0000e+00\n"
     ]
    }
   ],
   "source": [
    "model_3 = keras.Sequential([\n",
    "    layers.Dense(64, activation='relu', input_shape=(9,)),  # input shape of 9 since this time period's df has 9 features\n",
    "    layers.Dense(32, activation='relu'),\n",
    "    layers.Dense(4, activation='softmax')  # 4 neurons for 4 categories\n",
    "])\n",
    "\n",
    "model_3.compile(optimizer='adam',\n",
    "              loss='sparse_categorical_crossentropy',  # use sparse categorical crossentropy\n",
    "              metrics=['accuracy'])\n",
    "\n",
    "history_3 = model_3.fit(X_resampled_3, y_resampled_3_int, epochs=100, batch_size=64, validation_split=0.2)\n"
   ]
  },
  {
   "cell_type": "code",
   "execution_count": 132,
   "id": "796d83ba",
   "metadata": {},
   "outputs": [
    {
     "name": "stdout",
     "output_type": "stream",
     "text": [
      "124/124 [==============================] - 0s 734us/step - loss: 1.1506 - accuracy: 0.5478\n",
      "Accuracy on test set: 54.78%\n"
     ]
    }
   ],
   "source": [
    "y_test_3_int = y_test_3.replace({'0': 0, '1': 1, '2': 2, '3+': 3})\n",
    "\n",
    "loss_3, accuracy_3 = model_3.evaluate(X_test_3, y_test_3_int)\n",
    "print(\"Accuracy on test set: {:.2f}%\".format(accuracy_3 * 100))\n"
   ]
  },
  {
   "cell_type": "code",
   "execution_count": 133,
   "id": "eedc321a",
   "metadata": {},
   "outputs": [
    {
     "data": {
      "text/plain": [
       "(19180, 9)"
      ]
     },
     "execution_count": 133,
     "metadata": {},
     "output_type": "execute_result"
    }
   ],
   "source": [
    "X_resampled_4.shape"
   ]
  },
  {
   "cell_type": "code",
   "execution_count": 134,
   "id": "a8d70dcb",
   "metadata": {},
   "outputs": [
    {
     "data": {
      "text/plain": [
       "(19180,)"
      ]
     },
     "execution_count": 134,
     "metadata": {},
     "output_type": "execute_result"
    }
   ],
   "source": [
    "y_resampled_4.shape"
   ]
  },
  {
   "cell_type": "code",
   "execution_count": 135,
   "id": "abbfd5fd",
   "metadata": {},
   "outputs": [
    {
     "name": "stdout",
     "output_type": "stream",
     "text": [
      "[0 1 2 3]\n"
     ]
    }
   ],
   "source": [
    "y_resampled_4_int = y_resampled_4.replace({'0': 0, '1': 1, '2': 2, '3+': 3})\n",
    "\n",
    "print(np.unique(y_resampled_4_int))\n"
   ]
  },
  {
   "cell_type": "code",
   "execution_count": 136,
   "id": "ba5abf76",
   "metadata": {
    "scrolled": true
   },
   "outputs": [
    {
     "name": "stdout",
     "output_type": "stream",
     "text": [
      "Epoch 1/100\n",
      "240/240 [==============================] - 1s 2ms/step - loss: 16.0812 - accuracy: 0.3124 - val_loss: 11.2531 - val_accuracy: 0.0000e+00\n",
      "Epoch 2/100\n",
      "240/240 [==============================] - 0s 1ms/step - loss: 3.1264 - accuracy: 0.3100 - val_loss: 2.7593 - val_accuracy: 0.0120\n",
      "Epoch 3/100\n",
      "240/240 [==============================] - 0s 1ms/step - loss: 3.0244 - accuracy: 0.3197 - val_loss: 2.8833 - val_accuracy: 0.0000e+00\n",
      "Epoch 4/100\n",
      "240/240 [==============================] - 0s 1ms/step - loss: 2.6491 - accuracy: 0.3111 - val_loss: 4.5936 - val_accuracy: 0.0000e+00\n",
      "Epoch 5/100\n",
      "240/240 [==============================] - 0s 1ms/step - loss: 2.4378 - accuracy: 0.3259 - val_loss: 7.6503 - val_accuracy: 0.0000e+00\n",
      "Epoch 6/100\n",
      "240/240 [==============================] - 0s 1ms/step - loss: 3.5561 - accuracy: 0.3127 - val_loss: 5.7819 - val_accuracy: 0.0000e+00\n",
      "Epoch 7/100\n",
      "240/240 [==============================] - 0s 1ms/step - loss: 2.6267 - accuracy: 0.3330 - val_loss: 1.0537 - val_accuracy: 0.4296\n",
      "Epoch 8/100\n",
      "240/240 [==============================] - 0s 1ms/step - loss: 2.4874 - accuracy: 0.3314 - val_loss: 4.3049 - val_accuracy: 0.0000e+00\n",
      "Epoch 9/100\n",
      "240/240 [==============================] - 0s 1ms/step - loss: 2.4516 - accuracy: 0.3248 - val_loss: 5.2713 - val_accuracy: 0.0000e+00\n",
      "Epoch 10/100\n",
      "240/240 [==============================] - 0s 1ms/step - loss: 2.1760 - accuracy: 0.3427 - val_loss: 5.0534 - val_accuracy: 0.0000e+00\n",
      "Epoch 11/100\n",
      "240/240 [==============================] - 0s 1ms/step - loss: 2.3510 - accuracy: 0.3355 - val_loss: 4.7027 - val_accuracy: 0.0000e+00\n",
      "Epoch 12/100\n",
      "240/240 [==============================] - 0s 1ms/step - loss: 2.5699 - accuracy: 0.3311 - val_loss: 5.9098 - val_accuracy: 0.0000e+00\n",
      "Epoch 13/100\n",
      "240/240 [==============================] - 0s 1ms/step - loss: 2.2391 - accuracy: 0.3390 - val_loss: 14.9931 - val_accuracy: 0.0000e+00\n",
      "Epoch 14/100\n",
      "240/240 [==============================] - 0s 1ms/step - loss: 1.8796 - accuracy: 0.3415 - val_loss: 16.5686 - val_accuracy: 0.0000e+00\n",
      "Epoch 15/100\n",
      "240/240 [==============================] - 0s 1ms/step - loss: 2.0933 - accuracy: 0.3393 - val_loss: 13.8581 - val_accuracy: 0.0000e+00\n",
      "Epoch 16/100\n",
      "240/240 [==============================] - 0s 1ms/step - loss: 1.8525 - accuracy: 0.3412 - val_loss: 2.9718 - val_accuracy: 0.0000e+00\n",
      "Epoch 17/100\n",
      "240/240 [==============================] - 0s 2ms/step - loss: 1.8679 - accuracy: 0.3418 - val_loss: 7.4277 - val_accuracy: 0.0000e+00\n",
      "Epoch 18/100\n",
      "240/240 [==============================] - 0s 1ms/step - loss: 3.3527 - accuracy: 0.3176 - val_loss: 6.4590 - val_accuracy: 0.0000e+00\n",
      "Epoch 19/100\n",
      "240/240 [==============================] - 0s 1ms/step - loss: 1.9655 - accuracy: 0.3422 - val_loss: 2.0175 - val_accuracy: 0.0073\n",
      "Epoch 20/100\n",
      "240/240 [==============================] - 0s 1ms/step - loss: 2.1758 - accuracy: 0.3388 - val_loss: 5.0675 - val_accuracy: 0.0000e+00\n",
      "Epoch 21/100\n",
      "240/240 [==============================] - 0s 1ms/step - loss: 1.8030 - accuracy: 0.3478 - val_loss: 0.9425 - val_accuracy: 0.4648\n",
      "Epoch 22/100\n",
      "240/240 [==============================] - 0s 1ms/step - loss: 1.8342 - accuracy: 0.3534 - val_loss: 3.3036 - val_accuracy: 0.0000e+00\n",
      "Epoch 23/100\n",
      "240/240 [==============================] - 0s 1ms/step - loss: 2.9683 - accuracy: 0.3311 - val_loss: 3.3871 - val_accuracy: 0.0000e+00\n",
      "Epoch 24/100\n",
      "240/240 [==============================] - 0s 2ms/step - loss: 1.9722 - accuracy: 0.3444 - val_loss: 2.1170 - val_accuracy: 0.0344\n",
      "Epoch 25/100\n",
      "240/240 [==============================] - 0s 1ms/step - loss: 2.2018 - accuracy: 0.3443 - val_loss: 2.7590 - val_accuracy: 0.0094\n",
      "Epoch 26/100\n",
      "240/240 [==============================] - 0s 1ms/step - loss: 2.4143 - accuracy: 0.3338 - val_loss: 2.4269 - val_accuracy: 0.0000e+00\n",
      "Epoch 27/100\n",
      "240/240 [==============================] - 0s 1ms/step - loss: 1.9257 - accuracy: 0.3497 - val_loss: 2.1727 - val_accuracy: 0.0141\n",
      "Epoch 28/100\n",
      "240/240 [==============================] - 0s 1ms/step - loss: 1.9284 - accuracy: 0.3517 - val_loss: 4.6940 - val_accuracy: 0.0000e+00\n",
      "Epoch 29/100\n",
      "240/240 [==============================] - 0s 1ms/step - loss: 1.8495 - accuracy: 0.3441 - val_loss: 3.3122 - val_accuracy: 0.0000e+00\n",
      "Epoch 30/100\n",
      "240/240 [==============================] - 0s 1ms/step - loss: 1.7658 - accuracy: 0.3518 - val_loss: 5.4666 - val_accuracy: 0.0000e+00\n",
      "Epoch 31/100\n",
      "240/240 [==============================] - 0s 1ms/step - loss: 1.8090 - accuracy: 0.3465 - val_loss: 6.2921 - val_accuracy: 0.0000e+00\n",
      "Epoch 32/100\n",
      "240/240 [==============================] - 0s 1ms/step - loss: 2.1081 - accuracy: 0.3406 - val_loss: 13.2979 - val_accuracy: 0.0000e+00\n",
      "Epoch 33/100\n",
      "240/240 [==============================] - 0s 1ms/step - loss: 1.9533 - accuracy: 0.3465 - val_loss: 1.9922 - val_accuracy: 0.0102\n",
      "Epoch 34/100\n",
      "240/240 [==============================] - 0s 1ms/step - loss: 2.4275 - accuracy: 0.3397 - val_loss: 2.4984 - val_accuracy: 0.0000e+00\n",
      "Epoch 35/100\n",
      "240/240 [==============================] - 0s 1ms/step - loss: 1.8169 - accuracy: 0.3485 - val_loss: 5.9025 - val_accuracy: 0.0000e+00\n",
      "Epoch 36/100\n",
      "240/240 [==============================] - 0s 1ms/step - loss: 2.0760 - accuracy: 0.3360 - val_loss: 12.0051 - val_accuracy: 0.0000e+00\n",
      "Epoch 37/100\n",
      "240/240 [==============================] - 0s 1ms/step - loss: 1.8796 - accuracy: 0.3459 - val_loss: 1.3780 - val_accuracy: 0.2052\n",
      "Epoch 38/100\n",
      "240/240 [==============================] - 0s 1ms/step - loss: 2.0386 - accuracy: 0.3444 - val_loss: 2.1723 - val_accuracy: 0.0000e+00\n",
      "Epoch 39/100\n",
      "240/240 [==============================] - 0s 1ms/step - loss: 1.9631 - accuracy: 0.3435 - val_loss: 6.1098 - val_accuracy: 0.0000e+00\n",
      "Epoch 40/100\n",
      "240/240 [==============================] - 0s 1ms/step - loss: 1.8215 - accuracy: 0.3474 - val_loss: 0.6654 - val_accuracy: 0.9041\n",
      "Epoch 41/100\n",
      "240/240 [==============================] - 0s 1ms/step - loss: 1.6357 - accuracy: 0.3557 - val_loss: 3.8715 - val_accuracy: 0.0000e+00\n",
      "Epoch 42/100\n",
      "240/240 [==============================] - 0s 1ms/step - loss: 1.5933 - accuracy: 0.3580 - val_loss: 1.5104 - val_accuracy: 0.0675\n",
      "Epoch 43/100\n",
      "240/240 [==============================] - 0s 1ms/step - loss: 1.7686 - accuracy: 0.3574 - val_loss: 2.7737 - val_accuracy: 0.0000e+00\n",
      "Epoch 44/100\n",
      "240/240 [==============================] - 0s 1ms/step - loss: 1.7450 - accuracy: 0.3474 - val_loss: 13.0097 - val_accuracy: 0.0000e+00\n",
      "Epoch 45/100\n",
      "240/240 [==============================] - 0s 1ms/step - loss: 1.9240 - accuracy: 0.3443 - val_loss: 3.7210 - val_accuracy: 0.0000e+00\n",
      "Epoch 46/100\n",
      "240/240 [==============================] - 0s 1ms/step - loss: 1.8601 - accuracy: 0.3480 - val_loss: 3.3530 - val_accuracy: 0.0000e+00\n",
      "Epoch 47/100\n",
      "240/240 [==============================] - 0s 1ms/step - loss: 1.5455 - accuracy: 0.3584 - val_loss: 3.6713 - val_accuracy: 0.0000e+00\n",
      "Epoch 48/100\n",
      "240/240 [==============================] - 0s 1ms/step - loss: 1.5610 - accuracy: 0.3519 - val_loss: 2.5656 - val_accuracy: 0.0000e+00\n",
      "Epoch 49/100\n",
      "240/240 [==============================] - 0s 1ms/step - loss: 1.5715 - accuracy: 0.3633 - val_loss: 1.1413 - val_accuracy: 0.3352\n",
      "Epoch 50/100\n",
      "240/240 [==============================] - 0s 1ms/step - loss: 1.6434 - accuracy: 0.3569 - val_loss: 3.5138 - val_accuracy: 0.0000e+00\n",
      "Epoch 51/100\n",
      "240/240 [==============================] - 0s 1ms/step - loss: 1.6632 - accuracy: 0.3508 - val_loss: 2.2598 - val_accuracy: 0.0000e+00\n",
      "Epoch 52/100\n",
      "240/240 [==============================] - 0s 1ms/step - loss: 1.7547 - accuracy: 0.3468 - val_loss: 9.9200 - val_accuracy: 0.0000e+00\n",
      "Epoch 53/100\n",
      "240/240 [==============================] - 0s 1ms/step - loss: 1.6472 - accuracy: 0.3604 - val_loss: 2.6617 - val_accuracy: 0.0000e+00\n",
      "Epoch 54/100\n",
      "240/240 [==============================] - 0s 1ms/step - loss: 1.5699 - accuracy: 0.3517 - val_loss: 3.2036 - val_accuracy: 0.0000e+00\n",
      "Epoch 55/100\n",
      "240/240 [==============================] - 0s 1ms/step - loss: 1.7616 - accuracy: 0.3450 - val_loss: 3.9892 - val_accuracy: 0.0000e+00\n",
      "Epoch 56/100\n",
      "240/240 [==============================] - 0s 1ms/step - loss: 1.5982 - accuracy: 0.3568 - val_loss: 2.4248 - val_accuracy: 0.0000e+00\n"
     ]
    },
    {
     "name": "stdout",
     "output_type": "stream",
     "text": [
      "Epoch 57/100\n",
      "240/240 [==============================] - 0s 1ms/step - loss: 1.5527 - accuracy: 0.3610 - val_loss: 1.4637 - val_accuracy: 0.1702\n",
      "Epoch 58/100\n",
      "240/240 [==============================] - 0s 1ms/step - loss: 1.5081 - accuracy: 0.3584 - val_loss: 1.9034 - val_accuracy: 0.0104\n",
      "Epoch 59/100\n",
      "240/240 [==============================] - 0s 1ms/step - loss: 1.5703 - accuracy: 0.3560 - val_loss: 2.7140 - val_accuracy: 0.0000e+00\n",
      "Epoch 60/100\n",
      "240/240 [==============================] - 0s 1ms/step - loss: 1.8780 - accuracy: 0.3474 - val_loss: 2.4938 - val_accuracy: 0.0000e+00\n",
      "Epoch 61/100\n",
      "240/240 [==============================] - 0s 1ms/step - loss: 1.5048 - accuracy: 0.3569 - val_loss: 4.1170 - val_accuracy: 0.0000e+00\n",
      "Epoch 62/100\n",
      "240/240 [==============================] - 0s 1ms/step - loss: 1.5684 - accuracy: 0.3545 - val_loss: 3.8459 - val_accuracy: 0.0000e+00\n",
      "Epoch 63/100\n",
      "240/240 [==============================] - 0s 1ms/step - loss: 1.7030 - accuracy: 0.3507 - val_loss: 2.4474 - val_accuracy: 0.0000e+00\n",
      "Epoch 64/100\n",
      "240/240 [==============================] - 0s 1ms/step - loss: 1.4415 - accuracy: 0.3634 - val_loss: 3.6491 - val_accuracy: 0.0000e+00\n",
      "Epoch 65/100\n",
      "240/240 [==============================] - 0s 1ms/step - loss: 1.5858 - accuracy: 0.3493 - val_loss: 2.7573 - val_accuracy: 0.0000e+00\n",
      "Epoch 66/100\n",
      "240/240 [==============================] - 0s 1ms/step - loss: 1.5939 - accuracy: 0.3579 - val_loss: 2.7054 - val_accuracy: 0.0000e+00\n",
      "Epoch 67/100\n",
      "240/240 [==============================] - 0s 995us/step - loss: 1.4751 - accuracy: 0.3659 - val_loss: 3.6914 - val_accuracy: 0.0000e+00\n",
      "Epoch 68/100\n",
      "240/240 [==============================] - 0s 1ms/step - loss: 1.7949 - accuracy: 0.3456 - val_loss: 7.2195 - val_accuracy: 0.0000e+00\n",
      "Epoch 69/100\n",
      "240/240 [==============================] - 0s 1ms/step - loss: 1.5830 - accuracy: 0.3560 - val_loss: 4.3164 - val_accuracy: 0.0000e+00\n",
      "Epoch 70/100\n",
      "240/240 [==============================] - 0s 998us/step - loss: 1.4594 - accuracy: 0.3631 - val_loss: 3.3230 - val_accuracy: 0.0000e+00\n",
      "Epoch 71/100\n",
      "240/240 [==============================] - 0s 1ms/step - loss: 1.5712 - accuracy: 0.3573 - val_loss: 2.0633 - val_accuracy: 0.0081\n",
      "Epoch 72/100\n",
      "240/240 [==============================] - 0s 1ms/step - loss: 1.4756 - accuracy: 0.3647 - val_loss: 1.9002 - val_accuracy: 0.0047\n",
      "Epoch 73/100\n",
      "240/240 [==============================] - 0s 1ms/step - loss: 1.5062 - accuracy: 0.3626 - val_loss: 4.5067 - val_accuracy: 0.0000e+00\n",
      "Epoch 74/100\n",
      "240/240 [==============================] - 0s 1ms/step - loss: 1.5827 - accuracy: 0.3571 - val_loss: 5.1141 - val_accuracy: 0.0000e+00\n",
      "Epoch 75/100\n",
      "240/240 [==============================] - 0s 1ms/step - loss: 1.5839 - accuracy: 0.3475 - val_loss: 2.8692 - val_accuracy: 0.0000e+00\n",
      "Epoch 76/100\n",
      "240/240 [==============================] - 0s 1ms/step - loss: 1.5378 - accuracy: 0.3556 - val_loss: 5.5371 - val_accuracy: 0.0000e+00\n",
      "Epoch 77/100\n",
      "240/240 [==============================] - 0s 1ms/step - loss: 1.5292 - accuracy: 0.3614 - val_loss: 1.3329 - val_accuracy: 0.0673\n",
      "Epoch 78/100\n",
      "240/240 [==============================] - 0s 1ms/step - loss: 1.4699 - accuracy: 0.3642 - val_loss: 4.4409 - val_accuracy: 0.0000e+00\n",
      "Epoch 79/100\n",
      "240/240 [==============================] - 0s 1ms/step - loss: 1.5054 - accuracy: 0.3569 - val_loss: 1.1738 - val_accuracy: 0.1913\n",
      "Epoch 80/100\n",
      "240/240 [==============================] - 0s 1ms/step - loss: 1.5242 - accuracy: 0.3567 - val_loss: 3.3515 - val_accuracy: 0.0000e+00\n",
      "Epoch 81/100\n",
      "240/240 [==============================] - 0s 2ms/step - loss: 1.4749 - accuracy: 0.3581 - val_loss: 4.8302 - val_accuracy: 0.0000e+00\n",
      "Epoch 82/100\n",
      "240/240 [==============================] - 0s 1ms/step - loss: 1.5891 - accuracy: 0.3532 - val_loss: 5.2045 - val_accuracy: 0.0000e+00\n",
      "Epoch 83/100\n",
      "240/240 [==============================] - 0s 1ms/step - loss: 1.4863 - accuracy: 0.3585 - val_loss: 2.8873 - val_accuracy: 0.0000e+00\n",
      "Epoch 84/100\n",
      "240/240 [==============================] - 0s 1ms/step - loss: 1.5081 - accuracy: 0.3568 - val_loss: 2.6926 - val_accuracy: 0.0000e+00\n",
      "Epoch 85/100\n",
      "240/240 [==============================] - 0s 997us/step - loss: 1.4922 - accuracy: 0.3590 - val_loss: 2.7160 - val_accuracy: 0.0000e+00\n",
      "Epoch 86/100\n",
      "240/240 [==============================] - 0s 1ms/step - loss: 1.4222 - accuracy: 0.3661 - val_loss: 2.9037 - val_accuracy: 0.0000e+00\n",
      "Epoch 87/100\n",
      "240/240 [==============================] - 0s 1ms/step - loss: 1.4554 - accuracy: 0.3598 - val_loss: 3.6127 - val_accuracy: 0.0000e+00\n",
      "Epoch 88/100\n",
      "240/240 [==============================] - 0s 1ms/step - loss: 1.3901 - accuracy: 0.3692 - val_loss: 4.4359 - val_accuracy: 0.0000e+00\n",
      "Epoch 89/100\n",
      "240/240 [==============================] - 0s 1ms/step - loss: 1.5075 - accuracy: 0.3594 - val_loss: 4.4179 - val_accuracy: 0.0000e+00\n",
      "Epoch 90/100\n",
      "240/240 [==============================] - 0s 1ms/step - loss: 1.4159 - accuracy: 0.3658 - val_loss: 4.6034 - val_accuracy: 0.0000e+00\n",
      "Epoch 91/100\n",
      "240/240 [==============================] - 0s 1ms/step - loss: 1.4772 - accuracy: 0.3614 - val_loss: 3.4677 - val_accuracy: 0.0000e+00\n",
      "Epoch 92/100\n",
      "240/240 [==============================] - 0s 1ms/step - loss: 1.4699 - accuracy: 0.3548 - val_loss: 3.0409 - val_accuracy: 0.0000e+00\n",
      "Epoch 93/100\n",
      "240/240 [==============================] - 0s 1ms/step - loss: 1.3996 - accuracy: 0.3682 - val_loss: 2.8427 - val_accuracy: 0.0000e+00\n",
      "Epoch 94/100\n",
      "240/240 [==============================] - 0s 1ms/step - loss: 1.4456 - accuracy: 0.3581 - val_loss: 2.9161 - val_accuracy: 0.0000e+00\n",
      "Epoch 95/100\n",
      "240/240 [==============================] - 0s 1ms/step - loss: 1.5349 - accuracy: 0.3549 - val_loss: 4.3952 - val_accuracy: 0.0000e+00\n",
      "Epoch 96/100\n",
      "240/240 [==============================] - 0s 1ms/step - loss: 1.3599 - accuracy: 0.3723 - val_loss: 3.9645 - val_accuracy: 0.0000e+00\n",
      "Epoch 97/100\n",
      "240/240 [==============================] - 0s 1ms/step - loss: 1.4371 - accuracy: 0.3570 - val_loss: 4.2706 - val_accuracy: 0.0000e+00\n",
      "Epoch 98/100\n",
      "240/240 [==============================] - 0s 1ms/step - loss: 1.4409 - accuracy: 0.3631 - val_loss: 1.7351 - val_accuracy: 0.0159\n",
      "Epoch 99/100\n",
      "240/240 [==============================] - 0s 1ms/step - loss: 1.4714 - accuracy: 0.3510 - val_loss: 2.1011 - val_accuracy: 0.0000e+00\n",
      "Epoch 100/100\n",
      "240/240 [==============================] - 0s 1ms/step - loss: 1.3547 - accuracy: 0.3723 - val_loss: 2.6928 - val_accuracy: 0.0000e+00\n"
     ]
    }
   ],
   "source": [
    "model_4 = keras.Sequential([\n",
    "    layers.Dense(64, activation='relu', input_shape=(9,)),  # input shape of 9 since this time period's df has 9 features\n",
    "    layers.Dense(32, activation='relu'),\n",
    "    layers.Dense(4, activation='softmax')  # 4 neurons for 4 categories\n",
    "])\n",
    "\n",
    "model_4.compile(optimizer='adam',\n",
    "              loss='sparse_categorical_crossentropy', \n",
    "              metrics=['accuracy'])\n",
    "\n",
    "history_4 = model_4.fit(X_resampled_4, y_resampled_4_int, epochs=100, batch_size=64, validation_split=0.2)\n"
   ]
  },
  {
   "cell_type": "code",
   "execution_count": 137,
   "id": "9a5a147e",
   "metadata": {},
   "outputs": [
    {
     "name": "stdout",
     "output_type": "stream",
     "text": [
      "87/87 [==============================] - 0s 770us/step - loss: 1.0796 - accuracy: 0.5847\n",
      "Accuracy on test set: 58.47%\n"
     ]
    }
   ],
   "source": [
    "y_test_4_int = y_test_4.replace({'0': 0, '1': 1, '2': 2, '3+': 3})\n",
    "\n",
    "loss_4, accuracy_4 = model_4.evaluate(X_test_4, y_test_4_int)\n",
    "print(\"Accuracy on test set: {:.2f}%\".format(accuracy_4 * 100))\n"
   ]
  },
  {
   "cell_type": "code",
   "execution_count": 138,
   "id": "c0994b76",
   "metadata": {},
   "outputs": [
    {
     "data": {
      "text/plain": [
       "(15248, 10)"
      ]
     },
     "execution_count": 138,
     "metadata": {},
     "output_type": "execute_result"
    }
   ],
   "source": [
    "X_resampled_5.shape"
   ]
  },
  {
   "cell_type": "code",
   "execution_count": 139,
   "id": "588e2220",
   "metadata": {},
   "outputs": [
    {
     "data": {
      "text/plain": [
       "(15248,)"
      ]
     },
     "execution_count": 139,
     "metadata": {},
     "output_type": "execute_result"
    }
   ],
   "source": [
    "y_resampled_5.shape"
   ]
  },
  {
   "cell_type": "code",
   "execution_count": 140,
   "id": "b4f08888",
   "metadata": {},
   "outputs": [
    {
     "name": "stdout",
     "output_type": "stream",
     "text": [
      "[0 1 2 3]\n"
     ]
    }
   ],
   "source": [
    "y_resampled_5_int = y_resampled_5.replace({'0': 0, '1': 1, '2': 2, '3+': 3})\n",
    "\n",
    "print(np.unique(y_resampled_5_int))\n"
   ]
  },
  {
   "cell_type": "code",
   "execution_count": 141,
   "id": "f3c701ba",
   "metadata": {
    "scrolled": true
   },
   "outputs": [
    {
     "name": "stdout",
     "output_type": "stream",
     "text": [
      "Epoch 1/100\n",
      "191/191 [==============================] - 1s 2ms/step - loss: 28.5764 - accuracy: 0.2987 - val_loss: 14.5406 - val_accuracy: 0.0000e+00\n",
      "Epoch 2/100\n",
      "191/191 [==============================] - 0s 1ms/step - loss: 2.3233 - accuracy: 0.3078 - val_loss: 3.7708 - val_accuracy: 0.2990\n",
      "Epoch 3/100\n",
      "191/191 [==============================] - 0s 1ms/step - loss: 2.5293 - accuracy: 0.3064 - val_loss: 2.4024 - val_accuracy: 0.0052\n",
      "Epoch 4/100\n",
      "191/191 [==============================] - 0s 1ms/step - loss: 2.4776 - accuracy: 0.3205 - val_loss: 5.5829 - val_accuracy: 0.0000e+00\n",
      "Epoch 5/100\n",
      "191/191 [==============================] - 0s 1ms/step - loss: 2.8218 - accuracy: 0.3190 - val_loss: 7.9395 - val_accuracy: 0.0000e+00\n",
      "Epoch 6/100\n",
      "191/191 [==============================] - 0s 1ms/step - loss: 1.9746 - accuracy: 0.3357 - val_loss: 2.0674 - val_accuracy: 0.1098\n",
      "Epoch 7/100\n",
      "191/191 [==============================] - 0s 1ms/step - loss: 2.6049 - accuracy: 0.3337 - val_loss: 5.5282 - val_accuracy: 0.0000e+00\n",
      "Epoch 8/100\n",
      "191/191 [==============================] - 0s 2ms/step - loss: 2.1758 - accuracy: 0.3412 - val_loss: 3.9707 - val_accuracy: 0.0000e+00\n",
      "Epoch 9/100\n",
      "191/191 [==============================] - 0s 2ms/step - loss: 2.0983 - accuracy: 0.3349 - val_loss: 8.2478 - val_accuracy: 0.0000e+00\n",
      "Epoch 10/100\n",
      "191/191 [==============================] - 0s 1ms/step - loss: 3.0439 - accuracy: 0.3208 - val_loss: 6.1869 - val_accuracy: 0.0000e+00\n",
      "Epoch 11/100\n",
      "191/191 [==============================] - 0s 1ms/step - loss: 1.9849 - accuracy: 0.3483 - val_loss: 4.8183 - val_accuracy: 0.0000e+00\n",
      "Epoch 12/100\n",
      "191/191 [==============================] - 0s 1ms/step - loss: 2.0687 - accuracy: 0.3392 - val_loss: 2.6668 - val_accuracy: 0.0000e+00\n",
      "Epoch 13/100\n",
      "191/191 [==============================] - 0s 1ms/step - loss: 2.4220 - accuracy: 0.3334 - val_loss: 6.8256 - val_accuracy: 0.0000e+00\n",
      "Epoch 14/100\n",
      "191/191 [==============================] - 0s 1ms/step - loss: 1.9810 - accuracy: 0.3551 - val_loss: 5.9017 - val_accuracy: 0.0000e+00\n",
      "Epoch 15/100\n",
      "191/191 [==============================] - 0s 1ms/step - loss: 2.1351 - accuracy: 0.3513 - val_loss: 2.8377 - val_accuracy: 0.0000e+00\n",
      "Epoch 16/100\n",
      "191/191 [==============================] - 0s 1ms/step - loss: 1.7455 - accuracy: 0.3584 - val_loss: 3.3031 - val_accuracy: 0.0000e+00\n",
      "Epoch 17/100\n",
      "191/191 [==============================] - 0s 1ms/step - loss: 1.7423 - accuracy: 0.3772 - val_loss: 11.4960 - val_accuracy: 0.0030\n",
      "Epoch 18/100\n",
      "191/191 [==============================] - 0s 1ms/step - loss: 2.3106 - accuracy: 0.3542 - val_loss: 8.1034 - val_accuracy: 0.0000e+00\n",
      "Epoch 19/100\n",
      "191/191 [==============================] - 0s 1ms/step - loss: 1.8122 - accuracy: 0.3557 - val_loss: 8.0604 - val_accuracy: 0.0000e+00\n",
      "Epoch 20/100\n",
      "191/191 [==============================] - 0s 1ms/step - loss: 2.3549 - accuracy: 0.3516 - val_loss: 2.8715 - val_accuracy: 0.0000e+00\n",
      "Epoch 21/100\n",
      "191/191 [==============================] - 0s 1ms/step - loss: 1.9016 - accuracy: 0.3641 - val_loss: 4.0787 - val_accuracy: 0.0000e+00\n",
      "Epoch 22/100\n",
      "191/191 [==============================] - 0s 1ms/step - loss: 1.7194 - accuracy: 0.3736 - val_loss: 4.8585 - val_accuracy: 0.0000e+00\n",
      "Epoch 23/100\n",
      "191/191 [==============================] - 0s 1ms/step - loss: 1.8541 - accuracy: 0.3620 - val_loss: 0.8739 - val_accuracy: 0.8695\n",
      "Epoch 24/100\n",
      "191/191 [==============================] - 0s 1ms/step - loss: 1.8403 - accuracy: 0.3636 - val_loss: 5.0122 - val_accuracy: 0.0000e+00\n",
      "Epoch 25/100\n",
      "191/191 [==============================] - 0s 1ms/step - loss: 2.1003 - accuracy: 0.3584 - val_loss: 2.7968 - val_accuracy: 0.0000e+00\n",
      "Epoch 26/100\n",
      "191/191 [==============================] - 0s 1ms/step - loss: 1.6794 - accuracy: 0.3742 - val_loss: 6.5792 - val_accuracy: 0.0000e+00\n",
      "Epoch 27/100\n",
      "191/191 [==============================] - 0s 1ms/step - loss: 2.0258 - accuracy: 0.3615 - val_loss: 11.3192 - val_accuracy: 0.0000e+00\n",
      "Epoch 28/100\n",
      "191/191 [==============================] - 0s 1ms/step - loss: 1.8951 - accuracy: 0.3668 - val_loss: 1.4525 - val_accuracy: 0.0626\n",
      "Epoch 29/100\n",
      "191/191 [==============================] - 0s 2ms/step - loss: 1.9294 - accuracy: 0.3651 - val_loss: 5.1878 - val_accuracy: 0.0000e+00\n",
      "Epoch 30/100\n",
      "191/191 [==============================] - 0s 1ms/step - loss: 1.6343 - accuracy: 0.3760 - val_loss: 4.0905 - val_accuracy: 0.0000e+00\n",
      "Epoch 31/100\n",
      "191/191 [==============================] - 0s 1ms/step - loss: 1.9230 - accuracy: 0.3599 - val_loss: 1.9850 - val_accuracy: 0.0564\n",
      "Epoch 32/100\n",
      "191/191 [==============================] - 0s 1ms/step - loss: 1.7143 - accuracy: 0.3730 - val_loss: 4.7490 - val_accuracy: 0.0062\n",
      "Epoch 33/100\n",
      "191/191 [==============================] - 0s 1ms/step - loss: 1.7058 - accuracy: 0.3778 - val_loss: 13.1253 - val_accuracy: 0.0000e+00\n",
      "Epoch 34/100\n",
      "191/191 [==============================] - 0s 1ms/step - loss: 1.6424 - accuracy: 0.3829 - val_loss: 3.3765 - val_accuracy: 0.0000e+00\n",
      "Epoch 35/100\n",
      "191/191 [==============================] - 0s 1ms/step - loss: 1.8553 - accuracy: 0.3698 - val_loss: 5.8551 - val_accuracy: 0.0000e+00\n",
      "Epoch 36/100\n",
      "191/191 [==============================] - 0s 1ms/step - loss: 1.6170 - accuracy: 0.3771 - val_loss: 2.1713 - val_accuracy: 0.0000e+00\n",
      "Epoch 37/100\n",
      "191/191 [==============================] - 0s 1ms/step - loss: 1.5014 - accuracy: 0.3926 - val_loss: 3.2578 - val_accuracy: 0.0000e+00\n",
      "Epoch 38/100\n",
      "191/191 [==============================] - 0s 1ms/step - loss: 1.6496 - accuracy: 0.3838 - val_loss: 1.6665 - val_accuracy: 0.0013\n",
      "Epoch 39/100\n",
      "191/191 [==============================] - 0s 1ms/step - loss: 1.8132 - accuracy: 0.3752 - val_loss: 3.0561 - val_accuracy: 0.0000e+00\n",
      "Epoch 40/100\n",
      "191/191 [==============================] - 0s 1ms/step - loss: 1.5868 - accuracy: 0.3873 - val_loss: 3.1777 - val_accuracy: 0.0000e+00\n",
      "Epoch 41/100\n",
      "191/191 [==============================] - 0s 1ms/step - loss: 1.6190 - accuracy: 0.3806 - val_loss: 5.0296 - val_accuracy: 0.0000e+00\n",
      "Epoch 42/100\n",
      "191/191 [==============================] - 0s 1ms/step - loss: 1.7745 - accuracy: 0.3756 - val_loss: 3.6861 - val_accuracy: 0.0000e+00\n",
      "Epoch 43/100\n",
      "191/191 [==============================] - 0s 1ms/step - loss: 1.5810 - accuracy: 0.3874 - val_loss: 4.9241 - val_accuracy: 0.0000e+00\n",
      "Epoch 44/100\n",
      "191/191 [==============================] - 0s 1ms/step - loss: 1.5782 - accuracy: 0.3826 - val_loss: 2.0997 - val_accuracy: 0.0016\n",
      "Epoch 45/100\n",
      "191/191 [==============================] - 0s 1ms/step - loss: 1.5200 - accuracy: 0.3828 - val_loss: 4.4347 - val_accuracy: 0.0000e+00\n",
      "Epoch 46/100\n",
      "191/191 [==============================] - 0s 1ms/step - loss: 1.5748 - accuracy: 0.3837 - val_loss: 4.7275 - val_accuracy: 0.0000e+00\n",
      "Epoch 47/100\n",
      "191/191 [==============================] - 0s 1ms/step - loss: 1.5398 - accuracy: 0.3900 - val_loss: 2.3337 - val_accuracy: 0.0000e+00\n",
      "Epoch 48/100\n",
      "191/191 [==============================] - 0s 1ms/step - loss: 1.4924 - accuracy: 0.4037 - val_loss: 3.5301 - val_accuracy: 0.0000e+00\n",
      "Epoch 49/100\n",
      "191/191 [==============================] - 0s 1ms/step - loss: 1.6291 - accuracy: 0.3713 - val_loss: 3.9323 - val_accuracy: 0.0000e+00\n",
      "Epoch 50/100\n",
      "191/191 [==============================] - 0s 1ms/step - loss: 1.6184 - accuracy: 0.3772 - val_loss: 6.2624 - val_accuracy: 0.0000e+00\n",
      "Epoch 51/100\n",
      "191/191 [==============================] - 0s 1ms/step - loss: 1.4879 - accuracy: 0.3973 - val_loss: 6.3539 - val_accuracy: 0.0000e+00\n",
      "Epoch 52/100\n",
      "191/191 [==============================] - 0s 1ms/step - loss: 1.5703 - accuracy: 0.3953 - val_loss: 0.9414 - val_accuracy: 0.8390\n",
      "Epoch 53/100\n",
      "191/191 [==============================] - 0s 1ms/step - loss: 1.5481 - accuracy: 0.3809 - val_loss: 1.9638 - val_accuracy: 0.0000e+00\n",
      "Epoch 54/100\n",
      "191/191 [==============================] - 0s 1ms/step - loss: 1.5524 - accuracy: 0.3767 - val_loss: 3.2940 - val_accuracy: 0.0000e+00\n",
      "Epoch 55/100\n",
      "191/191 [==============================] - 0s 1ms/step - loss: 1.5464 - accuracy: 0.3892 - val_loss: 4.3937 - val_accuracy: 0.0033\n",
      "Epoch 56/100\n",
      "191/191 [==============================] - 0s 1ms/step - loss: 1.4799 - accuracy: 0.3877 - val_loss: 3.7850 - val_accuracy: 0.0000e+00\n"
     ]
    },
    {
     "name": "stdout",
     "output_type": "stream",
     "text": [
      "Epoch 57/100\n",
      "191/191 [==============================] - 0s 1ms/step - loss: 1.4976 - accuracy: 0.3906 - val_loss: 6.4588 - val_accuracy: 0.0000e+00\n",
      "Epoch 58/100\n",
      "191/191 [==============================] - 0s 1ms/step - loss: 1.4979 - accuracy: 0.3969 - val_loss: 3.8725 - val_accuracy: 0.0000e+00\n",
      "Epoch 59/100\n",
      "191/191 [==============================] - 0s 1ms/step - loss: 1.4587 - accuracy: 0.3945 - val_loss: 7.2990 - val_accuracy: 0.0000e+00\n",
      "Epoch 60/100\n",
      "191/191 [==============================] - 0s 1ms/step - loss: 1.5093 - accuracy: 0.3942 - val_loss: 5.4635 - val_accuracy: 0.0000e+00\n",
      "Epoch 61/100\n",
      "191/191 [==============================] - 0s 1ms/step - loss: 1.6051 - accuracy: 0.3883 - val_loss: 2.7332 - val_accuracy: 0.0000e+00\n",
      "Epoch 62/100\n",
      "191/191 [==============================] - 0s 1ms/step - loss: 1.4952 - accuracy: 0.3893 - val_loss: 2.9660 - val_accuracy: 0.0000e+00\n",
      "Epoch 63/100\n",
      "191/191 [==============================] - 0s 2ms/step - loss: 1.4362 - accuracy: 0.3979 - val_loss: 4.5644 - val_accuracy: 0.0000e+00\n",
      "Epoch 64/100\n",
      "191/191 [==============================] - 0s 1ms/step - loss: 1.3904 - accuracy: 0.4017 - val_loss: 3.3481 - val_accuracy: 0.0000e+00\n",
      "Epoch 65/100\n",
      "191/191 [==============================] - 0s 1ms/step - loss: 1.4463 - accuracy: 0.3942 - val_loss: 0.7141 - val_accuracy: 0.8748\n",
      "Epoch 66/100\n",
      "191/191 [==============================] - 0s 1ms/step - loss: 1.4464 - accuracy: 0.3932 - val_loss: 4.3978 - val_accuracy: 0.0000e+00\n",
      "Epoch 67/100\n",
      "191/191 [==============================] - 0s 1ms/step - loss: 1.6490 - accuracy: 0.3737 - val_loss: 2.0983 - val_accuracy: 0.0000e+00\n",
      "Epoch 68/100\n",
      "191/191 [==============================] - 0s 1ms/step - loss: 1.4695 - accuracy: 0.3924 - val_loss: 2.5527 - val_accuracy: 0.0020\n",
      "Epoch 69/100\n",
      "191/191 [==============================] - 0s 1ms/step - loss: 1.3785 - accuracy: 0.3935 - val_loss: 1.8076 - val_accuracy: 0.0393\n",
      "Epoch 70/100\n",
      "191/191 [==============================] - 0s 1ms/step - loss: 1.4307 - accuracy: 0.4040 - val_loss: 3.1969 - val_accuracy: 0.0000e+00\n",
      "Epoch 71/100\n",
      "191/191 [==============================] - 0s 1ms/step - loss: 1.4250 - accuracy: 0.3982 - val_loss: 3.3684 - val_accuracy: 0.0144\n",
      "Epoch 72/100\n",
      "191/191 [==============================] - 0s 1ms/step - loss: 1.4806 - accuracy: 0.3896 - val_loss: 2.9380 - val_accuracy: 0.0000e+00\n",
      "Epoch 73/100\n",
      "191/191 [==============================] - 0s 1ms/step - loss: 1.4395 - accuracy: 0.3852 - val_loss: 3.1879 - val_accuracy: 0.0000e+00\n",
      "Epoch 74/100\n",
      "191/191 [==============================] - 0s 1ms/step - loss: 1.4345 - accuracy: 0.3854 - val_loss: 2.3054 - val_accuracy: 3.2787e-04\n",
      "Epoch 75/100\n",
      "191/191 [==============================] - 0s 1ms/step - loss: 1.3710 - accuracy: 0.4017 - val_loss: 5.1132 - val_accuracy: 0.0000e+00\n",
      "Epoch 76/100\n",
      "191/191 [==============================] - 0s 1ms/step - loss: 1.4684 - accuracy: 0.3999 - val_loss: 2.0925 - val_accuracy: 0.0000e+00\n",
      "Epoch 77/100\n",
      "191/191 [==============================] - 0s 1ms/step - loss: 1.4783 - accuracy: 0.3845 - val_loss: 2.1431 - val_accuracy: 0.0000e+00\n",
      "Epoch 78/100\n",
      "191/191 [==============================] - 0s 1ms/step - loss: 1.4188 - accuracy: 0.4000 - val_loss: 3.4334 - val_accuracy: 0.0000e+00\n",
      "Epoch 79/100\n",
      "191/191 [==============================] - 0s 1ms/step - loss: 1.3968 - accuracy: 0.3974 - val_loss: 1.4607 - val_accuracy: 0.0452\n",
      "Epoch 80/100\n",
      "191/191 [==============================] - 0s 1ms/step - loss: 1.4068 - accuracy: 0.3971 - val_loss: 2.6293 - val_accuracy: 0.0000e+00\n",
      "Epoch 81/100\n",
      "191/191 [==============================] - 0s 1ms/step - loss: 1.3818 - accuracy: 0.3983 - val_loss: 2.8927 - val_accuracy: 0.0000e+00\n",
      "Epoch 82/100\n",
      "191/191 [==============================] - 0s 1ms/step - loss: 1.4462 - accuracy: 0.3872 - val_loss: 1.9451 - val_accuracy: 0.0000e+00\n",
      "Epoch 83/100\n",
      "191/191 [==============================] - 0s 1ms/step - loss: 1.4289 - accuracy: 0.3992 - val_loss: 4.4204 - val_accuracy: 0.0000e+00\n",
      "Epoch 84/100\n",
      "191/191 [==============================] - 0s 1ms/step - loss: 1.3562 - accuracy: 0.4033 - val_loss: 2.8768 - val_accuracy: 0.0000e+00\n",
      "Epoch 85/100\n",
      "191/191 [==============================] - 0s 1ms/step - loss: 1.3909 - accuracy: 0.3992 - val_loss: 4.8905 - val_accuracy: 0.0000e+00\n",
      "Epoch 86/100\n",
      "191/191 [==============================] - 0s 1ms/step - loss: 1.3209 - accuracy: 0.4028 - val_loss: 4.7141 - val_accuracy: 0.0000e+00\n",
      "Epoch 87/100\n",
      "191/191 [==============================] - 0s 1ms/step - loss: 1.3968 - accuracy: 0.3966 - val_loss: 2.6617 - val_accuracy: 0.0000e+00\n",
      "Epoch 88/100\n",
      "191/191 [==============================] - 0s 1ms/step - loss: 1.2992 - accuracy: 0.4098 - val_loss: 2.6050 - val_accuracy: 0.0000e+00\n",
      "Epoch 89/100\n",
      "191/191 [==============================] - 0s 1ms/step - loss: 1.4129 - accuracy: 0.3897 - val_loss: 3.0752 - val_accuracy: 0.0000e+00\n",
      "Epoch 90/100\n",
      "191/191 [==============================] - 0s 1ms/step - loss: 1.3454 - accuracy: 0.4091 - val_loss: 3.0689 - val_accuracy: 0.0000e+00\n",
      "Epoch 91/100\n",
      "191/191 [==============================] - 0s 1ms/step - loss: 1.3921 - accuracy: 0.3951 - val_loss: 2.2646 - val_accuracy: 0.0000e+00\n",
      "Epoch 92/100\n",
      "191/191 [==============================] - 0s 1ms/step - loss: 1.3822 - accuracy: 0.3970 - val_loss: 3.0141 - val_accuracy: 0.0066\n",
      "Epoch 93/100\n",
      "191/191 [==============================] - 0s 1ms/step - loss: 1.3528 - accuracy: 0.3967 - val_loss: 2.0372 - val_accuracy: 0.0125\n",
      "Epoch 94/100\n",
      "191/191 [==============================] - 0s 1ms/step - loss: 1.4021 - accuracy: 0.3907 - val_loss: 2.4350 - val_accuracy: 0.0000e+00\n",
      "Epoch 95/100\n",
      "191/191 [==============================] - 0s 1ms/step - loss: 1.3606 - accuracy: 0.4038 - val_loss: 3.9400 - val_accuracy: 0.0000e+00\n",
      "Epoch 96/100\n",
      "191/191 [==============================] - 0s 1ms/step - loss: 1.3378 - accuracy: 0.4019 - val_loss: 5.0803 - val_accuracy: 0.0020\n",
      "Epoch 97/100\n",
      "191/191 [==============================] - 0s 1ms/step - loss: 1.3239 - accuracy: 0.4027 - val_loss: 1.7245 - val_accuracy: 0.0082\n",
      "Epoch 98/100\n",
      "191/191 [==============================] - 0s 1ms/step - loss: 1.3034 - accuracy: 0.4047 - val_loss: 2.1856 - val_accuracy: 0.0000e+00\n",
      "Epoch 99/100\n",
      "191/191 [==============================] - 0s 1ms/step - loss: 1.3431 - accuracy: 0.3988 - val_loss: 4.9121 - val_accuracy: 0.0000e+00\n",
      "Epoch 100/100\n",
      "191/191 [==============================] - 0s 1ms/step - loss: 1.3167 - accuracy: 0.4075 - val_loss: 4.3054 - val_accuracy: 0.0000e+00\n"
     ]
    }
   ],
   "source": [
    "model_5 = keras.Sequential([\n",
    "    layers.Dense(64, activation='relu', input_shape=(10,)),  # input shape of 10 since this time period's df has 10 features\n",
    "    layers.Dense(32, activation='relu'),\n",
    "    layers.Dense(4, activation='softmax')  # 4 neurons for 4 categories\n",
    "])\n",
    "\n",
    "model_5.compile(optimizer='adam',\n",
    "              loss='sparse_categorical_crossentropy',  # use sparse categorical crossentropy\n",
    "              metrics=['accuracy'])\n",
    "\n",
    "history_5 = model_5.fit(X_resampled_5, y_resampled_5_int, epochs=100, batch_size=64, validation_split=0.2)\n"
   ]
  },
  {
   "cell_type": "code",
   "execution_count": 142,
   "id": "f61fdada",
   "metadata": {},
   "outputs": [
    {
     "name": "stdout",
     "output_type": "stream",
     "text": [
      "69/69 [==============================] - 0s 828us/step - loss: 1.5721 - accuracy: 0.3332\n",
      "Accuracy on test set: 33.32%\n"
     ]
    }
   ],
   "source": [
    "y_test_5_int = y_test_5.replace({'0': 0, '1': 1, '2': 2, '3+': 3})\n",
    "\n",
    "loss_5, accuracy_5 = model_5.evaluate(X_test_5, y_test_5_int)\n",
    "print(\"Accuracy on test set: {:.2f}%\".format(accuracy_5 * 100))\n"
   ]
  }
 ],
 "metadata": {
  "kernelspec": {
   "display_name": "Python 3 (ipykernel)",
   "language": "python",
   "name": "python3"
  },
  "language_info": {
   "codemirror_mode": {
    "name": "ipython",
    "version": 3
   },
   "file_extension": ".py",
   "mimetype": "text/x-python",
   "name": "python",
   "nbconvert_exporter": "python",
   "pygments_lexer": "ipython3",
   "version": "3.10.8"
  }
 },
 "nbformat": 4,
 "nbformat_minor": 5
}
