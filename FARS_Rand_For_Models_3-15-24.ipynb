{
 "cells": [
  {
   "cell_type": "code",
   "execution_count": 1,
   "id": "770af540",
   "metadata": {},
   "outputs": [],
   "source": [
    "import os\n",
    "import pandas as pd\n",
    "import statsmodels.api as sm\n",
    "import json\n",
    "import pprint\n",
    "import glob\n",
    "import datetime\n",
    "import random\n",
    "import re\n",
    "import numpy as np\n",
    "import seaborn as sns\n",
    "import matplotlib.pyplot as plt\n",
    "import seaborn as sns\n",
    "import warnings\n",
    "from sklearn import preprocessing, svm\n",
    "from sklearn.model_selection import train_test_split\n",
    "from sklearn.ensemble import RandomForestClassifier\n",
    "from sklearn.metrics import classification_report, mean_squared_error, r2_score\n",
    "from sklearn.metrics import accuracy_score, confusion_matrix, roc_curve, auc\n",
    "from sklearn.preprocessing import label_binarize\n",
    "from sklearn.multiclass import OneVsRestClassifier\n",
    "\n",
    "warnings.filterwarnings('ignore')"
   ]
  },
  {
   "cell_type": "markdown",
   "id": "0be20bd3",
   "metadata": {},
   "source": [
    "# Importing Data:"
   ]
  },
  {
   "cell_type": "code",
   "execution_count": 3,
   "id": "42fbd4eb",
   "metadata": {},
   "outputs": [
    {
     "data": {
      "text/html": [
       "<div>\n",
       "<style scoped>\n",
       "    .dataframe tbody tr th:only-of-type {\n",
       "        vertical-align: middle;\n",
       "    }\n",
       "\n",
       "    .dataframe tbody tr th {\n",
       "        vertical-align: top;\n",
       "    }\n",
       "\n",
       "    .dataframe thead th {\n",
       "        text-align: right;\n",
       "    }\n",
       "</style>\n",
       "<table border=\"1\" class=\"dataframe\">\n",
       "  <thead>\n",
       "    <tr style=\"text-align: right;\">\n",
       "      <th></th>\n",
       "      <th>YEAR</th>\n",
       "      <th>ST_CASE</th>\n",
       "      <th>PERSONS</th>\n",
       "      <th>HOUR</th>\n",
       "      <th>SCH_BUS</th>\n",
       "      <th>FATALS</th>\n",
       "    </tr>\n",
       "  </thead>\n",
       "  <tbody>\n",
       "    <tr>\n",
       "      <th>0</th>\n",
       "      <td>1975</td>\n",
       "      <td>10001</td>\n",
       "      <td>3</td>\n",
       "      <td>22</td>\n",
       "      <td>0.0</td>\n",
       "      <td>1</td>\n",
       "    </tr>\n",
       "    <tr>\n",
       "      <th>1</th>\n",
       "      <td>1975</td>\n",
       "      <td>10002</td>\n",
       "      <td>2</td>\n",
       "      <td>4</td>\n",
       "      <td>0.0</td>\n",
       "      <td>1</td>\n",
       "    </tr>\n",
       "    <tr>\n",
       "      <th>2</th>\n",
       "      <td>1975</td>\n",
       "      <td>10003</td>\n",
       "      <td>1</td>\n",
       "      <td>4</td>\n",
       "      <td>0.0</td>\n",
       "      <td>1</td>\n",
       "    </tr>\n",
       "    <tr>\n",
       "      <th>3</th>\n",
       "      <td>1975</td>\n",
       "      <td>10004</td>\n",
       "      <td>3</td>\n",
       "      <td>14</td>\n",
       "      <td>0.0</td>\n",
       "      <td>1</td>\n",
       "    </tr>\n",
       "    <tr>\n",
       "      <th>4</th>\n",
       "      <td>1975</td>\n",
       "      <td>10005</td>\n",
       "      <td>1</td>\n",
       "      <td>20</td>\n",
       "      <td>0.0</td>\n",
       "      <td>1</td>\n",
       "    </tr>\n",
       "  </tbody>\n",
       "</table>\n",
       "</div>"
      ],
      "text/plain": [
       "   YEAR  ST_CASE  PERSONS  HOUR  SCH_BUS  FATALS\n",
       "0  1975    10001        3    22      0.0       1\n",
       "1  1975    10002        2     4      0.0       1\n",
       "2  1975    10003        1     4      0.0       1\n",
       "3  1975    10004        3    14      0.0       1\n",
       "4  1975    10005        1    20      0.0       1"
      ]
     },
     "execution_count": 3,
     "metadata": {},
     "output_type": "execute_result"
    }
   ],
   "source": [
    "# 1975 to 1981:\n",
    "\n",
    "acc_sect_1 = pd.read_csv('acc_sect_1.csv')\n",
    "acc_sect_1.head()"
   ]
  },
  {
   "cell_type": "code",
   "execution_count": 4,
   "id": "291a3057",
   "metadata": {},
   "outputs": [
    {
     "data": {
      "text/html": [
       "<div>\n",
       "<style scoped>\n",
       "    .dataframe tbody tr th:only-of-type {\n",
       "        vertical-align: middle;\n",
       "    }\n",
       "\n",
       "    .dataframe tbody tr th {\n",
       "        vertical-align: top;\n",
       "    }\n",
       "\n",
       "    .dataframe thead th {\n",
       "        text-align: right;\n",
       "    }\n",
       "</style>\n",
       "<table border=\"1\" class=\"dataframe\">\n",
       "  <thead>\n",
       "    <tr style=\"text-align: right;\">\n",
       "      <th></th>\n",
       "      <th>YEAR</th>\n",
       "      <th>ST_CASE</th>\n",
       "      <th>PERSONS</th>\n",
       "      <th>HOUR</th>\n",
       "      <th>ROAD_NAME</th>\n",
       "      <th>MILE_MARKER</th>\n",
       "      <th>SCH_BUS</th>\n",
       "      <th>FATALS</th>\n",
       "    </tr>\n",
       "  </thead>\n",
       "  <tbody>\n",
       "    <tr>\n",
       "      <th>0</th>\n",
       "      <td>1982</td>\n",
       "      <td>10001</td>\n",
       "      <td>2</td>\n",
       "      <td>8</td>\n",
       "      <td>65</td>\n",
       "      <td>2131.0</td>\n",
       "      <td>0</td>\n",
       "      <td>2</td>\n",
       "    </tr>\n",
       "    <tr>\n",
       "      <th>1</th>\n",
       "      <td>1982</td>\n",
       "      <td>10002</td>\n",
       "      <td>1</td>\n",
       "      <td>23</td>\n",
       "      <td>0409</td>\n",
       "      <td>0.0</td>\n",
       "      <td>0</td>\n",
       "      <td>1</td>\n",
       "    </tr>\n",
       "    <tr>\n",
       "      <th>2</th>\n",
       "      <td>1982</td>\n",
       "      <td>10003</td>\n",
       "      <td>1</td>\n",
       "      <td>12</td>\n",
       "      <td>0234</td>\n",
       "      <td>0.0</td>\n",
       "      <td>0</td>\n",
       "      <td>1</td>\n",
       "    </tr>\n",
       "    <tr>\n",
       "      <th>3</th>\n",
       "      <td>1982</td>\n",
       "      <td>10004</td>\n",
       "      <td>4</td>\n",
       "      <td>23</td>\n",
       "      <td>59</td>\n",
       "      <td>28128.0</td>\n",
       "      <td>0</td>\n",
       "      <td>2</td>\n",
       "    </tr>\n",
       "    <tr>\n",
       "      <th>4</th>\n",
       "      <td>1982</td>\n",
       "      <td>10005</td>\n",
       "      <td>2</td>\n",
       "      <td>10</td>\n",
       "      <td>0310</td>\n",
       "      <td>0.0</td>\n",
       "      <td>0</td>\n",
       "      <td>1</td>\n",
       "    </tr>\n",
       "  </tbody>\n",
       "</table>\n",
       "</div>"
      ],
      "text/plain": [
       "   YEAR  ST_CASE  PERSONS  HOUR ROAD_NAME  MILE_MARKER  SCH_BUS  FATALS\n",
       "0  1982    10001        2     8        65       2131.0        0       2\n",
       "1  1982    10002        1    23      0409          0.0        0       1\n",
       "2  1982    10003        1    12      0234          0.0        0       1\n",
       "3  1982    10004        4    23        59      28128.0        0       2\n",
       "4  1982    10005        2    10      0310          0.0        0       1"
      ]
     },
     "execution_count": 4,
     "metadata": {},
     "output_type": "execute_result"
    }
   ],
   "source": [
    "# 1982 to 1990:\n",
    "\n",
    "acc_sect_2 = pd.read_csv('acc_sect_2.csv')\n",
    "acc_sect_2.head()"
   ]
  },
  {
   "cell_type": "code",
   "execution_count": 5,
   "id": "aa933913",
   "metadata": {},
   "outputs": [
    {
     "data": {
      "text/html": [
       "<div>\n",
       "<style scoped>\n",
       "    .dataframe tbody tr th:only-of-type {\n",
       "        vertical-align: middle;\n",
       "    }\n",
       "\n",
       "    .dataframe tbody tr th {\n",
       "        vertical-align: top;\n",
       "    }\n",
       "\n",
       "    .dataframe thead th {\n",
       "        text-align: right;\n",
       "    }\n",
       "</style>\n",
       "<table border=\"1\" class=\"dataframe\">\n",
       "  <thead>\n",
       "    <tr style=\"text-align: right;\">\n",
       "      <th></th>\n",
       "      <th>YEAR</th>\n",
       "      <th>ST_CASE</th>\n",
       "      <th>NUM_PEDS</th>\n",
       "      <th>PERSONS</th>\n",
       "      <th>HOUR</th>\n",
       "      <th>ROAD_NAME</th>\n",
       "      <th>MILE_MARKER</th>\n",
       "      <th>SCH_BUS</th>\n",
       "      <th>FATALS</th>\n",
       "    </tr>\n",
       "  </thead>\n",
       "  <tbody>\n",
       "    <tr>\n",
       "      <th>0</th>\n",
       "      <td>1991</td>\n",
       "      <td>10001</td>\n",
       "      <td>0</td>\n",
       "      <td>2</td>\n",
       "      <td>11</td>\n",
       "      <td>I20</td>\n",
       "      <td>1723.0</td>\n",
       "      <td>0</td>\n",
       "      <td>1</td>\n",
       "    </tr>\n",
       "    <tr>\n",
       "      <th>1</th>\n",
       "      <td>1991</td>\n",
       "      <td>10002</td>\n",
       "      <td>0</td>\n",
       "      <td>6</td>\n",
       "      <td>7</td>\n",
       "      <td>SR13</td>\n",
       "      <td>25.0</td>\n",
       "      <td>0</td>\n",
       "      <td>2</td>\n",
       "    </tr>\n",
       "    <tr>\n",
       "      <th>2</th>\n",
       "      <td>1991</td>\n",
       "      <td>10003</td>\n",
       "      <td>0</td>\n",
       "      <td>1</td>\n",
       "      <td>23</td>\n",
       "      <td>5849</td>\n",
       "      <td>0.0</td>\n",
       "      <td>0</td>\n",
       "      <td>1</td>\n",
       "    </tr>\n",
       "    <tr>\n",
       "      <th>3</th>\n",
       "      <td>1991</td>\n",
       "      <td>10004</td>\n",
       "      <td>0</td>\n",
       "      <td>2</td>\n",
       "      <td>16</td>\n",
       "      <td>2208</td>\n",
       "      <td>0.0</td>\n",
       "      <td>0</td>\n",
       "      <td>1</td>\n",
       "    </tr>\n",
       "    <tr>\n",
       "      <th>4</th>\n",
       "      <td>1991</td>\n",
       "      <td>10005</td>\n",
       "      <td>0</td>\n",
       "      <td>2</td>\n",
       "      <td>15</td>\n",
       "      <td>69</td>\n",
       "      <td>1882.0</td>\n",
       "      <td>0</td>\n",
       "      <td>1</td>\n",
       "    </tr>\n",
       "  </tbody>\n",
       "</table>\n",
       "</div>"
      ],
      "text/plain": [
       "   YEAR  ST_CASE  NUM_PEDS  PERSONS  HOUR ROAD_NAME  MILE_MARKER  SCH_BUS  \\\n",
       "0  1991    10001         0        2    11       I20       1723.0        0   \n",
       "1  1991    10002         0        6     7      SR13         25.0        0   \n",
       "2  1991    10003         0        1    23      5849          0.0        0   \n",
       "3  1991    10004         0        2    16      2208          0.0        0   \n",
       "4  1991    10005         0        2    15        69       1882.0        0   \n",
       "\n",
       "   FATALS  \n",
       "0       1  \n",
       "1       2  \n",
       "2       1  \n",
       "3       1  \n",
       "4       1  "
      ]
     },
     "execution_count": 5,
     "metadata": {},
     "output_type": "execute_result"
    }
   ],
   "source": [
    "# 1991 to 2000:\n",
    "\n",
    "acc_sect_3 = pd.read_csv('acc_sect_3.csv')\n",
    "acc_sect_3.head()"
   ]
  },
  {
   "cell_type": "code",
   "execution_count": 6,
   "id": "2832e8b2",
   "metadata": {},
   "outputs": [
    {
     "data": {
      "text/html": [
       "<div>\n",
       "<style scoped>\n",
       "    .dataframe tbody tr th:only-of-type {\n",
       "        vertical-align: middle;\n",
       "    }\n",
       "\n",
       "    .dataframe tbody tr th {\n",
       "        vertical-align: top;\n",
       "    }\n",
       "\n",
       "    .dataframe thead th {\n",
       "        text-align: right;\n",
       "    }\n",
       "</style>\n",
       "<table border=\"1\" class=\"dataframe\">\n",
       "  <thead>\n",
       "    <tr style=\"text-align: right;\">\n",
       "      <th></th>\n",
       "      <th>YEAR</th>\n",
       "      <th>ST_CASE</th>\n",
       "      <th>NUM_PEDS</th>\n",
       "      <th>PERSONS</th>\n",
       "      <th>HOUR</th>\n",
       "      <th>ROAD_NAME</th>\n",
       "      <th>MILE_MARKER</th>\n",
       "      <th>SCH_BUS</th>\n",
       "      <th>FATALS</th>\n",
       "    </tr>\n",
       "  </thead>\n",
       "  <tbody>\n",
       "    <tr>\n",
       "      <th>0</th>\n",
       "      <td>2001</td>\n",
       "      <td>10001</td>\n",
       "      <td>0</td>\n",
       "      <td>1</td>\n",
       "      <td>20</td>\n",
       "      <td>1274</td>\n",
       "      <td>0.0</td>\n",
       "      <td>0</td>\n",
       "      <td>1</td>\n",
       "    </tr>\n",
       "    <tr>\n",
       "      <th>1</th>\n",
       "      <td>2001</td>\n",
       "      <td>10002</td>\n",
       "      <td>0</td>\n",
       "      <td>1</td>\n",
       "      <td>5</td>\n",
       "      <td>SR-204</td>\n",
       "      <td>75.0</td>\n",
       "      <td>0</td>\n",
       "      <td>1</td>\n",
       "    </tr>\n",
       "    <tr>\n",
       "      <th>2</th>\n",
       "      <td>2001</td>\n",
       "      <td>10003</td>\n",
       "      <td>0</td>\n",
       "      <td>2</td>\n",
       "      <td>22</td>\n",
       "      <td>SR-21</td>\n",
       "      <td>1230.0</td>\n",
       "      <td>0</td>\n",
       "      <td>1</td>\n",
       "    </tr>\n",
       "    <tr>\n",
       "      <th>3</th>\n",
       "      <td>2001</td>\n",
       "      <td>10004</td>\n",
       "      <td>0</td>\n",
       "      <td>2</td>\n",
       "      <td>17</td>\n",
       "      <td>I-65</td>\n",
       "      <td>1642.0</td>\n",
       "      <td>0</td>\n",
       "      <td>1</td>\n",
       "    </tr>\n",
       "    <tr>\n",
       "      <th>4</th>\n",
       "      <td>2001</td>\n",
       "      <td>10005</td>\n",
       "      <td>0</td>\n",
       "      <td>2</td>\n",
       "      <td>9</td>\n",
       "      <td>US-SR3</td>\n",
       "      <td>2993.0</td>\n",
       "      <td>0</td>\n",
       "      <td>1</td>\n",
       "    </tr>\n",
       "  </tbody>\n",
       "</table>\n",
       "</div>"
      ],
      "text/plain": [
       "   YEAR  ST_CASE  NUM_PEDS  PERSONS  HOUR ROAD_NAME  MILE_MARKER  SCH_BUS  \\\n",
       "0  2001    10001         0        1    20      1274          0.0        0   \n",
       "1  2001    10002         0        1     5    SR-204         75.0        0   \n",
       "2  2001    10003         0        2    22     SR-21       1230.0        0   \n",
       "3  2001    10004         0        2    17      I-65       1642.0        0   \n",
       "4  2001    10005         0        2     9    US-SR3       2993.0        0   \n",
       "\n",
       "   FATALS  \n",
       "0       1  \n",
       "1       1  \n",
       "2       1  \n",
       "3       1  \n",
       "4       1  "
      ]
     },
     "execution_count": 6,
     "metadata": {},
     "output_type": "execute_result"
    }
   ],
   "source": [
    "# 2001 to 2007:\n",
    "\n",
    "acc_sect_4 = pd.read_csv('acc_sect_4.csv')\n",
    "acc_sect_4.head()"
   ]
  },
  {
   "cell_type": "code",
   "execution_count": 7,
   "id": "e7213d2e",
   "metadata": {},
   "outputs": [
    {
     "data": {
      "text/html": [
       "<div>\n",
       "<style scoped>\n",
       "    .dataframe tbody tr th:only-of-type {\n",
       "        vertical-align: middle;\n",
       "    }\n",
       "\n",
       "    .dataframe tbody tr th {\n",
       "        vertical-align: top;\n",
       "    }\n",
       "\n",
       "    .dataframe thead th {\n",
       "        text-align: right;\n",
       "    }\n",
       "</style>\n",
       "<table border=\"1\" class=\"dataframe\">\n",
       "  <thead>\n",
       "    <tr style=\"text-align: right;\">\n",
       "      <th></th>\n",
       "      <th>YEAR</th>\n",
       "      <th>ST_CASE</th>\n",
       "      <th>NUM_PEDS</th>\n",
       "      <th>NUM_VEHC</th>\n",
       "      <th>PERSONS</th>\n",
       "      <th>HOUR</th>\n",
       "      <th>ROAD_NAME</th>\n",
       "      <th>MILE_MARKER</th>\n",
       "      <th>LATITUDE</th>\n",
       "      <th>LONGITUD</th>\n",
       "      <th>SCH_BUS</th>\n",
       "      <th>FATALS</th>\n",
       "    </tr>\n",
       "  </thead>\n",
       "  <tbody>\n",
       "    <tr>\n",
       "      <th>0</th>\n",
       "      <td>2008</td>\n",
       "      <td>10001</td>\n",
       "      <td>1</td>\n",
       "      <td>1</td>\n",
       "      <td>3</td>\n",
       "      <td>17</td>\n",
       "      <td>SR-69</td>\n",
       "      <td>0.0</td>\n",
       "      <td>34.326947</td>\n",
       "      <td>-86.489567</td>\n",
       "      <td>0</td>\n",
       "      <td>1</td>\n",
       "    </tr>\n",
       "    <tr>\n",
       "      <th>1</th>\n",
       "      <td>2008</td>\n",
       "      <td>10002</td>\n",
       "      <td>0</td>\n",
       "      <td>2</td>\n",
       "      <td>2</td>\n",
       "      <td>12</td>\n",
       "      <td>I-20</td>\n",
       "      <td>1230.0</td>\n",
       "      <td>33.520883</td>\n",
       "      <td>-86.847739</td>\n",
       "      <td>0</td>\n",
       "      <td>1</td>\n",
       "    </tr>\n",
       "    <tr>\n",
       "      <th>2</th>\n",
       "      <td>2008</td>\n",
       "      <td>10003</td>\n",
       "      <td>0</td>\n",
       "      <td>1</td>\n",
       "      <td>1</td>\n",
       "      <td>2</td>\n",
       "      <td>1027</td>\n",
       "      <td>0.0</td>\n",
       "      <td>32.477511</td>\n",
       "      <td>-86.346628</td>\n",
       "      <td>0</td>\n",
       "      <td>1</td>\n",
       "    </tr>\n",
       "    <tr>\n",
       "      <th>3</th>\n",
       "      <td>2008</td>\n",
       "      <td>10004</td>\n",
       "      <td>0</td>\n",
       "      <td>1</td>\n",
       "      <td>2</td>\n",
       "      <td>10</td>\n",
       "      <td>8438</td>\n",
       "      <td>0.0</td>\n",
       "      <td>30.814786</td>\n",
       "      <td>-88.171917</td>\n",
       "      <td>0</td>\n",
       "      <td>1</td>\n",
       "    </tr>\n",
       "    <tr>\n",
       "      <th>4</th>\n",
       "      <td>2008</td>\n",
       "      <td>10005</td>\n",
       "      <td>2</td>\n",
       "      <td>1</td>\n",
       "      <td>3</td>\n",
       "      <td>21</td>\n",
       "      <td>US-SR6</td>\n",
       "      <td>0.0</td>\n",
       "      <td>32.326347</td>\n",
       "      <td>-86.320975</td>\n",
       "      <td>0</td>\n",
       "      <td>2</td>\n",
       "    </tr>\n",
       "  </tbody>\n",
       "</table>\n",
       "</div>"
      ],
      "text/plain": [
       "   YEAR  ST_CASE  NUM_PEDS  NUM_VEHC  PERSONS  HOUR ROAD_NAME  MILE_MARKER  \\\n",
       "0  2008    10001         1         1        3    17     SR-69          0.0   \n",
       "1  2008    10002         0         2        2    12      I-20       1230.0   \n",
       "2  2008    10003         0         1        1     2      1027          0.0   \n",
       "3  2008    10004         0         1        2    10      8438          0.0   \n",
       "4  2008    10005         2         1        3    21    US-SR6          0.0   \n",
       "\n",
       "    LATITUDE   LONGITUD  SCH_BUS  FATALS  \n",
       "0  34.326947 -86.489567        0       1  \n",
       "1  33.520883 -86.847739        0       1  \n",
       "2  32.477511 -86.346628        0       1  \n",
       "3  30.814786 -88.171917        0       1  \n",
       "4  32.326347 -86.320975        0       2  "
      ]
     },
     "execution_count": 7,
     "metadata": {},
     "output_type": "execute_result"
    }
   ],
   "source": [
    "# 2008 to 2014:\n",
    "\n",
    "acc_sect_5 = pd.read_csv('acc_sect_5.csv')\n",
    "acc_sect_5.head()"
   ]
  },
  {
   "cell_type": "code",
   "execution_count": 8,
   "id": "dec712d2",
   "metadata": {},
   "outputs": [
    {
     "data": {
      "text/html": [
       "<div>\n",
       "<style scoped>\n",
       "    .dataframe tbody tr th:only-of-type {\n",
       "        vertical-align: middle;\n",
       "    }\n",
       "\n",
       "    .dataframe tbody tr th {\n",
       "        vertical-align: top;\n",
       "    }\n",
       "\n",
       "    .dataframe thead th {\n",
       "        text-align: right;\n",
       "    }\n",
       "</style>\n",
       "<table border=\"1\" class=\"dataframe\">\n",
       "  <thead>\n",
       "    <tr style=\"text-align: right;\">\n",
       "      <th></th>\n",
       "      <th>YEAR</th>\n",
       "      <th>STATENAME</th>\n",
       "      <th>ST_CASE</th>\n",
       "      <th>NUM_PEDS</th>\n",
       "      <th>NUM_VEHC</th>\n",
       "      <th>PERSONS</th>\n",
       "      <th>MONTHNAME</th>\n",
       "      <th>DAYNAME</th>\n",
       "      <th>DAY_WEEKNAME</th>\n",
       "      <th>HOUR</th>\n",
       "      <th>...</th>\n",
       "      <th>COLLISION_TYPE</th>\n",
       "      <th>TYP_INTNAME</th>\n",
       "      <th>REL_ROADNAME</th>\n",
       "      <th>WRK_ZONENAME</th>\n",
       "      <th>LGT_CONDNAME</th>\n",
       "      <th>WEATHERNAME</th>\n",
       "      <th>SCH_BUS</th>\n",
       "      <th>FATALS</th>\n",
       "      <th>COUNTYNAME</th>\n",
       "      <th>CITYNAME</th>\n",
       "    </tr>\n",
       "  </thead>\n",
       "  <tbody>\n",
       "    <tr>\n",
       "      <th>0</th>\n",
       "      <td>2015</td>\n",
       "      <td>Alabama</td>\n",
       "      <td>10001</td>\n",
       "      <td>0</td>\n",
       "      <td>1</td>\n",
       "      <td>1</td>\n",
       "      <td>January</td>\n",
       "      <td>1</td>\n",
       "      <td>Thursday</td>\n",
       "      <td>2</td>\n",
       "      <td>...</td>\n",
       "      <td>Not a Collision with Motor Vehicle In-Transport</td>\n",
       "      <td>Not an Intersection</td>\n",
       "      <td>On Roadside</td>\n",
       "      <td>None</td>\n",
       "      <td>Dark - Not Lighted</td>\n",
       "      <td>Clear</td>\n",
       "      <td>0</td>\n",
       "      <td>1</td>\n",
       "      <td>NOT AVAILABLE</td>\n",
       "      <td>NOT AVAILABLE</td>\n",
       "    </tr>\n",
       "    <tr>\n",
       "      <th>1</th>\n",
       "      <td>2015</td>\n",
       "      <td>Alabama</td>\n",
       "      <td>10002</td>\n",
       "      <td>0</td>\n",
       "      <td>1</td>\n",
       "      <td>1</td>\n",
       "      <td>January</td>\n",
       "      <td>1</td>\n",
       "      <td>Thursday</td>\n",
       "      <td>22</td>\n",
       "      <td>...</td>\n",
       "      <td>Not a Collision with Motor Vehicle In-Transport</td>\n",
       "      <td>Not an Intersection</td>\n",
       "      <td>On Median</td>\n",
       "      <td>None</td>\n",
       "      <td>Dark - Not Lighted</td>\n",
       "      <td>Cloudy</td>\n",
       "      <td>0</td>\n",
       "      <td>1</td>\n",
       "      <td>NOT AVAILABLE</td>\n",
       "      <td>NOT AVAILABLE</td>\n",
       "    </tr>\n",
       "    <tr>\n",
       "      <th>2</th>\n",
       "      <td>2015</td>\n",
       "      <td>Alabama</td>\n",
       "      <td>10003</td>\n",
       "      <td>0</td>\n",
       "      <td>1</td>\n",
       "      <td>2</td>\n",
       "      <td>January</td>\n",
       "      <td>1</td>\n",
       "      <td>Thursday</td>\n",
       "      <td>1</td>\n",
       "      <td>...</td>\n",
       "      <td>Not a Collision with Motor Vehicle In-Transport</td>\n",
       "      <td>Not an Intersection</td>\n",
       "      <td>On Roadside</td>\n",
       "      <td>None</td>\n",
       "      <td>Dark - Not Lighted</td>\n",
       "      <td>Clear</td>\n",
       "      <td>0</td>\n",
       "      <td>1</td>\n",
       "      <td>NOT AVAILABLE</td>\n",
       "      <td>NOT AVAILABLE</td>\n",
       "    </tr>\n",
       "    <tr>\n",
       "      <th>3</th>\n",
       "      <td>2015</td>\n",
       "      <td>Alabama</td>\n",
       "      <td>10004</td>\n",
       "      <td>0</td>\n",
       "      <td>1</td>\n",
       "      <td>1</td>\n",
       "      <td>January</td>\n",
       "      <td>4</td>\n",
       "      <td>Sunday</td>\n",
       "      <td>0</td>\n",
       "      <td>...</td>\n",
       "      <td>Not a Collision with Motor Vehicle In-Transport</td>\n",
       "      <td>Not an Intersection</td>\n",
       "      <td>On Roadside</td>\n",
       "      <td>None</td>\n",
       "      <td>Dark - Not Lighted</td>\n",
       "      <td>Cloudy</td>\n",
       "      <td>0</td>\n",
       "      <td>1</td>\n",
       "      <td>NOT AVAILABLE</td>\n",
       "      <td>NOT AVAILABLE</td>\n",
       "    </tr>\n",
       "    <tr>\n",
       "      <th>4</th>\n",
       "      <td>2015</td>\n",
       "      <td>Alabama</td>\n",
       "      <td>10005</td>\n",
       "      <td>0</td>\n",
       "      <td>2</td>\n",
       "      <td>2</td>\n",
       "      <td>January</td>\n",
       "      <td>7</td>\n",
       "      <td>Wednesday</td>\n",
       "      <td>7</td>\n",
       "      <td>...</td>\n",
       "      <td>Angle</td>\n",
       "      <td>T-Intersection</td>\n",
       "      <td>On Roadway</td>\n",
       "      <td>None</td>\n",
       "      <td>Daylight</td>\n",
       "      <td>Clear</td>\n",
       "      <td>0</td>\n",
       "      <td>1</td>\n",
       "      <td>NOT AVAILABLE</td>\n",
       "      <td>NOT AVAILABLE</td>\n",
       "    </tr>\n",
       "  </tbody>\n",
       "</table>\n",
       "<p>5 rows × 29 columns</p>\n",
       "</div>"
      ],
      "text/plain": [
       "   YEAR STATENAME  ST_CASE  NUM_PEDS  NUM_VEHC  PERSONS MONTHNAME  DAYNAME  \\\n",
       "0  2015   Alabama    10001         0         1        1   January        1   \n",
       "1  2015   Alabama    10002         0         1        1   January        1   \n",
       "2  2015   Alabama    10003         0         1        2   January        1   \n",
       "3  2015   Alabama    10004         0         1        1   January        4   \n",
       "4  2015   Alabama    10005         0         2        2   January        7   \n",
       "\n",
       "  DAY_WEEKNAME  HOUR  ...                                   COLLISION_TYPE  \\\n",
       "0     Thursday     2  ...  Not a Collision with Motor Vehicle In-Transport   \n",
       "1     Thursday    22  ...  Not a Collision with Motor Vehicle In-Transport   \n",
       "2     Thursday     1  ...  Not a Collision with Motor Vehicle In-Transport   \n",
       "3       Sunday     0  ...  Not a Collision with Motor Vehicle In-Transport   \n",
       "4    Wednesday     7  ...                                            Angle   \n",
       "\n",
       "           TYP_INTNAME REL_ROADNAME WRK_ZONENAME        LGT_CONDNAME  \\\n",
       "0  Not an Intersection  On Roadside         None  Dark - Not Lighted   \n",
       "1  Not an Intersection    On Median         None  Dark - Not Lighted   \n",
       "2  Not an Intersection  On Roadside         None  Dark - Not Lighted   \n",
       "3  Not an Intersection  On Roadside         None  Dark - Not Lighted   \n",
       "4       T-Intersection   On Roadway         None            Daylight   \n",
       "\n",
       "   WEATHERNAME  SCH_BUS  FATALS     COUNTYNAME       CITYNAME  \n",
       "0        Clear        0       1  NOT AVAILABLE  NOT AVAILABLE  \n",
       "1       Cloudy        0       1  NOT AVAILABLE  NOT AVAILABLE  \n",
       "2        Clear        0       1  NOT AVAILABLE  NOT AVAILABLE  \n",
       "3       Cloudy        0       1  NOT AVAILABLE  NOT AVAILABLE  \n",
       "4        Clear        0       1  NOT AVAILABLE  NOT AVAILABLE  \n",
       "\n",
       "[5 rows x 29 columns]"
      ]
     },
     "execution_count": 8,
     "metadata": {},
     "output_type": "execute_result"
    }
   ],
   "source": [
    "# 2015 to 2021:\n",
    "\n",
    "acc_sect_6 = pd.read_csv('acc_sect_6.csv')\n",
    "acc_sect_6.head()"
   ]
  },
  {
   "cell_type": "markdown",
   "id": "ea6e5ff9",
   "metadata": {},
   "source": [
    "# Model 1 - Accidents from 1975 to 1981:"
   ]
  },
  {
   "cell_type": "code",
   "execution_count": 9,
   "id": "93ff1ba4",
   "metadata": {},
   "outputs": [
    {
     "data": {
      "text/plain": [
       "YEAR         int64\n",
       "ST_CASE      int64\n",
       "PERSONS      int64\n",
       "HOUR         int64\n",
       "SCH_BUS    float64\n",
       "FATALS       int64\n",
       "dtype: object"
      ]
     },
     "execution_count": 9,
     "metadata": {},
     "output_type": "execute_result"
    }
   ],
   "source": [
    "# Check to make sure all types inputted into the model are quantitative\n",
    "acc_sect_1.dtypes"
   ]
  },
  {
   "cell_type": "code",
   "execution_count": 10,
   "id": "0f775bd3",
   "metadata": {
    "scrolled": true
   },
   "outputs": [],
   "source": [
    "# Exclude 'FATALS' and 'ST_CASE' columns\n",
    "X_1 = acc_sect_1.loc[:, ~acc_sect_1.columns.isin(['FATALS', 'ST_CASE'])]\n",
    "\n",
    "y_1 = acc_sect_1.loc[:,'FATALS']\n",
    "\n",
    "X_train_1, X_test_1, y_train_1, y_test_1 = train_test_split(X_1, y_1, test_size = 0.25)\n"
   ]
  },
  {
   "cell_type": "code",
   "execution_count": 11,
   "id": "0b194084",
   "metadata": {},
   "outputs": [
    {
     "name": "stdout",
     "output_type": "stream",
     "text": [
      "Accuracy: 0.8961541025128308\n"
     ]
    }
   ],
   "source": [
    "rf_mod_1 = RandomForestClassifier(n_estimators=100, random_state=42)\n",
    "\n",
    "rf_mod_1.fit(X_train_1, y_train_1)\n",
    "\n",
    "# Test Predictions\n",
    "preds_mod_1 = rf_mod_1.predict(X_test_1)\n",
    "\n",
    "# Accuracy\n",
    "acc_mod_1 = accuracy_score(y_test_1, preds_mod_1)\n",
    "print(\"Accuracy:\", acc_mod_1)\n"
   ]
  },
  {
   "cell_type": "markdown",
   "id": "ffea9c91",
   "metadata": {},
   "source": [
    "#### Feature Importance Plot:"
   ]
  },
  {
   "cell_type": "code",
   "execution_count": 12,
   "id": "f0e39a91",
   "metadata": {},
   "outputs": [
    {
     "name": "stdout",
     "output_type": "stream",
     "text": [
      "PERSONS: 0.7471620099272362\n",
      "HOUR: 0.17032959183028054\n",
      "YEAR: 0.07702801827975148\n",
      "SCH_BUS: 0.00548037996273174\n"
     ]
    }
   ],
   "source": [
    "impts = rf_mod_1.feature_importances_\n",
    "\n",
    "feature_names = X_train_1.columns\n",
    "\n",
    "idxs = np.argsort(impts)[::-1]\n",
    "\n",
    "for i in idxs:\n",
    "    print(f\"{feature_names[i]}: {impts[i]}\")\n"
   ]
  },
  {
   "cell_type": "code",
   "execution_count": 13,
   "id": "c6fbb624",
   "metadata": {},
   "outputs": [
    {
     "data": {
      "image/png": "[encoded data removed]",
      "text/plain": [
       "<Figure size 1000x500 with 1 Axes>"
      ]
     },
     "metadata": {},
     "output_type": "display_data"
    }
   ],
   "source": [
    "impts = rf_mod_1.feature_importances_\n",
    "\n",
    "idxs = np.argsort(impts)[::-1]\n",
    "\n",
    "plt.figure(figsize=(10, 5))\n",
    "plt.title(\"Feature Importance\")\n",
    "plt.bar(range(len(impts)), impts[idxs], align=\"center\")\n",
    "plt.xticks(range(len(impts)), [feature_names[i] for i in idxs]) \n",
    "plt.xlabel(\"Feature\")\n",
    "plt.ylabel(\"Importance\")\n",
    "plt.show()\n"
   ]
  },
  {
   "cell_type": "markdown",
   "id": "161dfc22",
   "metadata": {},
   "source": [
    "#### Confusion Matrix:"
   ]
  },
  {
   "cell_type": "code",
   "execution_count": 14,
   "id": "25041e58",
   "metadata": {
    "scrolled": true
   },
   "outputs": [
    {
     "name": "stdout",
     "output_type": "stream",
     "text": [
      "Class 0: Sensitivity = 0.0, Specificity = 1.0\n",
      "Class 1: Sensitivity = 0.9983803381972718, Specificity = 0.0085525463262926\n",
      "Class 2: Sensitivity = 0.005430311008721408, Specificity = 0.9989120659142998\n",
      "Class 3: Sensitivity = 0.001713796058269066, Specificity = 0.9994041815621276\n",
      "Class 4: Sensitivity = 0.0030864197530864196, Specificity = 0.9998795035546452\n",
      "Class 5: Sensitivity = 0.0, Specificity = 0.9999599620974523\n",
      "Class 6: Sensitivity = 0.0, Specificity = 1.0\n",
      "Class 7: Sensitivity = 0.0, Specificity = 0.999986666844442\n",
      "Class 8: Sensitivity = 0.0, Specificity = 0.9999733365329494\n",
      "Class 9: Sensitivity = nan, Specificity = 0.9999866693328001\n",
      "Class 10: Sensitivity = 0.0, Specificity = 0.9999600074652731\n",
      "Class 11: Sensitivity = 0.0, Specificity = 1.0\n",
      "Class 12: Sensitivity = nan, Specificity = 0.9999866693328001\n"
     ]
    }
   ],
   "source": [
    "# Create confusion matrix\n",
    "conf_mat_1 = confusion_matrix(y_test_1, preds_mod_1)\n",
    "\n",
    "# Empty sens and spec lists\n",
    "sens_list = []\n",
    "spec_list = []\n",
    "\n",
    "# Find sensitivity and specificity for each class, where \"positive\" means equal to \n",
    "# the class and \"negative\" means not equal to the class\n",
    "for i in range(conf_mat_1.shape[0]):\n",
    "    TP = conf_mat_1[i, i]\n",
    "    FN = np.sum(conf_mat_1[i, :]) - TP\n",
    "    FP = np.sum(conf_mat_1[:, i]) - TP\n",
    "    TN = np.sum(conf_mat_1) - (TP + FN + FP)\n",
    "    \n",
    "    sens = TP / (TP + FN)\n",
    "    spec = TN / (TN + FP)\n",
    "    \n",
    "    sens_list.append(sens)\n",
    "    spec_list.append(spec)\n",
    "\n",
    "# Print out classes' sens and spec values\n",
    "for i, (sens, spec) in enumerate(zip(sens_list, spec_list)):\n",
    "    print(f\"Class {i}: Sensitivity = {sens}, Specificity = {spec}\")\n"
   ]
  },
  {
   "cell_type": "code",
   "execution_count": 15,
   "id": "09034aa2",
   "metadata": {},
   "outputs": [
    {
     "data": {
      "image/png": "[encoded data removed]",
      "text/plain": [
       "<Figure size 800x600 with 1 Axes>"
      ]
     },
     "metadata": {},
     "output_type": "display_data"
    }
   ],
   "source": [
    "plt.figure(figsize=(8, 6))\n",
    "sns.heatmap(conf_mat_1, annot=True, fmt=\"d\", cmap=\"Blues\", cbar=False)\n",
    "plt.title(\"Confusion Matrix\")\n",
    "plt.xlabel(\"Predicted Label\")\n",
    "plt.ylabel(\"True Label\")\n",
    "plt.show()\n"
   ]
  },
  {
   "cell_type": "markdown",
   "id": "7156c2fb",
   "metadata": {},
   "source": [
    "# Model 2 - Accidents from 1982 to 1990:"
   ]
  },
  {
   "cell_type": "code",
   "execution_count": 16,
   "id": "5e030a6e",
   "metadata": {},
   "outputs": [
    {
     "data": {
      "text/plain": [
       "YEAR             int64\n",
       "ST_CASE          int64\n",
       "PERSONS          int64\n",
       "HOUR             int64\n",
       "ROAD_NAME       object\n",
       "MILE_MARKER    float64\n",
       "SCH_BUS          int64\n",
       "FATALS           int64\n",
       "dtype: object"
      ]
     },
     "execution_count": 16,
     "metadata": {},
     "output_type": "execute_result"
    }
   ],
   "source": [
    "acc_sect_2.dtypes"
   ]
  },
  {
   "cell_type": "code",
   "execution_count": 17,
   "id": "eeb20674",
   "metadata": {
    "scrolled": true
   },
   "outputs": [],
   "source": [
    "X_2 = acc_sect_2.drop(columns=['FATALS', 'ROAD_NAME', 'ST_CASE'])  \n",
    "y_2 = acc_sect_2['FATALS']\n",
    "\n",
    "X_train_2, X_test_2, y_train_2, y_test_2 = train_test_split(X_2, y_2, test_size=0.25)\n",
    "\n",
    "\n"
   ]
  },
  {
   "cell_type": "code",
   "execution_count": 18,
   "id": "6816d973",
   "metadata": {},
   "outputs": [
    {
     "name": "stdout",
     "output_type": "stream",
     "text": [
      "Accuracy: 0.8854933929975743\n"
     ]
    }
   ],
   "source": [
    "rf_mod_2 = RandomForestClassifier(n_estimators=100, random_state=42)\n",
    "\n",
    "rf_mod_2.fit(X_train_2, y_train_2)\n",
    "\n",
    "preds_mod_2 = rf_mod_2.predict(X_test_2)\n",
    "\n",
    "acc_mod_2 = accuracy_score(y_test_2, preds_mod_2)\n",
    "print(\"Accuracy:\", acc_mod_2)\n"
   ]
  },
  {
   "cell_type": "markdown",
   "id": "16ba7962",
   "metadata": {},
   "source": [
    "#### Feature Importance Plot:"
   ]
  },
  {
   "cell_type": "code",
   "execution_count": 19,
   "id": "16973fa0",
   "metadata": {},
   "outputs": [
    {
     "name": "stdout",
     "output_type": "stream",
     "text": [
      "MILE_MARKER: 0.6068189290024284\n",
      "HOUR: 0.1563618093802338\n",
      "PERSONS: 0.15388222160008927\n",
      "YEAR: 0.0810136387911815\n",
      "SCH_BUS: 0.0019234012260670524\n"
     ]
    }
   ],
   "source": [
    "impts = rf_mod_2.feature_importances_\n",
    "\n",
    "feature_names = X_train_2.columns\n",
    "\n",
    "idxs = np.argsort(impts)[::-1]\n",
    "\n",
    "for i in idxs:\n",
    "    print(f\"{feature_names[i]}: {impts[i]}\")\n"
   ]
  },
  {
   "cell_type": "code",
   "execution_count": 20,
   "id": "7d30abc2",
   "metadata": {},
   "outputs": [
    {
     "data": {
      "image/png": "[encoded data removed]",
      "text/plain": [
       "<Figure size 1000x500 with 1 Axes>"
      ]
     },
     "metadata": {},
     "output_type": "display_data"
    }
   ],
   "source": [
    "impts = rf_mod_2.feature_importances_\n",
    "\n",
    "idxs = np.argsort(impts)[::-1]\n",
    "\n",
    "plt.figure(figsize=(10, 5))\n",
    "plt.title(\"Feature Importance\")\n",
    "plt.bar(range(len(impts)), impts[idxs], align=\"center\")\n",
    "plt.xticks(range(len(impts)), [feature_names[i] for i in idxs])  # Use feature names instead of idxs\n",
    "plt.xlabel(\"Feature\")\n",
    "plt.ylabel(\"Importance\")\n",
    "plt.show()\n"
   ]
  },
  {
   "cell_type": "markdown",
   "id": "f46641bb",
   "metadata": {},
   "source": [
    "#### Confusion Matrix:"
   ]
  },
  {
   "cell_type": "code",
   "execution_count": 21,
   "id": "6ff69d20",
   "metadata": {
    "scrolled": true
   },
   "outputs": [
    {
     "name": "stdout",
     "output_type": "stream",
     "text": [
      "Class 0: Sensitivity = 0.0, Specificity = 1.0\n",
      "Class 1: Sensitivity = 0.972781050624557, Specificity = 0.06426461901949203\n",
      "Class 2: Sensitivity = 0.048284999263948185, Specificity = 0.976164810156905\n",
      "Class 3: Sensitivity = 0.019008264462809916, Specificity = 0.9962839468750351\n",
      "Class 4: Sensitivity = 0.009174311926605505, Specificity = 0.9993441237938547\n",
      "Class 5: Sensitivity = 0.0, Specificity = 0.9996895615056267\n",
      "Class 6: Sensitivity = 0.0, Specificity = 0.9999446038622187\n",
      "Class 7: Sensitivity = 0.0, Specificity = 0.9999778447359092\n",
      "Class 8: Sensitivity = 0.0, Specificity = 0.9999778462083786\n",
      "Class 9: Sensitivity = 0.0, Specificity = 1.0\n",
      "Class 10: Sensitivity = 0.0, Specificity = 1.0\n",
      "Class 11: Sensitivity = 0.0, Specificity = 1.0\n",
      "Class 12: Sensitivity = 0.0, Specificity = 1.0\n"
     ]
    }
   ],
   "source": [
    "conf_mat_2 = confusion_matrix(y_test_2, preds_mod_2)\n",
    "\n",
    "sens_list = []\n",
    "spec_list = []\n",
    "\n",
    "for i in range(conf_mat_2.shape[0]):\n",
    "    TP = conf_mat_2[i, i]\n",
    "    FN = np.sum(conf_mat_2[i, :]) - TP\n",
    "    FP = np.sum(conf_mat_2[:, i]) - TP\n",
    "    TN = np.sum(conf_mat_2) - (TP + FN + FP)\n",
    "    \n",
    "    sens = TP / (TP + FN)\n",
    "    spec = TN / (TN + FP)\n",
    "    \n",
    "    sens_list.append(sens)\n",
    "    spec_list.append(spec)\n",
    "\n",
    "for i, (sens, spec) in enumerate(zip(sens_list, spec_list)):\n",
    "    print(f\"Class {i}: Sensitivity = {sens}, Specificity = {spec}\")\n"
   ]
  },
  {
   "cell_type": "code",
   "execution_count": 22,
   "id": "43d61f84",
   "metadata": {},
   "outputs": [
    {
     "data": {
      "image/png": "[encoded data removed]",
      "text/plain": [
       "<Figure size 800x600 with 1 Axes>"
      ]
     },
     "metadata": {},
     "output_type": "display_data"
    }
   ],
   "source": [
    "plt.figure(figsize=(8, 6))\n",
    "sns.heatmap(conf_mat_2, annot=True, fmt=\"d\", cmap=\"Blues\", cbar=False)\n",
    "plt.title(\"Confusion Matrix\")\n",
    "plt.xlabel(\"Predicted Label\")\n",
    "plt.ylabel(\"True Label\")\n",
    "plt.show()\n"
   ]
  },
  {
   "cell_type": "markdown",
   "id": "e12d752e",
   "metadata": {},
   "source": [
    "# Model 3 - Accidents from 1991 to 2000:"
   ]
  },
  {
   "cell_type": "code",
   "execution_count": 23,
   "id": "eabacce1",
   "metadata": {},
   "outputs": [
    {
     "data": {
      "text/plain": [
       "YEAR             int64\n",
       "ST_CASE          int64\n",
       "NUM_PEDS         int64\n",
       "PERSONS          int64\n",
       "HOUR             int64\n",
       "ROAD_NAME       object\n",
       "MILE_MARKER    float64\n",
       "SCH_BUS          int64\n",
       "FATALS           int64\n",
       "dtype: object"
      ]
     },
     "execution_count": 23,
     "metadata": {},
     "output_type": "execute_result"
    }
   ],
   "source": [
    "acc_sect_3.dtypes"
   ]
  },
  {
   "cell_type": "code",
   "execution_count": 24,
   "id": "34cd1f04",
   "metadata": {
    "scrolled": true
   },
   "outputs": [],
   "source": [
    "X_3 = acc_sect_3.drop(columns=['FATALS', 'ROAD_NAME', 'ST_CASE'])  \n",
    "y_3 = acc_sect_3['FATALS']\n",
    "\n",
    "X_train_3, X_test_3, y_train_3, y_test_3 = train_test_split(X_3, y_3, test_size=0.25)\n"
   ]
  },
  {
   "cell_type": "code",
   "execution_count": 25,
   "id": "6e545844",
   "metadata": {},
   "outputs": [
    {
     "name": "stdout",
     "output_type": "stream",
     "text": [
      "Accuracy: 0.8757953816200225\n"
     ]
    }
   ],
   "source": [
    "rf_mod_3 = RandomForestClassifier(n_estimators=100, random_state=42)\n",
    "\n",
    "rf_mod_3.fit(X_train_3, y_train_3)\n",
    "\n",
    "preds_mod_3 = rf_mod_3.predict(X_test_3)\n",
    "\n",
    "acc_mod_3 = accuracy_score(y_test_3, preds_mod_3)\n",
    "print(\"Accuracy:\", acc_mod_3)\n"
   ]
  },
  {
   "cell_type": "markdown",
   "id": "41c7de20",
   "metadata": {},
   "source": [
    "#### Feature Importance Plot:"
   ]
  },
  {
   "cell_type": "code",
   "execution_count": 26,
   "id": "84c9339d",
   "metadata": {},
   "outputs": [
    {
     "name": "stdout",
     "output_type": "stream",
     "text": [
      "MILE_MARKER: 0.601372265994255\n",
      "HOUR: 0.150728985255956\n",
      "PERSONS: 0.13660502623930418\n",
      "YEAR: 0.08382246315865731\n",
      "NUM_PEDS: 0.02630811753611465\n",
      "SCH_BUS: 0.0011631418157129153\n"
     ]
    }
   ],
   "source": [
    "impts = rf_mod_3.feature_importances_\n",
    "\n",
    "feature_names = X_train_3.columns\n",
    "\n",
    "idxs = np.argsort(impts)[::-1]\n",
    "\n",
    "for i in idxs:\n",
    "    print(f\"{feature_names[i]}: {impts[i]}\")\n"
   ]
  },
  {
   "cell_type": "code",
   "execution_count": 27,
   "id": "626ad1b9",
   "metadata": {},
   "outputs": [
    {
     "data": {
      "image/png": "[encoded data removed]",
      "text/plain": [
       "<Figure size 1000x500 with 1 Axes>"
      ]
     },
     "metadata": {},
     "output_type": "display_data"
    }
   ],
   "source": [
    "impts = rf_mod_3.feature_importances_\n",
    "\n",
    "idxs = np.argsort(impts)[::-1]\n",
    "\n",
    "plt.figure(figsize=(10, 5))\n",
    "plt.title(\"Feature Importance\")\n",
    "plt.bar(range(len(impts)), impts[idxs], align=\"center\")\n",
    "plt.xticks(range(len(impts)), [feature_names[i] for i in idxs]) \n",
    "plt.xlabel(\"Feature\")\n",
    "plt.ylabel(\"Importance\")\n",
    "plt.show()\n"
   ]
  },
  {
   "cell_type": "markdown",
   "id": "6d2a30b4",
   "metadata": {},
   "source": [
    "#### Confusion Matrix:"
   ]
  },
  {
   "cell_type": "code",
   "execution_count": 28,
   "id": "8dda3ca6",
   "metadata": {
    "scrolled": true
   },
   "outputs": [
    {
     "name": "stdout",
     "output_type": "stream",
     "text": [
      "Class 0: Sensitivity = 0.9623619698318377, Specificity = 0.08871975462910371\n",
      "Class 1: Sensitivity = 0.06795160382667417, Specificity = 0.9681948390291056\n",
      "Class 2: Sensitivity = 0.021172638436482084, Specificity = 0.9939366545767234\n",
      "Class 3: Sensitivity = 0.009404388714733543, Specificity = 0.9988975965421643\n",
      "Class 4: Sensitivity = 0.010101010101010102, Specificity = 0.9995971166619482\n",
      "Class 5: Sensitivity = 0.0, Specificity = 0.9999020717270195\n",
      "Class 6: Sensitivity = 0.0, Specificity = 0.9999782436063398\n",
      "Class 7: Sensitivity = 0.0, Specificity = 1.0\n",
      "Class 8: Sensitivity = 0.0, Specificity = 1.0\n"
     ]
    }
   ],
   "source": [
    "conf_mat_3 = confusion_matrix(y_test_3, preds_mod_3)\n",
    "\n",
    "sens_list = []\n",
    "spec_list = []\n",
    "\n",
    "for i in range(conf_mat_3.shape[0]):\n",
    "    TP = conf_mat_3[i, i]\n",
    "    FN = np.sum(conf_mat_3[i, :]) - TP\n",
    "    FP = np.sum(conf_mat_3[:, i]) - TP\n",
    "    TN = np.sum(conf_mat_3) - (TP + FN + FP)\n",
    "    \n",
    "    sens = TP / (TP + FN)\n",
    "    spec = TN / (TN + FP)\n",
    "    \n",
    "    sens_list.append(sens)\n",
    "    spec_list.append(spec)\n",
    "\n",
    "for i, (sens, spec) in enumerate(zip(sens_list, spec_list)):\n",
    "    print(f\"Class {i}: Sensitivity = {sens}, Specificity = {spec}\")\n"
   ]
  },
  {
   "cell_type": "code",
   "execution_count": 29,
   "id": "1761d149",
   "metadata": {},
   "outputs": [
    {
     "data": {
      "image/png": "[encoded data removed]",
      "text/plain": [
       "<Figure size 800x600 with 1 Axes>"
      ]
     },
     "metadata": {},
     "output_type": "display_data"
    }
   ],
   "source": [
    "plt.figure(figsize=(8, 6))\n",
    "sns.heatmap(conf_mat_3, annot=True, fmt=\"d\", cmap=\"Blues\", cbar=False)\n",
    "plt.title(\"Confusion Matrix\")\n",
    "plt.xlabel(\"Predicted Label\")\n",
    "plt.ylabel(\"True Label\")\n",
    "plt.show()\n"
   ]
  },
  {
   "cell_type": "markdown",
   "id": "e28e6c99",
   "metadata": {},
   "source": [
    "# Model 4 - Accidents from 2001 to 2007:"
   ]
  },
  {
   "cell_type": "code",
   "execution_count": 30,
   "id": "53b3a16e",
   "metadata": {},
   "outputs": [
    {
     "data": {
      "text/plain": [
       "YEAR             int64\n",
       "ST_CASE          int64\n",
       "NUM_PEDS         int64\n",
       "PERSONS          int64\n",
       "HOUR             int64\n",
       "ROAD_NAME       object\n",
       "MILE_MARKER    float64\n",
       "SCH_BUS          int64\n",
       "FATALS           int64\n",
       "dtype: object"
      ]
     },
     "execution_count": 30,
     "metadata": {},
     "output_type": "execute_result"
    }
   ],
   "source": [
    "acc_sect_4.dtypes"
   ]
  },
  {
   "cell_type": "code",
   "execution_count": 31,
   "id": "52b5fa90",
   "metadata": {
    "scrolled": true
   },
   "outputs": [],
   "source": [
    "X_4 = acc_sect_4.drop(columns=['FATALS', 'ROAD_NAME', 'ST_CASE'])  \n",
    "y_4 = acc_sect_4['FATALS']\n",
    "\n",
    "X_train_4, X_test_4, y_train_4, y_test_4 = train_test_split(X_4, y_4, test_size=0.25)\n"
   ]
  },
  {
   "cell_type": "code",
   "execution_count": 32,
   "id": "ea3ed283",
   "metadata": {},
   "outputs": [
    {
     "name": "stdout",
     "output_type": "stream",
     "text": [
      "Accuracy: 0.8885976799249475\n"
     ]
    }
   ],
   "source": [
    "rf_mod_4 = RandomForestClassifier(n_estimators=100, random_state=42)\n",
    "\n",
    "rf_mod_4.fit(X_train_4, y_train_4)\n",
    "\n",
    "preds_mod_4 = rf_mod_4.predict(X_test_4)\n",
    "\n",
    "acc_mod_4 = accuracy_score(y_test_4, preds_mod_4)\n",
    "print(\"Accuracy:\", acc_mod_4)\n"
   ]
  },
  {
   "cell_type": "markdown",
   "id": "2eeabd14",
   "metadata": {},
   "source": [
    "#### Feature Importance Plot:"
   ]
  },
  {
   "cell_type": "code",
   "execution_count": 33,
   "id": "f8e620e4",
   "metadata": {},
   "outputs": [
    {
     "name": "stdout",
     "output_type": "stream",
     "text": [
      "MILE_MARKER: 0.6084557995332392\n",
      "HOUR: 0.15874463068782127\n",
      "PERSONS: 0.14794004587427134\n",
      "YEAR: 0.06017565874149949\n",
      "NUM_PEDS: 0.023596206438058133\n",
      "SCH_BUS: 0.0010876587251105352\n"
     ]
    }
   ],
   "source": [
    "impts = rf_mod_4.feature_importances_\n",
    "\n",
    "feature_names = X_train_4.columns\n",
    "\n",
    "idxs = np.argsort(impts)[::-1]\n",
    "\n",
    "for i in idxs:\n",
    "    print(f\"{feature_names[i]}: {impts[i]}\")\n"
   ]
  },
  {
   "cell_type": "code",
   "execution_count": 34,
   "id": "3afdc63a",
   "metadata": {},
   "outputs": [
    {
     "data": {
      "image/png": "[encoded data removed]",
      "text/plain": [
       "<Figure size 1000x500 with 1 Axes>"
      ]
     },
     "metadata": {},
     "output_type": "display_data"
    }
   ],
   "source": [
    "impts = rf_mod_4.feature_importances_\n",
    "\n",
    "idxs = np.argsort(impts)[::-1]\n",
    "\n",
    "plt.figure(figsize=(10, 5))\n",
    "plt.title(\"Feature Importance\")\n",
    "plt.bar(range(len(impts)), impts[idxs], align=\"center\")\n",
    "plt.xticks(range(len(impts)), [feature_names[i] for i in idxs])  \n",
    "plt.xlabel(\"Feature\")\n",
    "plt.ylabel(\"Importance\")\n",
    "plt.show()\n"
   ]
  },
  {
   "cell_type": "markdown",
   "id": "7e7843ee",
   "metadata": {},
   "source": [
    "#### Confusion Matrix:"
   ]
  },
  {
   "cell_type": "code",
   "execution_count": 35,
   "id": "b7cb8ff1",
   "metadata": {
    "scrolled": true
   },
   "outputs": [
    {
     "name": "stdout",
     "output_type": "stream",
     "text": [
      "Class 0: Sensitivity = 0.9687448996246124, Specificity = 0.08193098759136495\n",
      "Class 1: Sensitivity = 0.0616876418403136, Specificity = 0.9725227104933715\n",
      "Class 2: Sensitivity = 0.022427440633245383, Specificity = 0.9958279990963175\n",
      "Class 3: Sensitivity = 0.004975124378109453, Specificity = 0.9990291552156769\n",
      "Class 4: Sensitivity = 0.0, Specificity = 0.999687052932761\n",
      "Class 5: Sensitivity = 0.0, Specificity = 0.99997021016727\n",
      "Class 6: Sensitivity = 0.0, Specificity = 0.9999553205748752\n",
      "Class 7: Sensitivity = 0.0, Specificity = 1.0\n",
      "Class 8: Sensitivity = 0.0, Specificity = 1.0\n",
      "Class 9: Sensitivity = 0.0, Specificity = 1.0\n"
     ]
    }
   ],
   "source": [
    "conf_mat_4 = confusion_matrix(y_test_4, preds_mod_4)\n",
    "\n",
    "sens_list = []\n",
    "spec_list = []\n",
    "\n",
    "for i in range(conf_mat_4.shape[0]):\n",
    "    TP = conf_mat_4[i, i]\n",
    "    FN = np.sum(conf_mat_4[i, :]) - TP\n",
    "    FP = np.sum(conf_mat_4[:, i]) - TP\n",
    "    TN = np.sum(conf_mat_4) - (TP + FN + FP)\n",
    "    \n",
    "    sens = TP / (TP + FN)\n",
    "    spec = TN / (TN + FP)\n",
    "    \n",
    "    sens_list.append(sens)\n",
    "    spec_list.append(spec)\n",
    "\n",
    "for i, (sens, spec) in enumerate(zip(sens_list, spec_list)):\n",
    "    print(f\"Class {i}: Sensitivity = {sens}, Specificity = {spec}\")\n"
   ]
  },
  {
   "cell_type": "code",
   "execution_count": 36,
   "id": "37b6d15f",
   "metadata": {},
   "outputs": [
    {
     "data": {
      "image/png": "[encoded data removed]",
      "text/plain": [
       "<Figure size 800x600 with 1 Axes>"
      ]
     },
     "metadata": {},
     "output_type": "display_data"
    }
   ],
   "source": [
    "plt.figure(figsize=(8, 6))\n",
    "sns.heatmap(conf_mat_4, annot=True, fmt=\"d\", cmap=\"Blues\", cbar=False)\n",
    "plt.title(\"Confusion Matrix\")\n",
    "plt.xlabel(\"Predicted Label\")\n",
    "plt.ylabel(\"True Label\")\n",
    "plt.show()\n"
   ]
  },
  {
   "cell_type": "markdown",
   "id": "26e30880",
   "metadata": {},
   "source": [
    "# Model 5 - Accidents from 2008 to 2014:"
   ]
  },
  {
   "cell_type": "code",
   "execution_count": 37,
   "id": "9ac17587",
   "metadata": {},
   "outputs": [
    {
     "data": {
      "text/plain": [
       "YEAR             int64\n",
       "ST_CASE          int64\n",
       "NUM_PEDS         int64\n",
       "NUM_VEHC         int64\n",
       "PERSONS          int64\n",
       "HOUR             int64\n",
       "ROAD_NAME       object\n",
       "MILE_MARKER    float64\n",
       "LATITUDE       float64\n",
       "LONGITUD       float64\n",
       "SCH_BUS          int64\n",
       "FATALS           int64\n",
       "dtype: object"
      ]
     },
     "execution_count": 37,
     "metadata": {},
     "output_type": "execute_result"
    }
   ],
   "source": [
    "acc_sect_5.dtypes"
   ]
  },
  {
   "cell_type": "code",
   "execution_count": 38,
   "id": "6f8884f2",
   "metadata": {
    "scrolled": true
   },
   "outputs": [],
   "source": [
    "X_5 = acc_sect_5.drop(columns=['FATALS', 'ROAD_NAME', 'ST_CASE'])  \n",
    "y_5 = acc_sect_5['FATALS']\n",
    "\n",
    "X_train_5, X_test_5, y_train_5, y_test_5 = train_test_split(X_5, y_5, test_size=0.25)\n"
   ]
  },
  {
   "cell_type": "code",
   "execution_count": 39,
   "id": "d023230c",
   "metadata": {},
   "outputs": [
    {
     "name": "stdout",
     "output_type": "stream",
     "text": [
      "Accuracy: 0.9256781728139553\n"
     ]
    }
   ],
   "source": [
    "rf_mod_5 = RandomForestClassifier(n_estimators=100, random_state=42)\n",
    "\n",
    "rf_mod_5.fit(X_train_5, y_train_5)\n",
    "\n",
    "preds_mod_5 = rf_mod_5.predict(X_test_5)\n",
    "\n",
    "acc_mod_5 = accuracy_score(y_test_5, preds_mod_5)\n",
    "print(\"Accuracy:\", acc_mod_5)\n"
   ]
  },
  {
   "cell_type": "markdown",
   "id": "005b4fa5",
   "metadata": {},
   "source": [
    "#### Feature Importance Plot:"
   ]
  },
  {
   "cell_type": "code",
   "execution_count": 40,
   "id": "38265828",
   "metadata": {},
   "outputs": [
    {
     "name": "stdout",
     "output_type": "stream",
     "text": [
      "LATITUDE: 0.2566521277127557\n",
      "LONGITUD: 0.25570198921464987\n",
      "MILE_MARKER: 0.15110527760620332\n",
      "HOUR: 0.12202306186972063\n",
      "PERSONS: 0.09451856360596399\n",
      "YEAR: 0.07327696167578113\n",
      "NUM_VEHC: 0.026317698789024017\n",
      "NUM_PEDS: 0.0189002005246983\n",
      "SCH_BUS: 0.0015041190012029017\n"
     ]
    }
   ],
   "source": [
    "impts = rf_mod_5.feature_importances_\n",
    "\n",
    "feature_names = X_train_5.columns\n",
    "\n",
    "idxs = np.argsort(impts)[::-1]\n",
    "\n",
    "for i in idxs:\n",
    "    print(f\"{feature_names[i]}: {impts[i]}\")\n"
   ]
  },
  {
   "cell_type": "code",
   "execution_count": 41,
   "id": "120c4f27",
   "metadata": {},
   "outputs": [
    {
     "data": {
      "image/png": "[encoded data removed]",
      "text/plain": [
       "<Figure size 1000x500 with 1 Axes>"
      ]
     },
     "metadata": {},
     "output_type": "display_data"
    }
   ],
   "source": [
    "impts = rf_mod_5.feature_importances_\n",
    "\n",
    "idxs = np.argsort(impts)[::-1]\n",
    "\n",
    "plt.figure(figsize=(10, 5))\n",
    "plt.title(\"Feature Importance\")\n",
    "plt.bar(range(len(impts)), impts[idxs], align=\"center\")\n",
    "plt.xticks(range(len(impts)), [feature_names[i] for i in idxs])  \n",
    "plt.xlabel(\"Feature\")\n",
    "plt.ylabel(\"Importance\")\n",
    "plt.show()\n"
   ]
  },
  {
   "cell_type": "markdown",
   "id": "1466a747",
   "metadata": {},
   "source": [
    "#### Confusion Matrix:"
   ]
  },
  {
   "cell_type": "code",
   "execution_count": 42,
   "id": "10997506",
   "metadata": {
    "scrolled": true
   },
   "outputs": [
    {
     "name": "stdout",
     "output_type": "stream",
     "text": [
      "Class 0: Sensitivity = 0.9979867644713761, Specificity = 0.008611955420466059\n",
      "Class 1: Sensitivity = 0.008117859290438966, Specificity = 0.9980901752313448\n",
      "Class 2: Sensitivity = 0.0, Specificity = 0.99983228980322\n",
      "Class 3: Sensitivity = 0.0, Specificity = 0.9999629622770793\n",
      "Class 4: Sensitivity = 0.0, Specificity = 1.0\n",
      "Class 5: Sensitivity = 0.0, Specificity = 1.0\n",
      "Class 6: Sensitivity = 0.0, Specificity = 1.0\n",
      "Class 7: Sensitivity = 0.0, Specificity = 1.0\n",
      "Class 8: Sensitivity = 0.0, Specificity = 1.0\n",
      "Class 9: Sensitivity = 0.0, Specificity = 1.0\n"
     ]
    }
   ],
   "source": [
    "conf_mat_5 = confusion_matrix(y_test_5, preds_mod_5)\n",
    "\n",
    "sens_list = []\n",
    "spec_list = []\n",
    "\n",
    "for i in range(conf_mat_5.shape[0]):\n",
    "    TP = conf_mat_5[i, i]\n",
    "    FN = np.sum(conf_mat_5[i, :]) - TP\n",
    "    FP = np.sum(conf_mat_5[:, i]) - TP\n",
    "    TN = np.sum(conf_mat_5) - (TP + FN + FP)\n",
    "    \n",
    "    sens = TP / (TP + FN)\n",
    "    spec = TN / (TN + FP)\n",
    "    \n",
    "    sens_list.append(sens)\n",
    "    spec_list.append(spec)\n",
    "\n",
    "for i, (sens, spec) in enumerate(zip(sens_list, spec_list)):\n",
    "    print(f\"Class {i}: Sensitivity = {sens}, Specificity = {spec}\")\n"
   ]
  },
  {
   "cell_type": "code",
   "execution_count": 43,
   "id": "e1a56b16",
   "metadata": {},
   "outputs": [
    {
     "data": {
      "image/png": "[encoded data removed]",
      "text/plain": [
       "<Figure size 800x600 with 1 Axes>"
      ]
     },
     "metadata": {},
     "output_type": "display_data"
    }
   ],
   "source": [
    "plt.figure(figsize=(8, 6))\n",
    "sns.heatmap(conf_mat_5, annot=True, fmt=\"d\", cmap=\"Blues\", cbar=False)\n",
    "plt.title(\"Confusion Matrix\")\n",
    "plt.xlabel(\"Predicted Label\")\n",
    "plt.ylabel(\"True Label\")\n",
    "plt.show()\n"
   ]
  },
  {
   "cell_type": "markdown",
   "id": "0786f30f",
   "metadata": {},
   "source": [
    "# Model 6 - Accidents from 2015 to 2021:"
   ]
  },
  {
   "cell_type": "code",
   "execution_count": 44,
   "id": "124bcf91",
   "metadata": {
    "scrolled": true
   },
   "outputs": [
    {
     "data": {
      "text/plain": [
       "YEAR                int64\n",
       "STATENAME          object\n",
       "ST_CASE             int64\n",
       "NUM_PEDS            int64\n",
       "NUM_VEHC            int64\n",
       "PERSONS             int64\n",
       "MONTHNAME          object\n",
       "DAYNAME             int64\n",
       "DAY_WEEKNAME       object\n",
       "HOUR                int64\n",
       "ROAD_NAME          object\n",
       "ROUTENAME          object\n",
       "RUR_URBNAME        object\n",
       "FUNC_SYSNAME       object\n",
       "RD_OWNERNAME       object\n",
       "MILE_MARKER         int64\n",
       "LATITUDE          float64\n",
       "LONGITUD          float64\n",
       "HARM_EVNAME        object\n",
       "COLLISION_TYPE     object\n",
       "TYP_INTNAME        object\n",
       "REL_ROADNAME       object\n",
       "WRK_ZONENAME       object\n",
       "LGT_CONDNAME       object\n",
       "WEATHERNAME        object\n",
       "SCH_BUS             int64\n",
       "FATALS              int64\n",
       "COUNTYNAME         object\n",
       "CITYNAME           object\n",
       "dtype: object"
      ]
     },
     "execution_count": 44,
     "metadata": {},
     "output_type": "execute_result"
    }
   ],
   "source": [
    "acc_sect_6.dtypes"
   ]
  },
  {
   "cell_type": "code",
   "execution_count": 45,
   "id": "3f9fea5a",
   "metadata": {
    "scrolled": true
   },
   "outputs": [
    {
     "name": "stdout",
     "output_type": "stream",
     "text": [
      "Number of unique values in column 'YEAR': 7\n",
      "Number of unique values in column 'STATENAME': 51\n",
      "Number of unique values in column 'ST_CASE': 40822\n",
      "Number of unique values in column 'NUM_PEDS': 14\n",
      "Number of unique values in column 'NUM_VEHC': 29\n",
      "Number of unique values in column 'PERSONS': 59\n",
      "Number of unique values in column 'MONTHNAME': 12\n",
      "Number of unique values in column 'DAYNAME': 31\n",
      "Number of unique values in column 'DAY_WEEKNAME': 7\n",
      "Number of unique values in column 'HOUR': 25\n",
      "Number of unique values in column 'ROAD_NAME': 80591\n",
      "Number of unique values in column 'ROUTENAME': 9\n",
      "Number of unique values in column 'RUR_URBNAME': 5\n",
      "Number of unique values in column 'FUNC_SYSNAME': 10\n",
      "Number of unique values in column 'RD_OWNERNAME': 29\n",
      "Number of unique values in column 'MILE_MARKER': 4121\n",
      "Number of unique values in column 'LATITUDE': 236310\n",
      "Number of unique values in column 'LONGITUD': 239716\n",
      "Number of unique values in column 'HARM_EVNAME': 60\n",
      "Number of unique values in column 'COLLISION_TYPE': 13\n",
      "Number of unique values in column 'TYP_INTNAME': 12\n",
      "Number of unique values in column 'REL_ROADNAME': 14\n",
      "Number of unique values in column 'WRK_ZONENAME': 5\n",
      "Number of unique values in column 'LGT_CONDNAME': 10\n",
      "Number of unique values in column 'WEATHERNAME': 14\n",
      "Number of unique values in column 'SCH_BUS': 2\n",
      "Number of unique values in column 'FATALS': 12\n",
      "Number of unique values in column 'COUNTYNAME': 2993\n",
      "Number of unique values in column 'CITYNAME': 8684\n"
     ]
    }
   ],
   "source": [
    "for column in acc_sect_6.columns:\n",
    "    unique_count = acc_sect_6[column].nunique()\n",
    "    print(f\"Number of unique values in column '{column}': {unique_count}\")\n"
   ]
  },
  {
   "cell_type": "markdown",
   "id": "ab5daace",
   "metadata": {},
   "source": [
    "Will make these variables with fewer levels into dummy variables:\n",
    "\n",
    "MONTHNAME\n",
    "DAY_WEEKNAME\n",
    "ROUTENAME\n",
    "RUR_URBNAME\n",
    "FUNC_SYSNAME\n",
    "COLLISION_TYPE\n",
    "TYP_INTNAME\n",
    "REL_ROADNAME\n",
    "WRK_ZONENAME\n",
    "LGT_CONDNAME\n",
    "WEATHERNAME\n",
    "\n",
    "Will exclude these variables because of too many levels:\n",
    "\n",
    "STATENAME\n",
    "ROAD_NAME\n",
    "RD_OWNERNAME\n",
    "HARM_EVNAME\n",
    "COUNTYNAME\n",
    "CITYNAME"
   ]
  },
  {
   "cell_type": "code",
   "execution_count": 46,
   "id": "23d72dbd",
   "metadata": {},
   "outputs": [
    {
     "data": {
      "text/html": [
       "<div>\n",
       "<style scoped>\n",
       "    .dataframe tbody tr th:only-of-type {\n",
       "        vertical-align: middle;\n",
       "    }\n",
       "\n",
       "    .dataframe tbody tr th {\n",
       "        vertical-align: top;\n",
       "    }\n",
       "\n",
       "    .dataframe thead th {\n",
       "        text-align: right;\n",
       "    }\n",
       "</style>\n",
       "<table border=\"1\" class=\"dataframe\">\n",
       "  <thead>\n",
       "    <tr style=\"text-align: right;\">\n",
       "      <th></th>\n",
       "      <th>YEAR</th>\n",
       "      <th>NUM_PEDS</th>\n",
       "      <th>NUM_VEHC</th>\n",
       "      <th>PERSONS</th>\n",
       "      <th>DAYNAME</th>\n",
       "      <th>HOUR</th>\n",
       "      <th>MILE_MARKER</th>\n",
       "      <th>LATITUDE</th>\n",
       "      <th>LONGITUD</th>\n",
       "      <th>SCH_BUS</th>\n",
       "      <th>...</th>\n",
       "      <th>WEATHERNAME_Fog, Smog, Smoke</th>\n",
       "      <th>WEATHERNAME_Freezing Rain or Drizzle</th>\n",
       "      <th>WEATHERNAME_Not Reported</th>\n",
       "      <th>WEATHERNAME_Other</th>\n",
       "      <th>WEATHERNAME_Rain</th>\n",
       "      <th>WEATHERNAME_Reported as Unknown</th>\n",
       "      <th>WEATHERNAME_Severe Crosswinds</th>\n",
       "      <th>WEATHERNAME_Sleet or Hail</th>\n",
       "      <th>WEATHERNAME_Snow</th>\n",
       "      <th>WEATHERNAME_Unknown</th>\n",
       "    </tr>\n",
       "  </thead>\n",
       "  <tbody>\n",
       "    <tr>\n",
       "      <th>0</th>\n",
       "      <td>2015</td>\n",
       "      <td>0</td>\n",
       "      <td>1</td>\n",
       "      <td>1</td>\n",
       "      <td>1</td>\n",
       "      <td>2</td>\n",
       "      <td>1754</td>\n",
       "      <td>33.878653</td>\n",
       "      <td>-87.325328</td>\n",
       "      <td>0</td>\n",
       "      <td>...</td>\n",
       "      <td>0</td>\n",
       "      <td>0</td>\n",
       "      <td>0</td>\n",
       "      <td>0</td>\n",
       "      <td>0</td>\n",
       "      <td>0</td>\n",
       "      <td>0</td>\n",
       "      <td>0</td>\n",
       "      <td>0</td>\n",
       "      <td>0</td>\n",
       "    </tr>\n",
       "    <tr>\n",
       "      <th>1</th>\n",
       "      <td>2015</td>\n",
       "      <td>0</td>\n",
       "      <td>1</td>\n",
       "      <td>1</td>\n",
       "      <td>1</td>\n",
       "      <td>22</td>\n",
       "      <td>3604</td>\n",
       "      <td>34.910442</td>\n",
       "      <td>-86.908708</td>\n",
       "      <td>0</td>\n",
       "      <td>...</td>\n",
       "      <td>0</td>\n",
       "      <td>0</td>\n",
       "      <td>0</td>\n",
       "      <td>0</td>\n",
       "      <td>0</td>\n",
       "      <td>0</td>\n",
       "      <td>0</td>\n",
       "      <td>0</td>\n",
       "      <td>0</td>\n",
       "      <td>0</td>\n",
       "    </tr>\n",
       "    <tr>\n",
       "      <th>2</th>\n",
       "      <td>2015</td>\n",
       "      <td>0</td>\n",
       "      <td>1</td>\n",
       "      <td>2</td>\n",
       "      <td>1</td>\n",
       "      <td>1</td>\n",
       "      <td>1958</td>\n",
       "      <td>32.142006</td>\n",
       "      <td>-85.758456</td>\n",
       "      <td>0</td>\n",
       "      <td>...</td>\n",
       "      <td>0</td>\n",
       "      <td>0</td>\n",
       "      <td>0</td>\n",
       "      <td>0</td>\n",
       "      <td>0</td>\n",
       "      <td>0</td>\n",
       "      <td>0</td>\n",
       "      <td>0</td>\n",
       "      <td>0</td>\n",
       "      <td>0</td>\n",
       "    </tr>\n",
       "    <tr>\n",
       "      <th>3</th>\n",
       "      <td>2015</td>\n",
       "      <td>0</td>\n",
       "      <td>1</td>\n",
       "      <td>1</td>\n",
       "      <td>4</td>\n",
       "      <td>0</td>\n",
       "      <td>566</td>\n",
       "      <td>31.439814</td>\n",
       "      <td>-85.510300</td>\n",
       "      <td>0</td>\n",
       "      <td>...</td>\n",
       "      <td>0</td>\n",
       "      <td>0</td>\n",
       "      <td>0</td>\n",
       "      <td>0</td>\n",
       "      <td>0</td>\n",
       "      <td>0</td>\n",
       "      <td>0</td>\n",
       "      <td>0</td>\n",
       "      <td>0</td>\n",
       "      <td>0</td>\n",
       "    </tr>\n",
       "    <tr>\n",
       "      <th>4</th>\n",
       "      <td>2015</td>\n",
       "      <td>0</td>\n",
       "      <td>2</td>\n",
       "      <td>2</td>\n",
       "      <td>7</td>\n",
       "      <td>7</td>\n",
       "      <td>308</td>\n",
       "      <td>31.319331</td>\n",
       "      <td>-85.515100</td>\n",
       "      <td>0</td>\n",
       "      <td>...</td>\n",
       "      <td>0</td>\n",
       "      <td>0</td>\n",
       "      <td>0</td>\n",
       "      <td>0</td>\n",
       "      <td>0</td>\n",
       "      <td>0</td>\n",
       "      <td>0</td>\n",
       "      <td>0</td>\n",
       "      <td>0</td>\n",
       "      <td>0</td>\n",
       "    </tr>\n",
       "  </tbody>\n",
       "</table>\n",
       "<p>5 rows × 122 columns</p>\n",
       "</div>"
      ],
      "text/plain": [
       "   YEAR  NUM_PEDS  NUM_VEHC  PERSONS  DAYNAME  HOUR  MILE_MARKER   LATITUDE  \\\n",
       "0  2015         0         1        1        1     2         1754  33.878653   \n",
       "1  2015         0         1        1        1    22         3604  34.910442   \n",
       "2  2015         0         1        2        1     1         1958  32.142006   \n",
       "3  2015         0         1        1        4     0          566  31.439814   \n",
       "4  2015         0         2        2        7     7          308  31.319331   \n",
       "\n",
       "    LONGITUD  SCH_BUS  ...  WEATHERNAME_Fog, Smog, Smoke  \\\n",
       "0 -87.325328        0  ...                             0   \n",
       "1 -86.908708        0  ...                             0   \n",
       "2 -85.758456        0  ...                             0   \n",
       "3 -85.510300        0  ...                             0   \n",
       "4 -85.515100        0  ...                             0   \n",
       "\n",
       "   WEATHERNAME_Freezing Rain or Drizzle  WEATHERNAME_Not Reported  \\\n",
       "0                                     0                         0   \n",
       "1                                     0                         0   \n",
       "2                                     0                         0   \n",
       "3                                     0                         0   \n",
       "4                                     0                         0   \n",
       "\n",
       "   WEATHERNAME_Other  WEATHERNAME_Rain  WEATHERNAME_Reported as Unknown  \\\n",
       "0                  0                 0                                0   \n",
       "1                  0                 0                                0   \n",
       "2                  0                 0                                0   \n",
       "3                  0                 0                                0   \n",
       "4                  0                 0                                0   \n",
       "\n",
       "   WEATHERNAME_Severe Crosswinds  WEATHERNAME_Sleet or Hail  WEATHERNAME_Snow  \\\n",
       "0                              0                          0                 0   \n",
       "1                              0                          0                 0   \n",
       "2                              0                          0                 0   \n",
       "3                              0                          0                 0   \n",
       "4                              0                          0                 0   \n",
       "\n",
       "   WEATHERNAME_Unknown  \n",
       "0                    0  \n",
       "1                    0  \n",
       "2                    0  \n",
       "3                    0  \n",
       "4                    0  \n",
       "\n",
       "[5 rows x 122 columns]"
      ]
     },
     "execution_count": 46,
     "metadata": {},
     "output_type": "execute_result"
    }
   ],
   "source": [
    "columns_dummy = ['MONTHNAME', 'DAY_WEEKNAME', 'ROUTENAME', 'RUR_URBNAME', \n",
    "                    'FUNC_SYSNAME', 'COLLISION_TYPE', 'TYP_INTNAME', 'REL_ROADNAME', \n",
    "                    'WRK_ZONENAME', 'LGT_CONDNAME', 'WEATHERNAME']\n",
    "\n",
    "dummy_df_6 = pd.get_dummies(acc_sect_6, columns=columns_dummy)\n",
    "\n",
    "dummy_df_6 = dummy_df_6.drop(columns=['ST_CASE', 'STATENAME', 'ROAD_NAME', 'RD_OWNERNAME', 'HARM_EVNAME',\n",
    "                              'COUNTYNAME', 'CITYNAME'])  \n",
    "\n",
    "dummy_df_6.head()\n"
   ]
  },
  {
   "cell_type": "code",
   "execution_count": 47,
   "id": "0f0c5771",
   "metadata": {},
   "outputs": [
    {
     "data": {
      "text/plain": [
       "(244695, 122)"
      ]
     },
     "execution_count": 47,
     "metadata": {},
     "output_type": "execute_result"
    }
   ],
   "source": [
    "dummy_df_6.shape"
   ]
  },
  {
   "cell_type": "code",
   "execution_count": 48,
   "id": "ef153e23",
   "metadata": {},
   "outputs": [
    {
     "data": {
      "text/plain": [
       "Series([], dtype: object)"
      ]
     },
     "execution_count": 48,
     "metadata": {},
     "output_type": "execute_result"
    }
   ],
   "source": [
    "object_columns = dummy_df_6.select_dtypes(include=['object']).columns\n",
    "dummy_df_6[object_columns].dtypes\n"
   ]
  },
  {
   "cell_type": "code",
   "execution_count": 49,
   "id": "82648f05",
   "metadata": {
    "scrolled": true
   },
   "outputs": [],
   "source": [
    "X_6 = dummy_df_6.drop(columns=['FATALS'])  \n",
    "\n",
    "y_6 = acc_sect_6['FATALS']\n",
    "\n",
    "X_train_6, X_test_6, y_train_6, y_test_6 = train_test_split(X_6, y_6, test_size=0.25)\n"
   ]
  },
  {
   "cell_type": "code",
   "execution_count": 50,
   "id": "6b6e1747",
   "metadata": {},
   "outputs": [
    {
     "name": "stdout",
     "output_type": "stream",
     "text": [
      "Accuracy: 0.9285971164220094\n"
     ]
    }
   ],
   "source": [
    "rf_mod_6 = RandomForestClassifier(n_estimators=100, random_state=42)\n",
    "\n",
    "rf_mod_6.fit(X_train_6, y_train_6)\n",
    "\n",
    "preds_mod_6 = rf_mod_6.predict(X_test_6)\n",
    "\n",
    "acc_mod_6 = accuracy_score(y_test_6, preds_mod_6)\n",
    "print(\"Accuracy:\", acc_mod_6)\n"
   ]
  },
  {
   "cell_type": "markdown",
   "id": "4d32507e",
   "metadata": {},
   "source": [
    "#### Feature Importance Plot:"
   ]
  },
  {
   "cell_type": "code",
   "execution_count": 51,
   "id": "197960d2",
   "metadata": {},
   "outputs": [
    {
     "name": "stdout",
     "output_type": "stream",
     "text": [
      "PERSONS: 0.09128651487165419\n",
      "LATITUDE: 0.08982761437402323\n",
      "LONGITUD: 0.08962895694219591\n",
      "DAYNAME: 0.07238367442163013\n",
      "MILE_MARKER: 0.07006241349697585\n",
      "HOUR: 0.06586865847484101\n",
      "YEAR: 0.04465033648826012\n",
      "NUM_VEHC: 0.021405581854615132\n",
      "NUM_PEDS: 0.014513495004860323\n",
      "WEATHERNAME_Clear: 0.013257642809165313\n",
      "DAY_WEEKNAME_Saturday: 0.011786944915677137\n",
      "DAY_WEEKNAME_Friday: 0.011630209984251799\n",
      "COLLISION_TYPE_Front-to-Front: 0.011335206180351538\n",
      "DAY_WEEKNAME_Sunday: 0.011212529578567299\n",
      "ROUTENAME_State Highway: 0.010858263548663325\n",
      "FUNC_SYSNAME_Minor Arterial: 0.010734051122477606\n",
      "FUNC_SYSNAME_Principal Arterial - Other: 0.010425703092247636\n",
      "WEATHERNAME_Cloudy: 0.010231850362758223\n",
      "DAY_WEEKNAME_Monday: 0.009910616440099579\n",
      "DAY_WEEKNAME_Thursday: 0.009731881207933012\n",
      "DAY_WEEKNAME_Tuesday: 0.009596269061691792\n",
      "LGT_CONDNAME_Dark - Not Lighted: 0.00948990616649214\n",
      "DAY_WEEKNAME_Wednesday: 0.009396502561385306\n",
      "LGT_CONDNAME_Daylight: 0.009340080380060506\n",
      "MONTHNAME_July: 0.009294930238374622\n",
      "MONTHNAME_June: 0.009282664525808598\n",
      "MONTHNAME_August: 0.009107941223826825\n",
      "MONTHNAME_October: 0.009004584307391962\n",
      "MONTHNAME_September: 0.008922186417612492\n",
      "MONTHNAME_November: 0.00889149131282077\n",
      "MONTHNAME_May: 0.008726809968466795\n",
      "MONTHNAME_December: 0.008701218853452463\n",
      "FUNC_SYSNAME_Major Collector: 0.008545333106418031\n",
      "ROUTENAME_U.S. Highway: 0.008544683695947734\n",
      "MONTHNAME_April: 0.008435913544698444\n",
      "MONTHNAME_March: 0.008169718410853509\n",
      "MONTHNAME_February: 0.007855054606034138\n",
      "MONTHNAME_January: 0.007589601995774745\n",
      "WEATHERNAME_Rain: 0.007106505220528172\n",
      "TYP_INTNAME_Not an Intersection: 0.007039146915935306\n",
      "ROUTENAME_County Road: 0.006338305946310973\n",
      "LGT_CONDNAME_Dark - Lighted: 0.006261812824701179\n",
      "RUR_URBNAME_Urban: 0.0062432325341997864\n",
      "RUR_URBNAME_Rural: 0.006057054811983019\n",
      "REL_ROADNAME_On Roadway: 0.005477984073573746\n",
      "TYP_INTNAME_Four-Way Intersection: 0.005393763396676513\n",
      "WEATHERNAME_Not Reported: 0.005164884376421239\n",
      "FUNC_SYSNAME_Local: 0.005074400265005896\n",
      "ROUTENAME_Local Street - Municipality: 0.004981988649487467\n",
      "COLLISION_TYPE_Not a Collision with Motor Vehicle In-Transport: 0.004887082897827632\n",
      "REL_ROADNAME_On Roadside: 0.004784120497485351\n",
      "FUNC_SYSNAME_Principal Arterial - Freeways: 0.004737979070848556\n",
      "TYP_INTNAME_T-Intersection: 0.00470475738726709\n",
      "COLLISION_TYPE_Not a Collision: 0.0046568839745181265\n",
      "COLLISION_TYPE_Angle: 0.004636378754296339\n",
      "ROUTENAME_Other: 0.004458174714332044\n",
      "FUNC_SYSNAME_Interstate: 0.004240471556798046\n",
      "ROUTENAME_Interstate: 0.004077062936009642\n",
      "COLLISION_TYPE_Front-to-Rear: 0.003720882304543197\n",
      "FUNC_SYSNAME_Minor Collector: 0.0034104676302416054\n",
      "LGT_CONDNAME_Dusk: 0.0033787891801185387\n",
      "WRK_ZONENAME_None: 0.002602513574829331\n",
      "ROUTENAME_Unknown: 0.002577486790283386\n",
      "REL_ROADNAME_On Median: 0.002561550461290842\n",
      "LGT_CONDNAME_Dawn: 0.002403764705629897\n",
      "ROUTENAME_Local Street - Township: 0.002374475323590292\n",
      "WEATHERNAME_Fog, Smog, Smoke: 0.0022830836822590565\n",
      "WRK_ZONENAME_Construction: 0.0020652819802036413\n",
      "REL_ROADNAME_On Shoulder: 0.0020071332150297452\n",
      "REL_ROADNAME_Outside Trafficway: 0.0018077120877799844\n",
      "COLLISION_TYPE_Sideswipe - Same Direction: 0.0017759752357795699\n",
      "COLLISION_TYPE_Sideswipe - Opposite Direction: 0.0017195625385592792\n",
      "WEATHERNAME_Snow: 0.0017181851085145423\n",
      "LGT_CONDNAME_Dark - Unknown Lighting: 0.001411732589501582\n",
      "TYP_INTNAME_Y-Intersection: 0.0012166192379395137\n",
      "WRK_ZONENAME_Work Zone, Type Unknown: 0.001197894763214329\n",
      "ROUTENAME_Local Street - Frontage Road: 0.0010693824060694838\n",
      "REL_ROADNAME_Gore: 0.000825689874995163\n",
      "COLLISION_TYPE_Other: 0.0008108072873903775\n",
      "SCH_BUS: 0.0007626635642610687\n",
      "REL_ROADNAME_Off Roadway-Location Unknown: 0.0006222811701155992\n",
      "WEATHERNAME_Severe Crosswinds: 0.0005893068319696798\n",
      "WEATHERNAME_Sleet or Hail: 0.0005740202900010757\n",
      "REL_ROADNAME_Separator: 0.0005492458732734956\n",
      "WRK_ZONENAME_Maintenance: 0.0005407514578550409\n",
      "WEATHERNAME_Unknown: 0.0004586354406294947\n",
      "LGT_CONDNAME_Reported as Unknown: 0.00044328379481333444\n",
      "WEATHERNAME_Other: 0.00042841368230477626\n",
      "WEATHERNAME_Reported as Unknown: 0.00038610477074174686\n",
      "TYP_INTNAME_Five Point, or More: 0.0003791012393912696\n",
      "COLLISION_TYPE_Not Reported: 0.00037884932191700337\n",
      "COLLISION_TYPE_Rear-to-Side: 0.0003737548555280234\n",
      "WEATHERNAME_Freezing Rain or Drizzle: 0.0003680367182082827\n",
      "LGT_CONDNAME_Unknown: 0.0003023618927585296\n",
      "FUNC_SYSNAME_Trafficway Not in State Inventory: 0.0002727200825165939\n",
      "RUR_URBNAME_Trafficway Not in State Inventory: 0.0002484228605962058\n",
      "REL_ROADNAME_In Parking Lane/Zone: 0.00023640647051214898\n",
      "COLLISION_TYPE_Reported as Unknown: 0.0002258082320977001\n",
      "FUNC_SYSNAME_Not Reported: 0.00021400816790031414\n",
      "WEATHERNAME_Blowing Snow: 0.00020802494034249196\n",
      "TYP_INTNAME_L-Intersection: 0.00020793667880245008\n",
      "LGT_CONDNAME_Not Reported: 0.00020743822721334422\n",
      "TYP_INTNAME_Unknown: 0.000202063810488281\n",
      "FUNC_SYSNAME_Unknown: 0.00019570568662231956\n",
      "WEATHERNAME_Blowing Sand, Soil, Dirt: 0.0001825385722014787\n",
      "REL_ROADNAME_Pedestrian Refuge Island or Traffic Island: 0.0001785867172717878\n",
      "COLLISION_TYPE_Unknown: 0.00016500122507026832\n",
      "TYP_INTNAME_Not Reported: 0.00016379230812224113\n",
      "REL_ROADNAME_Continuous Left - Turn Lane: 0.0001436134014057932\n",
      "WRK_ZONENAME_Utility: 0.00011277286829829447\n",
      "LGT_CONDNAME_Other: 0.00010105246463205311\n",
      "REL_ROADNAME_Not Reported: 0.00010012861958307021\n",
      "TYP_INTNAME_Traffic Circle: 9.122742978788224e-05\n",
      "RUR_URBNAME_Unknown: 9.070262165743836e-05\n",
      "REL_ROADNAME_Reported as Unknown: 9.06130435124455e-05\n",
      "REL_ROADNAME_Unknown: 8.969152995285949e-05\n",
      "TYP_INTNAME_Reported as Unknown: 7.839535834928212e-05\n",
      "RUR_URBNAME_Not Reported: 7.58053475627522e-05\n",
      "TYP_INTNAME_Roundabout: 5.939289144985852e-05\n",
      "COLLISION_TYPE_Rear-to-Rear: 3.150862354601024e-06\n",
      "TYP_INTNAME_Other Intersection Type: 1.7234759893740594e-07\n"
     ]
    }
   ],
   "source": [
    "impts = rf_mod_6.feature_importances_\n",
    "\n",
    "feature_names = X_train_6.columns\n",
    "\n",
    "idxs = np.argsort(impts)[::-1]\n",
    "\n",
    "for i in idxs:\n",
    "    print(f\"{feature_names[i]}: {impts[i]}\")\n"
   ]
  },
  {
   "cell_type": "markdown",
   "id": "1e878a9f",
   "metadata": {},
   "source": [
    "#### Try to change the x-axis labels so they are vertical instead and smaller font"
   ]
  },
  {
   "cell_type": "code",
   "execution_count": 52,
   "id": "bd203157",
   "metadata": {},
   "outputs": [
    {
     "data": {
      "image/png": "[encoded data removed]",
      "text/plain": [
       "<Figure size 1000x500 with 1 Axes>"
      ]
     },
     "metadata": {},
     "output_type": "display_data"
    }
   ],
   "source": [
    "impts = rf_mod_6.feature_importances_\n",
    "\n",
    "idxs = np.argsort(impts)[::-1]\n",
    "\n",
    "plt.figure(figsize=(10, 5))\n",
    "plt.title(\"Feature Importance\")\n",
    "plt.bar(range(len(impts)), impts[idxs], align=\"center\")\n",
    "plt.xticks(range(len(impts)), [feature_names[i] for i in idxs])\n",
    "plt.xlabel(\"Feature\")\n",
    "plt.ylabel(\"Importance\")\n",
    "plt.show()\n"
   ]
  },
  {
   "cell_type": "markdown",
   "id": "18ae4444",
   "metadata": {},
   "source": [
    "#### Confusion Matrix:"
   ]
  },
  {
   "cell_type": "code",
   "execution_count": 53,
   "id": "820470e6",
   "metadata": {
    "scrolled": true
   },
   "outputs": [
    {
     "name": "stdout",
     "output_type": "stream",
     "text": [
      "Class 0: Sensitivity = 0.9999471896069146, Specificity = 0.0009159606136936112\n",
      "Class 1: Sensitivity = 0.0005496015388843089, Specificity = 0.9999130963761189\n",
      "Class 2: Sensitivity = 0.0, Specificity = 1.0\n",
      "Class 3: Sensitivity = 0.0, Specificity = 1.0\n",
      "Class 4: Sensitivity = 0.0, Specificity = 1.0\n",
      "Class 5: Sensitivity = 0.0, Specificity = 1.0\n",
      "Class 6: Sensitivity = 0.0, Specificity = 1.0\n",
      "Class 7: Sensitivity = 0.0, Specificity = 1.0\n",
      "Class 8: Sensitivity = 0.0, Specificity = 1.0\n",
      "Class 9: Sensitivity = 0.0, Specificity = 1.0\n",
      "Class 10: Sensitivity = 0.0, Specificity = 1.0\n"
     ]
    }
   ],
   "source": [
    "conf_mat_6 = confusion_matrix(y_test_6, preds_mod_6)\n",
    "\n",
    "sens_list = []\n",
    "spec_list = []\n",
    "\n",
    "for i in range(conf_mat_6.shape[0]):\n",
    "    TP = conf_mat_6[i, i]\n",
    "    FN = np.sum(conf_mat_6[i, :]) - TP\n",
    "    FP = np.sum(conf_mat_6[:, i]) - TP\n",
    "    TN = np.sum(conf_mat_6) - (TP + FN + FP)\n",
    "    \n",
    "    sens = TP / (TP + FN)\n",
    "    spec = TN / (TN + FP)\n",
    "    \n",
    "    sens_list.append(sens)\n",
    "    spec_list.append(spec)\n",
    "\n",
    "for i, (sens, spec) in enumerate(zip(sens_list, spec_list)):\n",
    "    print(f\"Class {i}: Sensitivity = {sens}, Specificity = {spec}\")\n"
   ]
  },
  {
   "cell_type": "code",
   "execution_count": 54,
   "id": "7221ac8c",
   "metadata": {},
   "outputs": [
    {
     "data": {
      "image/png": "[encoded data removed]",
      "text/plain": [
       "<Figure size 800x600 with 1 Axes>"
      ]
     },
     "metadata": {},
     "output_type": "display_data"
    }
   ],
   "source": [
    "plt.figure(figsize=(8, 6))\n",
    "sns.heatmap(conf_mat_6, annot=True, fmt=\"d\", cmap=\"Blues\", cbar=False)\n",
    "plt.title(\"Confusion Matrix\")\n",
    "plt.xlabel(\"Predicted Label\")\n",
    "plt.ylabel(\"True Label\")\n",
    "plt.show()\n"
   ]
  }
 ],
 "metadata": {
  "kernelspec": {
   "display_name": "Python 3 (ipykernel)",
   "language": "python",
   "name": "python3"
  },
  "language_info": {
   "codemirror_mode": {
    "name": "ipython",
    "version": 3
   },
   "file_extension": ".py",
   "mimetype": "text/x-python",
   "name": "python",
   "nbconvert_exporter": "python",
   "pygments_lexer": "ipython3",
   "version": "3.10.8"
  }
 },
 "nbformat": 4,
 "nbformat_minor": 5
}
